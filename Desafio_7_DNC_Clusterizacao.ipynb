{
  "nbformat": 4,
  "nbformat_minor": 0,
  "metadata": {
    "colab": {
      "provenance": [],
      "authorship_tag": "ABX9TyPeKlZJafL3hgbnv5YjSKqX"
    },
    "kernelspec": {
      "name": "python3",
      "display_name": "Python 3"
    },
    "language_info": {
      "name": "python"
    }
  },
  "cells": [
    {
      "cell_type": "markdown",
      "source": [
        "# **Challenge: Create an RFM metrics analysis model**\n",
        "\n",
        "An e-commerce company is trying to better understand the behavior of its customers in order to personalize its marketing campaigns. To do this, the company has made available a csv database containing data on customers, products and store transactions carried out between 2010 and 2011. The data provided contains purchase transaction information from an e-commerce store in 38 countries and territories, with more than 4,000 unique customers and more than 540,000 transactions.\n",
        "\n",
        "Based on this data, customers will be grouped into clusters based on their purchasing behavior using the K-Means algorithm. This will make it possible to identify patterns and characteristics in common between customers, such as:\n",
        "\n",
        "* Customers who buy the same products;\n",
        "* Customers who make the same number of purchases;\n",
        "* Customers who spend more money on their purchases.\n",
        "\n",
        "From these clusters, insights should be generated so that the company can better segment its customer base and personalize its marketing campaigns, targeting promotions and offers to customers based on their purchasing behavior.\n",
        "\n",
        "\n",
        "**About the data**\n",
        "\n",
        "The data is also available at  https://www.kaggle.com/datasets/carrie1/ecommerce-data\n",
        "\n",
        "\n",
        "**Please note:** the dates are in MM/DD/YYYY HH:mm:ss format; there is null data that needs to be processed before the analysis can be carried out; although the identification codes are numerical, the model cannot consider them as numerical quantities.\n",
        "\n",
        "**Objectives**\n",
        "\n",
        "* Develop a clustering model capable of grouping customers according to their purchasing behavior, taking the RFM into account.\n",
        "* Analyze the clusters obtained to identify the customer profile, such as patterns and characteristics in common to determine their purchasing behavior.\n",
        "* Use graphs and visualizations to aid analysis.\n",
        "* Document each stage, justifying the choices made and reporting the insights gained, as well as recommendations for future action, so that the company can put them into practice."
      ],
      "metadata": {
        "id": "syEAV6hUKkST"
      }
    },
    {
      "cell_type": "markdown",
      "source": [
        "## **DEVELOPMENT STEPS**"
      ],
      "metadata": {
        "id": "mkPPCyHyLm7I"
      }
    },
    {
      "cell_type": "markdown",
      "source": [
        "# Exploratory Data Analysis (EDA)"
      ],
      "metadata": {
        "id": "b3kO69WkLiTA"
      }
    },
    {
      "cell_type": "code",
      "execution_count": null,
      "metadata": {
        "id": "MF4lNV22KdLE"
      },
      "outputs": [],
      "source": [
        "# Importing libraries\n",
        "\n",
        "import pandas as pd\n",
        "import numpy as np\n",
        "\n",
        "import matplotlib.pyplot as plt\n",
        "import seaborn as sns\n",
        "import plotly.express as px\n",
        "\n",
        "import datetime as dt\n",
        "import warnings\n",
        "warnings.filterwarnings('ignore')\n",
        "\n",
        "from sklearn.preprocessing import PowerTransformer\n",
        "\n",
        "from sklearn.cluster import KMeans\n",
        "from sklearn.metrics import silhouette_score"
      ]
    },
    {
      "cell_type": "markdown",
      "source": [
        "Importing dataset:"
      ],
      "metadata": {
        "id": "xF2uvyfePYaw"
      }
    },
    {
      "cell_type": "code",
      "source": [
        "from google.colab import drive\n",
        "drive.mount('/content/drive')"
      ],
      "metadata": {
        "colab": {
          "base_uri": "https://localhost:8080/"
        },
        "id": "egOYIAsN3ToE",
        "outputId": "d5106934-d656-4588-a50c-1cb06bc0dfa1"
      },
      "execution_count": null,
      "outputs": [
        {
          "output_type": "stream",
          "name": "stdout",
          "text": [
            "Drive already mounted at /content/drive; to attempt to forcibly remount, call drive.mount(\"/content/drive\", force_remount=True).\n"
          ]
        }
      ]
    },
    {
      "cell_type": "code",
      "source": [
        "path = \"/content/drive/MyDrive/Colab Notebooks/Mês 8/Desafio 7/data.csv\"\n",
        "df = pd.read_csv(path, encoding='latin1')\n",
        "df_backup = df.copy()\n",
        "df.head()"
      ],
      "metadata": {
        "colab": {
          "base_uri": "https://localhost:8080/",
          "height": 206
        },
        "id": "jNIUVa_DL4Z9",
        "outputId": "1f65e5c5-1978-4325-f260-003546a04a33"
      },
      "execution_count": null,
      "outputs": [
        {
          "output_type": "execute_result",
          "data": {
            "text/plain": [
              "  InvoiceNo StockCode                          Description  Quantity  \\\n",
              "0    536365    85123A   WHITE HANGING HEART T-LIGHT HOLDER         6   \n",
              "1    536365     71053                  WHITE METAL LANTERN         6   \n",
              "2    536365    84406B       CREAM CUPID HEARTS COAT HANGER         8   \n",
              "3    536365    84029G  KNITTED UNION FLAG HOT WATER BOTTLE         6   \n",
              "4    536365    84029E       RED WOOLLY HOTTIE WHITE HEART.         6   \n",
              "\n",
              "      InvoiceDate  UnitPrice  CustomerID         Country  \n",
              "0  12/1/2010 8:26       2.55     17850.0  United Kingdom  \n",
              "1  12/1/2010 8:26       3.39     17850.0  United Kingdom  \n",
              "2  12/1/2010 8:26       2.75     17850.0  United Kingdom  \n",
              "3  12/1/2010 8:26       3.39     17850.0  United Kingdom  \n",
              "4  12/1/2010 8:26       3.39     17850.0  United Kingdom  "
            ],
            "text/html": [
              "\n",
              "  <div id=\"df-df80c7d9-08a0-44e6-a5c8-a488bc4428d9\" class=\"colab-df-container\">\n",
              "    <div>\n",
              "<style scoped>\n",
              "    .dataframe tbody tr th:only-of-type {\n",
              "        vertical-align: middle;\n",
              "    }\n",
              "\n",
              "    .dataframe tbody tr th {\n",
              "        vertical-align: top;\n",
              "    }\n",
              "\n",
              "    .dataframe thead th {\n",
              "        text-align: right;\n",
              "    }\n",
              "</style>\n",
              "<table border=\"1\" class=\"dataframe\">\n",
              "  <thead>\n",
              "    <tr style=\"text-align: right;\">\n",
              "      <th></th>\n",
              "      <th>InvoiceNo</th>\n",
              "      <th>StockCode</th>\n",
              "      <th>Description</th>\n",
              "      <th>Quantity</th>\n",
              "      <th>InvoiceDate</th>\n",
              "      <th>UnitPrice</th>\n",
              "      <th>CustomerID</th>\n",
              "      <th>Country</th>\n",
              "    </tr>\n",
              "  </thead>\n",
              "  <tbody>\n",
              "    <tr>\n",
              "      <th>0</th>\n",
              "      <td>536365</td>\n",
              "      <td>85123A</td>\n",
              "      <td>WHITE HANGING HEART T-LIGHT HOLDER</td>\n",
              "      <td>6</td>\n",
              "      <td>12/1/2010 8:26</td>\n",
              "      <td>2.55</td>\n",
              "      <td>17850.0</td>\n",
              "      <td>United Kingdom</td>\n",
              "    </tr>\n",
              "    <tr>\n",
              "      <th>1</th>\n",
              "      <td>536365</td>\n",
              "      <td>71053</td>\n",
              "      <td>WHITE METAL LANTERN</td>\n",
              "      <td>6</td>\n",
              "      <td>12/1/2010 8:26</td>\n",
              "      <td>3.39</td>\n",
              "      <td>17850.0</td>\n",
              "      <td>United Kingdom</td>\n",
              "    </tr>\n",
              "    <tr>\n",
              "      <th>2</th>\n",
              "      <td>536365</td>\n",
              "      <td>84406B</td>\n",
              "      <td>CREAM CUPID HEARTS COAT HANGER</td>\n",
              "      <td>8</td>\n",
              "      <td>12/1/2010 8:26</td>\n",
              "      <td>2.75</td>\n",
              "      <td>17850.0</td>\n",
              "      <td>United Kingdom</td>\n",
              "    </tr>\n",
              "    <tr>\n",
              "      <th>3</th>\n",
              "      <td>536365</td>\n",
              "      <td>84029G</td>\n",
              "      <td>KNITTED UNION FLAG HOT WATER BOTTLE</td>\n",
              "      <td>6</td>\n",
              "      <td>12/1/2010 8:26</td>\n",
              "      <td>3.39</td>\n",
              "      <td>17850.0</td>\n",
              "      <td>United Kingdom</td>\n",
              "    </tr>\n",
              "    <tr>\n",
              "      <th>4</th>\n",
              "      <td>536365</td>\n",
              "      <td>84029E</td>\n",
              "      <td>RED WOOLLY HOTTIE WHITE HEART.</td>\n",
              "      <td>6</td>\n",
              "      <td>12/1/2010 8:26</td>\n",
              "      <td>3.39</td>\n",
              "      <td>17850.0</td>\n",
              "      <td>United Kingdom</td>\n",
              "    </tr>\n",
              "  </tbody>\n",
              "</table>\n",
              "</div>\n",
              "    <div class=\"colab-df-buttons\">\n",
              "\n",
              "  <div class=\"colab-df-container\">\n",
              "    <button class=\"colab-df-convert\" onclick=\"convertToInteractive('df-df80c7d9-08a0-44e6-a5c8-a488bc4428d9')\"\n",
              "            title=\"Convert this dataframe to an interactive table.\"\n",
              "            style=\"display:none;\">\n",
              "\n",
              "  <svg xmlns=\"http://www.w3.org/2000/svg\" height=\"24px\" viewBox=\"0 -960 960 960\">\n",
              "    <path d=\"M120-120v-720h720v720H120Zm60-500h600v-160H180v160Zm220 220h160v-160H400v160Zm0 220h160v-160H400v160ZM180-400h160v-160H180v160Zm440 0h160v-160H620v160ZM180-180h160v-160H180v160Zm440 0h160v-160H620v160Z\"/>\n",
              "  </svg>\n",
              "    </button>\n",
              "\n",
              "  <style>\n",
              "    .colab-df-container {\n",
              "      display:flex;\n",
              "      gap: 12px;\n",
              "    }\n",
              "\n",
              "    .colab-df-convert {\n",
              "      background-color: #E8F0FE;\n",
              "      border: none;\n",
              "      border-radius: 50%;\n",
              "      cursor: pointer;\n",
              "      display: none;\n",
              "      fill: #1967D2;\n",
              "      height: 32px;\n",
              "      padding: 0 0 0 0;\n",
              "      width: 32px;\n",
              "    }\n",
              "\n",
              "    .colab-df-convert:hover {\n",
              "      background-color: #E2EBFA;\n",
              "      box-shadow: 0px 1px 2px rgba(60, 64, 67, 0.3), 0px 1px 3px 1px rgba(60, 64, 67, 0.15);\n",
              "      fill: #174EA6;\n",
              "    }\n",
              "\n",
              "    .colab-df-buttons div {\n",
              "      margin-bottom: 4px;\n",
              "    }\n",
              "\n",
              "    [theme=dark] .colab-df-convert {\n",
              "      background-color: #3B4455;\n",
              "      fill: #D2E3FC;\n",
              "    }\n",
              "\n",
              "    [theme=dark] .colab-df-convert:hover {\n",
              "      background-color: #434B5C;\n",
              "      box-shadow: 0px 1px 3px 1px rgba(0, 0, 0, 0.15);\n",
              "      filter: drop-shadow(0px 1px 2px rgba(0, 0, 0, 0.3));\n",
              "      fill: #FFFFFF;\n",
              "    }\n",
              "  </style>\n",
              "\n",
              "    <script>\n",
              "      const buttonEl =\n",
              "        document.querySelector('#df-df80c7d9-08a0-44e6-a5c8-a488bc4428d9 button.colab-df-convert');\n",
              "      buttonEl.style.display =\n",
              "        google.colab.kernel.accessAllowed ? 'block' : 'none';\n",
              "\n",
              "      async function convertToInteractive(key) {\n",
              "        const element = document.querySelector('#df-df80c7d9-08a0-44e6-a5c8-a488bc4428d9');\n",
              "        const dataTable =\n",
              "          await google.colab.kernel.invokeFunction('convertToInteractive',\n",
              "                                                    [key], {});\n",
              "        if (!dataTable) return;\n",
              "\n",
              "        const docLinkHtml = 'Like what you see? Visit the ' +\n",
              "          '<a target=\"_blank\" href=https://colab.research.google.com/notebooks/data_table.ipynb>data table notebook</a>'\n",
              "          + ' to learn more about interactive tables.';\n",
              "        element.innerHTML = '';\n",
              "        dataTable['output_type'] = 'display_data';\n",
              "        await google.colab.output.renderOutput(dataTable, element);\n",
              "        const docLink = document.createElement('div');\n",
              "        docLink.innerHTML = docLinkHtml;\n",
              "        element.appendChild(docLink);\n",
              "      }\n",
              "    </script>\n",
              "  </div>\n",
              "\n",
              "\n",
              "<div id=\"df-0b419bb0-94c0-4532-a0e5-2766e9529afc\">\n",
              "  <button class=\"colab-df-quickchart\" onclick=\"quickchart('df-0b419bb0-94c0-4532-a0e5-2766e9529afc')\"\n",
              "            title=\"Suggest charts\"\n",
              "            style=\"display:none;\">\n",
              "\n",
              "<svg xmlns=\"http://www.w3.org/2000/svg\" height=\"24px\"viewBox=\"0 0 24 24\"\n",
              "     width=\"24px\">\n",
              "    <g>\n",
              "        <path d=\"M19 3H5c-1.1 0-2 .9-2 2v14c0 1.1.9 2 2 2h14c1.1 0 2-.9 2-2V5c0-1.1-.9-2-2-2zM9 17H7v-7h2v7zm4 0h-2V7h2v10zm4 0h-2v-4h2v4z\"/>\n",
              "    </g>\n",
              "</svg>\n",
              "  </button>\n",
              "\n",
              "<style>\n",
              "  .colab-df-quickchart {\n",
              "      --bg-color: #E8F0FE;\n",
              "      --fill-color: #1967D2;\n",
              "      --hover-bg-color: #E2EBFA;\n",
              "      --hover-fill-color: #174EA6;\n",
              "      --disabled-fill-color: #AAA;\n",
              "      --disabled-bg-color: #DDD;\n",
              "  }\n",
              "\n",
              "  [theme=dark] .colab-df-quickchart {\n",
              "      --bg-color: #3B4455;\n",
              "      --fill-color: #D2E3FC;\n",
              "      --hover-bg-color: #434B5C;\n",
              "      --hover-fill-color: #FFFFFF;\n",
              "      --disabled-bg-color: #3B4455;\n",
              "      --disabled-fill-color: #666;\n",
              "  }\n",
              "\n",
              "  .colab-df-quickchart {\n",
              "    background-color: var(--bg-color);\n",
              "    border: none;\n",
              "    border-radius: 50%;\n",
              "    cursor: pointer;\n",
              "    display: none;\n",
              "    fill: var(--fill-color);\n",
              "    height: 32px;\n",
              "    padding: 0;\n",
              "    width: 32px;\n",
              "  }\n",
              "\n",
              "  .colab-df-quickchart:hover {\n",
              "    background-color: var(--hover-bg-color);\n",
              "    box-shadow: 0 1px 2px rgba(60, 64, 67, 0.3), 0 1px 3px 1px rgba(60, 64, 67, 0.15);\n",
              "    fill: var(--button-hover-fill-color);\n",
              "  }\n",
              "\n",
              "  .colab-df-quickchart-complete:disabled,\n",
              "  .colab-df-quickchart-complete:disabled:hover {\n",
              "    background-color: var(--disabled-bg-color);\n",
              "    fill: var(--disabled-fill-color);\n",
              "    box-shadow: none;\n",
              "  }\n",
              "\n",
              "  .colab-df-spinner {\n",
              "    border: 2px solid var(--fill-color);\n",
              "    border-color: transparent;\n",
              "    border-bottom-color: var(--fill-color);\n",
              "    animation:\n",
              "      spin 1s steps(1) infinite;\n",
              "  }\n",
              "\n",
              "  @keyframes spin {\n",
              "    0% {\n",
              "      border-color: transparent;\n",
              "      border-bottom-color: var(--fill-color);\n",
              "      border-left-color: var(--fill-color);\n",
              "    }\n",
              "    20% {\n",
              "      border-color: transparent;\n",
              "      border-left-color: var(--fill-color);\n",
              "      border-top-color: var(--fill-color);\n",
              "    }\n",
              "    30% {\n",
              "      border-color: transparent;\n",
              "      border-left-color: var(--fill-color);\n",
              "      border-top-color: var(--fill-color);\n",
              "      border-right-color: var(--fill-color);\n",
              "    }\n",
              "    40% {\n",
              "      border-color: transparent;\n",
              "      border-right-color: var(--fill-color);\n",
              "      border-top-color: var(--fill-color);\n",
              "    }\n",
              "    60% {\n",
              "      border-color: transparent;\n",
              "      border-right-color: var(--fill-color);\n",
              "    }\n",
              "    80% {\n",
              "      border-color: transparent;\n",
              "      border-right-color: var(--fill-color);\n",
              "      border-bottom-color: var(--fill-color);\n",
              "    }\n",
              "    90% {\n",
              "      border-color: transparent;\n",
              "      border-bottom-color: var(--fill-color);\n",
              "    }\n",
              "  }\n",
              "</style>\n",
              "\n",
              "  <script>\n",
              "    async function quickchart(key) {\n",
              "      const quickchartButtonEl =\n",
              "        document.querySelector('#' + key + ' button');\n",
              "      quickchartButtonEl.disabled = true;  // To prevent multiple clicks.\n",
              "      quickchartButtonEl.classList.add('colab-df-spinner');\n",
              "      try {\n",
              "        const charts = await google.colab.kernel.invokeFunction(\n",
              "            'suggestCharts', [key], {});\n",
              "      } catch (error) {\n",
              "        console.error('Error during call to suggestCharts:', error);\n",
              "      }\n",
              "      quickchartButtonEl.classList.remove('colab-df-spinner');\n",
              "      quickchartButtonEl.classList.add('colab-df-quickchart-complete');\n",
              "    }\n",
              "    (() => {\n",
              "      let quickchartButtonEl =\n",
              "        document.querySelector('#df-0b419bb0-94c0-4532-a0e5-2766e9529afc button');\n",
              "      quickchartButtonEl.style.display =\n",
              "        google.colab.kernel.accessAllowed ? 'block' : 'none';\n",
              "    })();\n",
              "  </script>\n",
              "</div>\n",
              "\n",
              "    </div>\n",
              "  </div>\n"
            ],
            "application/vnd.google.colaboratory.intrinsic+json": {
              "type": "dataframe",
              "variable_name": "df"
            }
          },
          "metadata": {},
          "execution_count": 156
        }
      ]
    },
    {
      "cell_type": "code",
      "source": [
        "df = df_backup.copy()"
      ],
      "metadata": {
        "id": "d9LqKop79Ugb"
      },
      "execution_count": null,
      "outputs": []
    },
    {
      "cell_type": "markdown",
      "source": [
        "Checking dataset size:"
      ],
      "metadata": {
        "id": "SFo7y4SEDfQD"
      }
    },
    {
      "cell_type": "code",
      "source": [
        "numLinhas = df.shape[0]\n",
        "numCols = df.shape[1]\n",
        "print(\"Número de linhas: {}\".format(numLinhas)) #number of rows\n",
        "print(\"Número de colunas: {}\".format(numCols)) #number of columns"
      ],
      "metadata": {
        "colab": {
          "base_uri": "https://localhost:8080/"
        },
        "id": "U8z_G_i1SQK3",
        "outputId": "ab889a43-23a8-4eb1-c9b8-d5df46a07bf4"
      },
      "execution_count": null,
      "outputs": [
        {
          "output_type": "stream",
          "name": "stdout",
          "text": [
            "Número de linhas: 541909\n",
            "Número de colunas: 8\n"
          ]
        }
      ]
    },
    {
      "cell_type": "markdown",
      "source": [
        "Checking the type of variables and the presence of null values"
      ],
      "metadata": {
        "id": "i33179StPnxm"
      }
    },
    {
      "cell_type": "code",
      "source": [
        "df.info()"
      ],
      "metadata": {
        "colab": {
          "base_uri": "https://localhost:8080/"
        },
        "id": "gHimoluSPmEH",
        "outputId": "a1a8476a-72bd-446d-dd26-d24b82967794"
      },
      "execution_count": null,
      "outputs": [
        {
          "output_type": "stream",
          "name": "stdout",
          "text": [
            "<class 'pandas.core.frame.DataFrame'>\n",
            "RangeIndex: 541909 entries, 0 to 541908\n",
            "Data columns (total 8 columns):\n",
            " #   Column       Non-Null Count   Dtype  \n",
            "---  ------       --------------   -----  \n",
            " 0   InvoiceNo    541909 non-null  object \n",
            " 1   StockCode    541909 non-null  object \n",
            " 2   Description  540455 non-null  object \n",
            " 3   Quantity     541909 non-null  int64  \n",
            " 4   InvoiceDate  541909 non-null  object \n",
            " 5   UnitPrice    541909 non-null  float64\n",
            " 6   CustomerID   406829 non-null  float64\n",
            " 7   Country      541909 non-null  object \n",
            "dtypes: float64(2), int64(1), object(5)\n",
            "memory usage: 33.1+ MB\n"
          ]
        }
      ]
    },
    {
      "cell_type": "markdown",
      "source": [
        "We found that the features 'InvoiceNo', 'InvoiceDate', 'UnitPrice' and 'CustomerID' have inappropriate types, which should be Int, DateTime, Float and Int, respectively."
      ],
      "metadata": {
        "id": "5Gn6ZUszP6pv"
      }
    },
    {
      "cell_type": "code",
      "source": [
        "df['InvoiceNo'] = pd.to_numeric(df['InvoiceNo'], errors='coerce')\n",
        "df['InvoiceDate'] = pd.to_datetime(df['InvoiceDate'], format = \"%m/%d/%Y %H:%M\")\n",
        "df['UnitPrice'] = pd.to_numeric(df['UnitPrice'], errors = \"coerce\")\n",
        "df['CustomerID'] = pd.to_numeric(df['CustomerID'])"
      ],
      "metadata": {
        "id": "axfmnQNm7nhb"
      },
      "execution_count": null,
      "outputs": []
    },
    {
      "cell_type": "markdown",
      "source": [
        "Checking null values:"
      ],
      "metadata": {
        "id": "LjkC6StM7sou"
      }
    },
    {
      "cell_type": "code",
      "source": [
        "df.isna().sum()"
      ],
      "metadata": {
        "colab": {
          "base_uri": "https://localhost:8080/",
          "height": 335
        },
        "id": "XTnQfdFsP4tO",
        "outputId": "5790caf9-9fe4-4a87-efbe-1925fe8c8ec9"
      },
      "execution_count": null,
      "outputs": [
        {
          "output_type": "execute_result",
          "data": {
            "text/plain": [
              "InvoiceNo        9291\n",
              "StockCode           0\n",
              "Description      1454\n",
              "Quantity            0\n",
              "InvoiceDate         0\n",
              "UnitPrice           0\n",
              "CustomerID     135080\n",
              "Country             0\n",
              "dtype: int64"
            ],
            "text/html": [
              "<div>\n",
              "<style scoped>\n",
              "    .dataframe tbody tr th:only-of-type {\n",
              "        vertical-align: middle;\n",
              "    }\n",
              "\n",
              "    .dataframe tbody tr th {\n",
              "        vertical-align: top;\n",
              "    }\n",
              "\n",
              "    .dataframe thead th {\n",
              "        text-align: right;\n",
              "    }\n",
              "</style>\n",
              "<table border=\"1\" class=\"dataframe\">\n",
              "  <thead>\n",
              "    <tr style=\"text-align: right;\">\n",
              "      <th></th>\n",
              "      <th>0</th>\n",
              "    </tr>\n",
              "  </thead>\n",
              "  <tbody>\n",
              "    <tr>\n",
              "      <th>InvoiceNo</th>\n",
              "      <td>9291</td>\n",
              "    </tr>\n",
              "    <tr>\n",
              "      <th>StockCode</th>\n",
              "      <td>0</td>\n",
              "    </tr>\n",
              "    <tr>\n",
              "      <th>Description</th>\n",
              "      <td>1454</td>\n",
              "    </tr>\n",
              "    <tr>\n",
              "      <th>Quantity</th>\n",
              "      <td>0</td>\n",
              "    </tr>\n",
              "    <tr>\n",
              "      <th>InvoiceDate</th>\n",
              "      <td>0</td>\n",
              "    </tr>\n",
              "    <tr>\n",
              "      <th>UnitPrice</th>\n",
              "      <td>0</td>\n",
              "    </tr>\n",
              "    <tr>\n",
              "      <th>CustomerID</th>\n",
              "      <td>135080</td>\n",
              "    </tr>\n",
              "    <tr>\n",
              "      <th>Country</th>\n",
              "      <td>0</td>\n",
              "    </tr>\n",
              "  </tbody>\n",
              "</table>\n",
              "</div><br><label><b>dtype:</b> int64</label>"
            ]
          },
          "metadata": {},
          "execution_count": 161
        }
      ]
    },
    {
      "cell_type": "markdown",
      "source": [
        "We have verified that we have null values in the InvoiceNo', 'Description' and 'CustomerID' features."
      ],
      "metadata": {
        "id": "6KJpr_jKQQfF"
      }
    },
    {
      "cell_type": "code",
      "source": [
        "cols = ('InvoiceNo', 'Description', 'CustomerID')\n",
        "for col in cols:\n",
        "  print(\"Número de valores nulos na coluna {}: {:.2f} %\".format(col, df[col].isna().sum()*100/numLinhas)) # Number of null values in Column X"
      ],
      "metadata": {
        "colab": {
          "base_uri": "https://localhost:8080/"
        },
        "id": "kV84GMMN-TqC",
        "outputId": "c217e9dd-1311-479a-d94e-bc610a6fd648"
      },
      "execution_count": null,
      "outputs": [
        {
          "output_type": "stream",
          "name": "stdout",
          "text": [
            "Número de valores nulos na coluna InvoiceNo: 1.71 %\n",
            "Número de valores nulos na coluna Description: 0.27 %\n",
            "Número de valores nulos na coluna CustomerID: 24.93 %\n"
          ]
        }
      ]
    },
    {
      "cell_type": "markdown",
      "source": [
        "We can see that almost 25% of the data in the 'CustomerID' feature is empty, which is quite high, while 'InvoiceNo' and 'Description' have relatively few null values."
      ],
      "metadata": {
        "id": "1zFWtvRpRCLJ"
      }
    },
    {
      "cell_type": "markdown",
      "source": [
        "Checking duplicated registers:"
      ],
      "metadata": {
        "id": "7G0Ui8UtRNt3"
      }
    },
    {
      "cell_type": "code",
      "source": [
        "numDuplicados = df.duplicated().sum()\n",
        "print(\"Total de registros duplicados: {}\".format(numDuplicados)) # Number of duplicated registers:\n",
        "print(\"% de duplicados: {:.2f} %\".format(numDuplicados*100/numLinhas)) # % of duplicated registers:"
      ],
      "metadata": {
        "colab": {
          "base_uri": "https://localhost:8080/"
        },
        "id": "HpUcfhdXRQTG",
        "outputId": "bd448220-e2da-47b0-d0b8-183dcb9e1183"
      },
      "execution_count": null,
      "outputs": [
        {
          "output_type": "stream",
          "name": "stdout",
          "text": [
            "Total de registros duplicados: 5268\n",
            "% de duplicados: 0.97 %\n"
          ]
        }
      ]
    },
    {
      "cell_type": "markdown",
      "source": [
        "We found that we have a total of 5,390 duplicate records (less than 1%), which will need to be removed later so as not to bias the analysis."
      ],
      "metadata": {
        "id": "rH7bE3aORWgt"
      }
    },
    {
      "cell_type": "code",
      "source": [
        "  df.describe()"
      ],
      "metadata": {
        "colab": {
          "base_uri": "https://localhost:8080/",
          "height": 300
        },
        "id": "l2jvuZc6SeOQ",
        "outputId": "d0d71556-d864-4604-d8c3-a0b940838063"
      },
      "execution_count": null,
      "outputs": [
        {
          "output_type": "execute_result",
          "data": {
            "text/plain": [
              "           InvoiceNo       Quantity                    InvoiceDate  \\\n",
              "count  532618.000000  541909.000000                         541909   \n",
              "mean   559965.752027       9.552250  2011-07-04 13:34:57.156386048   \n",
              "min    536365.000000  -80995.000000            2010-12-01 08:26:00   \n",
              "25%    547906.000000       1.000000            2011-03-28 11:34:00   \n",
              "50%    560688.000000       3.000000            2011-07-19 17:17:00   \n",
              "75%    571841.000000      10.000000            2011-10-19 11:27:00   \n",
              "max    581587.000000   80995.000000            2011-12-09 12:50:00   \n",
              "std     13428.417281     218.081158                            NaN   \n",
              "\n",
              "           UnitPrice     CustomerID  \n",
              "count  541909.000000  406829.000000  \n",
              "mean        4.611114   15287.690570  \n",
              "min    -11062.060000   12346.000000  \n",
              "25%         1.250000   13953.000000  \n",
              "50%         2.080000   15152.000000  \n",
              "75%         4.130000   16791.000000  \n",
              "max     38970.000000   18287.000000  \n",
              "std        96.759853    1713.600303  "
            ],
            "text/html": [
              "\n",
              "  <div id=\"df-4fec0dbf-0acf-44b1-a2dd-8872a5f2ac44\" class=\"colab-df-container\">\n",
              "    <div>\n",
              "<style scoped>\n",
              "    .dataframe tbody tr th:only-of-type {\n",
              "        vertical-align: middle;\n",
              "    }\n",
              "\n",
              "    .dataframe tbody tr th {\n",
              "        vertical-align: top;\n",
              "    }\n",
              "\n",
              "    .dataframe thead th {\n",
              "        text-align: right;\n",
              "    }\n",
              "</style>\n",
              "<table border=\"1\" class=\"dataframe\">\n",
              "  <thead>\n",
              "    <tr style=\"text-align: right;\">\n",
              "      <th></th>\n",
              "      <th>InvoiceNo</th>\n",
              "      <th>Quantity</th>\n",
              "      <th>InvoiceDate</th>\n",
              "      <th>UnitPrice</th>\n",
              "      <th>CustomerID</th>\n",
              "    </tr>\n",
              "  </thead>\n",
              "  <tbody>\n",
              "    <tr>\n",
              "      <th>count</th>\n",
              "      <td>532618.000000</td>\n",
              "      <td>541909.000000</td>\n",
              "      <td>541909</td>\n",
              "      <td>541909.000000</td>\n",
              "      <td>406829.000000</td>\n",
              "    </tr>\n",
              "    <tr>\n",
              "      <th>mean</th>\n",
              "      <td>559965.752027</td>\n",
              "      <td>9.552250</td>\n",
              "      <td>2011-07-04 13:34:57.156386048</td>\n",
              "      <td>4.611114</td>\n",
              "      <td>15287.690570</td>\n",
              "    </tr>\n",
              "    <tr>\n",
              "      <th>min</th>\n",
              "      <td>536365.000000</td>\n",
              "      <td>-80995.000000</td>\n",
              "      <td>2010-12-01 08:26:00</td>\n",
              "      <td>-11062.060000</td>\n",
              "      <td>12346.000000</td>\n",
              "    </tr>\n",
              "    <tr>\n",
              "      <th>25%</th>\n",
              "      <td>547906.000000</td>\n",
              "      <td>1.000000</td>\n",
              "      <td>2011-03-28 11:34:00</td>\n",
              "      <td>1.250000</td>\n",
              "      <td>13953.000000</td>\n",
              "    </tr>\n",
              "    <tr>\n",
              "      <th>50%</th>\n",
              "      <td>560688.000000</td>\n",
              "      <td>3.000000</td>\n",
              "      <td>2011-07-19 17:17:00</td>\n",
              "      <td>2.080000</td>\n",
              "      <td>15152.000000</td>\n",
              "    </tr>\n",
              "    <tr>\n",
              "      <th>75%</th>\n",
              "      <td>571841.000000</td>\n",
              "      <td>10.000000</td>\n",
              "      <td>2011-10-19 11:27:00</td>\n",
              "      <td>4.130000</td>\n",
              "      <td>16791.000000</td>\n",
              "    </tr>\n",
              "    <tr>\n",
              "      <th>max</th>\n",
              "      <td>581587.000000</td>\n",
              "      <td>80995.000000</td>\n",
              "      <td>2011-12-09 12:50:00</td>\n",
              "      <td>38970.000000</td>\n",
              "      <td>18287.000000</td>\n",
              "    </tr>\n",
              "    <tr>\n",
              "      <th>std</th>\n",
              "      <td>13428.417281</td>\n",
              "      <td>218.081158</td>\n",
              "      <td>NaN</td>\n",
              "      <td>96.759853</td>\n",
              "      <td>1713.600303</td>\n",
              "    </tr>\n",
              "  </tbody>\n",
              "</table>\n",
              "</div>\n",
              "    <div class=\"colab-df-buttons\">\n",
              "\n",
              "  <div class=\"colab-df-container\">\n",
              "    <button class=\"colab-df-convert\" onclick=\"convertToInteractive('df-4fec0dbf-0acf-44b1-a2dd-8872a5f2ac44')\"\n",
              "            title=\"Convert this dataframe to an interactive table.\"\n",
              "            style=\"display:none;\">\n",
              "\n",
              "  <svg xmlns=\"http://www.w3.org/2000/svg\" height=\"24px\" viewBox=\"0 -960 960 960\">\n",
              "    <path d=\"M120-120v-720h720v720H120Zm60-500h600v-160H180v160Zm220 220h160v-160H400v160Zm0 220h160v-160H400v160ZM180-400h160v-160H180v160Zm440 0h160v-160H620v160ZM180-180h160v-160H180v160Zm440 0h160v-160H620v160Z\"/>\n",
              "  </svg>\n",
              "    </button>\n",
              "\n",
              "  <style>\n",
              "    .colab-df-container {\n",
              "      display:flex;\n",
              "      gap: 12px;\n",
              "    }\n",
              "\n",
              "    .colab-df-convert {\n",
              "      background-color: #E8F0FE;\n",
              "      border: none;\n",
              "      border-radius: 50%;\n",
              "      cursor: pointer;\n",
              "      display: none;\n",
              "      fill: #1967D2;\n",
              "      height: 32px;\n",
              "      padding: 0 0 0 0;\n",
              "      width: 32px;\n",
              "    }\n",
              "\n",
              "    .colab-df-convert:hover {\n",
              "      background-color: #E2EBFA;\n",
              "      box-shadow: 0px 1px 2px rgba(60, 64, 67, 0.3), 0px 1px 3px 1px rgba(60, 64, 67, 0.15);\n",
              "      fill: #174EA6;\n",
              "    }\n",
              "\n",
              "    .colab-df-buttons div {\n",
              "      margin-bottom: 4px;\n",
              "    }\n",
              "\n",
              "    [theme=dark] .colab-df-convert {\n",
              "      background-color: #3B4455;\n",
              "      fill: #D2E3FC;\n",
              "    }\n",
              "\n",
              "    [theme=dark] .colab-df-convert:hover {\n",
              "      background-color: #434B5C;\n",
              "      box-shadow: 0px 1px 3px 1px rgba(0, 0, 0, 0.15);\n",
              "      filter: drop-shadow(0px 1px 2px rgba(0, 0, 0, 0.3));\n",
              "      fill: #FFFFFF;\n",
              "    }\n",
              "  </style>\n",
              "\n",
              "    <script>\n",
              "      const buttonEl =\n",
              "        document.querySelector('#df-4fec0dbf-0acf-44b1-a2dd-8872a5f2ac44 button.colab-df-convert');\n",
              "      buttonEl.style.display =\n",
              "        google.colab.kernel.accessAllowed ? 'block' : 'none';\n",
              "\n",
              "      async function convertToInteractive(key) {\n",
              "        const element = document.querySelector('#df-4fec0dbf-0acf-44b1-a2dd-8872a5f2ac44');\n",
              "        const dataTable =\n",
              "          await google.colab.kernel.invokeFunction('convertToInteractive',\n",
              "                                                    [key], {});\n",
              "        if (!dataTable) return;\n",
              "\n",
              "        const docLinkHtml = 'Like what you see? Visit the ' +\n",
              "          '<a target=\"_blank\" href=https://colab.research.google.com/notebooks/data_table.ipynb>data table notebook</a>'\n",
              "          + ' to learn more about interactive tables.';\n",
              "        element.innerHTML = '';\n",
              "        dataTable['output_type'] = 'display_data';\n",
              "        await google.colab.output.renderOutput(dataTable, element);\n",
              "        const docLink = document.createElement('div');\n",
              "        docLink.innerHTML = docLinkHtml;\n",
              "        element.appendChild(docLink);\n",
              "      }\n",
              "    </script>\n",
              "  </div>\n",
              "\n",
              "\n",
              "<div id=\"df-1e638e99-91b7-484b-aef1-6b2889fc37d8\">\n",
              "  <button class=\"colab-df-quickchart\" onclick=\"quickchart('df-1e638e99-91b7-484b-aef1-6b2889fc37d8')\"\n",
              "            title=\"Suggest charts\"\n",
              "            style=\"display:none;\">\n",
              "\n",
              "<svg xmlns=\"http://www.w3.org/2000/svg\" height=\"24px\"viewBox=\"0 0 24 24\"\n",
              "     width=\"24px\">\n",
              "    <g>\n",
              "        <path d=\"M19 3H5c-1.1 0-2 .9-2 2v14c0 1.1.9 2 2 2h14c1.1 0 2-.9 2-2V5c0-1.1-.9-2-2-2zM9 17H7v-7h2v7zm4 0h-2V7h2v10zm4 0h-2v-4h2v4z\"/>\n",
              "    </g>\n",
              "</svg>\n",
              "  </button>\n",
              "\n",
              "<style>\n",
              "  .colab-df-quickchart {\n",
              "      --bg-color: #E8F0FE;\n",
              "      --fill-color: #1967D2;\n",
              "      --hover-bg-color: #E2EBFA;\n",
              "      --hover-fill-color: #174EA6;\n",
              "      --disabled-fill-color: #AAA;\n",
              "      --disabled-bg-color: #DDD;\n",
              "  }\n",
              "\n",
              "  [theme=dark] .colab-df-quickchart {\n",
              "      --bg-color: #3B4455;\n",
              "      --fill-color: #D2E3FC;\n",
              "      --hover-bg-color: #434B5C;\n",
              "      --hover-fill-color: #FFFFFF;\n",
              "      --disabled-bg-color: #3B4455;\n",
              "      --disabled-fill-color: #666;\n",
              "  }\n",
              "\n",
              "  .colab-df-quickchart {\n",
              "    background-color: var(--bg-color);\n",
              "    border: none;\n",
              "    border-radius: 50%;\n",
              "    cursor: pointer;\n",
              "    display: none;\n",
              "    fill: var(--fill-color);\n",
              "    height: 32px;\n",
              "    padding: 0;\n",
              "    width: 32px;\n",
              "  }\n",
              "\n",
              "  .colab-df-quickchart:hover {\n",
              "    background-color: var(--hover-bg-color);\n",
              "    box-shadow: 0 1px 2px rgba(60, 64, 67, 0.3), 0 1px 3px 1px rgba(60, 64, 67, 0.15);\n",
              "    fill: var(--button-hover-fill-color);\n",
              "  }\n",
              "\n",
              "  .colab-df-quickchart-complete:disabled,\n",
              "  .colab-df-quickchart-complete:disabled:hover {\n",
              "    background-color: var(--disabled-bg-color);\n",
              "    fill: var(--disabled-fill-color);\n",
              "    box-shadow: none;\n",
              "  }\n",
              "\n",
              "  .colab-df-spinner {\n",
              "    border: 2px solid var(--fill-color);\n",
              "    border-color: transparent;\n",
              "    border-bottom-color: var(--fill-color);\n",
              "    animation:\n",
              "      spin 1s steps(1) infinite;\n",
              "  }\n",
              "\n",
              "  @keyframes spin {\n",
              "    0% {\n",
              "      border-color: transparent;\n",
              "      border-bottom-color: var(--fill-color);\n",
              "      border-left-color: var(--fill-color);\n",
              "    }\n",
              "    20% {\n",
              "      border-color: transparent;\n",
              "      border-left-color: var(--fill-color);\n",
              "      border-top-color: var(--fill-color);\n",
              "    }\n",
              "    30% {\n",
              "      border-color: transparent;\n",
              "      border-left-color: var(--fill-color);\n",
              "      border-top-color: var(--fill-color);\n",
              "      border-right-color: var(--fill-color);\n",
              "    }\n",
              "    40% {\n",
              "      border-color: transparent;\n",
              "      border-right-color: var(--fill-color);\n",
              "      border-top-color: var(--fill-color);\n",
              "    }\n",
              "    60% {\n",
              "      border-color: transparent;\n",
              "      border-right-color: var(--fill-color);\n",
              "    }\n",
              "    80% {\n",
              "      border-color: transparent;\n",
              "      border-right-color: var(--fill-color);\n",
              "      border-bottom-color: var(--fill-color);\n",
              "    }\n",
              "    90% {\n",
              "      border-color: transparent;\n",
              "      border-bottom-color: var(--fill-color);\n",
              "    }\n",
              "  }\n",
              "</style>\n",
              "\n",
              "  <script>\n",
              "    async function quickchart(key) {\n",
              "      const quickchartButtonEl =\n",
              "        document.querySelector('#' + key + ' button');\n",
              "      quickchartButtonEl.disabled = true;  // To prevent multiple clicks.\n",
              "      quickchartButtonEl.classList.add('colab-df-spinner');\n",
              "      try {\n",
              "        const charts = await google.colab.kernel.invokeFunction(\n",
              "            'suggestCharts', [key], {});\n",
              "      } catch (error) {\n",
              "        console.error('Error during call to suggestCharts:', error);\n",
              "      }\n",
              "      quickchartButtonEl.classList.remove('colab-df-spinner');\n",
              "      quickchartButtonEl.classList.add('colab-df-quickchart-complete');\n",
              "    }\n",
              "    (() => {\n",
              "      let quickchartButtonEl =\n",
              "        document.querySelector('#df-1e638e99-91b7-484b-aef1-6b2889fc37d8 button');\n",
              "      quickchartButtonEl.style.display =\n",
              "        google.colab.kernel.accessAllowed ? 'block' : 'none';\n",
              "    })();\n",
              "  </script>\n",
              "</div>\n",
              "\n",
              "    </div>\n",
              "  </div>\n"
            ],
            "application/vnd.google.colaboratory.intrinsic+json": {
              "type": "dataframe",
              "summary": "{\n  \"name\": \"df\",\n  \"rows\": 8,\n  \"fields\": [\n    {\n      \"column\": \"InvoiceNo\",\n      \"properties\": {\n        \"dtype\": \"number\",\n        \"std\": 192497.6028983866,\n        \"min\": 13428.417280794756,\n        \"max\": 581587.0,\n        \"num_unique_values\": 8,\n        \"samples\": [\n          559965.752026781,\n          571841.0,\n          532618.0\n        ],\n        \"semantic_type\": \"\",\n        \"description\": \"\"\n      }\n    },\n    {\n      \"column\": \"Quantity\",\n      \"properties\": {\n        \"dtype\": \"number\",\n        \"std\": 196412.4226608867,\n        \"min\": -80995.0,\n        \"max\": 541909.0,\n        \"num_unique_values\": 8,\n        \"samples\": [\n          9.55224954743324,\n          10.0,\n          541909.0\n        ],\n        \"semantic_type\": \"\",\n        \"description\": \"\"\n      }\n    },\n    {\n      \"column\": \"InvoiceDate\",\n      \"properties\": {\n        \"dtype\": \"date\",\n        \"min\": \"1970-01-01 00:00:00.000541909\",\n        \"max\": \"2011-12-09 12:50:00\",\n        \"num_unique_values\": 7,\n        \"samples\": [\n          \"541909\",\n          \"2011-07-04 13:34:57.156386048\",\n          \"2011-10-19 11:27:00\"\n        ],\n        \"semantic_type\": \"\",\n        \"description\": \"\"\n      }\n    },\n    {\n      \"column\": \"UnitPrice\",\n      \"properties\": {\n        \"dtype\": \"number\",\n        \"std\": 190752.07570771928,\n        \"min\": -11062.06,\n        \"max\": 541909.0,\n        \"num_unique_values\": 8,\n        \"samples\": [\n          4.611113626088513,\n          4.13,\n          541909.0\n        ],\n        \"semantic_type\": \"\",\n        \"description\": \"\"\n      }\n    },\n    {\n      \"column\": \"CustomerID\",\n      \"properties\": {\n        \"dtype\": \"number\",\n        \"std\": 139204.1680069419,\n        \"min\": 1713.600303321598,\n        \"max\": 406829.0,\n        \"num_unique_values\": 8,\n        \"samples\": [\n          15287.690570239585,\n          16791.0,\n          406829.0\n        ],\n        \"semantic_type\": \"\",\n        \"description\": \"\"\n      }\n    }\n  ]\n}"
            }
          },
          "metadata": {},
          "execution_count": 164
        }
      ]
    },
    {
      "cell_type": "markdown",
      "source": [
        "For a descriptive analysis, the 'CustomerID' feature will not be analyzed, since its data only deals with the identification of a customer. However, analyzing the 'Quantity' and 'UnitPrice' features, we found inconsistencies in their data, such as the presence of negative quantities, which is not possible. The 'Quantity' and 'UnitPrice' features also have a lot of outliers, since in the 75% quartile, they have values equal to 10 and 4.13, and their maximum values are 80,995 and 38,970.00, respectively.\n",
        "\n",
        "Let's take a closer look at the data distribution in a Box Plot graph, excluding the features 'InvoiceNo' and 'CustomerID':"
      ],
      "metadata": {
        "id": "LuPDS2mmSmfX"
      }
    },
    {
      "cell_type": "code",
      "source": [
        "sns.boxplot(data = df[['Quantity', 'UnitPrice']])"
      ],
      "metadata": {
        "colab": {
          "base_uri": "https://localhost:8080/",
          "height": 502
        },
        "id": "wWTNA3Mb2YOo",
        "outputId": "397ef6ab-088b-4f01-bbc2-1555cf91c6d1"
      },
      "execution_count": null,
      "outputs": [
        {
          "output_type": "execute_result",
          "data": {
            "text/plain": [
              "<Axes: >"
            ]
          },
          "metadata": {},
          "execution_count": 165
        },
        {
          "output_type": "display_data",
          "data": {
            "text/plain": [
              "<Figure size 800x550 with 1 Axes>"
            ],
            "image/png": "[encoded data removed]"
          },
          "metadata": {}
        }
      ]
    },
    {
      "cell_type": "markdown",
      "source": [
        "We have seen the presence of a few outliers, which will not be deleted at this stage as they require further analysis. We will also have to adopt a strategy for the negative quantities present."
      ],
      "metadata": {
        "id": "d7DJEDMgTTpI"
      }
    },
    {
      "cell_type": "markdown",
      "source": [
        "Now we'll look at the other columns to see how many unique values they have"
      ],
      "metadata": {
        "id": "bfaa1pShpWNl"
      }
    },
    {
      "cell_type": "code",
      "source": [
        "df['StockCode'].nunique()"
      ],
      "metadata": {
        "colab": {
          "base_uri": "https://localhost:8080/"
        },
        "id": "h_f0lqf5pHhB",
        "outputId": "2fa17e77-ccd9-4e17-c7b6-da4fe2972539"
      },
      "execution_count": null,
      "outputs": [
        {
          "output_type": "execute_result",
          "data": {
            "text/plain": [
              "4070"
            ]
          },
          "metadata": {},
          "execution_count": 167
        }
      ]
    },
    {
      "cell_type": "markdown",
      "source": [
        "The 'StockCode' column has 4070 unique values, i.e. my dataset has 4070 different products.\n",
        "\n",
        "The 10 best-selling products are:"
      ],
      "metadata": {
        "id": "rumCfKXFpb9-"
      }
    },
    {
      "cell_type": "code",
      "source": [
        "df_mais_vendidos = df.groupby('Description')['Quantity'].sum().sort_values(ascending=False)\n",
        "df_mais_vendidos.head(10)"
      ],
      "metadata": {
        "colab": {
          "base_uri": "https://localhost:8080/",
          "height": 429
        },
        "id": "kL9GYwvSpg-Y",
        "outputId": "397d928e-e681-459f-faf8-c416404eadc5"
      },
      "execution_count": null,
      "outputs": [
        {
          "output_type": "execute_result",
          "data": {
            "text/plain": [
              "Description\n",
              "WORLD WAR 2 GLIDERS ASSTD DESIGNS     53847\n",
              "JUMBO BAG RED RETROSPOT               47363\n",
              "ASSORTED COLOUR BIRD ORNAMENT         36381\n",
              "POPCORN HOLDER                        36334\n",
              "PACK OF 72 RETROSPOT CAKE CASES       36039\n",
              "WHITE HANGING HEART T-LIGHT HOLDER    35317\n",
              "RABBIT NIGHT LIGHT                    30680\n",
              "MINI PAINT SET VINTAGE                26437\n",
              "PACK OF 12 LONDON TISSUES             26315\n",
              "PACK OF 60 PINK PAISLEY CAKE CASES    24753\n",
              "Name: Quantity, dtype: int64"
            ],
            "text/html": [
              "<div>\n",
              "<style scoped>\n",
              "    .dataframe tbody tr th:only-of-type {\n",
              "        vertical-align: middle;\n",
              "    }\n",
              "\n",
              "    .dataframe tbody tr th {\n",
              "        vertical-align: top;\n",
              "    }\n",
              "\n",
              "    .dataframe thead th {\n",
              "        text-align: right;\n",
              "    }\n",
              "</style>\n",
              "<table border=\"1\" class=\"dataframe\">\n",
              "  <thead>\n",
              "    <tr style=\"text-align: right;\">\n",
              "      <th></th>\n",
              "      <th>Quantity</th>\n",
              "    </tr>\n",
              "    <tr>\n",
              "      <th>Description</th>\n",
              "      <th></th>\n",
              "    </tr>\n",
              "  </thead>\n",
              "  <tbody>\n",
              "    <tr>\n",
              "      <th>WORLD WAR 2 GLIDERS ASSTD DESIGNS</th>\n",
              "      <td>53847</td>\n",
              "    </tr>\n",
              "    <tr>\n",
              "      <th>JUMBO BAG RED RETROSPOT</th>\n",
              "      <td>47363</td>\n",
              "    </tr>\n",
              "    <tr>\n",
              "      <th>ASSORTED COLOUR BIRD ORNAMENT</th>\n",
              "      <td>36381</td>\n",
              "    </tr>\n",
              "    <tr>\n",
              "      <th>POPCORN HOLDER</th>\n",
              "      <td>36334</td>\n",
              "    </tr>\n",
              "    <tr>\n",
              "      <th>PACK OF 72 RETROSPOT CAKE CASES</th>\n",
              "      <td>36039</td>\n",
              "    </tr>\n",
              "    <tr>\n",
              "      <th>WHITE HANGING HEART T-LIGHT HOLDER</th>\n",
              "      <td>35317</td>\n",
              "    </tr>\n",
              "    <tr>\n",
              "      <th>RABBIT NIGHT LIGHT</th>\n",
              "      <td>30680</td>\n",
              "    </tr>\n",
              "    <tr>\n",
              "      <th>MINI PAINT SET VINTAGE</th>\n",
              "      <td>26437</td>\n",
              "    </tr>\n",
              "    <tr>\n",
              "      <th>PACK OF 12 LONDON TISSUES</th>\n",
              "      <td>26315</td>\n",
              "    </tr>\n",
              "    <tr>\n",
              "      <th>PACK OF 60 PINK PAISLEY CAKE CASES</th>\n",
              "      <td>24753</td>\n",
              "    </tr>\n",
              "  </tbody>\n",
              "</table>\n",
              "</div><br><label><b>dtype:</b> int64</label>"
            ]
          },
          "metadata": {},
          "execution_count": 168
        }
      ]
    },
    {
      "cell_type": "markdown",
      "source": [
        "We will now look at the items with the largest quantities sold:"
      ],
      "metadata": {
        "id": "DyWJiNveqVUL"
      }
    },
    {
      "cell_type": "code",
      "source": [
        "df_mais_vendidos.reset_index().loc[0:9].plot(kind='barh', x='Description', y='Quantity', figsize=(8, 4))\n",
        "plt.xticks(rotation=90)\n",
        "plt.show()\n"
      ],
      "metadata": {
        "colab": {
          "base_uri": "https://localhost:8080/",
          "height": 393
        },
        "id": "qPyKhysRq0C5",
        "outputId": "cf2a76ab-2c40-4f34-c4d6-19ed6c81fdae"
      },
      "execution_count": null,
      "outputs": [
        {
          "output_type": "display_data",
          "data": {
            "text/plain": [
              "<Figure size 800x400 with 1 Axes>"
            ],
            "image/png": "[encoded data removed]"
          },
          "metadata": {}
        }
      ]
    },
    {
      "cell_type": "markdown",
      "source": [
        "Now looking at the 'Country' feature"
      ],
      "metadata": {
        "id": "-9cIZRhztmqQ"
      }
    },
    {
      "cell_type": "code",
      "source": [
        "df['Country'].nunique()"
      ],
      "metadata": {
        "colab": {
          "base_uri": "https://localhost:8080/"
        },
        "id": "1V-2qjIMtpVg",
        "outputId": "ae2298bc-e1ee-46e5-fb9b-fbfe4c402a0f"
      },
      "execution_count": null,
      "outputs": [
        {
          "output_type": "execute_result",
          "data": {
            "text/plain": [
              "38"
            ]
          },
          "metadata": {},
          "execution_count": 170
        }
      ]
    },
    {
      "cell_type": "markdown",
      "source": [
        "Our dataset contains sales made to 38 different countries."
      ],
      "metadata": {
        "id": "QFUA7YebqauU"
      }
    },
    {
      "cell_type": "code",
      "source": [
        "df_countries = df.groupby('Country')['Country'].count().sort_values(ascending=False)\n",
        "df_countries = pd.DataFrame(df_countries)\n",
        "df_countries['Percentage'] = df_countries['Country']*100/df.shape[0]\n",
        "df_countries.head(10)"
      ],
      "metadata": {
        "colab": {
          "base_uri": "https://localhost:8080/",
          "height": 394
        },
        "id": "A2dhVe9kYtGk",
        "outputId": "7e7707b7-22f0-4227-fd12-7959b5d55fad"
      },
      "execution_count": null,
      "outputs": [
        {
          "output_type": "execute_result",
          "data": {
            "text/plain": [
              "                Country  Percentage\n",
              "Country                            \n",
              "United Kingdom   495478   91.431956\n",
              "Germany            9495    1.752139\n",
              "France             8557    1.579047\n",
              "EIRE               8196    1.512431\n",
              "Spain              2533    0.467422\n",
              "Netherlands        2371    0.437527\n",
              "Belgium            2069    0.381798\n",
              "Switzerland        2002    0.369435\n",
              "Portugal           1519    0.280305\n",
              "Australia          1259    0.232327"
            ],
            "text/html": [
              "\n",
              "  <div id=\"df-2fe8617f-7ff8-4c33-b1dd-dae91aaf90d9\" class=\"colab-df-container\">\n",
              "    <div>\n",
              "<style scoped>\n",
              "    .dataframe tbody tr th:only-of-type {\n",
              "        vertical-align: middle;\n",
              "    }\n",
              "\n",
              "    .dataframe tbody tr th {\n",
              "        vertical-align: top;\n",
              "    }\n",
              "\n",
              "    .dataframe thead th {\n",
              "        text-align: right;\n",
              "    }\n",
              "</style>\n",
              "<table border=\"1\" class=\"dataframe\">\n",
              "  <thead>\n",
              "    <tr style=\"text-align: right;\">\n",
              "      <th></th>\n",
              "      <th>Country</th>\n",
              "      <th>Percentage</th>\n",
              "    </tr>\n",
              "    <tr>\n",
              "      <th>Country</th>\n",
              "      <th></th>\n",
              "      <th></th>\n",
              "    </tr>\n",
              "  </thead>\n",
              "  <tbody>\n",
              "    <tr>\n",
              "      <th>United Kingdom</th>\n",
              "      <td>495478</td>\n",
              "      <td>91.431956</td>\n",
              "    </tr>\n",
              "    <tr>\n",
              "      <th>Germany</th>\n",
              "      <td>9495</td>\n",
              "      <td>1.752139</td>\n",
              "    </tr>\n",
              "    <tr>\n",
              "      <th>France</th>\n",
              "      <td>8557</td>\n",
              "      <td>1.579047</td>\n",
              "    </tr>\n",
              "    <tr>\n",
              "      <th>EIRE</th>\n",
              "      <td>8196</td>\n",
              "      <td>1.512431</td>\n",
              "    </tr>\n",
              "    <tr>\n",
              "      <th>Spain</th>\n",
              "      <td>2533</td>\n",
              "      <td>0.467422</td>\n",
              "    </tr>\n",
              "    <tr>\n",
              "      <th>Netherlands</th>\n",
              "      <td>2371</td>\n",
              "      <td>0.437527</td>\n",
              "    </tr>\n",
              "    <tr>\n",
              "      <th>Belgium</th>\n",
              "      <td>2069</td>\n",
              "      <td>0.381798</td>\n",
              "    </tr>\n",
              "    <tr>\n",
              "      <th>Switzerland</th>\n",
              "      <td>2002</td>\n",
              "      <td>0.369435</td>\n",
              "    </tr>\n",
              "    <tr>\n",
              "      <th>Portugal</th>\n",
              "      <td>1519</td>\n",
              "      <td>0.280305</td>\n",
              "    </tr>\n",
              "    <tr>\n",
              "      <th>Australia</th>\n",
              "      <td>1259</td>\n",
              "      <td>0.232327</td>\n",
              "    </tr>\n",
              "  </tbody>\n",
              "</table>\n",
              "</div>\n",
              "    <div class=\"colab-df-buttons\">\n",
              "\n",
              "  <div class=\"colab-df-container\">\n",
              "    <button class=\"colab-df-convert\" onclick=\"convertToInteractive('df-2fe8617f-7ff8-4c33-b1dd-dae91aaf90d9')\"\n",
              "            title=\"Convert this dataframe to an interactive table.\"\n",
              "            style=\"display:none;\">\n",
              "\n",
              "  <svg xmlns=\"http://www.w3.org/2000/svg\" height=\"24px\" viewBox=\"0 -960 960 960\">\n",
              "    <path d=\"M120-120v-720h720v720H120Zm60-500h600v-160H180v160Zm220 220h160v-160H400v160Zm0 220h160v-160H400v160ZM180-400h160v-160H180v160Zm440 0h160v-160H620v160ZM180-180h160v-160H180v160Zm440 0h160v-160H620v160Z\"/>\n",
              "  </svg>\n",
              "    </button>\n",
              "\n",
              "  <style>\n",
              "    .colab-df-container {\n",
              "      display:flex;\n",
              "      gap: 12px;\n",
              "    }\n",
              "\n",
              "    .colab-df-convert {\n",
              "      background-color: #E8F0FE;\n",
              "      border: none;\n",
              "      border-radius: 50%;\n",
              "      cursor: pointer;\n",
              "      display: none;\n",
              "      fill: #1967D2;\n",
              "      height: 32px;\n",
              "      padding: 0 0 0 0;\n",
              "      width: 32px;\n",
              "    }\n",
              "\n",
              "    .colab-df-convert:hover {\n",
              "      background-color: #E2EBFA;\n",
              "      box-shadow: 0px 1px 2px rgba(60, 64, 67, 0.3), 0px 1px 3px 1px rgba(60, 64, 67, 0.15);\n",
              "      fill: #174EA6;\n",
              "    }\n",
              "\n",
              "    .colab-df-buttons div {\n",
              "      margin-bottom: 4px;\n",
              "    }\n",
              "\n",
              "    [theme=dark] .colab-df-convert {\n",
              "      background-color: #3B4455;\n",
              "      fill: #D2E3FC;\n",
              "    }\n",
              "\n",
              "    [theme=dark] .colab-df-convert:hover {\n",
              "      background-color: #434B5C;\n",
              "      box-shadow: 0px 1px 3px 1px rgba(0, 0, 0, 0.15);\n",
              "      filter: drop-shadow(0px 1px 2px rgba(0, 0, 0, 0.3));\n",
              "      fill: #FFFFFF;\n",
              "    }\n",
              "  </style>\n",
              "\n",
              "    <script>\n",
              "      const buttonEl =\n",
              "        document.querySelector('#df-2fe8617f-7ff8-4c33-b1dd-dae91aaf90d9 button.colab-df-convert');\n",
              "      buttonEl.style.display =\n",
              "        google.colab.kernel.accessAllowed ? 'block' : 'none';\n",
              "\n",
              "      async function convertToInteractive(key) {\n",
              "        const element = document.querySelector('#df-2fe8617f-7ff8-4c33-b1dd-dae91aaf90d9');\n",
              "        const dataTable =\n",
              "          await google.colab.kernel.invokeFunction('convertToInteractive',\n",
              "                                                    [key], {});\n",
              "        if (!dataTable) return;\n",
              "\n",
              "        const docLinkHtml = 'Like what you see? Visit the ' +\n",
              "          '<a target=\"_blank\" href=https://colab.research.google.com/notebooks/data_table.ipynb>data table notebook</a>'\n",
              "          + ' to learn more about interactive tables.';\n",
              "        element.innerHTML = '';\n",
              "        dataTable['output_type'] = 'display_data';\n",
              "        await google.colab.output.renderOutput(dataTable, element);\n",
              "        const docLink = document.createElement('div');\n",
              "        docLink.innerHTML = docLinkHtml;\n",
              "        element.appendChild(docLink);\n",
              "      }\n",
              "    </script>\n",
              "  </div>\n",
              "\n",
              "\n",
              "<div id=\"df-92b49899-045a-46de-b1d7-696b17242bfb\">\n",
              "  <button class=\"colab-df-quickchart\" onclick=\"quickchart('df-92b49899-045a-46de-b1d7-696b17242bfb')\"\n",
              "            title=\"Suggest charts\"\n",
              "            style=\"display:none;\">\n",
              "\n",
              "<svg xmlns=\"http://www.w3.org/2000/svg\" height=\"24px\"viewBox=\"0 0 24 24\"\n",
              "     width=\"24px\">\n",
              "    <g>\n",
              "        <path d=\"M19 3H5c-1.1 0-2 .9-2 2v14c0 1.1.9 2 2 2h14c1.1 0 2-.9 2-2V5c0-1.1-.9-2-2-2zM9 17H7v-7h2v7zm4 0h-2V7h2v10zm4 0h-2v-4h2v4z\"/>\n",
              "    </g>\n",
              "</svg>\n",
              "  </button>\n",
              "\n",
              "<style>\n",
              "  .colab-df-quickchart {\n",
              "      --bg-color: #E8F0FE;\n",
              "      --fill-color: #1967D2;\n",
              "      --hover-bg-color: #E2EBFA;\n",
              "      --hover-fill-color: #174EA6;\n",
              "      --disabled-fill-color: #AAA;\n",
              "      --disabled-bg-color: #DDD;\n",
              "  }\n",
              "\n",
              "  [theme=dark] .colab-df-quickchart {\n",
              "      --bg-color: #3B4455;\n",
              "      --fill-color: #D2E3FC;\n",
              "      --hover-bg-color: #434B5C;\n",
              "      --hover-fill-color: #FFFFFF;\n",
              "      --disabled-bg-color: #3B4455;\n",
              "      --disabled-fill-color: #666;\n",
              "  }\n",
              "\n",
              "  .colab-df-quickchart {\n",
              "    background-color: var(--bg-color);\n",
              "    border: none;\n",
              "    border-radius: 50%;\n",
              "    cursor: pointer;\n",
              "    display: none;\n",
              "    fill: var(--fill-color);\n",
              "    height: 32px;\n",
              "    padding: 0;\n",
              "    width: 32px;\n",
              "  }\n",
              "\n",
              "  .colab-df-quickchart:hover {\n",
              "    background-color: var(--hover-bg-color);\n",
              "    box-shadow: 0 1px 2px rgba(60, 64, 67, 0.3), 0 1px 3px 1px rgba(60, 64, 67, 0.15);\n",
              "    fill: var(--button-hover-fill-color);\n",
              "  }\n",
              "\n",
              "  .colab-df-quickchart-complete:disabled,\n",
              "  .colab-df-quickchart-complete:disabled:hover {\n",
              "    background-color: var(--disabled-bg-color);\n",
              "    fill: var(--disabled-fill-color);\n",
              "    box-shadow: none;\n",
              "  }\n",
              "\n",
              "  .colab-df-spinner {\n",
              "    border: 2px solid var(--fill-color);\n",
              "    border-color: transparent;\n",
              "    border-bottom-color: var(--fill-color);\n",
              "    animation:\n",
              "      spin 1s steps(1) infinite;\n",
              "  }\n",
              "\n",
              "  @keyframes spin {\n",
              "    0% {\n",
              "      border-color: transparent;\n",
              "      border-bottom-color: var(--fill-color);\n",
              "      border-left-color: var(--fill-color);\n",
              "    }\n",
              "    20% {\n",
              "      border-color: transparent;\n",
              "      border-left-color: var(--fill-color);\n",
              "      border-top-color: var(--fill-color);\n",
              "    }\n",
              "    30% {\n",
              "      border-color: transparent;\n",
              "      border-left-color: var(--fill-color);\n",
              "      border-top-color: var(--fill-color);\n",
              "      border-right-color: var(--fill-color);\n",
              "    }\n",
              "    40% {\n",
              "      border-color: transparent;\n",
              "      border-right-color: var(--fill-color);\n",
              "      border-top-color: var(--fill-color);\n",
              "    }\n",
              "    60% {\n",
              "      border-color: transparent;\n",
              "      border-right-color: var(--fill-color);\n",
              "    }\n",
              "    80% {\n",
              "      border-color: transparent;\n",
              "      border-right-color: var(--fill-color);\n",
              "      border-bottom-color: var(--fill-color);\n",
              "    }\n",
              "    90% {\n",
              "      border-color: transparent;\n",
              "      border-bottom-color: var(--fill-color);\n",
              "    }\n",
              "  }\n",
              "</style>\n",
              "\n",
              "  <script>\n",
              "    async function quickchart(key) {\n",
              "      const quickchartButtonEl =\n",
              "        document.querySelector('#' + key + ' button');\n",
              "      quickchartButtonEl.disabled = true;  // To prevent multiple clicks.\n",
              "      quickchartButtonEl.classList.add('colab-df-spinner');\n",
              "      try {\n",
              "        const charts = await google.colab.kernel.invokeFunction(\n",
              "            'suggestCharts', [key], {});\n",
              "      } catch (error) {\n",
              "        console.error('Error during call to suggestCharts:', error);\n",
              "      }\n",
              "      quickchartButtonEl.classList.remove('colab-df-spinner');\n",
              "      quickchartButtonEl.classList.add('colab-df-quickchart-complete');\n",
              "    }\n",
              "    (() => {\n",
              "      let quickchartButtonEl =\n",
              "        document.querySelector('#df-92b49899-045a-46de-b1d7-696b17242bfb button');\n",
              "      quickchartButtonEl.style.display =\n",
              "        google.colab.kernel.accessAllowed ? 'block' : 'none';\n",
              "    })();\n",
              "  </script>\n",
              "</div>\n",
              "\n",
              "    </div>\n",
              "  </div>\n"
            ],
            "application/vnd.google.colaboratory.intrinsic+json": {
              "type": "dataframe",
              "variable_name": "df_countries",
              "repr_error": "cannot insert Country, already exists"
            }
          },
          "metadata": {},
          "execution_count": 171
        }
      ]
    },
    {
      "cell_type": "markdown",
      "source": [
        "There are 38 different countries in the feature, with the UK predominating."
      ],
      "metadata": {
        "id": "H7D12xJ8tr-Q"
      }
    },
    {
      "cell_type": "markdown",
      "source": [
        "Now let's check the total monthly sales, where we analyze by the single occurrence of 'InvoicesNo', without considering values or quantities:"
      ],
      "metadata": {
        "id": "zG-qgk5tusgP"
      }
    },
    {
      "cell_type": "code",
      "source": [
        "df_vendas = df.set_index('InvoiceDate').sort_index()\n",
        "df_vendas = df_vendas['InvoiceNo'].resample('M').nunique()\n",
        "df_vendas.plot(kind='line', figsize=(8, 4))\n",
        "plt.ylabel('Número de Vendas') # Number of Sales\n",
        "plt.show()"
      ],
      "metadata": {
        "colab": {
          "base_uri": "https://localhost:8080/",
          "height": 409
        },
        "id": "2QGCMNLAEUar",
        "outputId": "a211e5f7-d5c6-475d-b927-b48e7db2fb29"
      },
      "execution_count": null,
      "outputs": [
        {
          "output_type": "display_data",
          "data": {
            "text/plain": [
              "<Figure size 800x400 with 1 Axes>"
            ],
            "image/png": "[encoded data removed]"
          },
          "metadata": {}
        }
      ]
    },
    {
      "cell_type": "markdown",
      "source": [
        "The graph shows an evolution in the number of sales made in the period. Until August 2011 it remained stable, with a big increase from then until November 2011. From that month onwards, it showed a considerable drop, which is justified given that the period under consideration ends on 12/09/2011."
      ],
      "metadata": {
        "id": "2rc5irabcBNx"
      }
    },
    {
      "cell_type": "markdown",
      "source": [
        "# Data Preparation"
      ],
      "metadata": {
        "id": "6P7TfslLvQlI"
      }
    },
    {
      "cell_type": "markdown",
      "source": [
        "Let's start by deleting data in the features 'UnitPrice' and 'Quantity' with negative values:"
      ],
      "metadata": {
        "id": "F7Mioxn_Jp4r"
      }
    },
    {
      "cell_type": "code",
      "source": [
        "df = df[(df['UnitPrice'] > 0) & (df['Quantity'] > 0)]"
      ],
      "metadata": {
        "id": "CmGPuENyHD_u"
      },
      "execution_count": null,
      "outputs": []
    },
    {
      "cell_type": "markdown",
      "source": [
        "Deleting duplicated registers:"
      ],
      "metadata": {
        "id": "Xe4MIOknxgl3"
      }
    },
    {
      "cell_type": "code",
      "source": [
        "df.drop_duplicates(inplace=True)"
      ],
      "metadata": {
        "id": "_cChct6fxi6f"
      },
      "execution_count": null,
      "outputs": []
    },
    {
      "cell_type": "markdown",
      "source": [
        "As we have a large number of null values in the 'CustomerID' feature, the absence of this data makes the rest of the record worthless, as it is not possible to make inferences about a given customer. Therefore, records with null values in these features will be deleted."
      ],
      "metadata": {
        "id": "5mAGDpTlyt-Y"
      }
    },
    {
      "cell_type": "code",
      "source": [
        "df.dropna(subset = 'CustomerID', inplace=True)\n",
        "df.isna().sum().sum()"
      ],
      "metadata": {
        "colab": {
          "base_uri": "https://localhost:8080/"
        },
        "id": "bRymmdLPzCWf",
        "outputId": "2329295d-c5c3-410a-ae40-0ad62b346352"
      },
      "execution_count": null,
      "outputs": [
        {
          "output_type": "execute_result",
          "data": {
            "text/plain": [
              "0"
            ]
          },
          "metadata": {},
          "execution_count": 175
        }
      ]
    },
    {
      "cell_type": "markdown",
      "source": [
        "Agora não temos nulos"
      ],
      "metadata": {
        "id": "MnUc7-F74c7p"
      }
    },
    {
      "cell_type": "code",
      "source": [
        "df.describe()"
      ],
      "metadata": {
        "colab": {
          "base_uri": "https://localhost:8080/",
          "height": 300
        },
        "id": "ICA1ldSDMage",
        "outputId": "bfd38278-4b8e-492a-9865-13afebfad147"
      },
      "execution_count": null,
      "outputs": [
        {
          "output_type": "execute_result",
          "data": {
            "text/plain": [
              "           InvoiceNo       Quantity                    InvoiceDate  \\\n",
              "count  392692.000000  392692.000000                         392692   \n",
              "mean   560590.875047      13.119702  2011-07-10 19:13:07.771892480   \n",
              "min    536365.000000       1.000000            2010-12-01 08:26:00   \n",
              "25%    549234.000000       2.000000            2011-04-07 11:12:00   \n",
              "50%    561874.000000       6.000000            2011-07-31 12:02:00   \n",
              "75%    572061.000000      12.000000            2011-10-20 12:53:00   \n",
              "max    581587.000000   80995.000000            2011-12-09 12:50:00   \n",
              "std     13087.063759     180.492832                            NaN   \n",
              "\n",
              "           UnitPrice     CustomerID  \n",
              "count  392692.000000  392692.000000  \n",
              "mean        3.125914   15287.843865  \n",
              "min         0.001000   12346.000000  \n",
              "25%         1.250000   13955.000000  \n",
              "50%         1.950000   15150.000000  \n",
              "75%         3.750000   16791.000000  \n",
              "max      8142.750000   18287.000000  \n",
              "std        22.241836    1713.539549  "
            ],
            "text/html": [
              "\n",
              "  <div id=\"df-15e5c8db-8b92-4ceb-93c5-682c173a9062\" class=\"colab-df-container\">\n",
              "    <div>\n",
              "<style scoped>\n",
              "    .dataframe tbody tr th:only-of-type {\n",
              "        vertical-align: middle;\n",
              "    }\n",
              "\n",
              "    .dataframe tbody tr th {\n",
              "        vertical-align: top;\n",
              "    }\n",
              "\n",
              "    .dataframe thead th {\n",
              "        text-align: right;\n",
              "    }\n",
              "</style>\n",
              "<table border=\"1\" class=\"dataframe\">\n",
              "  <thead>\n",
              "    <tr style=\"text-align: right;\">\n",
              "      <th></th>\n",
              "      <th>InvoiceNo</th>\n",
              "      <th>Quantity</th>\n",
              "      <th>InvoiceDate</th>\n",
              "      <th>UnitPrice</th>\n",
              "      <th>CustomerID</th>\n",
              "    </tr>\n",
              "  </thead>\n",
              "  <tbody>\n",
              "    <tr>\n",
              "      <th>count</th>\n",
              "      <td>392692.000000</td>\n",
              "      <td>392692.000000</td>\n",
              "      <td>392692</td>\n",
              "      <td>392692.000000</td>\n",
              "      <td>392692.000000</td>\n",
              "    </tr>\n",
              "    <tr>\n",
              "      <th>mean</th>\n",
              "      <td>560590.875047</td>\n",
              "      <td>13.119702</td>\n",
              "      <td>2011-07-10 19:13:07.771892480</td>\n",
              "      <td>3.125914</td>\n",
              "      <td>15287.843865</td>\n",
              "    </tr>\n",
              "    <tr>\n",
              "      <th>min</th>\n",
              "      <td>536365.000000</td>\n",
              "      <td>1.000000</td>\n",
              "      <td>2010-12-01 08:26:00</td>\n",
              "      <td>0.001000</td>\n",
              "      <td>12346.000000</td>\n",
              "    </tr>\n",
              "    <tr>\n",
              "      <th>25%</th>\n",
              "      <td>549234.000000</td>\n",
              "      <td>2.000000</td>\n",
              "      <td>2011-04-07 11:12:00</td>\n",
              "      <td>1.250000</td>\n",
              "      <td>13955.000000</td>\n",
              "    </tr>\n",
              "    <tr>\n",
              "      <th>50%</th>\n",
              "      <td>561874.000000</td>\n",
              "      <td>6.000000</td>\n",
              "      <td>2011-07-31 12:02:00</td>\n",
              "      <td>1.950000</td>\n",
              "      <td>15150.000000</td>\n",
              "    </tr>\n",
              "    <tr>\n",
              "      <th>75%</th>\n",
              "      <td>572061.000000</td>\n",
              "      <td>12.000000</td>\n",
              "      <td>2011-10-20 12:53:00</td>\n",
              "      <td>3.750000</td>\n",
              "      <td>16791.000000</td>\n",
              "    </tr>\n",
              "    <tr>\n",
              "      <th>max</th>\n",
              "      <td>581587.000000</td>\n",
              "      <td>80995.000000</td>\n",
              "      <td>2011-12-09 12:50:00</td>\n",
              "      <td>8142.750000</td>\n",
              "      <td>18287.000000</td>\n",
              "    </tr>\n",
              "    <tr>\n",
              "      <th>std</th>\n",
              "      <td>13087.063759</td>\n",
              "      <td>180.492832</td>\n",
              "      <td>NaN</td>\n",
              "      <td>22.241836</td>\n",
              "      <td>1713.539549</td>\n",
              "    </tr>\n",
              "  </tbody>\n",
              "</table>\n",
              "</div>\n",
              "    <div class=\"colab-df-buttons\">\n",
              "\n",
              "  <div class=\"colab-df-container\">\n",
              "    <button class=\"colab-df-convert\" onclick=\"convertToInteractive('df-15e5c8db-8b92-4ceb-93c5-682c173a9062')\"\n",
              "            title=\"Convert this dataframe to an interactive table.\"\n",
              "            style=\"display:none;\">\n",
              "\n",
              "  <svg xmlns=\"http://www.w3.org/2000/svg\" height=\"24px\" viewBox=\"0 -960 960 960\">\n",
              "    <path d=\"M120-120v-720h720v720H120Zm60-500h600v-160H180v160Zm220 220h160v-160H400v160Zm0 220h160v-160H400v160ZM180-400h160v-160H180v160Zm440 0h160v-160H620v160ZM180-180h160v-160H180v160Zm440 0h160v-160H620v160Z\"/>\n",
              "  </svg>\n",
              "    </button>\n",
              "\n",
              "  <style>\n",
              "    .colab-df-container {\n",
              "      display:flex;\n",
              "      gap: 12px;\n",
              "    }\n",
              "\n",
              "    .colab-df-convert {\n",
              "      background-color: #E8F0FE;\n",
              "      border: none;\n",
              "      border-radius: 50%;\n",
              "      cursor: pointer;\n",
              "      display: none;\n",
              "      fill: #1967D2;\n",
              "      height: 32px;\n",
              "      padding: 0 0 0 0;\n",
              "      width: 32px;\n",
              "    }\n",
              "\n",
              "    .colab-df-convert:hover {\n",
              "      background-color: #E2EBFA;\n",
              "      box-shadow: 0px 1px 2px rgba(60, 64, 67, 0.3), 0px 1px 3px 1px rgba(60, 64, 67, 0.15);\n",
              "      fill: #174EA6;\n",
              "    }\n",
              "\n",
              "    .colab-df-buttons div {\n",
              "      margin-bottom: 4px;\n",
              "    }\n",
              "\n",
              "    [theme=dark] .colab-df-convert {\n",
              "      background-color: #3B4455;\n",
              "      fill: #D2E3FC;\n",
              "    }\n",
              "\n",
              "    [theme=dark] .colab-df-convert:hover {\n",
              "      background-color: #434B5C;\n",
              "      box-shadow: 0px 1px 3px 1px rgba(0, 0, 0, 0.15);\n",
              "      filter: drop-shadow(0px 1px 2px rgba(0, 0, 0, 0.3));\n",
              "      fill: #FFFFFF;\n",
              "    }\n",
              "  </style>\n",
              "\n",
              "    <script>\n",
              "      const buttonEl =\n",
              "        document.querySelector('#df-15e5c8db-8b92-4ceb-93c5-682c173a9062 button.colab-df-convert');\n",
              "      buttonEl.style.display =\n",
              "        google.colab.kernel.accessAllowed ? 'block' : 'none';\n",
              "\n",
              "      async function convertToInteractive(key) {\n",
              "        const element = document.querySelector('#df-15e5c8db-8b92-4ceb-93c5-682c173a9062');\n",
              "        const dataTable =\n",
              "          await google.colab.kernel.invokeFunction('convertToInteractive',\n",
              "                                                    [key], {});\n",
              "        if (!dataTable) return;\n",
              "\n",
              "        const docLinkHtml = 'Like what you see? Visit the ' +\n",
              "          '<a target=\"_blank\" href=https://colab.research.google.com/notebooks/data_table.ipynb>data table notebook</a>'\n",
              "          + ' to learn more about interactive tables.';\n",
              "        element.innerHTML = '';\n",
              "        dataTable['output_type'] = 'display_data';\n",
              "        await google.colab.output.renderOutput(dataTable, element);\n",
              "        const docLink = document.createElement('div');\n",
              "        docLink.innerHTML = docLinkHtml;\n",
              "        element.appendChild(docLink);\n",
              "      }\n",
              "    </script>\n",
              "  </div>\n",
              "\n",
              "\n",
              "<div id=\"df-4a241930-90bf-4b2d-8e80-223156b8e0f1\">\n",
              "  <button class=\"colab-df-quickchart\" onclick=\"quickchart('df-4a241930-90bf-4b2d-8e80-223156b8e0f1')\"\n",
              "            title=\"Suggest charts\"\n",
              "            style=\"display:none;\">\n",
              "\n",
              "<svg xmlns=\"http://www.w3.org/2000/svg\" height=\"24px\"viewBox=\"0 0 24 24\"\n",
              "     width=\"24px\">\n",
              "    <g>\n",
              "        <path d=\"M19 3H5c-1.1 0-2 .9-2 2v14c0 1.1.9 2 2 2h14c1.1 0 2-.9 2-2V5c0-1.1-.9-2-2-2zM9 17H7v-7h2v7zm4 0h-2V7h2v10zm4 0h-2v-4h2v4z\"/>\n",
              "    </g>\n",
              "</svg>\n",
              "  </button>\n",
              "\n",
              "<style>\n",
              "  .colab-df-quickchart {\n",
              "      --bg-color: #E8F0FE;\n",
              "      --fill-color: #1967D2;\n",
              "      --hover-bg-color: #E2EBFA;\n",
              "      --hover-fill-color: #174EA6;\n",
              "      --disabled-fill-color: #AAA;\n",
              "      --disabled-bg-color: #DDD;\n",
              "  }\n",
              "\n",
              "  [theme=dark] .colab-df-quickchart {\n",
              "      --bg-color: #3B4455;\n",
              "      --fill-color: #D2E3FC;\n",
              "      --hover-bg-color: #434B5C;\n",
              "      --hover-fill-color: #FFFFFF;\n",
              "      --disabled-bg-color: #3B4455;\n",
              "      --disabled-fill-color: #666;\n",
              "  }\n",
              "\n",
              "  .colab-df-quickchart {\n",
              "    background-color: var(--bg-color);\n",
              "    border: none;\n",
              "    border-radius: 50%;\n",
              "    cursor: pointer;\n",
              "    display: none;\n",
              "    fill: var(--fill-color);\n",
              "    height: 32px;\n",
              "    padding: 0;\n",
              "    width: 32px;\n",
              "  }\n",
              "\n",
              "  .colab-df-quickchart:hover {\n",
              "    background-color: var(--hover-bg-color);\n",
              "    box-shadow: 0 1px 2px rgba(60, 64, 67, 0.3), 0 1px 3px 1px rgba(60, 64, 67, 0.15);\n",
              "    fill: var(--button-hover-fill-color);\n",
              "  }\n",
              "\n",
              "  .colab-df-quickchart-complete:disabled,\n",
              "  .colab-df-quickchart-complete:disabled:hover {\n",
              "    background-color: var(--disabled-bg-color);\n",
              "    fill: var(--disabled-fill-color);\n",
              "    box-shadow: none;\n",
              "  }\n",
              "\n",
              "  .colab-df-spinner {\n",
              "    border: 2px solid var(--fill-color);\n",
              "    border-color: transparent;\n",
              "    border-bottom-color: var(--fill-color);\n",
              "    animation:\n",
              "      spin 1s steps(1) infinite;\n",
              "  }\n",
              "\n",
              "  @keyframes spin {\n",
              "    0% {\n",
              "      border-color: transparent;\n",
              "      border-bottom-color: var(--fill-color);\n",
              "      border-left-color: var(--fill-color);\n",
              "    }\n",
              "    20% {\n",
              "      border-color: transparent;\n",
              "      border-left-color: var(--fill-color);\n",
              "      border-top-color: var(--fill-color);\n",
              "    }\n",
              "    30% {\n",
              "      border-color: transparent;\n",
              "      border-left-color: var(--fill-color);\n",
              "      border-top-color: var(--fill-color);\n",
              "      border-right-color: var(--fill-color);\n",
              "    }\n",
              "    40% {\n",
              "      border-color: transparent;\n",
              "      border-right-color: var(--fill-color);\n",
              "      border-top-color: var(--fill-color);\n",
              "    }\n",
              "    60% {\n",
              "      border-color: transparent;\n",
              "      border-right-color: var(--fill-color);\n",
              "    }\n",
              "    80% {\n",
              "      border-color: transparent;\n",
              "      border-right-color: var(--fill-color);\n",
              "      border-bottom-color: var(--fill-color);\n",
              "    }\n",
              "    90% {\n",
              "      border-color: transparent;\n",
              "      border-bottom-color: var(--fill-color);\n",
              "    }\n",
              "  }\n",
              "</style>\n",
              "\n",
              "  <script>\n",
              "    async function quickchart(key) {\n",
              "      const quickchartButtonEl =\n",
              "        document.querySelector('#' + key + ' button');\n",
              "      quickchartButtonEl.disabled = true;  // To prevent multiple clicks.\n",
              "      quickchartButtonEl.classList.add('colab-df-spinner');\n",
              "      try {\n",
              "        const charts = await google.colab.kernel.invokeFunction(\n",
              "            'suggestCharts', [key], {});\n",
              "      } catch (error) {\n",
              "        console.error('Error during call to suggestCharts:', error);\n",
              "      }\n",
              "      quickchartButtonEl.classList.remove('colab-df-spinner');\n",
              "      quickchartButtonEl.classList.add('colab-df-quickchart-complete');\n",
              "    }\n",
              "    (() => {\n",
              "      let quickchartButtonEl =\n",
              "        document.querySelector('#df-4a241930-90bf-4b2d-8e80-223156b8e0f1 button');\n",
              "      quickchartButtonEl.style.display =\n",
              "        google.colab.kernel.accessAllowed ? 'block' : 'none';\n",
              "    })();\n",
              "  </script>\n",
              "</div>\n",
              "\n",
              "    </div>\n",
              "  </div>\n"
            ],
            "application/vnd.google.colaboratory.intrinsic+json": {
              "type": "dataframe",
              "summary": "{\n  \"name\": \"df\",\n  \"rows\": 8,\n  \"fields\": [\n    {\n      \"column\": \"InvoiceNo\",\n      \"properties\": {\n        \"dtype\": \"number\",\n        \"std\": 194545.96544138843,\n        \"min\": 13087.063758995071,\n        \"max\": 581587.0,\n        \"num_unique_values\": 8,\n        \"samples\": [\n          560590.8750471107,\n          572061.0,\n          392692.0\n        ],\n        \"semantic_type\": \"\",\n        \"description\": \"\"\n      }\n    },\n    {\n      \"column\": \"Quantity\",\n      \"properties\": {\n        \"dtype\": \"number\",\n        \"std\": 137682.02887632325,\n        \"min\": 1.0,\n        \"max\": 392692.0,\n        \"num_unique_values\": 8,\n        \"samples\": [\n          13.1197019547126,\n          12.0,\n          392692.0\n        ],\n        \"semantic_type\": \"\",\n        \"description\": \"\"\n      }\n    },\n    {\n      \"column\": \"InvoiceDate\",\n      \"properties\": {\n        \"dtype\": \"date\",\n        \"min\": \"1970-01-01 00:00:00.000392692\",\n        \"max\": \"2011-12-09 12:50:00\",\n        \"num_unique_values\": 7,\n        \"samples\": [\n          \"392692\",\n          \"2011-07-10 19:13:07.771892480\",\n          \"2011-10-20 12:53:00\"\n        ],\n        \"semantic_type\": \"\",\n        \"description\": \"\"\n      }\n    },\n    {\n      \"column\": \"UnitPrice\",\n      \"properties\": {\n        \"dtype\": \"number\",\n        \"std\": 138453.96909880062,\n        \"min\": 0.001,\n        \"max\": 392692.0,\n        \"num_unique_values\": 8,\n        \"samples\": [\n          3.125913907082396,\n          3.75,\n          392692.0\n        ],\n        \"semantic_type\": \"\",\n        \"description\": \"\"\n      }\n    },\n    {\n      \"column\": \"CustomerID\",\n      \"properties\": {\n        \"dtype\": \"number\",\n        \"std\": 134209.41832835335,\n        \"min\": 1713.539548924817,\n        \"max\": 392692.0,\n        \"num_unique_values\": 8,\n        \"samples\": [\n          15287.843864911942,\n          16791.0,\n          392692.0\n        ],\n        \"semantic_type\": \"\",\n        \"description\": \"\"\n      }\n    }\n  ]\n}"
            }
          },
          "metadata": {},
          "execution_count": 176
        }
      ]
    },
    {
      "cell_type": "markdown",
      "source": [
        "Let's create a column to calculate the total value per product, i.e. the quantity per unit value, which will be needed to calculate the M metric:"
      ],
      "metadata": {
        "id": "UnUr0uAaPHNE"
      }
    },
    {
      "cell_type": "code",
      "source": [
        "df['TotalPrice'] = df['Quantity'] * df['UnitPrice']\n",
        "df.head()"
      ],
      "metadata": {
        "colab": {
          "base_uri": "https://localhost:8080/",
          "height": 206
        },
        "id": "e_z2LVxBPNns",
        "outputId": "7eb22c35-b4f4-4c38-ad37-8677df1809c8"
      },
      "execution_count": null,
      "outputs": [
        {
          "output_type": "execute_result",
          "data": {
            "text/plain": [
              "   InvoiceNo StockCode                          Description  Quantity  \\\n",
              "0   536365.0    85123A   WHITE HANGING HEART T-LIGHT HOLDER         6   \n",
              "1   536365.0     71053                  WHITE METAL LANTERN         6   \n",
              "2   536365.0    84406B       CREAM CUPID HEARTS COAT HANGER         8   \n",
              "3   536365.0    84029G  KNITTED UNION FLAG HOT WATER BOTTLE         6   \n",
              "4   536365.0    84029E       RED WOOLLY HOTTIE WHITE HEART.         6   \n",
              "\n",
              "          InvoiceDate  UnitPrice  CustomerID         Country  TotalPrice  \n",
              "0 2010-12-01 08:26:00       2.55     17850.0  United Kingdom       15.30  \n",
              "1 2010-12-01 08:26:00       3.39     17850.0  United Kingdom       20.34  \n",
              "2 2010-12-01 08:26:00       2.75     17850.0  United Kingdom       22.00  \n",
              "3 2010-12-01 08:26:00       3.39     17850.0  United Kingdom       20.34  \n",
              "4 2010-12-01 08:26:00       3.39     17850.0  United Kingdom       20.34  "
            ],
            "text/html": [
              "\n",
              "  <div id=\"df-8e351b93-bbe1-43ea-8a3c-0caafddca0f3\" class=\"colab-df-container\">\n",
              "    <div>\n",
              "<style scoped>\n",
              "    .dataframe tbody tr th:only-of-type {\n",
              "        vertical-align: middle;\n",
              "    }\n",
              "\n",
              "    .dataframe tbody tr th {\n",
              "        vertical-align: top;\n",
              "    }\n",
              "\n",
              "    .dataframe thead th {\n",
              "        text-align: right;\n",
              "    }\n",
              "</style>\n",
              "<table border=\"1\" class=\"dataframe\">\n",
              "  <thead>\n",
              "    <tr style=\"text-align: right;\">\n",
              "      <th></th>\n",
              "      <th>InvoiceNo</th>\n",
              "      <th>StockCode</th>\n",
              "      <th>Description</th>\n",
              "      <th>Quantity</th>\n",
              "      <th>InvoiceDate</th>\n",
              "      <th>UnitPrice</th>\n",
              "      <th>CustomerID</th>\n",
              "      <th>Country</th>\n",
              "      <th>TotalPrice</th>\n",
              "    </tr>\n",
              "  </thead>\n",
              "  <tbody>\n",
              "    <tr>\n",
              "      <th>0</th>\n",
              "      <td>536365.0</td>\n",
              "      <td>85123A</td>\n",
              "      <td>WHITE HANGING HEART T-LIGHT HOLDER</td>\n",
              "      <td>6</td>\n",
              "      <td>2010-12-01 08:26:00</td>\n",
              "      <td>2.55</td>\n",
              "      <td>17850.0</td>\n",
              "      <td>United Kingdom</td>\n",
              "      <td>15.30</td>\n",
              "    </tr>\n",
              "    <tr>\n",
              "      <th>1</th>\n",
              "      <td>536365.0</td>\n",
              "      <td>71053</td>\n",
              "      <td>WHITE METAL LANTERN</td>\n",
              "      <td>6</td>\n",
              "      <td>2010-12-01 08:26:00</td>\n",
              "      <td>3.39</td>\n",
              "      <td>17850.0</td>\n",
              "      <td>United Kingdom</td>\n",
              "      <td>20.34</td>\n",
              "    </tr>\n",
              "    <tr>\n",
              "      <th>2</th>\n",
              "      <td>536365.0</td>\n",
              "      <td>84406B</td>\n",
              "      <td>CREAM CUPID HEARTS COAT HANGER</td>\n",
              "      <td>8</td>\n",
              "      <td>2010-12-01 08:26:00</td>\n",
              "      <td>2.75</td>\n",
              "      <td>17850.0</td>\n",
              "      <td>United Kingdom</td>\n",
              "      <td>22.00</td>\n",
              "    </tr>\n",
              "    <tr>\n",
              "      <th>3</th>\n",
              "      <td>536365.0</td>\n",
              "      <td>84029G</td>\n",
              "      <td>KNITTED UNION FLAG HOT WATER BOTTLE</td>\n",
              "      <td>6</td>\n",
              "      <td>2010-12-01 08:26:00</td>\n",
              "      <td>3.39</td>\n",
              "      <td>17850.0</td>\n",
              "      <td>United Kingdom</td>\n",
              "      <td>20.34</td>\n",
              "    </tr>\n",
              "    <tr>\n",
              "      <th>4</th>\n",
              "      <td>536365.0</td>\n",
              "      <td>84029E</td>\n",
              "      <td>RED WOOLLY HOTTIE WHITE HEART.</td>\n",
              "      <td>6</td>\n",
              "      <td>2010-12-01 08:26:00</td>\n",
              "      <td>3.39</td>\n",
              "      <td>17850.0</td>\n",
              "      <td>United Kingdom</td>\n",
              "      <td>20.34</td>\n",
              "    </tr>\n",
              "  </tbody>\n",
              "</table>\n",
              "</div>\n",
              "    <div class=\"colab-df-buttons\">\n",
              "\n",
              "  <div class=\"colab-df-container\">\n",
              "    <button class=\"colab-df-convert\" onclick=\"convertToInteractive('df-8e351b93-bbe1-43ea-8a3c-0caafddca0f3')\"\n",
              "            title=\"Convert this dataframe to an interactive table.\"\n",
              "            style=\"display:none;\">\n",
              "\n",
              "  <svg xmlns=\"http://www.w3.org/2000/svg\" height=\"24px\" viewBox=\"0 -960 960 960\">\n",
              "    <path d=\"M120-120v-720h720v720H120Zm60-500h600v-160H180v160Zm220 220h160v-160H400v160Zm0 220h160v-160H400v160ZM180-400h160v-160H180v160Zm440 0h160v-160H620v160ZM180-180h160v-160H180v160Zm440 0h160v-160H620v160Z\"/>\n",
              "  </svg>\n",
              "    </button>\n",
              "\n",
              "  <style>\n",
              "    .colab-df-container {\n",
              "      display:flex;\n",
              "      gap: 12px;\n",
              "    }\n",
              "\n",
              "    .colab-df-convert {\n",
              "      background-color: #E8F0FE;\n",
              "      border: none;\n",
              "      border-radius: 50%;\n",
              "      cursor: pointer;\n",
              "      display: none;\n",
              "      fill: #1967D2;\n",
              "      height: 32px;\n",
              "      padding: 0 0 0 0;\n",
              "      width: 32px;\n",
              "    }\n",
              "\n",
              "    .colab-df-convert:hover {\n",
              "      background-color: #E2EBFA;\n",
              "      box-shadow: 0px 1px 2px rgba(60, 64, 67, 0.3), 0px 1px 3px 1px rgba(60, 64, 67, 0.15);\n",
              "      fill: #174EA6;\n",
              "    }\n",
              "\n",
              "    .colab-df-buttons div {\n",
              "      margin-bottom: 4px;\n",
              "    }\n",
              "\n",
              "    [theme=dark] .colab-df-convert {\n",
              "      background-color: #3B4455;\n",
              "      fill: #D2E3FC;\n",
              "    }\n",
              "\n",
              "    [theme=dark] .colab-df-convert:hover {\n",
              "      background-color: #434B5C;\n",
              "      box-shadow: 0px 1px 3px 1px rgba(0, 0, 0, 0.15);\n",
              "      filter: drop-shadow(0px 1px 2px rgba(0, 0, 0, 0.3));\n",
              "      fill: #FFFFFF;\n",
              "    }\n",
              "  </style>\n",
              "\n",
              "    <script>\n",
              "      const buttonEl =\n",
              "        document.querySelector('#df-8e351b93-bbe1-43ea-8a3c-0caafddca0f3 button.colab-df-convert');\n",
              "      buttonEl.style.display =\n",
              "        google.colab.kernel.accessAllowed ? 'block' : 'none';\n",
              "\n",
              "      async function convertToInteractive(key) {\n",
              "        const element = document.querySelector('#df-8e351b93-bbe1-43ea-8a3c-0caafddca0f3');\n",
              "        const dataTable =\n",
              "          await google.colab.kernel.invokeFunction('convertToInteractive',\n",
              "                                                    [key], {});\n",
              "        if (!dataTable) return;\n",
              "\n",
              "        const docLinkHtml = 'Like what you see? Visit the ' +\n",
              "          '<a target=\"_blank\" href=https://colab.research.google.com/notebooks/data_table.ipynb>data table notebook</a>'\n",
              "          + ' to learn more about interactive tables.';\n",
              "        element.innerHTML = '';\n",
              "        dataTable['output_type'] = 'display_data';\n",
              "        await google.colab.output.renderOutput(dataTable, element);\n",
              "        const docLink = document.createElement('div');\n",
              "        docLink.innerHTML = docLinkHtml;\n",
              "        element.appendChild(docLink);\n",
              "      }\n",
              "    </script>\n",
              "  </div>\n",
              "\n",
              "\n",
              "<div id=\"df-10f17e64-0c59-49f2-9343-5a3563084eeb\">\n",
              "  <button class=\"colab-df-quickchart\" onclick=\"quickchart('df-10f17e64-0c59-49f2-9343-5a3563084eeb')\"\n",
              "            title=\"Suggest charts\"\n",
              "            style=\"display:none;\">\n",
              "\n",
              "<svg xmlns=\"http://www.w3.org/2000/svg\" height=\"24px\"viewBox=\"0 0 24 24\"\n",
              "     width=\"24px\">\n",
              "    <g>\n",
              "        <path d=\"M19 3H5c-1.1 0-2 .9-2 2v14c0 1.1.9 2 2 2h14c1.1 0 2-.9 2-2V5c0-1.1-.9-2-2-2zM9 17H7v-7h2v7zm4 0h-2V7h2v10zm4 0h-2v-4h2v4z\"/>\n",
              "    </g>\n",
              "</svg>\n",
              "  </button>\n",
              "\n",
              "<style>\n",
              "  .colab-df-quickchart {\n",
              "      --bg-color: #E8F0FE;\n",
              "      --fill-color: #1967D2;\n",
              "      --hover-bg-color: #E2EBFA;\n",
              "      --hover-fill-color: #174EA6;\n",
              "      --disabled-fill-color: #AAA;\n",
              "      --disabled-bg-color: #DDD;\n",
              "  }\n",
              "\n",
              "  [theme=dark] .colab-df-quickchart {\n",
              "      --bg-color: #3B4455;\n",
              "      --fill-color: #D2E3FC;\n",
              "      --hover-bg-color: #434B5C;\n",
              "      --hover-fill-color: #FFFFFF;\n",
              "      --disabled-bg-color: #3B4455;\n",
              "      --disabled-fill-color: #666;\n",
              "  }\n",
              "\n",
              "  .colab-df-quickchart {\n",
              "    background-color: var(--bg-color);\n",
              "    border: none;\n",
              "    border-radius: 50%;\n",
              "    cursor: pointer;\n",
              "    display: none;\n",
              "    fill: var(--fill-color);\n",
              "    height: 32px;\n",
              "    padding: 0;\n",
              "    width: 32px;\n",
              "  }\n",
              "\n",
              "  .colab-df-quickchart:hover {\n",
              "    background-color: var(--hover-bg-color);\n",
              "    box-shadow: 0 1px 2px rgba(60, 64, 67, 0.3), 0 1px 3px 1px rgba(60, 64, 67, 0.15);\n",
              "    fill: var(--button-hover-fill-color);\n",
              "  }\n",
              "\n",
              "  .colab-df-quickchart-complete:disabled,\n",
              "  .colab-df-quickchart-complete:disabled:hover {\n",
              "    background-color: var(--disabled-bg-color);\n",
              "    fill: var(--disabled-fill-color);\n",
              "    box-shadow: none;\n",
              "  }\n",
              "\n",
              "  .colab-df-spinner {\n",
              "    border: 2px solid var(--fill-color);\n",
              "    border-color: transparent;\n",
              "    border-bottom-color: var(--fill-color);\n",
              "    animation:\n",
              "      spin 1s steps(1) infinite;\n",
              "  }\n",
              "\n",
              "  @keyframes spin {\n",
              "    0% {\n",
              "      border-color: transparent;\n",
              "      border-bottom-color: var(--fill-color);\n",
              "      border-left-color: var(--fill-color);\n",
              "    }\n",
              "    20% {\n",
              "      border-color: transparent;\n",
              "      border-left-color: var(--fill-color);\n",
              "      border-top-color: var(--fill-color);\n",
              "    }\n",
              "    30% {\n",
              "      border-color: transparent;\n",
              "      border-left-color: var(--fill-color);\n",
              "      border-top-color: var(--fill-color);\n",
              "      border-right-color: var(--fill-color);\n",
              "    }\n",
              "    40% {\n",
              "      border-color: transparent;\n",
              "      border-right-color: var(--fill-color);\n",
              "      border-top-color: var(--fill-color);\n",
              "    }\n",
              "    60% {\n",
              "      border-color: transparent;\n",
              "      border-right-color: var(--fill-color);\n",
              "    }\n",
              "    80% {\n",
              "      border-color: transparent;\n",
              "      border-right-color: var(--fill-color);\n",
              "      border-bottom-color: var(--fill-color);\n",
              "    }\n",
              "    90% {\n",
              "      border-color: transparent;\n",
              "      border-bottom-color: var(--fill-color);\n",
              "    }\n",
              "  }\n",
              "</style>\n",
              "\n",
              "  <script>\n",
              "    async function quickchart(key) {\n",
              "      const quickchartButtonEl =\n",
              "        document.querySelector('#' + key + ' button');\n",
              "      quickchartButtonEl.disabled = true;  // To prevent multiple clicks.\n",
              "      quickchartButtonEl.classList.add('colab-df-spinner');\n",
              "      try {\n",
              "        const charts = await google.colab.kernel.invokeFunction(\n",
              "            'suggestCharts', [key], {});\n",
              "      } catch (error) {\n",
              "        console.error('Error during call to suggestCharts:', error);\n",
              "      }\n",
              "      quickchartButtonEl.classList.remove('colab-df-spinner');\n",
              "      quickchartButtonEl.classList.add('colab-df-quickchart-complete');\n",
              "    }\n",
              "    (() => {\n",
              "      let quickchartButtonEl =\n",
              "        document.querySelector('#df-10f17e64-0c59-49f2-9343-5a3563084eeb button');\n",
              "      quickchartButtonEl.style.display =\n",
              "        google.colab.kernel.accessAllowed ? 'block' : 'none';\n",
              "    })();\n",
              "  </script>\n",
              "</div>\n",
              "\n",
              "    </div>\n",
              "  </div>\n"
            ],
            "application/vnd.google.colaboratory.intrinsic+json": {
              "type": "dataframe",
              "variable_name": "df"
            }
          },
          "metadata": {},
          "execution_count": 177
        }
      ]
    },
    {
      "cell_type": "markdown",
      "source": [
        "When analyzing the features of the dataset provided, it can be seen that:\n",
        "* The 'CustomerID' feature is very important for calculating the RFM metrics, since these metrics will be used as a basis and calculated per customer.\n",
        "* In order to calculate Recency (R), the 'InvoiceDate' feature is essential for extracting the date of each customer's last purchase and calculating the number of days that have passed since then;\n",
        "* For calculating Frequency (F), the 'InvoiceNo' feature, through its unique values, will give us how many purchases each customer made in the period under consideration; and\n",
        "* For calculating Monetary Value (M), which here will be calculated as the customer's average ticket in the period under consideration, taking into account all the purchases made. To calculate this, we use the 'TotalPrice' feature, which in turn is calculated using the 'Quantity' and 'UnitPrice' features;\n",
        "\n",
        "This means that the 'StockCode', 'Description' and 'Country' features are not relevant to the calculation of RFM metrics, although they may be relevant to other analyses, which are beyond the scope of this Challenge."
      ],
      "metadata": {
        "id": "KCm-iYa84sc-"
      }
    },
    {
      "cell_type": "markdown",
      "source": [
        "**Calculation of RFM Metrics**"
      ],
      "metadata": {
        "id": "07Qepo3sdCos"
      }
    },
    {
      "cell_type": "markdown",
      "source": [
        "First, let's remember the maximum and minimum dates of the 'InvoiceDate' feature:"
      ],
      "metadata": {
        "id": "M2CyMjrWdLez"
      }
    },
    {
      "cell_type": "code",
      "source": [
        "minDate, maxDate = df['InvoiceDate'].min(), df['InvoiceDate'].max()\n",
        "print(\"Data mínima: {}\".format(minDate)) # Earliest Date\n",
        "print(\"Data máxima: {}\".format(maxDate)) # Latest Date"
      ],
      "metadata": {
        "colab": {
          "base_uri": "https://localhost:8080/"
        },
        "id": "rzIc6MHfdP-u",
        "outputId": "e1fc77be-0529-4cd1-f00a-b501d7264702"
      },
      "execution_count": null,
      "outputs": [
        {
          "output_type": "stream",
          "name": "stdout",
          "text": [
            "Data mínima: 2010-12-01 08:26:00\n",
            "Data máxima: 2011-12-09 12:50:00\n"
          ]
        }
      ]
    },
    {
      "cell_type": "markdown",
      "source": [
        "As the dataset is kind of old, let's simulate that the base date for calculating recency will be 12/12/2011:"
      ],
      "metadata": {
        "id": "hZ0NWPdJdX6o"
      }
    },
    {
      "cell_type": "code",
      "source": [
        "refDate = pd.Timestamp('2011-12-12')\n",
        "refDate"
      ],
      "metadata": {
        "colab": {
          "base_uri": "https://localhost:8080/"
        },
        "id": "8Kq1o65qdiM6",
        "outputId": "5ac598cb-52a7-4409-fd2b-cb179a0b17d3"
      },
      "execution_count": null,
      "outputs": [
        {
          "output_type": "execute_result",
          "data": {
            "text/plain": [
              "Timestamp('2011-12-12 00:00:00')"
            ]
          },
          "metadata": {},
          "execution_count": 179
        }
      ]
    },
    {
      "cell_type": "markdown",
      "source": [
        "Now let's find the RFM metrics per customer by grouping the data in a new dataset:"
      ],
      "metadata": {
        "id": "r9WJrNWPPpYc"
      }
    },
    {
      "cell_type": "code",
      "source": [
        "df_rfm = (\n",
        "  df.groupby('CustomerID')\n",
        "  .agg(\n",
        "      R = ('InvoiceDate', lambda x: (refDate - x.max()).days), #calculates the difference in days between the base date and the date of the last purchase\n",
        "      F = ('InvoiceNo', 'nunique'),   # calculates the number of purchases made in the period\n",
        "      M = ('TotalPrice', 'mean')  # calculates the monetary value, i.e. the customer's average ticket considering all their purchases in the period\n",
        "  )\n",
        ")\n",
        "df_rfm.head()"
      ],
      "metadata": {
        "colab": {
          "base_uri": "https://localhost:8080/",
          "height": 237
        },
        "id": "qc4c0wnzeDaz",
        "outputId": "547363cb-0239-4dfd-b9a8-2387383e8953"
      },
      "execution_count": null,
      "outputs": [
        {
          "output_type": "execute_result",
          "data": {
            "text/plain": [
              "              R  F             M\n",
              "CustomerID                      \n",
              "12346.0     327  1  77183.600000\n",
              "12347.0       4  7     23.681319\n",
              "12348.0      77  4     57.975484\n",
              "12349.0      20  1     24.076027\n",
              "12350.0     312  1     19.670588"
            ],
            "text/html": [
              "\n",
              "  <div id=\"df-8b2e9f9e-1fe8-4db8-9af9-737e23e23b9e\" class=\"colab-df-container\">\n",
              "    <div>\n",
              "<style scoped>\n",
              "    .dataframe tbody tr th:only-of-type {\n",
              "        vertical-align: middle;\n",
              "    }\n",
              "\n",
              "    .dataframe tbody tr th {\n",
              "        vertical-align: top;\n",
              "    }\n",
              "\n",
              "    .dataframe thead th {\n",
              "        text-align: right;\n",
              "    }\n",
              "</style>\n",
              "<table border=\"1\" class=\"dataframe\">\n",
              "  <thead>\n",
              "    <tr style=\"text-align: right;\">\n",
              "      <th></th>\n",
              "      <th>R</th>\n",
              "      <th>F</th>\n",
              "      <th>M</th>\n",
              "    </tr>\n",
              "    <tr>\n",
              "      <th>CustomerID</th>\n",
              "      <th></th>\n",
              "      <th></th>\n",
              "      <th></th>\n",
              "    </tr>\n",
              "  </thead>\n",
              "  <tbody>\n",
              "    <tr>\n",
              "      <th>12346.0</th>\n",
              "      <td>327</td>\n",
              "      <td>1</td>\n",
              "      <td>77183.600000</td>\n",
              "    </tr>\n",
              "    <tr>\n",
              "      <th>12347.0</th>\n",
              "      <td>4</td>\n",
              "      <td>7</td>\n",
              "      <td>23.681319</td>\n",
              "    </tr>\n",
              "    <tr>\n",
              "      <th>12348.0</th>\n",
              "      <td>77</td>\n",
              "      <td>4</td>\n",
              "      <td>57.975484</td>\n",
              "    </tr>\n",
              "    <tr>\n",
              "      <th>12349.0</th>\n",
              "      <td>20</td>\n",
              "      <td>1</td>\n",
              "      <td>24.076027</td>\n",
              "    </tr>\n",
              "    <tr>\n",
              "      <th>12350.0</th>\n",
              "      <td>312</td>\n",
              "      <td>1</td>\n",
              "      <td>19.670588</td>\n",
              "    </tr>\n",
              "  </tbody>\n",
              "</table>\n",
              "</div>\n",
              "    <div class=\"colab-df-buttons\">\n",
              "\n",
              "  <div class=\"colab-df-container\">\n",
              "    <button class=\"colab-df-convert\" onclick=\"convertToInteractive('df-8b2e9f9e-1fe8-4db8-9af9-737e23e23b9e')\"\n",
              "            title=\"Convert this dataframe to an interactive table.\"\n",
              "            style=\"display:none;\">\n",
              "\n",
              "  <svg xmlns=\"http://www.w3.org/2000/svg\" height=\"24px\" viewBox=\"0 -960 960 960\">\n",
              "    <path d=\"M120-120v-720h720v720H120Zm60-500h600v-160H180v160Zm220 220h160v-160H400v160Zm0 220h160v-160H400v160ZM180-400h160v-160H180v160Zm440 0h160v-160H620v160ZM180-180h160v-160H180v160Zm440 0h160v-160H620v160Z\"/>\n",
              "  </svg>\n",
              "    </button>\n",
              "\n",
              "  <style>\n",
              "    .colab-df-container {\n",
              "      display:flex;\n",
              "      gap: 12px;\n",
              "    }\n",
              "\n",
              "    .colab-df-convert {\n",
              "      background-color: #E8F0FE;\n",
              "      border: none;\n",
              "      border-radius: 50%;\n",
              "      cursor: pointer;\n",
              "      display: none;\n",
              "      fill: #1967D2;\n",
              "      height: 32px;\n",
              "      padding: 0 0 0 0;\n",
              "      width: 32px;\n",
              "    }\n",
              "\n",
              "    .colab-df-convert:hover {\n",
              "      background-color: #E2EBFA;\n",
              "      box-shadow: 0px 1px 2px rgba(60, 64, 67, 0.3), 0px 1px 3px 1px rgba(60, 64, 67, 0.15);\n",
              "      fill: #174EA6;\n",
              "    }\n",
              "\n",
              "    .colab-df-buttons div {\n",
              "      margin-bottom: 4px;\n",
              "    }\n",
              "\n",
              "    [theme=dark] .colab-df-convert {\n",
              "      background-color: #3B4455;\n",
              "      fill: #D2E3FC;\n",
              "    }\n",
              "\n",
              "    [theme=dark] .colab-df-convert:hover {\n",
              "      background-color: #434B5C;\n",
              "      box-shadow: 0px 1px 3px 1px rgba(0, 0, 0, 0.15);\n",
              "      filter: drop-shadow(0px 1px 2px rgba(0, 0, 0, 0.3));\n",
              "      fill: #FFFFFF;\n",
              "    }\n",
              "  </style>\n",
              "\n",
              "    <script>\n",
              "      const buttonEl =\n",
              "        document.querySelector('#df-8b2e9f9e-1fe8-4db8-9af9-737e23e23b9e button.colab-df-convert');\n",
              "      buttonEl.style.display =\n",
              "        google.colab.kernel.accessAllowed ? 'block' : 'none';\n",
              "\n",
              "      async function convertToInteractive(key) {\n",
              "        const element = document.querySelector('#df-8b2e9f9e-1fe8-4db8-9af9-737e23e23b9e');\n",
              "        const dataTable =\n",
              "          await google.colab.kernel.invokeFunction('convertToInteractive',\n",
              "                                                    [key], {});\n",
              "        if (!dataTable) return;\n",
              "\n",
              "        const docLinkHtml = 'Like what you see? Visit the ' +\n",
              "          '<a target=\"_blank\" href=https://colab.research.google.com/notebooks/data_table.ipynb>data table notebook</a>'\n",
              "          + ' to learn more about interactive tables.';\n",
              "        element.innerHTML = '';\n",
              "        dataTable['output_type'] = 'display_data';\n",
              "        await google.colab.output.renderOutput(dataTable, element);\n",
              "        const docLink = document.createElement('div');\n",
              "        docLink.innerHTML = docLinkHtml;\n",
              "        element.appendChild(docLink);\n",
              "      }\n",
              "    </script>\n",
              "  </div>\n",
              "\n",
              "\n",
              "<div id=\"df-3165ff14-7be0-480c-a759-75064149da03\">\n",
              "  <button class=\"colab-df-quickchart\" onclick=\"quickchart('df-3165ff14-7be0-480c-a759-75064149da03')\"\n",
              "            title=\"Suggest charts\"\n",
              "            style=\"display:none;\">\n",
              "\n",
              "<svg xmlns=\"http://www.w3.org/2000/svg\" height=\"24px\"viewBox=\"0 0 24 24\"\n",
              "     width=\"24px\">\n",
              "    <g>\n",
              "        <path d=\"M19 3H5c-1.1 0-2 .9-2 2v14c0 1.1.9 2 2 2h14c1.1 0 2-.9 2-2V5c0-1.1-.9-2-2-2zM9 17H7v-7h2v7zm4 0h-2V7h2v10zm4 0h-2v-4h2v4z\"/>\n",
              "    </g>\n",
              "</svg>\n",
              "  </button>\n",
              "\n",
              "<style>\n",
              "  .colab-df-quickchart {\n",
              "      --bg-color: #E8F0FE;\n",
              "      --fill-color: #1967D2;\n",
              "      --hover-bg-color: #E2EBFA;\n",
              "      --hover-fill-color: #174EA6;\n",
              "      --disabled-fill-color: #AAA;\n",
              "      --disabled-bg-color: #DDD;\n",
              "  }\n",
              "\n",
              "  [theme=dark] .colab-df-quickchart {\n",
              "      --bg-color: #3B4455;\n",
              "      --fill-color: #D2E3FC;\n",
              "      --hover-bg-color: #434B5C;\n",
              "      --hover-fill-color: #FFFFFF;\n",
              "      --disabled-bg-color: #3B4455;\n",
              "      --disabled-fill-color: #666;\n",
              "  }\n",
              "\n",
              "  .colab-df-quickchart {\n",
              "    background-color: var(--bg-color);\n",
              "    border: none;\n",
              "    border-radius: 50%;\n",
              "    cursor: pointer;\n",
              "    display: none;\n",
              "    fill: var(--fill-color);\n",
              "    height: 32px;\n",
              "    padding: 0;\n",
              "    width: 32px;\n",
              "  }\n",
              "\n",
              "  .colab-df-quickchart:hover {\n",
              "    background-color: var(--hover-bg-color);\n",
              "    box-shadow: 0 1px 2px rgba(60, 64, 67, 0.3), 0 1px 3px 1px rgba(60, 64, 67, 0.15);\n",
              "    fill: var(--button-hover-fill-color);\n",
              "  }\n",
              "\n",
              "  .colab-df-quickchart-complete:disabled,\n",
              "  .colab-df-quickchart-complete:disabled:hover {\n",
              "    background-color: var(--disabled-bg-color);\n",
              "    fill: var(--disabled-fill-color);\n",
              "    box-shadow: none;\n",
              "  }\n",
              "\n",
              "  .colab-df-spinner {\n",
              "    border: 2px solid var(--fill-color);\n",
              "    border-color: transparent;\n",
              "    border-bottom-color: var(--fill-color);\n",
              "    animation:\n",
              "      spin 1s steps(1) infinite;\n",
              "  }\n",
              "\n",
              "  @keyframes spin {\n",
              "    0% {\n",
              "      border-color: transparent;\n",
              "      border-bottom-color: var(--fill-color);\n",
              "      border-left-color: var(--fill-color);\n",
              "    }\n",
              "    20% {\n",
              "      border-color: transparent;\n",
              "      border-left-color: var(--fill-color);\n",
              "      border-top-color: var(--fill-color);\n",
              "    }\n",
              "    30% {\n",
              "      border-color: transparent;\n",
              "      border-left-color: var(--fill-color);\n",
              "      border-top-color: var(--fill-color);\n",
              "      border-right-color: var(--fill-color);\n",
              "    }\n",
              "    40% {\n",
              "      border-color: transparent;\n",
              "      border-right-color: var(--fill-color);\n",
              "      border-top-color: var(--fill-color);\n",
              "    }\n",
              "    60% {\n",
              "      border-color: transparent;\n",
              "      border-right-color: var(--fill-color);\n",
              "    }\n",
              "    80% {\n",
              "      border-color: transparent;\n",
              "      border-right-color: var(--fill-color);\n",
              "      border-bottom-color: var(--fill-color);\n",
              "    }\n",
              "    90% {\n",
              "      border-color: transparent;\n",
              "      border-bottom-color: var(--fill-color);\n",
              "    }\n",
              "  }\n",
              "</style>\n",
              "\n",
              "  <script>\n",
              "    async function quickchart(key) {\n",
              "      const quickchartButtonEl =\n",
              "        document.querySelector('#' + key + ' button');\n",
              "      quickchartButtonEl.disabled = true;  // To prevent multiple clicks.\n",
              "      quickchartButtonEl.classList.add('colab-df-spinner');\n",
              "      try {\n",
              "        const charts = await google.colab.kernel.invokeFunction(\n",
              "            'suggestCharts', [key], {});\n",
              "      } catch (error) {\n",
              "        console.error('Error during call to suggestCharts:', error);\n",
              "      }\n",
              "      quickchartButtonEl.classList.remove('colab-df-spinner');\n",
              "      quickchartButtonEl.classList.add('colab-df-quickchart-complete');\n",
              "    }\n",
              "    (() => {\n",
              "      let quickchartButtonEl =\n",
              "        document.querySelector('#df-3165ff14-7be0-480c-a759-75064149da03 button');\n",
              "      quickchartButtonEl.style.display =\n",
              "        google.colab.kernel.accessAllowed ? 'block' : 'none';\n",
              "    })();\n",
              "  </script>\n",
              "</div>\n",
              "\n",
              "    </div>\n",
              "  </div>\n"
            ],
            "application/vnd.google.colaboratory.intrinsic+json": {
              "type": "dataframe",
              "variable_name": "df_rfm",
              "summary": "{\n  \"name\": \"df_rfm\",\n  \"rows\": 4338,\n  \"fields\": [\n    {\n      \"column\": \"CustomerID\",\n      \"properties\": {\n        \"dtype\": \"number\",\n        \"std\": 1721.8084917653168,\n        \"min\": 12346.0,\n        \"max\": 18287.0,\n        \"num_unique_values\": 4338,\n        \"samples\": [\n          17785.0,\n          14320.0,\n          15977.0\n        ],\n        \"semantic_type\": \"\",\n        \"description\": \"\"\n      }\n    },\n    {\n      \"column\": \"R\",\n      \"properties\": {\n        \"dtype\": \"number\",\n        \"std\": 100,\n        \"min\": 2,\n        \"max\": 375,\n        \"num_unique_values\": 304,\n        \"samples\": [\n          244,\n          179,\n          191\n        ],\n        \"semantic_type\": \"\",\n        \"description\": \"\"\n      }\n    },\n    {\n      \"column\": \"F\",\n      \"properties\": {\n        \"dtype\": \"number\",\n        \"std\": 7,\n        \"min\": 1,\n        \"max\": 209,\n        \"num_unique_values\": 59,\n        \"samples\": [\n          1,\n          2,\n          62\n        ],\n        \"semantic_type\": \"\",\n        \"description\": \"\"\n      }\n    },\n    {\n      \"column\": \"M\",\n      \"properties\": {\n        \"dtype\": \"number\",\n        \"std\": 1467.918294019367,\n        \"min\": 2.1369696969696967,\n        \"max\": 77183.6,\n        \"num_unique_values\": 4295,\n        \"samples\": [\n          17.825,\n          7.725045871559633,\n          18.78083333333333\n        ],\n        \"semantic_type\": \"\",\n        \"description\": \"\"\n      }\n    }\n  ]\n}"
            }
          },
          "metadata": {},
          "execution_count": 180
        }
      ]
    },
    {
      "cell_type": "markdown",
      "source": [
        "Let's analyze the df_rfm dataset using a boxplot graph"
      ],
      "metadata": {
        "id": "wqGUVk78kUS0"
      }
    },
    {
      "cell_type": "code",
      "source": [
        "sns.boxplot(data = df_rfm)"
      ],
      "metadata": {
        "colab": {
          "base_uri": "https://localhost:8080/",
          "height": 502
        },
        "id": "i506aXgl1s1X",
        "outputId": "a7c849fc-dfae-486f-92bf-96b3f4d11143"
      },
      "execution_count": null,
      "outputs": [
        {
          "output_type": "execute_result",
          "data": {
            "text/plain": [
              "<Axes: >"
            ]
          },
          "metadata": {},
          "execution_count": 181
        },
        {
          "output_type": "display_data",
          "data": {
            "text/plain": [
              "<Figure size 800x550 with 1 Axes>"
            ],
            "image/png": "[encoded data removed]"
          },
          "metadata": {}
        }
      ]
    },
    {
      "cell_type": "markdown",
      "source": [
        "At this level of scale, there are no outliers in R and F. However, M is noteworthy for having exorbitant values of over 20,000. Let's exclude these outliers using a filter for M < 20,000."
      ],
      "metadata": {
        "id": "wc8tnJ4qkdGr"
      }
    },
    {
      "cell_type": "code",
      "source": [
        "df_rfm = df_rfm[df_rfm['M']<20_000]"
      ],
      "metadata": {
        "id": "KHhLFmp3lr2J"
      },
      "execution_count": null,
      "outputs": []
    },
    {
      "cell_type": "markdown",
      "source": [
        "Now let's normalize our df_rfm dataset using the PowerTransformer function for a better visualization:"
      ],
      "metadata": {
        "id": "bNDdkJ55l5Bs"
      }
    },
    {
      "cell_type": "code",
      "source": [
        "scaler = PowerTransformer()\n",
        "df_rfm_scaled = scaler.fit_transform(df_rfm)\n",
        "df_rfm_scaled = pd.DataFrame(df_rfm_scaled, columns = df_rfm.columns, index = df_rfm.index)\n",
        "sns.boxplot(data=df_rfm_scaled)"
      ],
      "metadata": {
        "colab": {
          "base_uri": "https://localhost:8080/",
          "height": 502
        },
        "id": "35Mfy4CZl3ky",
        "outputId": "a90c65c9-2c37-41fe-ece0-5f13721fe92d"
      },
      "execution_count": null,
      "outputs": [
        {
          "output_type": "execute_result",
          "data": {
            "text/plain": [
              "<Axes: >"
            ]
          },
          "metadata": {},
          "execution_count": 183
        },
        {
          "output_type": "display_data",
          "data": {
            "text/plain": [
              "<Figure size 800x550 with 1 Axes>"
            ],
            "image/png": "[encoded data removed]"
          },
          "metadata": {}
        }
      ]
    },
    {
      "cell_type": "markdown",
      "source": [
        "We now see that there are no outliers in R and F after normalization. In M, the values are within almost 4 standard deviations. We will exclude the values above the 95% quartile, which will be treated here as outliers:\n"
      ],
      "metadata": {
        "id": "qbEmQm_hmcbT"
      }
    },
    {
      "cell_type": "code",
      "source": [
        "df_rfm_clip = df_rfm.apply(lambda x: x.clip(upper=x.quantile(.95)))\n",
        "df_rfm_clip.describe()"
      ],
      "metadata": {
        "colab": {
          "base_uri": "https://localhost:8080/",
          "height": 300
        },
        "id": "XY8dBKnz8SH6",
        "outputId": "67554160-0ada-4c30-c58e-a329d94afce7"
      },
      "execution_count": null,
      "outputs": [
        {
          "output_type": "execute_result",
          "data": {
            "text/plain": [
              "                 R            F            M\n",
              "count  4336.000000  4336.000000  4336.000000\n",
              "mean     92.242851     3.608625    23.739758\n",
              "std      95.498840     3.358778    21.186639\n",
              "min       2.000000     1.000000     2.136970\n",
              "25%      19.000000     1.000000    12.390365\n",
              "50%      52.000000     2.000000    17.747784\n",
              "75%     143.250000     5.000000    24.863607\n",
              "max     313.000000    13.000000    92.900000"
            ],
            "text/html": [
              "\n",
              "  <div id=\"df-345c115d-8de6-4f11-a9c1-a97e14da1729\" class=\"colab-df-container\">\n",
              "    <div>\n",
              "<style scoped>\n",
              "    .dataframe tbody tr th:only-of-type {\n",
              "        vertical-align: middle;\n",
              "    }\n",
              "\n",
              "    .dataframe tbody tr th {\n",
              "        vertical-align: top;\n",
              "    }\n",
              "\n",
              "    .dataframe thead th {\n",
              "        text-align: right;\n",
              "    }\n",
              "</style>\n",
              "<table border=\"1\" class=\"dataframe\">\n",
              "  <thead>\n",
              "    <tr style=\"text-align: right;\">\n",
              "      <th></th>\n",
              "      <th>R</th>\n",
              "      <th>F</th>\n",
              "      <th>M</th>\n",
              "    </tr>\n",
              "  </thead>\n",
              "  <tbody>\n",
              "    <tr>\n",
              "      <th>count</th>\n",
              "      <td>4336.000000</td>\n",
              "      <td>4336.000000</td>\n",
              "      <td>4336.000000</td>\n",
              "    </tr>\n",
              "    <tr>\n",
              "      <th>mean</th>\n",
              "      <td>92.242851</td>\n",
              "      <td>3.608625</td>\n",
              "      <td>23.739758</td>\n",
              "    </tr>\n",
              "    <tr>\n",
              "      <th>std</th>\n",
              "      <td>95.498840</td>\n",
              "      <td>3.358778</td>\n",
              "      <td>21.186639</td>\n",
              "    </tr>\n",
              "    <tr>\n",
              "      <th>min</th>\n",
              "      <td>2.000000</td>\n",
              "      <td>1.000000</td>\n",
              "      <td>2.136970</td>\n",
              "    </tr>\n",
              "    <tr>\n",
              "      <th>25%</th>\n",
              "      <td>19.000000</td>\n",
              "      <td>1.000000</td>\n",
              "      <td>12.390365</td>\n",
              "    </tr>\n",
              "    <tr>\n",
              "      <th>50%</th>\n",
              "      <td>52.000000</td>\n",
              "      <td>2.000000</td>\n",
              "      <td>17.747784</td>\n",
              "    </tr>\n",
              "    <tr>\n",
              "      <th>75%</th>\n",
              "      <td>143.250000</td>\n",
              "      <td>5.000000</td>\n",
              "      <td>24.863607</td>\n",
              "    </tr>\n",
              "    <tr>\n",
              "      <th>max</th>\n",
              "      <td>313.000000</td>\n",
              "      <td>13.000000</td>\n",
              "      <td>92.900000</td>\n",
              "    </tr>\n",
              "  </tbody>\n",
              "</table>\n",
              "</div>\n",
              "    <div class=\"colab-df-buttons\">\n",
              "\n",
              "  <div class=\"colab-df-container\">\n",
              "    <button class=\"colab-df-convert\" onclick=\"convertToInteractive('df-345c115d-8de6-4f11-a9c1-a97e14da1729')\"\n",
              "            title=\"Convert this dataframe to an interactive table.\"\n",
              "            style=\"display:none;\">\n",
              "\n",
              "  <svg xmlns=\"http://www.w3.org/2000/svg\" height=\"24px\" viewBox=\"0 -960 960 960\">\n",
              "    <path d=\"M120-120v-720h720v720H120Zm60-500h600v-160H180v160Zm220 220h160v-160H400v160Zm0 220h160v-160H400v160ZM180-400h160v-160H180v160Zm440 0h160v-160H620v160ZM180-180h160v-160H180v160Zm440 0h160v-160H620v160Z\"/>\n",
              "  </svg>\n",
              "    </button>\n",
              "\n",
              "  <style>\n",
              "    .colab-df-container {\n",
              "      display:flex;\n",
              "      gap: 12px;\n",
              "    }\n",
              "\n",
              "    .colab-df-convert {\n",
              "      background-color: #E8F0FE;\n",
              "      border: none;\n",
              "      border-radius: 50%;\n",
              "      cursor: pointer;\n",
              "      display: none;\n",
              "      fill: #1967D2;\n",
              "      height: 32px;\n",
              "      padding: 0 0 0 0;\n",
              "      width: 32px;\n",
              "    }\n",
              "\n",
              "    .colab-df-convert:hover {\n",
              "      background-color: #E2EBFA;\n",
              "      box-shadow: 0px 1px 2px rgba(60, 64, 67, 0.3), 0px 1px 3px 1px rgba(60, 64, 67, 0.15);\n",
              "      fill: #174EA6;\n",
              "    }\n",
              "\n",
              "    .colab-df-buttons div {\n",
              "      margin-bottom: 4px;\n",
              "    }\n",
              "\n",
              "    [theme=dark] .colab-df-convert {\n",
              "      background-color: #3B4455;\n",
              "      fill: #D2E3FC;\n",
              "    }\n",
              "\n",
              "    [theme=dark] .colab-df-convert:hover {\n",
              "      background-color: #434B5C;\n",
              "      box-shadow: 0px 1px 3px 1px rgba(0, 0, 0, 0.15);\n",
              "      filter: drop-shadow(0px 1px 2px rgba(0, 0, 0, 0.3));\n",
              "      fill: #FFFFFF;\n",
              "    }\n",
              "  </style>\n",
              "\n",
              "    <script>\n",
              "      const buttonEl =\n",
              "        document.querySelector('#df-345c115d-8de6-4f11-a9c1-a97e14da1729 button.colab-df-convert');\n",
              "      buttonEl.style.display =\n",
              "        google.colab.kernel.accessAllowed ? 'block' : 'none';\n",
              "\n",
              "      async function convertToInteractive(key) {\n",
              "        const element = document.querySelector('#df-345c115d-8de6-4f11-a9c1-a97e14da1729');\n",
              "        const dataTable =\n",
              "          await google.colab.kernel.invokeFunction('convertToInteractive',\n",
              "                                                    [key], {});\n",
              "        if (!dataTable) return;\n",
              "\n",
              "        const docLinkHtml = 'Like what you see? Visit the ' +\n",
              "          '<a target=\"_blank\" href=https://colab.research.google.com/notebooks/data_table.ipynb>data table notebook</a>'\n",
              "          + ' to learn more about interactive tables.';\n",
              "        element.innerHTML = '';\n",
              "        dataTable['output_type'] = 'display_data';\n",
              "        await google.colab.output.renderOutput(dataTable, element);\n",
              "        const docLink = document.createElement('div');\n",
              "        docLink.innerHTML = docLinkHtml;\n",
              "        element.appendChild(docLink);\n",
              "      }\n",
              "    </script>\n",
              "  </div>\n",
              "\n",
              "\n",
              "<div id=\"df-88396d39-6f25-41a0-89b8-a56ee38609d2\">\n",
              "  <button class=\"colab-df-quickchart\" onclick=\"quickchart('df-88396d39-6f25-41a0-89b8-a56ee38609d2')\"\n",
              "            title=\"Suggest charts\"\n",
              "            style=\"display:none;\">\n",
              "\n",
              "<svg xmlns=\"http://www.w3.org/2000/svg\" height=\"24px\"viewBox=\"0 0 24 24\"\n",
              "     width=\"24px\">\n",
              "    <g>\n",
              "        <path d=\"M19 3H5c-1.1 0-2 .9-2 2v14c0 1.1.9 2 2 2h14c1.1 0 2-.9 2-2V5c0-1.1-.9-2-2-2zM9 17H7v-7h2v7zm4 0h-2V7h2v10zm4 0h-2v-4h2v4z\"/>\n",
              "    </g>\n",
              "</svg>\n",
              "  </button>\n",
              "\n",
              "<style>\n",
              "  .colab-df-quickchart {\n",
              "      --bg-color: #E8F0FE;\n",
              "      --fill-color: #1967D2;\n",
              "      --hover-bg-color: #E2EBFA;\n",
              "      --hover-fill-color: #174EA6;\n",
              "      --disabled-fill-color: #AAA;\n",
              "      --disabled-bg-color: #DDD;\n",
              "  }\n",
              "\n",
              "  [theme=dark] .colab-df-quickchart {\n",
              "      --bg-color: #3B4455;\n",
              "      --fill-color: #D2E3FC;\n",
              "      --hover-bg-color: #434B5C;\n",
              "      --hover-fill-color: #FFFFFF;\n",
              "      --disabled-bg-color: #3B4455;\n",
              "      --disabled-fill-color: #666;\n",
              "  }\n",
              "\n",
              "  .colab-df-quickchart {\n",
              "    background-color: var(--bg-color);\n",
              "    border: none;\n",
              "    border-radius: 50%;\n",
              "    cursor: pointer;\n",
              "    display: none;\n",
              "    fill: var(--fill-color);\n",
              "    height: 32px;\n",
              "    padding: 0;\n",
              "    width: 32px;\n",
              "  }\n",
              "\n",
              "  .colab-df-quickchart:hover {\n",
              "    background-color: var(--hover-bg-color);\n",
              "    box-shadow: 0 1px 2px rgba(60, 64, 67, 0.3), 0 1px 3px 1px rgba(60, 64, 67, 0.15);\n",
              "    fill: var(--button-hover-fill-color);\n",
              "  }\n",
              "\n",
              "  .colab-df-quickchart-complete:disabled,\n",
              "  .colab-df-quickchart-complete:disabled:hover {\n",
              "    background-color: var(--disabled-bg-color);\n",
              "    fill: var(--disabled-fill-color);\n",
              "    box-shadow: none;\n",
              "  }\n",
              "\n",
              "  .colab-df-spinner {\n",
              "    border: 2px solid var(--fill-color);\n",
              "    border-color: transparent;\n",
              "    border-bottom-color: var(--fill-color);\n",
              "    animation:\n",
              "      spin 1s steps(1) infinite;\n",
              "  }\n",
              "\n",
              "  @keyframes spin {\n",
              "    0% {\n",
              "      border-color: transparent;\n",
              "      border-bottom-color: var(--fill-color);\n",
              "      border-left-color: var(--fill-color);\n",
              "    }\n",
              "    20% {\n",
              "      border-color: transparent;\n",
              "      border-left-color: var(--fill-color);\n",
              "      border-top-color: var(--fill-color);\n",
              "    }\n",
              "    30% {\n",
              "      border-color: transparent;\n",
              "      border-left-color: var(--fill-color);\n",
              "      border-top-color: var(--fill-color);\n",
              "      border-right-color: var(--fill-color);\n",
              "    }\n",
              "    40% {\n",
              "      border-color: transparent;\n",
              "      border-right-color: var(--fill-color);\n",
              "      border-top-color: var(--fill-color);\n",
              "    }\n",
              "    60% {\n",
              "      border-color: transparent;\n",
              "      border-right-color: var(--fill-color);\n",
              "    }\n",
              "    80% {\n",
              "      border-color: transparent;\n",
              "      border-right-color: var(--fill-color);\n",
              "      border-bottom-color: var(--fill-color);\n",
              "    }\n",
              "    90% {\n",
              "      border-color: transparent;\n",
              "      border-bottom-color: var(--fill-color);\n",
              "    }\n",
              "  }\n",
              "</style>\n",
              "\n",
              "  <script>\n",
              "    async function quickchart(key) {\n",
              "      const quickchartButtonEl =\n",
              "        document.querySelector('#' + key + ' button');\n",
              "      quickchartButtonEl.disabled = true;  // To prevent multiple clicks.\n",
              "      quickchartButtonEl.classList.add('colab-df-spinner');\n",
              "      try {\n",
              "        const charts = await google.colab.kernel.invokeFunction(\n",
              "            'suggestCharts', [key], {});\n",
              "      } catch (error) {\n",
              "        console.error('Error during call to suggestCharts:', error);\n",
              "      }\n",
              "      quickchartButtonEl.classList.remove('colab-df-spinner');\n",
              "      quickchartButtonEl.classList.add('colab-df-quickchart-complete');\n",
              "    }\n",
              "    (() => {\n",
              "      let quickchartButtonEl =\n",
              "        document.querySelector('#df-88396d39-6f25-41a0-89b8-a56ee38609d2 button');\n",
              "      quickchartButtonEl.style.display =\n",
              "        google.colab.kernel.accessAllowed ? 'block' : 'none';\n",
              "    })();\n",
              "  </script>\n",
              "</div>\n",
              "\n",
              "    </div>\n",
              "  </div>\n"
            ],
            "application/vnd.google.colaboratory.intrinsic+json": {
              "type": "dataframe",
              "summary": "{\n  \"name\": \"df_rfm_clip\",\n  \"rows\": 8,\n  \"fields\": [\n    {\n      \"column\": \"R\",\n      \"properties\": {\n        \"dtype\": \"number\",\n        \"std\": 1499.928222394015,\n        \"min\": 2.0,\n        \"max\": 4336.0,\n        \"num_unique_values\": 8,\n        \"samples\": [\n          92.24285055350553,\n          52.0,\n          4336.0\n        ],\n        \"semantic_type\": \"\",\n        \"description\": \"\"\n      }\n    },\n    {\n      \"column\": \"F\",\n      \"properties\": {\n        \"dtype\": \"number\",\n        \"std\": 1531.5492972297038,\n        \"min\": 1.0,\n        \"max\": 4336.0,\n        \"num_unique_values\": 7,\n        \"samples\": [\n          4336.0,\n          3.6086254612546127,\n          5.0\n        ],\n        \"semantic_type\": \"\",\n        \"description\": \"\"\n      }\n    },\n    {\n      \"column\": \"M\",\n      \"properties\": {\n        \"dtype\": \"number\",\n        \"std\": 1523.4089832757452,\n        \"min\": 2.1369696969696967,\n        \"max\": 4336.0,\n        \"num_unique_values\": 8,\n        \"samples\": [\n          23.739758262351565,\n          17.747784090909093,\n          4336.0\n        ],\n        \"semantic_type\": \"\",\n        \"description\": \"\"\n      }\n    }\n  ]\n}"
            }
          },
          "metadata": {},
          "execution_count": 184
        }
      ]
    },
    {
      "cell_type": "code",
      "source": [
        "sns.boxplot(data = df_rfm_clip)"
      ],
      "metadata": {
        "colab": {
          "base_uri": "https://localhost:8080/",
          "height": 502
        },
        "id": "rgg3weOg1Q-K",
        "outputId": "efe2d0fe-34b0-44dd-d0ff-388a0b69596e"
      },
      "execution_count": null,
      "outputs": [
        {
          "output_type": "execute_result",
          "data": {
            "text/plain": [
              "<Axes: >"
            ]
          },
          "metadata": {},
          "execution_count": 185
        },
        {
          "output_type": "display_data",
          "data": {
            "text/plain": [
              "<Figure size 800x550 with 1 Axes>"
            ],
            "image/png": "[encoded data removed]"
          },
          "metadata": {}
        }
      ]
    },
    {
      "cell_type": "markdown",
      "source": [
        "Now that we've clipped the data, we'll proceed once again to normalize it using the PowerTransform already instantiated as a scaler:"
      ],
      "metadata": {
        "id": "5ROzKi5cnKkl"
      }
    },
    {
      "cell_type": "code",
      "source": [
        "df_rfm_clip_scaled = scaler.fit_transform(df_rfm_clip)\n",
        "df_rfm_clip_scaled = pd.DataFrame(df_rfm_clip_scaled, columns = df_rfm.columns, index = df_rfm.index)"
      ],
      "metadata": {
        "id": "a--4UPx6ocPF"
      },
      "execution_count": null,
      "outputs": []
    },
    {
      "cell_type": "markdown",
      "source": [
        "Finally, we plot its Boxplot graph:"
      ],
      "metadata": {
        "id": "5Q0j_QImnV--"
      }
    },
    {
      "cell_type": "code",
      "source": [
        "sns.boxplot(data=df_rfm_clip_scaled)"
      ],
      "metadata": {
        "colab": {
          "base_uri": "https://localhost:8080/",
          "height": 502
        },
        "id": "_bqeyehz1IkS",
        "outputId": "49509774-899f-4136-c0a2-6e9cb4d1e69c"
      },
      "execution_count": null,
      "outputs": [
        {
          "output_type": "execute_result",
          "data": {
            "text/plain": [
              "<Axes: >"
            ]
          },
          "metadata": {},
          "execution_count": 187
        },
        {
          "output_type": "display_data",
          "data": {
            "text/plain": [
              "<Figure size 800x550 with 1 Axes>"
            ],
            "image/png": "[encoded data removed]"
          },
          "metadata": {}
        }
      ]
    },
    {
      "cell_type": "markdown",
      "source": [
        "Here we'll check the distribution of our RFM metrics using histograms to better understand the customers' purchasing profile:"
      ],
      "metadata": {
        "id": "0K_YVTGP7iMV"
      }
    },
    {
      "cell_type": "code",
      "source": [
        "fig, ax = plt.subplots(1,3, figsize=(15, 4))\n",
        "sns.histplot(data=df_rfm_clip, x='R', kde=True, ax=ax[0])\n",
        "sns.histplot(data=df_rfm_clip, x='F', kde=True, ax=ax[1])\n",
        "sns.histplot(data=df_rfm_clip, x='M', kde=True, ax=ax[2])"
      ],
      "metadata": {
        "colab": {
          "base_uri": "https://localhost:8080/",
          "height": 406
        },
        "id": "d55RCyH5-RKU",
        "outputId": "df7a985f-a00a-4745-ccd2-a5273736b4ee"
      },
      "execution_count": null,
      "outputs": [
        {
          "output_type": "execute_result",
          "data": {
            "text/plain": [
              "<Axes: xlabel='M', ylabel='Count'>"
            ]
          },
          "metadata": {},
          "execution_count": 188
        },
        {
          "output_type": "display_data",
          "data": {
            "text/plain": [
              "<Figure size 1500x400 with 3 Axes>"
            ],
            "image/png": "[encoded data removed]"
          },
          "metadata": {}
        }
      ]
    },
    {
      "cell_type": "markdown",
      "source": [
        "Looking at Recency, we can see that a considerable proportion of customers have made purchases in the last 30 days, after which the value drops and remains stable for longer periods. At the end of the histogram, there is a jump in the number of customers who have made purchases in the last 310 days, indicating the presence of customers who rarely buy or who made a purchase a long time ago and never bought again.\n",
        "\n",
        "As for Frequency, a high number of customers made very few purchases in the period and an even higher number made between 15 and 25 purchases in the whole period. From then on, with greater frequency, fewer and fewer customers made purchases. The last bar of the histogram shows that a large number of customers also made more than 90 purchases in the period, which would be slightly less than one purchase every four days. This phenomenon merits further investigation in order to better analyze what type of customer this is.\n",
        "\n",
        "In Monetary Value (M), we see a high number of low ticket customers, and as the average ticket increases, we see a greater number of customers who fall into this situation, reaching a peak between 15-25. From then on, the higher the price, the lower the number of customers, until for average tickets over 90, there is a jump in the number of customers."
      ],
      "metadata": {
        "id": "1SS1tmgY_vdO"
      }
    },
    {
      "cell_type": "markdown",
      "source": [
        "# Modelling"
      ],
      "metadata": {
        "id": "dv9TTFmRmqSj"
      }
    },
    {
      "cell_type": "markdown",
      "source": [
        "The challenge gives us the chance to choose one of four clustering algorithms. They are: K-Means, DBSCAN, Hierarchical Clustering or MeanShift.\n",
        "\n",
        "For our modeling, we will use K-Means. It was chosen because it is a simple algorithm, easy to implement and efficient for handling large amounts of data, as is the case with our dataset, which can be difficult to process in Google Collaboratory."
      ],
      "metadata": {
        "id": "eH5GRNE5nKwq"
      }
    },
    {
      "cell_type": "markdown",
      "source": [
        "To apply K-Means, we need to estimate an optimal number of clusters (k), since it is an unsupervised algorithm, and for this we have the Silhouette Score metric. Although it gives us a relationship between the number of clusters K x inertia x score, there is nothing to stop us from implementing the algorithm with a different number k, if it suits our purpose. It's worth noting here that the higher the Silhouette Score, the better, more defined and non-overlapping the k clusters are."
      ],
      "metadata": {
        "id": "lRhTnCaioV_Y"
      }
    },
    {
      "cell_type": "code",
      "source": [
        "cluster_silhouette_results = []\n",
        "X = df_rfm_clip_scaled.copy()\n",
        "\n",
        "for k in range(2,11):\n",
        "  model = KMeans(n_clusters=k, random_state=0)\n",
        "  labels = model.fit_predict(X)\n",
        "  cluster_result = {'k': k}\n",
        "  cluster_result['inertia'] = model.inertia_\n",
        "  cluster_result['silhouette_score'] = silhouette_score(X, labels)\n",
        "  cluster_silhouette_results.append(cluster_result)\n",
        "\n",
        "pd.DataFrame(cluster_silhouette_results).set_index('k').style.background_gradient()"
      ],
      "metadata": {
        "colab": {
          "base_uri": "https://localhost:8080/",
          "height": 363
        },
        "id": "OaYdrRf0dt5x",
        "outputId": "0f130bd1-ccf3-4e4e-9e98-b20d9db843fb"
      },
      "execution_count": null,
      "outputs": [
        {
          "output_type": "execute_result",
          "data": {
            "text/plain": [
              "<pandas.io.formats.style.Styler at 0x7e6001025960>"
            ],
            "text/html": [
              "<style type=\"text/css\">\n",
              "#T_aa9ea_row0_col0, #T_aa9ea_row0_col1 {\n",
              "  background-color: #023858;\n",
              "  color: #f1f1f1;\n",
              "}\n",
              "#T_aa9ea_row1_col0 {\n",
              "  background-color: #1c7fb8;\n",
              "  color: #f1f1f1;\n",
              "}\n",
              "#T_aa9ea_row1_col1 {\n",
              "  background-color: #2685bb;\n",
              "  color: #f1f1f1;\n",
              "}\n",
              "#T_aa9ea_row2_col0 {\n",
              "  background-color: #67a4cc;\n",
              "  color: #f1f1f1;\n",
              "}\n",
              "#T_aa9ea_row2_col1 {\n",
              "  background-color: #dbdaeb;\n",
              "  color: #000000;\n",
              "}\n",
              "#T_aa9ea_row3_col0 {\n",
              "  background-color: #a2bcda;\n",
              "  color: #000000;\n",
              "}\n",
              "#T_aa9ea_row3_col1, #T_aa9ea_row8_col0 {\n",
              "  background-color: #fff7fb;\n",
              "  color: #000000;\n",
              "}\n",
              "#T_aa9ea_row4_col0 {\n",
              "  background-color: #cccfe5;\n",
              "  color: #000000;\n",
              "}\n",
              "#T_aa9ea_row4_col1 {\n",
              "  background-color: #dfddec;\n",
              "  color: #000000;\n",
              "}\n",
              "#T_aa9ea_row5_col0 {\n",
              "  background-color: #e4e1ef;\n",
              "  color: #000000;\n",
              "}\n",
              "#T_aa9ea_row5_col1 {\n",
              "  background-color: #9ebad9;\n",
              "  color: #000000;\n",
              "}\n",
              "#T_aa9ea_row6_col0 {\n",
              "  background-color: #f1ebf5;\n",
              "  color: #000000;\n",
              "}\n",
              "#T_aa9ea_row6_col1 {\n",
              "  background-color: #79abd0;\n",
              "  color: #f1f1f1;\n",
              "}\n",
              "#T_aa9ea_row7_col0 {\n",
              "  background-color: #f8f1f8;\n",
              "  color: #000000;\n",
              "}\n",
              "#T_aa9ea_row7_col1 {\n",
              "  background-color: #89b1d4;\n",
              "  color: #000000;\n",
              "}\n",
              "#T_aa9ea_row8_col1 {\n",
              "  background-color: #4897c4;\n",
              "  color: #f1f1f1;\n",
              "}\n",
              "</style>\n",
              "<table id=\"T_aa9ea\" class=\"dataframe\">\n",
              "  <thead>\n",
              "    <tr>\n",
              "      <th class=\"blank level0\" >&nbsp;</th>\n",
              "      <th id=\"T_aa9ea_level0_col0\" class=\"col_heading level0 col0\" >inertia</th>\n",
              "      <th id=\"T_aa9ea_level0_col1\" class=\"col_heading level0 col1\" >silhouette_score</th>\n",
              "    </tr>\n",
              "    <tr>\n",
              "      <th class=\"index_name level0\" >k</th>\n",
              "      <th class=\"blank col0\" >&nbsp;</th>\n",
              "      <th class=\"blank col1\" >&nbsp;</th>\n",
              "    </tr>\n",
              "  </thead>\n",
              "  <tbody>\n",
              "    <tr>\n",
              "      <th id=\"T_aa9ea_level0_row0\" class=\"row_heading level0 row0\" >2</th>\n",
              "      <td id=\"T_aa9ea_row0_col0\" class=\"data row0 col0\" >8087.689273</td>\n",
              "      <td id=\"T_aa9ea_row0_col1\" class=\"data row0 col1\" >0.341700</td>\n",
              "    </tr>\n",
              "    <tr>\n",
              "      <th id=\"T_aa9ea_level0_row1\" class=\"row_heading level0 row1\" >3</th>\n",
              "      <td id=\"T_aa9ea_row1_col0\" class=\"data row1 col0\" >6371.860884</td>\n",
              "      <td id=\"T_aa9ea_row1_col1\" class=\"data row1 col1\" >0.322998</td>\n",
              "    </tr>\n",
              "    <tr>\n",
              "      <th id=\"T_aa9ea_level0_row2\" class=\"row_heading level0 row2\" >4</th>\n",
              "      <td id=\"T_aa9ea_row2_col0\" class=\"data row2 col0\" >5473.344983</td>\n",
              "      <td id=\"T_aa9ea_row2_col1\" class=\"data row2 col1\" >0.297115</td>\n",
              "    </tr>\n",
              "    <tr>\n",
              "      <th id=\"T_aa9ea_level0_row3\" class=\"row_heading level0 row3\" >5</th>\n",
              "      <td id=\"T_aa9ea_row3_col0\" class=\"data row3 col0\" >4689.349787</td>\n",
              "      <td id=\"T_aa9ea_row3_col1\" class=\"data row3 col1\" >0.285976</td>\n",
              "    </tr>\n",
              "    <tr>\n",
              "      <th id=\"T_aa9ea_level0_row4\" class=\"row_heading level0 row4\" >6</th>\n",
              "      <td id=\"T_aa9ea_row4_col0\" class=\"data row4 col0\" >4043.807860</td>\n",
              "      <td id=\"T_aa9ea_row4_col1\" class=\"data row4 col1\" >0.296258</td>\n",
              "    </tr>\n",
              "    <tr>\n",
              "      <th id=\"T_aa9ea_level0_row5\" class=\"row_heading level0 row5\" >7</th>\n",
              "      <td id=\"T_aa9ea_row5_col0\" class=\"data row5 col0\" >3476.495808</td>\n",
              "      <td id=\"T_aa9ea_row5_col1\" class=\"data row5 col1\" >0.308064</td>\n",
              "    </tr>\n",
              "    <tr>\n",
              "      <th id=\"T_aa9ea_level0_row6\" class=\"row_heading level0 row6\" >8</th>\n",
              "      <td id=\"T_aa9ea_row6_col0\" class=\"data row6 col0\" >3082.797897</td>\n",
              "      <td id=\"T_aa9ea_row6_col1\" class=\"data row6 col1\" >0.313039</td>\n",
              "    </tr>\n",
              "    <tr>\n",
              "      <th id=\"T_aa9ea_level0_row7\" class=\"row_heading level0 row7\" >9</th>\n",
              "      <td id=\"T_aa9ea_row7_col0\" class=\"data row7 col0\" >2830.906261</td>\n",
              "      <td id=\"T_aa9ea_row7_col1\" class=\"data row7 col1\" >0.310811</td>\n",
              "    </tr>\n",
              "    <tr>\n",
              "      <th id=\"T_aa9ea_level0_row8\" class=\"row_heading level0 row8\" >10</th>\n",
              "      <td id=\"T_aa9ea_row8_col0\" class=\"data row8 col0\" >2581.457472</td>\n",
              "      <td id=\"T_aa9ea_row8_col1\" class=\"data row8 col1\" >0.318716</td>\n",
              "    </tr>\n",
              "  </tbody>\n",
              "</table>\n"
            ]
          },
          "metadata": {},
          "execution_count": 189
        }
      ]
    },
    {
      "cell_type": "markdown",
      "source": [
        "From the Silhouette Score metric, we see that we have a lower error for k=5. We then proceeded to implement K-Means:"
      ],
      "metadata": {
        "id": "TEGhI_LOftmq"
      }
    },
    {
      "cell_type": "code",
      "source": [
        "kmeans = KMeans(5)\n",
        "kmeans_labels = kmeans.fit_predict(df_rfm_clip_scaled)"
      ],
      "metadata": {
        "id": "H3RV6YLIfBM4"
      },
      "execution_count": null,
      "outputs": []
    },
    {
      "cell_type": "markdown",
      "source": [
        "# Analysis of the clusters"
      ],
      "metadata": {
        "id": "6QaBnI6n1ZL7"
      }
    },
    {
      "cell_type": "markdown",
      "source": [
        "Plotting the clusters obtained by color in 3D:"
      ],
      "metadata": {
        "id": "EyZtUa8gf7dg"
      }
    },
    {
      "cell_type": "code",
      "source": [
        "px.scatter_3d(df_rfm_clip_scaled, x='R', y='F', z='M', color=kmeans_labels.astype(str), template='plotly_dark')"
      ],
      "metadata": {
        "colab": {
          "base_uri": "https://localhost:8080/",
          "height": 542
        },
        "id": "QnvSaSv2f62A",
        "outputId": "9ae405d2-d8d5-43dd-9418-bb20360a4113"
      },
      "execution_count": null,
      "outputs": [
        {
          "output_type": "display_data",
          "data": {
            "text/html": [
              "<html>\n",
              "<head><meta charset=\"utf-8\" /></head>\n",
              "<body>\n",
              "    <div>            <script src=\"https://cdnjs.cloudflare.com/ajax/libs/mathjax/2.7.5/MathJax.js?config=TeX-AMS-MML_SVG\"></script><script type=\"text/javascript\">if (window.MathJax && window.MathJax.Hub && window.MathJax.Hub.Config) {window.MathJax.Hub.Config({SVG: {font: \"STIX-Web\"}});}</script>                <script type=\"text/javascript\">window.PlotlyConfig = {MathJaxConfig: 'local'};</script>\n",
              "        <script charset=\"utf-8\" src=\"https://cdn.plot.ly/plotly-2.24.1.min.js\"></script>                <div id=\"05152cef-567c-4f9f-a76b-08f337bf96dd\" class=\"plotly-graph-div\" style=\"height:525px; width:100%;\"></div>            <script type=\"text/javascript\">                                    window.PLOTLYENV=window.PLOTLYENV || {};                                    if (document.getElementById(\"05152cef-567c-4f9f-a76b-08f337bf96dd\")) {                    Plotly.newPlot(                        \"05152cef-567c-4f9f-a76b-08f337bf96dd\",                        [{\"hovertemplate\":\"color=0\\u003cbr\\u003eR=%{x}\\u003cbr\\u003eF=%{y}\\u003cbr\\u003eM=%{z}\\u003cextra\\u003e\\u003c\\u002fextra\\u003e\",\"legendgroup\":\"0\",\"marker\":{\"color\":\"#636efa\",\"symbol\":\"circle\"},\"mode\":\"markers\",\"name\":\"0\",\"scene\":\"scene\",\"showlegend\":true,\"x\":[-1.712887257911223,-0.2568052323580682,-0.6004326729052085,-1.8521934359037502,0.0924572327672441,-1.5965062065177078,-1.257752896525174,0.005503585960699865,-0.6311452942371958,-1.4962744295228385,-0.8437266698929384,0.2799698981507611,-0.6961513554674541,-0.02539961923376869,-0.3419765950858465,-0.5421551373118021,-1.5965062065177078,-0.8437266698929384,-2.0268293484257414,-0.6311452942371958,-0.5144446017526655,-1.1321741112296053,-0.2773420311232813,-0.1426109164029812,-2.0268293484257414,-1.8521934359037502,-0.6311452942371958,-0.6004326729052085,-1.076243951684915,0.2912451891453697,0.20936455161136372,0.03540411833894496,-1.076243951684915,-1.712887257911223,-0.3419765950858465,-0.4117458300932499,-0.7666487213628687,-0.8437266698929384,-0.6004326729052085,-0.43630024038590276,-0.6004326729052085,-0.7666487213628687,-0.3419765950858465,-1.1321741112296053,-1.4080686086364018,-0.8437266698929384,-0.5707949071861215,0.5108743686475116,-2.0268293484257414,0.3562475187220542,-0.6961513554674541,-1.1321741112296053,-2.0268293484257414,-1.1321741112296053,0.11972432219201537,-0.6004326729052085,-0.6961513554674541,-1.1924189506355793,-0.8042843673469895,-1.4080686086364018,-1.1924189506355793,-0.6004326729052085,-1.712887257911223,-0.2773420311232813,-1.712887257911223,-1.5965062065177078,-0.2367319949540843,-0.6961513554674541,-1.1321741112296053,-0.4117458300932499,-0.43630024038590276,-0.6004326729052085,0.0924572327672441,-1.712887257911223,-0.8042843673469895,-0.8851703257151666,-1.8521934359037502,-0.5707949071861215,-1.076243951684915,-1.4962744295228385,0.1061902694177052,0.22150247816845448,-0.5707949071861215,-0.31990150608654505,-0.6004326729052085,-1.076243951684915,-0.7666487213628687,-1.0240208968332862,-2.0268293484257414,-1.1924189506355793,-1.0240208968332862,-1.076243951684915,-0.21710065005436333,-0.5421551373118021,-0.1426109164029812,0.1061902694177052,-2.0268293484257414,-0.8851703257151666,-1.5965062065177078,-1.4962744295228385,-1.257752896525174,-0.43630024038590276,-0.43630024038590276,-1.257752896525174,-1.257752896525174,-1.257752896525174,-0.8437266698929384,-0.4117458300932499,-0.8437266698929384,-0.43630024038590276,-1.1321741112296053,-1.712887257911223,-0.36462050367289117,-1.5965062065177078,-1.4080686086364018,-0.43630024038590276,-1.076243951684915,-0.5707949071861215,-1.712887257911223,-2.0268293484257414,-1.5965062065177078,-0.6004326729052085,-0.8437266698929384,-1.5965062065177078,-0.7666487213628687,-0.6961513554674541,-0.2367319949540843,-1.4962744295228385,-1.712887257911223,-1.1321741112296053,-1.076243951684915,-1.5965062065177078,-1.712887257911223,-1.4080686086364018,-1.712887257911223,-1.712887257911223,-1.4962744295228385,0.1970689943611111,0.809804685014131,-1.5965062065177078,-0.5421551373118021,-1.1924189506355793,-1.0240208968332862,-0.19789104025348928,-0.5707949071861215,-1.712887257911223,-1.4962744295228385,-1.1924189506355793,-1.1321741112296053,-0.2773420311232813,-0.6311452942371958,-1.712887257911223,-0.7666487213628687,-0.8437266698929384,0.8678297804217232,-0.8042843673469895,-0.3878652828544288,-1.712887257911223,-1.1924189506355793,-1.4080686086364018,-1.8521934359037502,-1.1321741112296053,-1.1924189506355793,-1.5965062065177078,-2.0268293484257414,-1.5965062065177078,-0.36462050367289117,-0.5707949071861215,-1.4962744295228385,-0.6004326729052085,-1.4962744295228385,-1.0240208968332862,-1.1321741112296053,-1.8521934359037502,-1.076243951684915,0.03540411833894496,-0.8042843673469895,-1.4962744295228385,-1.8521934359037502,-0.36462050367289117,-0.8851703257151666,-0.8851703257151666,-0.5421551373118021,-0.9750191735316172,-2.0268293484257414,-1.5965062065177078,-1.4962744295228385,-1.0240208968332862,-1.712887257911223,-1.1924189506355793,0.2570119267694014,-0.6311452942371958,-0.3419765950858465,-1.8521934359037502,-1.8521934359037502,-1.5965062065177078,-0.1075530895966576,-0.36462050367289117,-2.0268293484257414,-1.0240208968332862,-0.6311452942371958,-0.6961513554674541,-1.4962744295228385,-0.5707949071861215,0.07851889605082174,-0.6004326729052085,-0.8042843673469895,0.4072576584316042,-1.076243951684915,-0.4117458300932499,-0.8851703257151666,-0.02539961923376869,-1.1924189506355793,-0.7306525844792078,-0.48760152900548803,-1.257752896525174,-0.8851703257151666,-1.0240208968332862,-1.076243951684915,-1.5965062065177078,-0.6961513554674541,-1.1321741112296053,-0.3878652828544288,-1.076243951684915,0.07851889605082174,-1.5965062065177078,-0.7666487213628687,-0.7306525844792078,-0.7666487213628687,-1.0240208968332862,0.03540411833894496,-1.0240208968332862,-1.712887257911223,-1.8521934359037502,-0.8437266698929384,-0.7306525844792078,-0.5707949071861215,-1.257752896525174,-1.4962744295228385,-0.6004326729052085,-1.257752896525174,-0.6004326729052085,-1.8521934359037502,0.20936455161136372,-1.8521934359037502,-1.4080686086364018,-1.5965062065177078,-0.2568052323580682,-0.21710065005436333,-0.09051956966595308,-1.1321741112296053,-0.36462050367289117,-0.3878652828544288,-1.0240208968332862,-1.8521934359037502,0.2799698981507611,-1.8521934359037502,-1.8521934359037502,-0.5421551373118021,-1.0240208968332862,-2.0268293484257414,-0.6961513554674541,-1.076243951684915,-1.4080686086364018,-0.8851703257151666,-0.8042843673469895,-0.48760152900548803,-0.7666487213628687,-1.257752896525174,-1.8521934359037502,-1.8521934359037502,-0.2367319949540843,-0.09051956966595308,-0.7666487213628687,0.005503585960699865,-1.257752896525174,-0.7666487213628687,-0.8042843673469895,-1.5965062065177078,-1.1924189506355793,-1.8521934359037502,-0.6311452942371958,0.1061902694177052,-0.31990150608654505,-0.1790843810306204,-0.31990150608654505,-1.712887257911223,-1.8521934359037502,-0.12491236560944892,-0.5144446017526655,0.20936455161136372,0.2912451891453697,-0.5707949071861215,-1.076243951684915,-0.5144446017526655,-0.8437266698929384,-1.0240208968332862,-0.2773420311232813,0.6207395076806993,-1.8521934359037502,0.11972432219201537,-0.5707949071861215,-1.4080686086364018,-0.5421551373118021,-0.2568052323580682,-0.8042843673469895,-1.1321741112296053,-0.8042843673469895,-0.12491236560944892,-1.1321741112296053,-1.712887257911223,-1.8521934359037502,-0.7666487213628687,-1.712887257911223,-0.5421551373118021,-1.5965062065177078,-0.36462050367289117,-0.48760152900548803,-1.4080686086364018,-1.257752896525174,-1.5965062065177078,-0.3419765950858465,-0.8437266698929384,-0.02539961923376869,-0.2568052323580682,-0.5421551373118021,-0.8042843673469895,-1.712887257911223,0.5108743686475116,0.7412092259052417,-1.712887257911223,-1.0240208968332862,-1.712887257911223,-1.712887257911223,0.1846113954736021,-2.0268293484257414,-1.1321741112296053,-1.8521934359037502,-0.3878652828544288,-1.4080686086364018,-0.43630024038590276,-0.19789104025348928,-0.6004326729052085,-0.3419765950858465,-0.8042843673469895,-0.5144446017526655,0.1061902694177052,-1.1924189506355793,-1.8521934359037502,-0.7306525844792078,0.1061902694177052,-1.712887257911223,-0.6004326729052085,0.03540411833894496,-0.6311452942371958,-1.5965062065177078,-1.712887257911223,-1.076243951684915,-1.257752896525174,-1.8521934359037502,-0.48760152900548803,-0.5707949071861215,-0.43630024038590276,0.2799698981507611,0.0924572327672441,-1.8521934359037502,-1.076243951684915,-0.7666487213628687,-0.6311452942371958,-1.712887257911223,-1.0240208968332862,-1.257752896525174,-1.257752896525174,-0.7306525844792078,-0.19789104025348928,-0.4117458300932499,-0.48760152900548803,-1.4962744295228385,-0.6961513554674541,-0.9750191735316172,-0.1426109164029812,-1.5965062065177078,-0.8437266698929384,-1.076243951684915,-0.12491236560944892,-1.1321741112296053,-0.7306525844792078,-1.257752896525174,-1.712887257911223,-0.43630024038590276,-0.1790843810306204,-1.1924189506355793,-0.8042843673469895,-2.0268293484257414,-1.8521934359037502,-0.5707949071861215,-1.4962744295228385,-1.1321741112296053,-0.4117458300932499,-1.4962744295228385,-0.1790843810306204,0.5630989116430486,-1.712887257911223,-1.076243951684915,-1.257752896525174,-1.4962744295228385,-0.8042843673469895,-1.4080686086364018,0.005503585960699865,-1.5965062065177078,-0.8851703257151666,-0.6004326729052085,-1.5965062065177078,-0.6961513554674541,-1.5965062065177078,-1.076243951684915,-1.257752896525174,-1.8521934359037502,-1.712887257911223,-1.8521934359037502,-1.8521934359037502,-1.712887257911223,-1.1924189506355793,-1.1321741112296053,-1.076243951684915,-1.076243951684915,-0.3878652828544288,-1.712887257911223,-1.8521934359037502,-1.4962744295228385,-0.7306525844792078,0.13306541490847987,-1.076243951684915,0.5964444341623373,0.03540411833894496,-0.3878652828544288,-1.0240208968332862,-1.5965062065177078,-1.8521934359037502,-0.1426109164029812,-0.43630024038590276,-0.48760152900548803,-0.1426109164029812,-0.02539961923376869,0.31340503571759937,-0.12491236560944892,-1.1924189506355793,-1.257752896525174,-1.8521934359037502,0.1846113954736021,-1.1321741112296053,-1.1924189506355793,0.005503585960699865,-0.8437266698929384,-1.5965062065177078,-0.6311452942371958,-1.1924189506355793,-1.1924189506355793,-1.0240208968332862,-1.8521934359037502,-1.257752896525174,-1.5965062065177078,-0.7666487213628687,-1.1924189506355793,-1.1924189506355793,0.44621961821142064,-1.1924189506355793,-0.07379909377925897,-0.1075530895966576,-1.076243951684915,-0.7666487213628687,-0.6004326729052085,-0.8042843673469895,-0.8042843673469895,-0.09051956966595308,-0.6311452942371958,0.7622784447699149,-0.36462050367289117,-1.1924189506355793,-1.1321741112296053,-1.076243951684915,-1.076243951684915,-1.712887257911223,-1.712887257911223,-1.4962744295228385,-0.31990150608654505,0.6127068049311722,-1.076243951684915,0.268559964131286,0.47445275410745935,-1.8521934359037502,-1.5965062065177078,-2.0268293484257414,-0.5707949071861215,-0.6311452942371958,-1.1924189506355793,-2.0268293484257414,0.03540411833894496,-0.7306525844792078,-0.4117458300932499,-0.6961513554674541,-0.7306525844792078,-1.257752896525174,-1.5965062065177078,-0.5707949071861215,-1.0240208968332862,-0.7666487213628687,-1.8521934359037502,-0.5421551373118021,-0.36462050367289117,-0.6961513554674541,-1.712887257911223,-0.5144446017526655,-0.5421551373118021,-1.712887257911223,-1.1321741112296053,0.1061902694177052,-0.43630024038590276,-1.5965062065177078,-1.076243951684915,-1.257752896525174,-1.5965062065177078,-1.5965062065177078,-0.6961513554674541,-0.8437266698929384,-1.4962744295228385,-1.1321741112296053,-1.8521934359037502,-0.5707949071861215,0.020574856189771673,-0.5421551373118021,-1.8521934359037502,-1.8521934359037502,-1.1924189506355793,-1.1924189506355793,0.13306541490847987,-1.076243951684915,-1.5965062065177078,-0.36462050367289117,-0.5144446017526655,-1.257752896525174,-0.3878652828544288,-1.4962744295228385,-1.076243951684915,-1.8521934359037502,-1.712887257911223,-0.8437266698929384,-1.076243951684915,-0.4117458300932499,-1.1321741112296053,-0.5421551373118021,-1.4080686086364018,-1.1924189506355793,-0.8042843673469895,-1.5965062065177078,-1.5965062065177078,-0.1426109164029812,-1.4962744295228385,-1.0240208968332862,-0.8042843673469895,0.6522392795927222,-0.4117458300932499,-1.1321741112296053,-1.4962744295228385,-1.1924189506355793,-1.712887257911223,0.005503585960699865,-0.8042843673469895,-1.712887257911223,-1.8521934359037502,-0.05737969308009332,-0.8437266698929384,-0.19789104025348928,-0.6311452942371958,-1.076243951684915,-1.5965062065177078,-0.4117458300932499,-0.7666487213628687,-1.076243951684915,0.03540411833894496,-0.12491236560944892,0.17198715243642307,-0.6311452942371958,0.1061902694177052,0.34571430810697656,-0.9750191735316172,-1.076243951684915,-1.5965062065177078,-0.9750191735316172,-0.7306525844792078,-1.257752896525174,-1.257752896525174,-0.5707949071861215,-1.0240208968332862,-1.5965062065177078,-1.712887257911223,-1.8521934359037502,-0.2773420311232813,-1.4962744295228385,-0.31990150608654505,-0.4117458300932499,-0.5707949071861215,0.11972432219201537,-1.076243951684915,0.0924572327672441,-1.5965062065177078,-1.1321741112296053,-0.3878652828544288,-1.1924189506355793,-0.8437266698929384,-1.1321741112296053,-0.6961513554674541,-1.1321741112296053,-0.5144446017526655,-1.5965062065177078,-0.2367319949540843,-1.1321741112296053,-1.257752896525174,-0.6004326729052085,-1.076243951684915,-0.7306525844792078,-0.7306525844792078,-0.7666487213628687,-0.5707949071861215,-1.1321741112296053,-0.3878652828544288,-0.7666487213628687,-0.8851703257151666,-0.5144446017526655,-0.009818235006318548,-0.7306525844792078,-0.8851703257151666,-1.712887257911223,0.020574856189771673,-1.1924189506355793,-1.4962744295228385,-0.7666487213628687,-1.1321741112296053,-1.8521934359037502,-1.5965062065177078,-1.8521934359037502,-1.1924189506355793,-0.7306525844792078,-1.8521934359037502,-1.8521934359037502,-1.5965062065177078,-1.076243951684915,0.4366242652535963,-0.5144446017526655,-1.076243951684915,-1.8521934359037502,-1.8521934359037502,-1.076243951684915,0.005503585960699865,-0.2568052323580682,0.20936455161136372,1.2516356508840607,-1.8521934359037502,-0.1075530895966576,0.20936455161136372,-0.36462050367289117,-1.1321741112296053,-0.8042843673469895,0.5545842960057757,-0.6004326729052085,-0.8437266698929384,-1.257752896525174,0.1061902694177052,-0.12491236560944892,-1.4962744295228385,-0.5144446017526655,-0.009818235006318548,-1.076243951684915,-1.712887257911223,-0.009818235006318548,0.13306541490847987,-2.0268293484257414,-2.0268293484257414,-0.9750191735316172,-1.4962744295228385,-0.5144446017526655,0.0924572327672441,-0.1790843810306204,-1.1924189506355793,1.0191707386262892,-1.1924189506355793,-0.8851703257151666,-1.4962744295228385,-1.1321741112296053,-1.8521934359037502,0.4072576584316042,-0.48760152900548803,-1.1321741112296053,0.1846113954736021,0.1061902694177052,-1.1924189506355793,-1.8521934359037502,-0.6961513554674541,-0.8851703257151666,-0.8437266698929384,-1.8521934359037502,-0.3878652828544288,-0.6004326729052085,0.5108743686475116,-1.712887257911223,-1.1924189506355793,-0.8437266698929384,0.020574856189771673,-0.31990150608654505,-0.9750191735316172,-0.1790843810306204,-0.7306525844792078,-0.6311452942371958,-1.1321741112296053,-1.257752896525174,-1.0240208968332862,-0.6004326729052085,-1.712887257911223,-1.257752896525174,-1.0240208968332862,-1.4962744295228385,0.7124167647355311,-0.8437266698929384,0.5545842960057757,-1.0240208968332862,-1.1924189506355793,-0.2568052323580682,0.1462192969433101,-0.43630024038590276,-1.1321741112296053,-1.076243951684915,-0.3419765950858465,-1.4962744295228385,-0.12491236560944892,-1.4962744295228385,-0.8437266698929384,-1.4962744295228385,-0.09051956966595308,-0.5144446017526655,-0.1790843810306204,-0.7306525844792078,0.2912451891453697,-0.7306525844792078,-1.1321741112296053,-0.5144446017526655,-1.1924189506355793,-2.0268293484257414,-0.31990150608654505,0.17198715243642307,-0.1790843810306204,-1.1321741112296053,-0.2773420311232813,-0.8042843673469895,-0.8851703257151666,-0.7306525844792078,-0.6961513554674541,-1.712887257911223,-1.076243951684915,0.44621961821142064,-1.257752896525174,-1.1321741112296053,-0.3419765950858465,-1.8521934359037502,-2.0268293484257414,-0.5707949071861215,-0.2568052323580682,-0.6004326729052085,-0.8042843673469895,0.17198715243642307,-0.02539961923376869,0.2912451891453697,-0.1075530895966576,-1.0240208968332862,0.2799698981507611,-0.7666487213628687,-1.4962744295228385,-1.4962744295228385,-0.6004326729052085,-1.4080686086364018,0.17198715243642307,-1.8521934359037502,-1.1321741112296053,-0.6961513554674541,-0.8042843673469895,-1.4962744295228385,0.6522392795927222,0.4557215537170642,-0.36462050367289117,-0.8437266698929384,-0.5421551373118021,-1.712887257911223,-0.7666487213628687,-0.19789104025348928,-0.5421551373118021,-0.6004326729052085,-1.712887257911223,-0.9750191735316172,-1.712887257911223,-0.4117458300932499,-0.6004326729052085,-1.1924189506355793,-1.5965062065177078,-0.07379909377925897,-0.8042843673469895,-0.21710065005436333,-1.4080686086364018,-1.257752896525174,-0.6004326729052085,-0.2367319949540843,-0.8042843673469895,-1.1321741112296053,-0.8042843673469895,-1.5965062065177078,-0.8042843673469895,0.07851889605082174,0.11972432219201537,-1.0240208968332862,0.4366242652535963,-1.257752896525174,-0.7666487213628687,-0.4117458300932499,-0.7666487213628687,0.005503585960699865,-1.5965062065177078,-0.7306525844792078,-1.5965062065177078,-1.1924189506355793,-0.1426109164029812,-0.02539961923376869,-1.1924189506355793,-0.8437266698929384,-1.8521934359037502,-0.7666487213628687,-1.076243951684915,-1.1924189506355793,-0.009818235006318548,0.5108743686475116,-0.8437266698929384,0.1846113954736021,-0.6004326729052085,-0.36462050367289117,-0.1075530895966576,-1.712887257911223,-1.5965062065177078,0.1061902694177052,-1.8521934359037502,-0.4117458300932499,-0.12491236560944892,-0.1790843810306204,-1.1924189506355793,0.020574856189771673,-0.8042843673469895,-0.09051956966595308,-1.1321741112296053,0.2912451891453697,-1.712887257911223,-1.4080686086364018,-0.6311452942371958,-1.1321741112296053,-0.6004326729052085,-0.5144446017526655,0.1846113954736021,0.2799698981507611,-1.4080686086364018,-0.8851703257151666,-0.43630024038590276,-1.257752896525174,-0.5421551373118021,-0.6311452942371958,-1.5965062065177078,-1.8521934359037502,-1.257752896525174,-0.7666487213628687,-1.4962744295228385,0.03540411833894496,-1.712887257911223,0.07851889605082174,-1.8521934359037502,-0.9750191735316172,0.6522392795927222,-0.7666487213628687,-0.4117458300932499,-1.257752896525174,0.17198715243642307,0.5459957650446206,-1.712887257911223,-0.6311452942371958,-0.31990150608654505,0.17198715243642307,-1.1924189506355793,-0.02539961923376869,-1.4962744295228385,-1.4962744295228385,0.020574856189771673,-1.8521934359037502,-1.712887257911223,-0.6004326729052085,-1.712887257911223,0.20936455161136372,-2.0268293484257414,-0.8437266698929384,-0.8437266698929384,-1.4962744295228385,-1.4962744295228385,-0.7666487213628687,-0.8437266698929384,-0.3419765950858465,-0.36462050367289117,0.005503585960699865,-2.0268293484257414,-0.4117458300932499,-0.7666487213628687,-0.3419765950858465,-0.6004326729052085,0.1061902694177052,-0.7666487213628687,-0.6004326729052085,-0.8042843673469895,-0.8437266698929384,-0.8042843673469895,-1.712887257911223,-0.31990150608654505,-1.712887257911223,0.2799698981507611,-1.4962744295228385,-1.4962744295228385,-1.8521934359037502,-1.1924189506355793,-1.1924189506355793,-2.0268293484257414,0.4072576584316042,-1.5965062065177078,-1.1321741112296053,-0.7306525844792078,-0.5707949071861215,-0.8851703257151666,-0.7666487213628687,-0.21710065005436333,0.34571430810697656,-0.4117458300932499,0.4269335229863305,-1.4962744295228385,-0.7666487213628687,-1.257752896525174,-0.6961513554674541,-0.3878652828544288,-1.076243951684915,-1.712887257911223,-1.076243951684915,-1.5965062065177078,-0.8851703257151666,-1.712887257911223,-1.076243951684915,-1.8521934359037502,-0.36462050367289117,-1.1924189506355793,-0.2568052323580682,-0.1426109164029812,-1.4962744295228385,-0.6004326729052085,-1.4962744295228385,0.22150247816845448,-1.257752896525174,-1.4080686086364018,-0.43630024038590276,-1.1321741112296053,-0.9750191735316172,0.36666698611879595,-1.5965062065177078,-1.1924189506355793,-0.6311452942371958,-1.5965062065177078,-2.0268293484257414,-1.1924189506355793,-1.5965062065177078,-0.9750191735316172,-0.7666487213628687,-1.5965062065177078,-1.257752896525174,-1.076243951684915,-0.3878652828544288,-2.0268293484257414,-1.4962744295228385,-0.009818235006318548,-1.712887257911223,-0.8042843673469895,-1.712887257911223,-0.3419765950858465,-1.712887257911223,-0.43630024038590276,0.2912451891453697,-0.6311452942371958,-0.9750191735316172,-0.43630024038590276,-0.43630024038590276,-1.257752896525174,-0.43630024038590276,-1.4962744295228385,-1.712887257911223,-0.009818235006318548,-0.8437266698929384,-1.076243951684915,-0.31990150608654505,-1.1924189506355793,-1.4080686086364018,-0.8437266698929384,-0.8042843673469895,-0.8437266698929384,-1.8521934359037502,-0.6004326729052085,-0.36462050367289117,-0.43630024038590276,-0.3419765950858465,-1.4080686086364018,-0.1075530895966576,-1.257752896525174,-1.0240208968332862,-0.2773420311232813,-0.2773420311232813,-0.48760152900548803,-0.1790843810306204,-1.4962744295228385,-0.7306525844792078,-0.8437266698929384,-1.712887257911223,-1.8521934359037502,-0.1426109164029812,-1.1321741112296053,-1.1924189506355793,-1.0240208968332862,-0.8851703257151666,-1.076243951684915,-0.5421551373118021,-1.8521934359037502,-0.7666487213628687,-0.7666487213628687,-0.4117458300932499,-1.1924189506355793,-2.0268293484257414,-0.9750191735316172,-0.5707949071861215,-0.5707949071861215,-1.1924189506355793,-1.257752896525174,-2.0268293484257414,-0.19789104025348928,-1.4962744295228385,-1.4962744295228385,-1.8521934359037502,-0.8042843673469895,-0.9750191735316172,-1.712887257911223,-0.4117458300932499,-1.0240208968332862,-0.8042843673469895,-1.1924189506355793,-2.0268293484257414,-1.712887257911223,-1.8521934359037502,-0.2568052323580682,-1.712887257911223,-1.1924189506355793,-1.8521934359037502,0.5018948089084776,-0.8042843673469895,-0.1075530895966576,-1.5965062065177078,-2.0268293484257414,-1.8521934359037502,-1.1321741112296053,1.2026714981207924,0.0924572327672441,-1.712887257911223,-0.43630024038590276,-0.7666487213628687,-1.8521934359037502,-1.0240208968332862,-1.4962744295228385,0.03540411833894496,-1.8521934359037502,0.13306541490847987,-1.8521934359037502,-0.8851703257151666,-0.8851703257151666,-1.257752896525174,-1.1924189506355793,-2.0268293484257414,0.2912451891453697,-1.5965062065177078,-0.5707949071861215,-1.712887257911223,-1.257752896525174,0.03540411833894496,-0.6004326729052085,-1.4080686086364018,-0.6311452942371958,-1.4080686086364018,-1.8521934359037502,-0.36462050367289117,-1.8521934359037502,0.13306541490847987,-1.0240208968332862,-0.5144446017526655,-0.2568052323580682,-1.076243951684915,0.2912451891453697,-0.7666487213628687,-0.5144446017526655,-1.5965062065177078,0.20936455161136372,-1.8521934359037502,-0.1426109164029812,-0.8437266698929384,-1.8521934359037502,-1.4962744295228385,-1.8521934359037502,-1.076243951684915,-0.8042843673469895,-1.257752896525174,-0.3878652828544288,-0.21710065005436333,-0.8042843673469895,-0.3878652828544288,-1.5965062065177078,-1.4962744295228385,-0.6004326729052085,-0.2367319949540843,-0.48760152900548803,-0.8042843673469895,-1.5965062065177078,-1.5965062065177078,-1.712887257911223,-1.1321741112296053,-0.6961513554674541,-1.0240208968332862,-1.5965062065177078,-1.4080686086364018,-2.0268293484257414,-1.8521934359037502,-1.1924189506355793,-0.9750191735316172,-0.48760152900548803,-0.2367319949540843,-0.8042843673469895,-1.4962744295228385,-1.4962744295228385,-1.4080686086364018,-0.6004326729052085,-1.8521934359037502,-0.1426109164029812,-0.48760152900548803,0.3769752869962793,1.598938395402121,-1.8521934359037502,-1.4962744295228385,-1.4080686086364018,-1.5965062065177078,0.11972432219201537,-0.3878652828544288,-0.3878652828544288,-1.712887257911223,-0.6311452942371958,0.268559964131286,-1.0240208968332862,-1.0240208968332862,-0.2773420311232813,-1.1924189506355793,-0.02539961923376869,-1.8521934359037502,-0.2367319949540843,-0.8437266698929384,0.3023891665955865,0.2570119267694014,-0.3419765950858465,-1.0240208968332862,-1.4962744295228385,-1.257752896525174,-0.6311452942371958,-1.4080686086364018,0.6676249884612706,-0.5707949071861215,-1.1924189506355793,-0.09051956966595308,-1.712887257911223,0.3769752869962793,-1.257752896525174,-2.0268293484257414,-1.8521934359037502,-0.8437266698929384,-0.4117458300932499,-0.7666487213628687,-1.257752896525174,-0.9750191735316172,-0.8437266698929384,-0.5707949071861215,0.1061902694177052,-0.8851703257151666,-0.36462050367289117,-1.1321741112296053,-1.4962744295228385,-0.8437266698929384,-1.4962744295228385,-1.8521934359037502,-0.5144446017526655,-1.712887257911223,-0.6004326729052085,-1.4962744295228385,-1.5965062065177078,-0.1075530895966576,-1.0240208968332862,-1.1321741112296053,-0.4117458300932499,-1.712887257911223,-1.1321741112296053,0.2799698981507611,-1.257752896525174,-0.19789104025348928,1.0352977480064143,-1.712887257911223,-1.712887257911223],\"y\":[1.2455994551193863,1.3631456173323904,0.3236613802751872,-0.20783760717720262,0.669447352467974,1.5427849958546334,0.669447352467974,0.669447352467974,0.669447352467974,0.9152164429632184,1.100329643113481,0.669447352467974,1.6745796741473788,0.9152164429632184,0.9152164429632184,1.7283811841167511,1.4605421243462684,0.669447352467974,1.3631456173323904,0.3236613802751872,1.4605421243462684,0.669447352467974,1.7283811841167511,0.9152164429632184,1.2455994551193863,1.7283811841167511,0.9152164429632184,0.669447352467974,0.9152164429632184,1.100329643113481,1.2455994551193863,0.669447352467974,1.3631456173323904,1.7283811841167511,1.2455994551193863,0.9152164429632184,1.7283811841167511,1.6133136899176406,1.100329643113481,0.669447352467974,1.5427849958546334,1.3631456173323904,1.100329643113481,0.3236613802751872,1.5427849958546334,1.2455994551193863,1.6133136899176406,0.9152164429632184,0.9152164429632184,0.9152164429632184,1.6133136899176406,1.3631456173323904,0.3236613802751872,1.100329643113481,0.669447352467974,0.669447352467974,1.7283811841167511,1.5427849958546334,0.9152164429632184,0.3236613802751872,1.2455994551193863,1.5427849958546334,1.7283811841167511,0.9152164429632184,1.7283811841167511,1.4605421243462684,1.5427849958546334,0.669447352467974,1.3631456173323904,1.2455994551193863,1.5427849958546334,0.9152164429632184,0.9152164429632184,0.669447352467974,1.4605421243462684,0.3236613802751872,1.7283811841167511,1.4605421243462684,1.2455994551193863,0.3236613802751872,0.669447352467974,1.3631456173323904,0.3236613802751872,0.669447352467974,1.6745796741473788,0.9152164429632184,0.9152164429632184,0.669447352467974,1.6133136899176406,1.4605421243462684,0.669447352467974,0.9152164429632184,0.669447352467974,1.100329643113481,1.6745796741473788,0.669447352467974,0.669447352467974,1.7283811841167511,1.7283811841167511,1.7283811841167511,1.2455994551193863,1.100329643113481,1.100329643113481,0.669447352467974,0.669447352467974,1.3631456173323904,1.4605421243462684,1.5427849958546334,1.7283811841167511,1.7283811841167511,0.9152164429632184,1.7283811841167511,1.100329643113481,0.9152164429632184,0.669447352467974,1.2455994551193863,1.2455994551193863,1.6745796741473788,1.6133136899176406,1.7283811841167511,0.9152164429632184,1.100329643113481,1.7283811841167511,1.2455994551193863,0.9152164429632184,1.100329643113481,1.3631456173323904,0.9152164429632184,1.100329643113481,0.3236613802751872,0.3236613802751872,0.669447352467974,1.2455994551193863,0.3236613802751872,1.100329643113481,1.7283811841167511,1.7283811841167511,1.3631456173323904,1.100329643113481,1.6745796741473788,0.669447352467974,1.7283811841167511,0.9152164429632184,0.9152164429632184,1.3631456173323904,0.9152164429632184,0.9152164429632184,1.100329643113481,1.7283811841167511,0.9152164429632184,1.7283811841167511,1.2455994551193863,0.669447352467974,0.669447352467974,1.100329643113481,1.2455994551193863,1.3631456173323904,0.3236613802751872,1.100329643113481,0.669447352467974,1.6133136899176406,1.3631456173323904,1.3631456173323904,1.7283811841167511,-0.20783760717720262,1.7283811841167511,0.3236613802751872,0.669447352467974,0.3236613802751872,0.669447352467974,1.7283811841167511,1.7283811841167511,1.3631456173323904,1.7283811841167511,1.5427849958546334,0.9152164429632184,1.7283811841167511,1.4605421243462684,0.9152164429632184,1.5427849958546334,0.669447352467974,1.7283811841167511,0.3236613802751872,0.669447352467974,1.7283811841167511,1.7283811841167511,0.9152164429632184,1.6133136899176406,1.7283811841167511,1.7283811841167511,0.9152164429632184,1.6745796741473788,1.5427849958546334,1.7283811841167511,1.7283811841167511,1.100329643113481,0.669447352467974,1.2455994551193863,1.7283811841167511,0.669447352467974,1.3631456173323904,0.9152164429632184,1.3631456173323904,0.3236613802751872,0.9152164429632184,1.100329643113481,1.2455994551193863,0.9152164429632184,0.669447352467974,1.6745796741473788,0.669447352467974,0.669447352467974,0.669447352467974,0.669447352467974,1.6133136899176406,1.4605421243462684,1.5427849958546334,0.669447352467974,1.100329643113481,1.7283811841167511,0.669447352467974,0.669447352467974,1.3631456173323904,0.3236613802751872,0.9152164429632184,1.2455994551193863,0.669447352467974,1.100329643113481,0.669447352467974,0.3236613802751872,0.9152164429632184,1.6745796741473788,1.7283811841167511,1.7283811841167511,0.669447352467974,0.3236613802751872,0.669447352467974,0.669447352467974,1.5427849958546334,0.3236613802751872,0.9152164429632184,0.9152164429632184,0.3236613802751872,1.100329643113481,0.3236613802751872,1.7283811841167511,0.9152164429632184,1.5427849958546334,1.3631456173323904,1.2455994551193863,0.669447352467974,1.100329643113481,1.2455994551193863,0.3236613802751872,1.3631456173323904,0.9152164429632184,-0.20783760717720262,1.7283811841167511,0.9152164429632184,1.7283811841167511,1.5427849958546334,0.3236613802751872,0.669447352467974,1.2455994551193863,1.2455994551193863,1.100329643113481,1.100329643113481,1.100329643113481,1.7283811841167511,1.7283811841167511,0.669447352467974,1.100329643113481,0.9152164429632184,1.7283811841167511,1.5427849958546334,0.9152164429632184,0.9152164429632184,0.3236613802751872,0.669447352467974,1.2455994551193863,0.669447352467974,0.3236613802751872,1.100329643113481,0.9152164429632184,0.9152164429632184,1.2455994551193863,1.7283811841167511,1.2455994551193863,1.2455994551193863,1.2455994551193863,1.6745796741473788,0.669447352467974,0.9152164429632184,1.7283811841167511,0.669447352467974,1.4605421243462684,1.100329643113481,0.669447352467974,0.9152164429632184,1.7283811841167511,0.9152164429632184,1.6133136899176406,1.2455994551193863,0.9152164429632184,0.9152164429632184,0.669447352467974,0.669447352467974,1.100329643113481,1.100329643113481,0.9152164429632184,1.7283811841167511,0.669447352467974,0.669447352467974,1.2455994551193863,0.3236613802751872,1.7283811841167511,1.7283811841167511,1.5427849958546334,1.4605421243462684,0.3236613802751872,1.7283811841167511,1.100329643113481,0.9152164429632184,1.3631456173323904,1.100329643113481,0.669447352467974,1.6745796741473788,1.2455994551193863,0.9152164429632184,1.100329643113481,1.7283811841167511,1.2455994551193863,1.7283811841167511,1.5427849958546334,0.669447352467974,1.7283811841167511,1.6133136899176406,1.7283811841167511,1.2455994551193863,0.9152164429632184,0.3236613802751872,0.669447352467974,0.669447352467974,0.9152164429632184,1.100329643113481,0.669447352467974,1.4605421243462684,1.7283811841167511,0.9152164429632184,1.3631456173323904,0.669447352467974,1.3631456173323904,1.7283811841167511,0.9152164429632184,1.7283811841167511,1.7283811841167511,0.9152164429632184,0.9152164429632184,0.9152164429632184,1.5427849958546334,0.669447352467974,0.3236613802751872,0.669447352467974,0.9152164429632184,1.4605421243462684,1.100329643113481,0.669447352467974,0.669447352467974,0.9152164429632184,1.100329643113481,0.669447352467974,1.2455994551193863,1.7283811841167511,1.3631456173323904,0.669447352467974,1.6745796741473788,0.9152164429632184,1.7283811841167511,1.100329643113481,1.100329643113481,1.4605421243462684,1.100329643113481,0.9152164429632184,1.6745796741473788,1.2455994551193863,0.9152164429632184,1.3631456173323904,1.7283811841167511,1.6133136899176406,0.9152164429632184,1.6745796741473788,0.9152164429632184,0.669447352467974,1.7283811841167511,1.7283811841167511,1.7283811841167511,1.7283811841167511,1.6745796741473788,0.9152164429632184,0.3236613802751872,0.9152164429632184,1.100329643113481,1.7283811841167511,1.7283811841167511,1.7283811841167511,1.7283811841167511,1.6133136899176406,0.9152164429632184,1.2455994551193863,1.6745796741473788,0.669447352467974,1.2455994551193863,0.669447352467974,0.9152164429632184,0.669447352467974,0.3236613802751872,0.3236613802751872,0.9152164429632184,1.6133136899176406,1.7283811841167511,-0.20783760717720262,0.669447352467974,0.9152164429632184,1.7283811841167511,0.669447352467974,1.7283811841167511,1.100329643113481,1.7283811841167511,1.7283811841167511,1.7283811841167511,0.669447352467974,1.2455994551193863,1.100329643113481,1.100329643113481,1.4605421243462684,0.9152164429632184,1.100329643113481,0.669447352467974,1.7283811841167511,1.4605421243462684,0.9152164429632184,1.5427849958546334,0.9152164429632184,0.669447352467974,0.9152164429632184,1.6133136899176406,1.5427849958546334,0.3236613802751872,0.9152164429632184,0.9152164429632184,1.4605421243462684,1.3631456173323904,0.669447352467974,0.3236613802751872,1.7283811841167511,0.669447352467974,0.3236613802751872,1.100329643113481,0.9152164429632184,1.6133136899176406,1.4605421243462684,0.669447352467974,0.669447352467974,1.7283811841167511,1.4605421243462684,1.100329643113481,1.4605421243462684,1.100329643113481,1.100329643113481,0.9152164429632184,1.2455994551193863,0.3236613802751872,1.3631456173323904,0.669447352467974,1.3631456173323904,0.669447352467974,1.3631456173323904,0.669447352467974,1.7283811841167511,0.3236613802751872,1.3631456173323904,1.4605421243462684,1.4605421243462684,1.7283811841167511,1.7283811841167511,1.100329643113481,1.100329643113481,1.2455994551193863,1.100329643113481,1.2455994551193863,1.7283811841167511,0.3236613802751872,1.100329643113481,1.5427849958546334,1.100329643113481,0.9152164429632184,0.669447352467974,0.669447352467974,0.9152164429632184,1.2455994551193863,0.669447352467974,1.100329643113481,0.9152164429632184,1.100329643113481,1.100329643113481,0.9152164429632184,1.100329643113481,-0.20783760717720262,0.669447352467974,1.4605421243462684,1.4605421243462684,1.7283811841167511,1.100329643113481,1.2455994551193863,1.7283811841167511,0.3236613802751872,1.3631456173323904,1.7283811841167511,1.3631456173323904,0.669447352467974,1.7283811841167511,1.7283811841167511,1.2455994551193863,1.100329643113481,1.7283811841167511,0.669447352467974,0.3236613802751872,0.9152164429632184,0.669447352467974,1.100329643113481,1.100329643113481,1.7283811841167511,1.2455994551193863,0.669447352467974,1.4605421243462684,0.9152164429632184,1.7283811841167511,0.9152164429632184,1.100329643113481,1.7283811841167511,1.7283811841167511,0.9152164429632184,1.2455994551193863,1.4605421243462684,1.7283811841167511,0.3236613802751872,1.7283811841167511,1.6133136899176406,0.3236613802751872,1.6133136899176406,0.669447352467974,0.3236613802751872,1.3631456173323904,1.6745796741473788,1.7283811841167511,0.3236613802751872,1.2455994551193863,1.2455994551193863,1.100329643113481,1.2455994551193863,0.9152164429632184,0.9152164429632184,1.6133136899176406,0.3236613802751872,1.100329643113481,1.3631456173323904,1.6133136899176406,0.669447352467974,1.2455994551193863,1.7283811841167511,1.6745796741473788,0.669447352467974,1.3631456173323904,0.669447352467974,0.669447352467974,1.6745796741473788,0.669447352467974,1.100329643113481,0.3236613802751872,1.100329643113481,0.669447352467974,0.669447352467974,1.7283811841167511,1.100329643113481,1.2455994551193863,0.669447352467974,1.6745796741473788,1.3631456173323904,1.4605421243462684,1.100329643113481,1.7283811841167511,0.669447352467974,1.100329643113481,1.4605421243462684,1.2455994551193863,0.669447352467974,1.7283811841167511,0.669447352467974,0.9152164429632184,1.3631456173323904,1.6745796741473788,1.100329643113481,1.6133136899176406,1.4605421243462684,1.2455994551193863,1.6133136899176406,1.5427849958546334,0.669447352467974,0.669447352467974,1.3631456173323904,1.7283811841167511,1.7283811841167511,1.7283811841167511,0.3236613802751872,1.7283811841167511,0.669447352467974,0.3236613802751872,1.7283811841167511,0.9152164429632184,1.100329643113481,1.100329643113481,1.2455994551193863,0.9152164429632184,0.669447352467974,0.3236613802751872,1.5427849958546334,0.669447352467974,0.9152164429632184,1.7283811841167511,1.6133136899176406,0.9152164429632184,1.3631456173323904,0.669447352467974,1.2455994551193863,1.7283811841167511,0.669447352467974,1.5427849958546334,1.7283811841167511,0.3236613802751872,0.3236613802751872,1.7283811841167511,0.9152164429632184,0.9152164429632184,1.7283811841167511,1.7283811841167511,1.7283811841167511,0.3236613802751872,0.9152164429632184,1.100329643113481,0.669447352467974,0.9152164429632184,1.3631456173323904,1.6133136899176406,1.100329643113481,0.9152164429632184,0.669447352467974,1.6745796741473788,0.669447352467974,0.9152164429632184,1.3631456173323904,1.7283811841167511,1.6133136899176406,0.9152164429632184,1.2455994551193863,0.9152164429632184,1.2455994551193863,1.7283811841167511,1.4605421243462684,0.9152164429632184,1.7283811841167511,1.7283811841167511,1.100329643113481,0.3236613802751872,1.6745796741473788,1.6745796741473788,1.3631456173323904,1.7283811841167511,0.3236613802751872,1.2455994551193863,1.7283811841167511,1.2455994551193863,0.669447352467974,1.2455994551193863,1.6745796741473788,1.2455994551193863,0.9152164429632184,1.100329643113481,0.669447352467974,0.669447352467974,0.3236613802751872,1.3631456173323904,0.669447352467974,0.3236613802751872,0.669447352467974,0.669447352467974,0.9152164429632184,1.2455994551193863,1.7283811841167511,1.2455994551193863,1.6745796741473788,0.669447352467974,0.3236613802751872,0.3236613802751872,1.100329643113481,1.7283811841167511,0.669447352467974,1.6745796741473788,0.9152164429632184,1.7283811841167511,1.6133136899176406,1.3631456173323904,1.3631456173323904,0.669447352467974,1.4605421243462684,1.7283811841167511,0.669447352467974,0.669447352467974,0.3236613802751872,1.6745796741473788,0.669447352467974,1.2455994551193863,1.7283811841167511,0.9152164429632184,0.9152164429632184,1.7283811841167511,1.4605421243462684,0.9152164429632184,1.4605421243462684,0.669447352467974,1.7283811841167511,1.7283811841167511,0.669447352467974,0.669447352467974,1.4605421243462684,1.4605421243462684,1.3631456173323904,1.7283811841167511,0.669447352467974,1.4605421243462684,0.669447352467974,1.2455994551193863,0.9152164429632184,0.3236613802751872,0.3236613802751872,0.9152164429632184,1.4605421243462684,1.7283811841167511,1.3631456173323904,0.669447352467974,1.2455994551193863,0.9152164429632184,0.9152164429632184,1.2455994551193863,1.3631456173323904,1.7283811841167511,0.669447352467974,1.3631456173323904,1.100329643113481,1.100329643113481,1.7283811841167511,0.3236613802751872,0.9152164429632184,1.3631456173323904,1.7283811841167511,1.7283811841167511,0.9152164429632184,1.100329643113481,0.669447352467974,0.9152164429632184,0.669447352467974,1.7283811841167511,0.669447352467974,1.7283811841167511,0.669447352467974,1.3631456173323904,1.6745796741473788,1.7283811841167511,1.100329643113481,1.7283811841167511,1.2455994551193863,0.9152164429632184,1.2455994551193863,1.2455994551193863,1.3631456173323904,1.3631456173323904,0.9152164429632184,1.7283811841167511,0.669447352467974,1.3631456173323904,1.7283811841167511,0.3236613802751872,1.6745796741473788,1.2455994551193863,1.3631456173323904,0.669447352467974,1.5427849958546334,1.2455994551193863,0.3236613802751872,0.9152164429632184,0.669447352467974,1.7283811841167511,1.7283811841167511,1.4605421243462684,0.3236613802751872,1.7283811841167511,1.7283811841167511,0.3236613802751872,0.9152164429632184,0.669447352467974,1.2455994551193863,0.669447352467974,0.9152164429632184,1.5427849958546334,0.3236613802751872,0.9152164429632184,0.9152164429632184,0.669447352467974,1.2455994551193863,1.100329643113481,1.2455994551193863,0.669447352467974,0.9152164429632184,1.100329643113481,1.7283811841167511,0.3236613802751872,1.100329643113481,1.6133136899176406,0.9152164429632184,0.9152164429632184,1.4605421243462684,0.3236613802751872,1.7283811841167511,0.3236613802751872,1.7283811841167511,0.669447352467974,1.100329643113481,0.9152164429632184,1.100329643113481,1.100329643113481,1.6745796741473788,1.7283811841167511,0.669447352467974,1.7283811841167511,0.669447352467974,0.669447352467974,1.7283811841167511,1.2455994551193863,0.669447352467974,0.9152164429632184,1.2455994551193863,0.9152164429632184,1.3631456173323904,0.9152164429632184,1.4605421243462684,1.2455994551193863,0.9152164429632184,0.9152164429632184,1.5427849958546334,0.669447352467974,0.3236613802751872,0.3236613802751872,1.3631456173323904,0.9152164429632184,1.7283811841167511,1.100329643113481,1.2455994551193863,1.7283811841167511,0.669447352467974,0.669447352467974,1.7283811841167511,0.669447352467974,1.4605421243462684,1.4605421243462684,0.669447352467974,0.669447352467974,1.7283811841167511,0.9152164429632184,1.6745796741473788,1.5427849958546334,1.100329643113481,1.7283811841167511,1.2455994551193863,0.9152164429632184,1.2455994551193863,0.9152164429632184,1.7283811841167511,0.669447352467974,1.2455994551193863,1.2455994551193863,0.3236613802751872,1.100329643113481,1.100329643113481,0.669447352467974,0.9152164429632184,1.7283811841167511,1.7283811841167511,1.2455994551193863,0.669447352467974,1.2455994551193863,1.7283811841167511,0.9152164429632184,1.5427849958546334,1.7283811841167511,1.100329643113481,1.7283811841167511,1.2455994551193863,0.669447352467974,0.9152164429632184,0.669447352467974,1.7283811841167511,0.9152164429632184,1.100329643113481,0.669447352467974,1.5427849958546334,1.2455994551193863,1.100329643113481,1.7283811841167511,0.669447352467974,1.100329643113481,1.6133136899176406,1.7283811841167511,0.669447352467974,1.6745796741473788,1.100329643113481,0.9152164429632184,1.7283811841167511,0.669447352467974,1.7283811841167511,1.7283811841167511,1.7283811841167511,0.9152164429632184,0.9152164429632184,1.6133136899176406,1.7283811841167511,1.100329643113481,1.2455994551193863,1.7283811841167511,1.7283811841167511,0.9152164429632184,1.2455994551193863,1.7283811841167511,1.7283811841167511,0.9152164429632184,0.3236613802751872,0.3236613802751872,1.6133136899176406,1.6133136899176406,1.7283811841167511,1.7283811841167511,1.100329643113481,1.7283811841167511,1.4605421243462684,1.6133136899176406,0.669447352467974,1.6133136899176406,1.7283811841167511,1.100329643113481,1.7283811841167511,0.3236613802751872,1.100329643113481,1.100329643113481,0.9152164429632184,1.100329643113481,1.2455994551193863,1.6133136899176406,1.100329643113481,1.7283811841167511,1.7283811841167511,1.2455994551193863,0.669447352467974,1.7283811841167511,1.100329643113481,1.4605421243462684,1.2455994551193863,1.100329643113481,1.2455994551193863,1.5427849958546334,1.2455994551193863,1.100329643113481,0.9152164429632184,1.100329643113481,1.6133136899176406,0.669447352467974,1.100329643113481,1.7283811841167511,0.3236613802751872,0.9152164429632184,0.669447352467974,1.4605421243462684,0.9152164429632184,1.6133136899176406,1.2455994551193863,1.7283811841167511,1.4605421243462684,1.4605421243462684,1.100329643113481,0.669447352467974,1.2455994551193863,1.4605421243462684,0.669447352467974,0.669447352467974,0.669447352467974,1.100329643113481,0.3236613802751872,0.9152164429632184,1.2455994551193863,1.2455994551193863,1.6745796741473788,-0.20783760717720262,0.669447352467974,1.100329643113481,1.5427849958546334,1.2455994551193863,1.3631456173323904,0.669447352467974,1.100329643113481,1.2455994551193863,1.2455994551193863,1.100329643113481,1.3631456173323904,1.2455994551193863,1.5427849958546334,1.100329643113481,1.3631456173323904,1.7283811841167511,1.7283811841167511,0.669447352467974,1.2455994551193863,1.4605421243462684,0.669447352467974,0.9152164429632184,1.7283811841167511,1.3631456173323904,1.7283811841167511,0.669447352467974,1.3631456173323904,1.6133136899176406,0.669447352467974,1.6133136899176406,1.3631456173323904,1.3631456173323904,1.7283811841167511,1.7283811841167511,1.100329643113481,1.7283811841167511,1.3631456173323904,1.7283811841167511,1.7283811841167511,0.3236613802751872,0.9152164429632184,0.3236613802751872,1.2455994551193863,1.2455994551193863,1.6745796741473788,1.100329643113481,1.100329643113481,1.7283811841167511,1.2455994551193863,-0.20783760717720262,1.100329643113481,1.2455994551193863,1.7283811841167511,1.2455994551193863,1.100329643113481,0.9152164429632184,0.9152164429632184,0.669447352467974,1.2455994551193863,1.5427849958546334,0.669447352467974,1.4605421243462684,1.3631456173323904,1.7283811841167511,1.5427849958546334,1.100329643113481,0.9152164429632184,0.669447352467974,0.669447352467974,0.669447352467974,1.3631456173323904,0.669447352467974,0.9152164429632184,0.3236613802751872,1.2455994551193863,1.3631456173323904,1.7283811841167511,1.7283811841167511,1.2455994551193863,0.9152164429632184,1.2455994551193863,1.100329643113481,1.7283811841167511,1.100329643113481,1.7283811841167511,0.3236613802751872,0.3236613802751872,1.3631456173323904,0.3236613802751872,0.669447352467974,1.6133136899176406,0.669447352467974,1.5427849958546334,1.6745796741473788,0.669447352467974,1.2455994551193863,0.9152164429632184,1.6745796741473788,1.2455994551193863,-0.20783760717720262,0.9152164429632184,-0.20783760717720262,1.2455994551193863,0.669447352467974,1.7283811841167511,1.100329643113481,1.7283811841167511,1.100329643113481,1.2455994551193863,1.2455994551193863,1.7283811841167511,1.3631456173323904,0.669447352467974,0.669447352467974,1.4605421243462684,1.7283811841167511,1.6133136899176406,1.7283811841167511,0.669447352467974,1.6133136899176406,0.3236613802751872,1.7283811841167511,1.7283811841167511,0.3236613802751872,0.669447352467974,1.2455994551193863,1.100329643113481,1.4605421243462684,0.9152164429632184,1.7283811841167511,0.3236613802751872,1.5427849958546334,1.7283811841167511,1.4605421243462684,1.6745796741473788,1.7283811841167511,0.3236613802751872,0.9152164429632184,0.669447352467974,0.3236613802751872,1.3631456173323904,0.9152164429632184,1.4605421243462684,1.7283811841167511,0.669447352467974,1.7283811841167511,1.6745796741473788,1.3631456173323904,1.100329643113481,1.7283811841167511,1.100329643113481,1.6745796741473788,1.3631456173323904,0.669447352467974,1.2455994551193863,0.669447352467974,0.9152164429632184,1.2455994551193863,1.5427849958546334,1.7283811841167511,0.9152164429632184,1.7283811841167511,1.3631456173323904,1.4605421243462684,0.9152164429632184,1.7283811841167511,1.5427849958546334,1.5427849958546334,1.5427849958546334,1.7283811841167511,1.6745796741473788,1.5427849958546334,1.6133136899176406,0.669447352467974,1.6133136899176406,1.2455994551193863,1.100329643113481,1.7283811841167511,1.7283811841167511,0.3236613802751872,0.9152164429632184,1.100329643113481,1.6745796741473788,0.669447352467974,0.9152164429632184,0.3236613802751872,0.9152164429632184,1.7283811841167511,1.100329643113481,1.100329643113481,1.100329643113481,0.3236613802751872,1.7283811841167511,1.100329643113481,0.9152164429632184,1.5427849958546334,0.9152164429632184,1.7283811841167511,1.6745796741473788,1.6133136899176406,1.7283811841167511,1.2455994551193863,1.100329643113481,0.9152164429632184,1.7283811841167511,0.669447352467974,1.2455994551193863,1.3631456173323904,1.100329643113481,1.100329643113481,0.3236613802751872],\"z\":[0.40564507642388886,0.6920585183777073,1.3046567349095815,1.6205184791647598,0.5158378879408674,0.1586573489864784,-0.1626661070291895,0.26807122715732007,0.5382479918943828,0.2601982611162186,0.6159350419962276,0.4624896352353747,0.13838508043028813,0.319503022654995,0.6019574169648332,2.1180005352858617,0.11448358730383011,0.037127213431475695,-0.2135222284688936,0.5599506429243067,0.5805760400105416,1.0406508903958431,0.5984300490470431,1.2832749476563854,0.7919322592071497,0.47060145039327206,0.6452659171787551,0.26544617434484463,0.5040307345909947,0.5971874764587032,1.0224882770902866,-0.09873619876286531,1.139506640607198,1.1787514564997446,0.14089586920757097,0.3967193773459577,-0.006675016839795265,0.6819879376200526,1.206345226075044,0.2663517219178362,0.5197599425444113,0.8429670348432419,-0.3744803930987438,0.4017874276590734,0.31536576801623556,-0.10031336471468719,1.7754462642515643,0.49415678388333495,-0.06721834600689888,-0.008602365205311255,-0.04347667609154435,0.7633592050694493,0.08176006039922828,0.24800694545055813,0.4865599856255359,0.20836377551889176,0.6265433233484254,0.13708639919309695,2.1180005352858617,0.20360808067362865,0.33882033134669326,0.25197236045609317,0.30491918894311015,-0.20647850444572333,0.6919021185695937,0.4425645692922016,0.6383791940736169,0.07863428563680346,0.36157851594352297,-0.06184510334960779,1.1030642260321843,0.1694014936225615,0.30002182131685906,0.29773183101688644,1.0983133734274926,-0.2423747316895093,0.6846062731633946,0.3393057786985862,0.14672153452255307,0.1267674252104474,0.27355229073865794,-0.13973437617534065,0.31822294387650313,0.44050272321774736,0.7473236698071053,-0.12891860991511436,0.8042286122539155,0.9119949412302221,-0.05513667617114995,2.1180005352858617,0.4037308291866826,0.8207152279878446,0.40902160140425187,0.6966119256216463,2.1180005352858617,0.3779228729757851,-0.06684077229375877,0.28492715575634414,0.3918697451877052,0.4578668538991412,0.2933624706932162,0.05940575530993844,0.812890575116751,0.28178327774563566,0.07370622793117856,0.5580729417999115,0.219169732918042,-0.012540446456902497,1.2845020674815188,0.8398750756300483,0.05535819479196405,-0.08799256689375766,-0.07451482448911488,-0.6827769528409406,0.14594940268807693,0.24958426310494927,0.6542912467328633,1.7607972401861784,1.1070547641724235,-1.140724952188706,0.2187468570032419,2.1180005352858617,0.2796035586418246,0.3409779623931441,0.24703086513583059,-0.07883355892764336,0.5639574188889451,0.3458316352803051,0.5530757304646262,0.3776434973100754,2.1180005352858617,-0.1179318223602341,-0.09844289474775544,-0.018254023844457158,0.056115426411167596,0.02762834311370136,-0.7993791927229599,-0.07215473461834158,0.48160305231297934,-0.7536506908015415,-0.05424825814600668,2.1180005352858617,1.2698241279360774,0.420014650176704,1.115201144589901,1.7660571068627975,1.356616284314471,0.5631389362567522,0.3693545523477655,0.45331732461659957,2.1180005352858617,-0.054222147788426836,-0.0218591415831071,-0.44412272681402426,-0.0714106963433737,0.02719509636854211,0.1405983353496013,1.9419107660074635,-0.04305054572944689,0.00949647146584743,0.5496054424690452,-0.043809800699262165,0.1516018400476467,0.9737347116997577,-0.09004035191183986,2.1180005352858617,0.7777682246538189,-0.17022907309895732,-0.11774424802977013,0.23397878139048414,0.6723376446283794,-0.2950891090120794,0.09389001059462308,0.3065999112830548,0.7900424187227225,0.11993033571366776,-0.12480967748497096,0.1804466026196587,0.44408848695475117,0.10161293464057725,-0.3463723114396473,-0.24935069058879672,0.8733568183364787,-0.09406961348354444,-0.6901107277740289,0.9233988380193597,0.9735641108368824,0.6096692069599784,0.813882309005952,1.5380127838045492,0.12198913421316279,1.9445192141133067,-0.27033999112416507,1.3770766137608592,0.25528354253900076,1.4815905853183506,0.5485452809912926,-0.7142750361378487,1.6155780012108834,0.12268294452785511,-0.39922872617234106,-0.18777491723328335,-0.20245559673671826,0.44458302327811333,0.21714453111846965,-0.17772170282671734,0.7056713419632487,0.01915534563669312,2.1180005352858617,-0.5252507933733227,0.14789556043951227,0.1832134616713911,-0.5131707224518522,-0.4836385264947631,0.28462006448691257,1.1488344426648567,-0.8447732076398496,-0.08709988844282625,-0.1977759292488179,1.976754413176753,0.1081125530803485,-0.17968839491727956,0.06798890634209999,0.17674154490467117,-0.042628043633582496,2.1180005352858617,0.34430931791983027,-0.25499182454461866,0.18525381046849645,0.09215406742371425,0.3815459215597631,0.21531545871127983,0.2737571890497166,-0.03729584897099936,0.8101480448110011,0.7402049101654857,-0.2490023878564367,0.928751379465578,0.46110090521602903,0.51086476432656,-0.3326608516473329,0.1782926161954541,-0.44632528976880076,0.06669535283196514,0.7996389794825675,0.3548047434358425,1.0022539697482649,2.1180005352858617,0.8606128776806022,1.9417993107819624,0.0870965731395514,0.25696829549644884,0.5926958758509521,-0.14556513098486987,-0.0941094232534611,1.1038449272013888,0.36454048407402356,1.5662674546923434,0.9432216946333069,0.1925997423830913,0.3782185273593253,0.1882215805206695,-0.19981986908478028,1.0092073866621831,0.20905681436642293,0.05822568453518997,0.6609330489752548,0.6269706099993333,0.490029261512832,0.10639576867165931,-0.7704300210654859,0.07223041529885946,-0.06982274757603336,0.26278344227707257,-0.2819091263922811,1.1636857914263374,0.6061144397829659,-0.09707818361506904,-0.1753122303578603,0.32443403425707756,-0.15136783975745535,0.7809432614259234,1.0507374790736927,0.37015536814373184,0.4868614100233525,-0.705495527460105,0.17103510611879583,0.13840661672122787,1.3952139637790386,0.04230428760906515,0.887953726713712,0.7301643483141715,-0.12275228498573945,1.444658704879611,0.20417106810787447,-0.2715293571328257,0.3545686197735119,-0.158390896124415,-0.1289189608800303,0.24286278678135523,0.027807274199001135,2.1180005352858617,0.6533140801856339,-0.237347074148171,-0.196377936603884,0.04011284680988047,0.2551499755086159,0.1230569575532337,-0.08991008450512002,0.4469274358726725,-0.3313462312993127,0.1259881843116514,-0.2456570368091882,1.9397424794358202,0.6287494919598611,2.1180005352858617,0.6167344950868486,-0.5500466575342687,-0.01683038620212226,0.49886208933669635,0.10203026306968557,-0.27911883744841465,-0.006238408368189597,0.11715067798321228,-0.10478671350262163,-0.22141904775635515,-0.7595361336709705,0.8268827154908012,0.8711217703200367,-0.1433830089696404,0.9687659696728089,0.5905129018177184,1.2819056780815719,0.2288790094550601,0.3168125869935754,2.1180005352858617,1.9316059989121137,2.1180005352858617,0.12616431563434077,0.36694385857656153,1.1704131359441867,0.16957481296086868,0.3604615977992308,0.9822489582872146,0.7374788795875625,-0.1867253424214908,-0.07961190970791572,1.8416324570952403,-0.0830096438664672,-0.12442971301358048,-0.05669781761578737,0.42842833655092205,0.11809014237077971,-0.020223871103835316,0.14957876632835265,2.1180005352858617,0.06589134658638668,0.1024234999234984,-0.3592387655495281,-0.024522002506168067,0.392350712259893,0.2414201989450284,0.3070453802615848,0.13099211887836684,-0.00030466491575101566,-0.13954064159105256,-0.018230996748785186,-0.02454069390555709,2.1180005352858617,-0.18701316222293274,0.26499336504929943,2.1180005352858617,-0.24054405427100634,0.07940812146174203,-0.04517944118908389,0.4412365856905717,1.5389290585261381,0.19743619058184303,0.02155945178008275,-0.6966748334866347,0.6547213838853131,-0.1698506064954022,-0.09844426873061689,0.09706182708698649,0.5677903706551598,0.8845907048550867,-0.7845990544857759,1.764038150752299,0.23484370909265012,0.28652364633796185,-0.15408792733172633,1.1119046420440788,-0.5407323260595756,1.8516170965126213,-1.1404289671993106,0.3054905667127737,0.7317012692338648,2.1180005352858617,-0.008723239692765039,0.30330285283674996,-0.5154769548168345,-0.10354485731918678,-0.7677938725297772,2.0225659227502617,0.11764931174879115,-0.42122576458801325,-0.45699848770344637,0.11876082944322573,0.3071842872589584,0.9729419624395441,1.766451487875848,0.058199033013197815,1.4635458663713872,0.12834608114969137,0.0032646322733523078,-0.08334344822982813,1.2894122980889855,0.28505738852848295,0.03682409058845872,0.9134996602158639,0.24682807775210935,0.36020360468357404,0.17943393113739498,1.9986336997669154,-0.1541779084854488,0.16795979536014755,0.7820898960729605,0.009162100496700559,0.04851249631993487,0.1555724441219099,0.040872376886517785,0.19556387817837523,0.4140187630374368,0.09179642624821785,0.18293466546130444,-0.20305465895588948,-0.06853831256292917,0.764344458013882,0.18558497263349558,0.02608714820185093,0.8593469242391976,0.12443385049440597,0.027795865299411793,1.1394210008874266,1.077752477332572,0.26313656825989096,0.06843531370570873,-0.02233259637292834,0.9817559939539929,0.6814382565554914,2.1180005352858617,0.06474279700715874,0.13557179951310963,0.10457830254785046,0.42516132197622264,1.7916824648938419,0.15717325394616322,0.14101629364690585,0.3624535198372816,-0.08369635527084032,1.3324003932542732,-0.022089548792824872,0.25037593085882887,0.7768105806556591,0.612416013587059,-0.06278025283163587,0.1893735150610344,0.08028703122044799,0.45383541936128025,-0.45390715932127595,0.1338183873167061,0.8612996176095964,-0.13632422399410427,0.03781341970179054,-0.039922209104351014,0.7914813637808654,-0.44426907436115826,0.0496144076081199,0.02046066991792508,-0.2537338331278488,-0.01303171183991172,-0.08680288060784697,-0.7499599523453874,0.7160863176511416,0.3241087483214297,-0.24845192386567794,0.6953612831034504,0.45134792909617305,1.0232020301358091,-0.16400992877605144,-0.7346713933014174,-0.14756463950524515,0.1284058973389542,0.18277763677478706,2.1180005352858617,1.171535101597659,0.8604449511630745,-0.17816709886062948,-0.06481882495780211,0.7802725327586315,2.1180005352858617,-0.22345306669400303,0.17297511859005163,0.2846014993861936,-0.2572524471582272,0.13737070462613146,0.25909268018250714,1.7374246119729273,1.534503386136756,-0.8395823729159458,-0.20671350750895714,-0.9290470958458613,-0.3503783505321229,0.7755960756557285,-0.9453857514100755,-0.35232586875065103,-0.3104153219955206,1.3821687528418698,-0.5968901875825886,-0.5929630273413,0.7249504854749232,-0.5088546096951343,-0.6577404844257269,-0.029282240754973942,2.1180005352858617,2.070599669987885,0.8982944822693668,0.14445412381168415,0.3602619406551757,-0.006981392409544815,0.1869408862406194,2.1180005352858617,-1.0131122764571692,1.0657201871296564,-0.7499623986298761,0.20834948087657823,-0.10042838340429618,0.39355936914637135,1.6043505380444019,2.1180005352858617,-0.0172095851766311,0.7050412690479397,-0.11624856697186228,-1.0992954245219546,-0.8182434855846714,1.0910545930560975,0.4824557702211107,-1.0135665291661733,0.9735455260524485,-1.0730878556809884,-0.47894911209496444,0.037617494112886514,0.07019269594419585,1.2994826366758774,0.7681490964052892,1.7526612069577896,0.44180584308183335,1.6894333480933401,0.4086008043195727,1.1549145544926531,0.018436796475069298,-0.1233644944811765,0.2670381809059782,-0.12053604642508917,0.06561350570849829,-0.7760708710126997,0.2900763248234692,-0.09916748537358146,-0.0744195773994349,-1.2235395317768643,-0.5832189928322247,-0.5169210103363532,-0.5294375288378945,0.0038406227837531697,1.047960209841887,0.07916362052945024,-0.06556348462190226,0.5118100158358859,-0.028475562241291386,0.41676373338173606,0.1473189916630846,0.4523034959763319,0.2111346745606514,0.17141298367394073,0.293205175140613,0.3865532446013206,2.1180005352858617,0.21576670270443452,-0.49201506671632744,-0.2599768351389943,0.33038116331861656,0.4685863179478344,-0.5437393951183589,-0.21980855422125983,0.2607179799370465,-0.24983302613106825,0.4948517281402878,-0.28467943597800716,0.7434479417447106,0.3296469045021412,0.9026418853419416,0.0037511433033776084,1.5635364822822222,0.342843973649844,-0.6228037951476761,-0.4860463606315729,-0.6499663688200357,0.7343960469076983,-0.38824744518842125,-0.6258615027339023,-0.355829967405776,-0.019082924303461538,0.4937958056386255,0.35940185213814285,2.1180005352858617,0.2069415725553193,0.13647374950963886,0.3171225959044962,-0.1758817608733675,-0.058558429582024916,1.1626036137795641,0.35346785814230774,-0.27357597618270824,0.6461753332909865,0.9558835397413503,-0.2938178727835239,0.717254982835278,0.15833960758801202,2.0906048293790507,1.1164354614404943,0.10044059535160284,0.11503209213082259,0.10860937322885965,0.6896480167257073,0.7285647694795109,0.029480652493404074,-0.1566941922211443,0.005292160908204966,0.002990718473959133,-0.15916566656139583,0.5409828830584098,-0.2235391996202355,0.40838287273920215,1.425503619261906,1.886763419958117,0.45403893997872924,0.8662427221110395,0.036133016789537564,-0.4083756245578058,1.2793703294526522,0.22902323445387507,-0.19293868645887977,0.9016322198914909,-0.18400206643394731,0.24851426542165567,0.5820649904664617,-0.13952471891897264,-0.26973313979241875,0.30125537970566574,-0.11828690527956022,0.12175833259876269,2.1180005352858617,-0.00907525600282532,0.39645273380038953,2.1180005352858617,1.5496951942146706,-0.8273471645127716,-0.05195071998929691,0.5387649635103172,1.0496217649981356,1.2417766117323514,0.10932758384041727,-0.07757959780567392,0.4768092135026334,0.2386110005607619,0.7228562840367683,0.5092865098978766,0.28977934953813006,-0.9178342835254596,-0.1889247250328146,0.20211528014885782,0.16652226158157707,0.4967956708359131,0.06423632945526081,0.12031154455397809,1.286113198563689,0.16361386926767532,0.06261556823073197,0.512451774445058,-0.08940212562059432,0.638175542839429,-0.31791728311188644,0.17357010404601808,0.23123025429064095,0.0369112450866383,0.10959002303630815,-0.9481126357077407,1.8754764069782286,2.1180005352858617,2.1180005352858617,0.12802256872616014,0.7219667416466119,0.3490517553397493,0.19091496699694976,0.5286511005193276,-0.06296536910695796,1.3333302954910213,0.9923387849065701,1.3116017598306935,0.4362674965631562,-0.0974851761459608,-0.20303854923841225,-0.2956883172464949,-0.3248612453535409,-1.2196959852764166,0.6994611642993029,-0.4595478516689292,-0.265822406915787,-0.3944083037704111,-0.5712010735609158,-0.5087683213454078,0.4860625683085998,-0.018584552910150574,0.06168747766501658,-0.07204135789997647,0.6349037852265195,0.0333860313936344,1.0160347982565676,0.05880744525200405,0.9849091822762602,0.4549055560009594,-0.013804238801103265,1.9520954151969534,0.18570918082594093,0.07983036914040015,0.16034970205176408,0.5324521903308121,-0.12182828738383733,0.026147568489388474,0.23032992494542584,0.8786791382785734,0.2757649361108793,-0.033678919356106486,-0.026638935786927304,0.5731207976976064,0.044289444840911664,1.9850196015982005,-0.10409257439485776,0.13375168419795366,-0.5200586104154786,0.19767291887633767,0.8379068041152115,-0.023414371945470892,-0.055463789531359275,0.6164436598580153,0.016150158080813763,-0.9757477048104706,-0.0527749018458873,0.05837238635070919,2.1180005352858617,1.6070905514895821,0.6277460996804819,0.21633112482542718,-0.11097598508263191,0.06807548960190003,-0.22607450648974958,-0.05968924111229215,0.5784367925456724,1.171608148038366,-0.1589139961171892,-0.11842435787356367,0.11980080260502324,2.1180005352858617,0.5304225297523805,0.5725483228499594,0.2790870876738855,0.5133550839773293,2.1180005352858617,-1.002081224120841,0.9746902719435683,-0.07642713861218253,1.7663733333319553,-0.6901421856995611,-0.7563451465223899,0.29058489308975016,0.3368437016886954,1.9468399358521344,0.04102714348724414,-0.027664167703802568,0.43046909238390757,0.8496304479007432,2.1180005352858617,0.15256721796498376,0.9184968824083619,-0.38657300811991024,-0.6485021483462081,-0.5972484324257378,2.1180005352858617,0.5559360724550676,-0.5195717382960588,-0.11838435693350256,2.1180005352858617,0.4046823963053365,0.07857300400435747,2.1180005352858617,-1.0892592835720563,0.05274770056377841,-0.04852922144885173,0.17200917198639212,0.09313378038430498,0.04388894896115187,-0.19687715083735796,-0.009155502655154055,1.677031309835304,-0.44219845632694016,0.6595231548141489,-0.025364448254562015,0.7117948713352222,0.705253416345801,2.1180005352858617,1.454614839689398,0.25491957092356976,1.2315281922104862,1.1802242043310294,0.214864706686161,0.229588724697158,-0.03735774793450117,0.007991068907957907,0.21485626368246175,0.43177526531000854,0.9665549293804908,-0.5317451066113776,0.4336251723428282,1.0401588434471007,0.27485850332640055,-0.19504018605813025,-0.07231792870376455,-0.043465638352060666,0.5156174681671614,0.06991511361667012,0.39152356212581657,-0.2335488976160142,1.0405415323430467,-0.051156295190060354,-0.039095029934082266,2.1180005352858617,0.9749239951849746,0.5668872947629942,0.1038510164045153,-0.4741811093907609,0.532638064042747,-0.7907140487223296,1.0367122328445586,0.2540627883899635,-0.28268072392454396,-0.64507844607112,-0.8247335081136781,0.11822602924962604,-0.0488404905262647,0.31784556309305395,0.8413041664639545,0.14611434640079057,0.7628055642538096,-0.7323313929117675,-0.49736348590123003,-0.686150176602435,2.1180005352858617,0.5083668123382206,0.1545723930937418,1.7964196447876752,0.0858078064550945,0.5545624726137564,0.7234145690808492,0.1806832646994791,1.104285565415699,-0.8482891371329451,0.09566457618674722,0.3105766701574569,-0.46109983891741185,0.12622960469568556,2.1180005352858617,-0.28271621027059124,-0.40435975455567624,0.08558285733251395,0.15678461756717912,-0.015514535435495523,-0.00739318991204863,-0.6293434630635054,-0.027665605010837854,-0.04725253961407002,0.29686444867210854,0.9651183545569284,0.4762217907386733,-0.23563752594108348,0.8172153775542418,1.799317178122599,-0.10193878820189341,0.7513275739637617,-0.11484679752388684,0.051406487907339385,0.8817689364166373,0.7002642906511669,0.11721838345185337,-0.38246704481714305,0.14614509724639227,0.17588185902533574,0.041631550460609394,0.6052263430593128,0.6273355492210316,0.45855914152806543,0.09297784587667941,0.11182148499800099,-0.05567462692741173,0.03308518357422882,1.5362380211269888,-0.23048332846746966,2.1180005352858617,1.92832855515348,-0.17245888436808762,-0.09449051059939517,1.802220968505306,0.033756141081902086,0.11965384386360133,1.0912912551562648,0.8862341712772557,2.1180005352858617,0.20442694559955743,-0.07576553468333107,1.00128506863907,1.4132429150875203,1.0303599284181229,1.863109972693549,-1.0112318901561312,-0.6007702967138197,0.14245491830862847,-0.8878687370787702,0.24862037261670158,-0.6228570262669165,0.14003591738249882,-0.5433901746656888,0.1972869349214301,-0.19817266383769785,0.30670834173706596,0.10031152573948031,0.12542012100237857,0.4887816406946045,-0.6489653716591439,0.800507921361938,-0.45955929259228767,-0.064657790444951,0.1898985077351388,0.09002524399736381,0.02836233812922835,0.39794630397625036,0.1292698866571281,1.6384924855280143,-0.10562388360368383,0.5763372513290084,-0.024759867244180275,0.21686463463747957,0.5044730846413544,0.09360511084272816,-0.7054476993198062,-0.1787518804761621,0.5056582744468204,-0.632389355491425,-0.5853380622618041,-0.3146942457901672,-0.04835045861652504,-0.556107526155549,0.0007085456787215631,0.274310998188818,1.038959420742048,1.8934797425019259,0.23488619412071984,-0.36140193593414477,1.2476186469558317,-0.43385342085223316,2.1180005352858617,-0.006481827143639609,1.063914270213408,0.4015044214786814,0.024674898292159717,-0.02542098576847897,0.894988058061957,0.46897677813529354,-0.6600141993747454,-0.03345431533572832,0.030036123192986194,-0.08727447633959234,1.4338631218633493,0.09520440275111935,-0.1687112792944667,0.11050034805927245,-0.007094777661233781,0.26918799177056774,-0.009955051776567943,0.8129926354077592,0.15744297666054027,-0.2658849753740119,0.2654252242384237,1.0389602932189066,0.5259761184901285,0.27656338411351056,0.0700171708813415,2.1180005352858617,0.3035960135543299,0.3281227988249867,0.21582058469961796,0.2575312980043728,-0.17013334406265823,-0.07474983266204198,-0.023832621291137793,1.1986495039535723,0.36236076042023047,1.2564005940019265,0.690838210151061,1.4397790932813024,0.42621492041177667,-0.623060333108146,0.02069395862108563,-1.1937668447817857,0.18132171901634925,-0.8681951530302601,-1.2910064563908197,0.3125738671063237,0.10336117899132273,-0.7329739555394673,-0.2906576475040989,-0.5100962776236823,-0.2594672892651129,2.1180005352858617,0.1347302842446239,-0.360574025205294,0.19103302644799638,-0.8916882727825981,0.7297371755619871,0.06439829237092912,-0.621860577822164,-0.7161632202907406,0.008931326309844183,-0.7437963843212354,2.1180005352858617,2.1180005352858617,2.1180005352858617,2.1180005352858617,1.2227004323201118,2.1180005352858617,-0.43954134553327334,0.112680117541037,0.11397968549441104,0.11838510223569974,0.509256154697654,0.21617324568214544,-0.04085829472992658,0.0848587660695452,1.4282438754553435,0.020711589508425547,0.42505239276621526,-0.06172580823084834,-0.8735738640419559,2.1180005352858617,-0.017632437257230155,0.2758697326713127,0.2633503592959676,-0.2548954150259335,-0.17455614654610965,0.602929897435812,0.8240527433598089,0.45624207699697855,0.40104374882738125,-0.057127901988381406,2.1180005352858617,0.6182966497926594,0.33751184313964655,-0.2323897302748997,0.16759040070975284,1.6493857044324591,0.1813924057855269,-0.2625765605252856,0.1132382849438279,0.3197146678218113,-0.1218483159557321,0.028264451886946065,0.5408060650486829,-0.9126830977382575,0.48282626898077285,-0.2915972550058351,0.07918932412223698,-0.6721198431234867,-0.8668240549307946,-1.2349425493650836,-0.1867515797613794,-0.2156038084635296,-0.30620195141960205,1.4390761657862092,-0.22491978174540814,-0.33940535913165093,0.10890678095939903,0.07448481402945643,0.16575844167617282,-0.034025253160613236,0.09958615744662443,0.598851196555527,0.6705848422910703,0.21006423426608883,0.11295533684306433,0.24472422265881127,1.0981600258307083,0.021076359551039793,0.3776624400122076,1.3672812771742235,0.700436236005603,0.6661113820596012,0.027663015035665758,1.4593037359479306,0.24502930480955662,0.46889168574924756,0.18679244683985777,0.09695111163921102,0.17400515123706078,0.030811706959777325,0.45853031944533823,0.019882266377789483,0.6014200611411533,0.3721002659457062,0.16177178091987113,0.4187711286546645,0.03546287370610799,-0.0009345793566879059,0.43982286971338896,0.11408425731115729,-0.19350824890928242,0.13985915745924143,1.5780992775571234,-0.028360363807868223,-0.8488205574422681,0.09316665348656143,-1.1287082179981225,0.2622824132187841,-0.3931472923488794,-0.6976979002053844,-0.5576035874892847,2.063424561098746,-0.8374659799104875,-0.5318475419738738,-0.8564958256662726,0.5855208464830192,-0.008284246560765433,-0.8174448521653921,0.3817115053709892,0.017353382781878285,0.05325032469049203,2.1180005352858617,2.1180005352858617,0.5329764986223741,-0.8081374088092812,0.26896185213668605,0.6456958639535043,-0.03220203970551282,-1.2495562824834563,-0.6189619091089343,0.43477800420201385,2.1180005352858617,2.1180005352858617,1.2223101340340272,2.1180005352858617,2.1180005352858617,2.1180005352858617,-0.10277873771161924,-0.175507818764816,-0.5069450590755361,1.7882257325219044,-0.49057802615111396,-0.9007511495716455,-0.07874645133407086,0.10609934759939592,1.2624299714069953,0.0017882139217355025,1.4515400286407592,0.07079595326469343,-0.5502326826713594,0.6873112638181683,2.1180005352858617,1.1785100365823926,0.4829588397166543,2.1180005352858617,0.053215326920681885,-0.19025950079096873,0.8798002105574688,1.439035069668706,1.7289434719553265,-0.40039084899289734,0.19770030068945801,0.9992561859366016,0.35580379840134513,1.0841353956122104,0.06901699767693574,0.17723386598185698,-0.1587203787799087,0.633477161949194,0.8808369447988799,0.15289799433842444,-0.2677035238706544,0.05351891598312163,-0.09271183583694434,0.4144432174763891,0.21275602282108974,0.2844954966413416,1.2150535471139277,0.8251008698795776,0.04237666241640449,-0.10040859961666916,0.17786344221697012,0.6535434279779737,-0.2322380441767132,0.16963238964366606,0.1663827407425204,0.08184311064088412,1.7437019868308516],\"type\":\"scatter3d\"},{\"hovertemplate\":\"color=1\\u003cbr\\u003eR=%{x}\\u003cbr\\u003eF=%{y}\\u003cbr\\u003eM=%{z}\\u003cextra\\u003e\\u003c\\u002fextra\\u003e\",\"legendgroup\":\"1\",\"marker\":{\"color\":\"#EF553B\",\"symbol\":\"circle\"},\"mode\":\"markers\",\"name\":\"1\",\"scene\":\"scene\",\"showlegend\":true,\"x\":[0.31340503571759937,1.2385018978431819,-0.31990150608654505,1.598938395402121,0.17198715243642307,-0.02539961923376869,0.8987032758976307,0.34571430810697656,1.2516356508840607,0.9805447107777983,0.3562475187220542,0.5459957650446206,0.07851889605082174,0.3769752869962793,-0.7306525844792078,0.809804685014131,0.8615423451819304,0.3350646851189304,-0.12491236560944892,1.2252054909485246,-0.6311452942371958,0.3023891665955865,1.2252054909485246,0.7692053784650931,0.8987032758976307,0.9107983804049548,1.598938395402121,0.005503585960699865,0.3769752869962793,1.3272449922805203,1.4960590990225464,0.6827783112463538,0.836000228777023,1.598938395402121,1.3393483886689315,1.2207364654049433,1.598938395402121,0.5630989116430486,1.49953103727167,1.427926248062256,0.3023891665955865,-0.2367319949540843,0.2570119267694014,0.020574856189771673,0.836000228777023,0.4072576584316042,1.5029921089389071,0.8678297804217232,-0.1075530895966576,1.4785338383308824,-1.1321741112296053,0.44621961821142064,1.2385018978431819,1.1024552168121196,1.1935232968645841,1.056421792215199,0.836000228777023,0.7692053784650931,0.44621961821142064,0.1846113954736021,1.598938395402121,1.2252054909485246,0.9520511417613805,0.4171453551917686,-1.257752896525174,0.6599616545265186,-0.3878652828544288,0.2912451891453697,0.36666698611879595,1.471445065125726,0.1846113954736021,-1.076243951684915,0.7760853963238139,0.7553039107044391,1.4785338383308824,0.5459957650446206,0.803149486260823,0.5018948089084776,1.1561253409348902,1.598938395402121,-0.19789104025348928,0.17198715243642307,1.449900915240012,1.449900915240012,0.7269155314093558,0.34571430810697656,1.1749883400443766,0.3769752869962793,0.48368566458084494,0.9462574708132717,0.1462192969433101,1.4535210168130894,1.598938395402121,-1.8521934359037502,0.9404312689870749,-0.2367319949540843,0.2799698981507611,0.3769752869962793,1.598938395402121,-0.36462050367289117,0.2570119267694014,-0.009818235006318548,0.3023891665955865,1.188919650454555,0.803149486260823,0.3023891665955865,1.420502494150731,-0.21710065005436333,1.3513183893389573,0.5964444341623373,0.8229863481851706,1.4785338383308824,0.2912451891453697,-0.8851703257151666,1.1981071863651216,0.17198715243642307,0.5459957650446206,0.7124167647355311,1.5667793731444544,0.17198715243642307,1.598938395402121,0.7897073484105367,-0.7306525844792078,1.598938395402121,0.03540411833894496,1.2559781482994525,0.17198715243642307,0.7622784447699149,0.836000228777023,0.020574856189771673,1.0923978128936804,1.5667793731444544,1.3941158059329428,0.1846113954736021,0.48368566458084494,0.5108743686475116,0.0924572327672441,1.0137393946719864,-1.257752896525174,0.4269335229863305,0.04999947759018869,1.5536514579613998,-0.02539961923376869,1.0191707386262892,0.3562475187220542,0.8802904730094693,1.2026714981207924,1.2252054909485246,-0.09051956966595308,0.6752302316723932,0.020574856189771673,0.9749080800786297,0.9404312689870749,0.6287080414316558,0.7412092259052417,0.6046088259845442,0.7412092259052417,1.598938395402121,0.2912451891453697,0.4072576584316042,-0.07379909377925897,0.34571430810697656,1.3191003789361428,0.4366242652535963,0.2570119267694014,1.598938395402121,1.1796523576035187,0.6046088259845442,1.2559781482994525,0.4557215537170642,1.3748704298240557,0.005503585960699865,0.36666698611879595,1.598938395402121,0.9805447107777983,0.6902701318359551,0.005503585960699865,0.9917273236030483,0.6207395076806993,1.1320660500763247,0.7829191679414758,1.59576385230834,1.2559781482994525,-0.7666487213628687,1.598938395402121,0.9404312689870749,0.6366134849225802,0.5373319429218385,0.3023891665955865,0.44621961821142064,0.5545842960057757,0.0924572327672441,0.9107983804049548,0.4171453551917686,0.6366134849225802,0.07851889605082174,1.4749951474772849,0.2799698981507611,1.3552792821693935,0.1061902694177052,0.268559964131286,0.6046088259845442,1.1655986149393702,-0.12491236560944892,-0.07379909377925897,1.1608725201198686,1.1561253409348902,-0.5421551373118021,0.7050885068234186,0.6127068049311722,-0.48760152900548803,0.7897073484105367,0.3562475187220542,0.9520511417613805,0.6752302316723932,1.5536514579613998,0.07851889605082174,-0.02539961923376869,0.23348700398832375,0.6127068049311722,-0.8437266698929384,0.268559964131286,1.4092717137573552,-0.36462050367289117,0.9167932378678173,1.471445065125726,1.4785338383308824,1.2340880454730119,1.598938395402121,0.49283245352238464,0.5799117113306071,1.0873329561508953,1.598938395402121,0.809804685014131,0.7622784447699149,-0.09051956966595308,1.598938395402121,1.598938395402121,0.20936455161136372,-1.712887257911223,0.11972432219201537,0.4366242652535963,1.056421792215199,1.598938395402121,1.598938395402121,1.2858949825698551,0.809804685014131,0.7269155314093558,1.5064423859847427,-0.5707949071861215,-0.02539961923376869,0.22150247816845448,0.6366134849225802,1.598938395402121,-0.3419765950858465,1.598938395402121,1.2117420927396292,0.36666698611879595,1.598938395402121,1.598938395402121,0.5108743686475116,-0.6311452942371958,0.8295139775618187,0.7692053784650931,1.2340880454730119,1.0352977480064143,0.48368566458084494,1.1222874858884626,1.3787467496533907,0.48368566458084494,-0.7666487213628687,1.598938395402121,0.4072576584316042,-0.5421551373118021,1.598938395402121,0.5799117113306071,-0.009818235006318548,0.2570119267694014,-1.076243951684915,1.598938395402121,0.48368566458084494,1.598938395402121,1.2516356508840607,0.7050885068234186,1.3941158059329428,1.4389685357920525,0.6676249884612706,0.20936455161136372,1.3272449922805203,1.576524769338559,1.2559781482994525,1.3513183893389573,-0.8851703257151666,0.6599616545265186,0.8615423451819304,0.005503585960699865,0.6127068049311722,1.2072164088238007,1.3433530560952651,1.482061215019553,1.598938395402121,0.3871749098576018,1.598938395402121,0.44621961821142064,0.7340876272555038,0.47445275410745935,-0.3878652828544288,1.598938395402121,1.5536514579613998,1.5064423859847427,0.5545842960057757,1.2559781482994525,0.11972432219201537,1.3709802815511023,0.9520511417613805,1.5503451391926129,1.4535210168130894,0.1970689943611111,1.3150050037039733,0.7553039107044391,0.5545842960057757,0.2799698981507611,0.44621961821142064,1.188919650454555,1.2858949825698551,1.4462688574675304,-0.009818235006318548,1.056421792215199,0.2799698981507611,-0.2367319949540843,1.2516356508840607,1.1561253409348902,0.9578126650937075,1.449900915240012,0.1462192969433101,1.5700373147716147,0.6046088259845442,0.0924572327672441,0.1846113954736021,0.2912451891453697,0.3023891665955865,-0.36462050367289117,-0.7666487213628687,0.9917273236030483,1.53029797054939,0.5108743686475116,0.9861510104649984,0.03540411833894496,1.598938395402121,0.6599616545265186,0.36666698611879595,1.3787467496533907,-0.43630024038590276,1.598938395402121,0.31340503571759937,1.4092717137573552,0.8164167761291535,1.2901018650001457,1.4462688574675304,0.03540411833894496,-0.07379909377925897,-0.3878652828544288,1.598938395402121,1.471445065125726,1.598938395402121,0.3350646851189304,0.20936455161136372,0.6827783112463538,1.482061215019553,0.6752302316723932,1.449900915240012,-0.4117458300932499,1.2559781482994525,1.5235343202290363,0.9047685385305723,0.4171453551917686,-0.1790843810306204,0.13306541490847987,1.1024552168121196,0.6366134849225802,0.4269335229863305,-0.5144446017526655,0.7829191679414758,1.4462688574675304,0.34571430810697656,0.6287080414316558,0.9749080800786297,1.3433530560952651,1.1465669236247935,-0.6311452942371958,-0.07379909377925897,1.051180483933196,1.397924519368555,1.4389685357920525,0.6207395076806993,0.020574856189771673,0.6127068049311722,1.5893875846500638,0.836000228777023,-0.36462050367289117,-0.07379909377925897,-0.6004326729052085,0.7340876272555038,0.4269335229863305,0.7760853963238139,-0.009818235006318548,0.3350646851189304,0.9861510104649984,1.26030318775409,1.0974384851518169,-0.12491236560944892,0.3562475187220542,0.268559964131286,0.9462574708132717,1.26030318775409,0.7553039107044391,0.9578126650937075,-0.7666487213628687,0.2799698981507611,1.598938395402121,0.7760853963238139,0.5018948089084776,0.5545842960057757,1.2340880454730119,0.34571430810697656,1.040618745512789,0.4269335229863305,0.020574856189771673,1.0137393946719864,1.1024552168121196,1.1749883400443766,0.7622784447699149,0.6522392795927222,1.598938395402121,1.1655986149393702,0.2912451891453697,0.2912451891453697,0.268559964131286,0.4171453551917686,0.8615423451819304,0.36666698611879595,-0.5707949071861215,0.44621961821142064,1.5029921089389071,1.598938395402121,0.7829191679414758,0.8926021477822247,-0.19789104025348928,1.1655986149393702,0.6827783112463538,0.997273988708928,1.49953103727167,0.3769752869962793,1.040618745512789,0.803149486260823,0.31340503571759937,1.5269213007340978,1.598938395402121,-0.7306525844792078,-0.8042843673469895,0.5373319429218385,0.49283245352238464,1.598938395402121,1.2296559633773885,0.9520511417613805,-0.009818235006318548,0.4269335229863305,-1.257752896525174,0.3871749098576018,1.2252054909485246,1.2901018650001457,1.598938395402121,-0.07379909377925897,-0.5707949071861215,0.4366242652535963,-0.5421551373118021],\"y\":[0.669447352467974,-1.1594934286708523,-1.1594934286708523,-0.20783760717720262,-0.20783760717720262,-1.1594934286708523,-1.1594934286708523,0.3236613802751872,0.3236613802751872,-0.20783760717720262,-0.20783760717720262,-1.1594934286708523,-1.1594934286708523,-1.1594934286708523,-0.20783760717720262,0.3236613802751872,-0.20783760717720262,-0.20783760717720262,0.3236613802751872,-0.20783760717720262,-1.1594934286708523,-1.1594934286708523,-0.20783760717720262,1.100329643113481,-0.20783760717720262,0.3236613802751872,-1.1594934286708523,1.2455994551193863,-1.1594934286708523,0.3236613802751872,-0.20783760717720262,-0.20783760717720262,-0.20783760717720262,-1.1594934286708523,-1.1594934286708523,-1.1594934286708523,-1.1594934286708523,-1.1594934286708523,-1.1594934286708523,-1.1594934286708523,0.9152164429632184,1.100329643113481,-0.20783760717720262,-1.1594934286708523,-1.1594934286708523,-0.20783760717720262,-1.1594934286708523,-0.20783760717720262,0.3236613802751872,-1.1594934286708523,-0.20783760717720262,-1.1594934286708523,-0.20783760717720262,0.3236613802751872,-0.20783760717720262,-0.20783760717720262,0.669447352467974,-1.1594934286708523,0.669447352467974,1.3631456173323904,-0.20783760717720262,-1.1594934286708523,1.4605421243462684,-1.1594934286708523,-1.1594934286708523,1.100329643113481,0.3236613802751872,-0.20783760717720262,0.3236613802751872,-1.1594934286708523,-0.20783760717720262,-0.20783760717720262,-1.1594934286708523,1.4605421243462684,1.3631456173323904,-1.1594934286708523,-1.1594934286708523,-1.1594934286708523,-1.1594934286708523,-1.1594934286708523,0.669447352467974,-0.20783760717720262,-1.1594934286708523,-1.1594934286708523,0.3236613802751872,0.669447352467974,-0.20783760717720262,-1.1594934286708523,0.3236613802751872,-0.20783760717720262,-1.1594934286708523,-0.20783760717720262,-1.1594934286708523,-1.1594934286708523,-1.1594934286708523,0.669447352467974,-0.20783760717720262,-1.1594934286708523,-1.1594934286708523,-0.20783760717720262,-1.1594934286708523,-1.1594934286708523,-1.1594934286708523,-1.1594934286708523,0.3236613802751872,-0.20783760717720262,-0.20783760717720262,0.3236613802751872,-1.1594934286708523,0.669447352467974,0.3236613802751872,-0.20783760717720262,-1.1594934286708523,-0.20783760717720262,-1.1594934286708523,-1.1594934286708523,1.6133136899176406,-1.1594934286708523,-0.20783760717720262,-1.1594934286708523,-1.1594934286708523,0.3236613802751872,-1.1594934286708523,-1.1594934286708523,0.9152164429632184,-1.1594934286708523,-1.1594934286708523,-0.20783760717720262,0.3236613802751872,-0.20783760717720262,0.3236613802751872,0.3236613802751872,-1.1594934286708523,-1.1594934286708523,0.3236613802751872,0.3236613802751872,-1.1594934286708523,0.3236613802751872,-0.20783760717720262,-1.1594934286708523,-1.1594934286708523,-1.1594934286708523,-0.20783760717720262,-0.20783760717720262,0.3236613802751872,-1.1594934286708523,-1.1594934286708523,-1.1594934286708523,0.3236613802751872,0.3236613802751872,-1.1594934286708523,0.669447352467974,0.3236613802751872,0.669447352467974,-0.20783760717720262,-1.1594934286708523,-1.1594934286708523,-1.1594934286708523,1.100329643113481,-1.1594934286708523,0.669447352467974,-0.20783760717720262,-1.1594934286708523,0.669447352467974,-0.20783760717720262,-1.1594934286708523,-0.20783760717720262,-1.1594934286708523,-1.1594934286708523,-1.1594934286708523,-0.20783760717720262,0.3236613802751872,-0.20783760717720262,-1.1594934286708523,0.3236613802751872,-1.1594934286708523,-0.20783760717720262,-1.1594934286708523,1.3631456173323904,-0.20783760717720262,0.669447352467974,-1.1594934286708523,-1.1594934286708523,-1.1594934286708523,-1.1594934286708523,-1.1594934286708523,0.3236613802751872,0.3236613802751872,-0.20783760717720262,0.3236613802751872,0.3236613802751872,-1.1594934286708523,-0.20783760717720262,-1.1594934286708523,-1.1594934286708523,-0.20783760717720262,-1.1594934286708523,0.669447352467974,0.3236613802751872,-1.1594934286708523,0.3236613802751872,-1.1594934286708523,-1.1594934286708523,-1.1594934286708523,-1.1594934286708523,-1.1594934286708523,0.3236613802751872,-0.20783760717720262,-0.20783760717720262,-0.20783760717720262,-0.20783760717720262,-1.1594934286708523,-1.1594934286708523,-0.20783760717720262,-0.20783760717720262,-1.1594934286708523,0.3236613802751872,-1.1594934286708523,0.669447352467974,0.3236613802751872,-0.20783760717720262,-0.20783760717720262,0.3236613802751872,-1.1594934286708523,-0.20783760717720262,-1.1594934286708523,-0.20783760717720262,-1.1594934286708523,-1.1594934286708523,-0.20783760717720262,0.669447352467974,0.3236613802751872,0.3236613802751872,-1.1594934286708523,0.3236613802751872,-1.1594934286708523,-1.1594934286708523,-1.1594934286708523,0.3236613802751872,-1.1594934286708523,0.669447352467974,-1.1594934286708523,-1.1594934286708523,-1.1594934286708523,-1.1594934286708523,-0.20783760717720262,0.3236613802751872,-1.1594934286708523,-1.1594934286708523,-1.1594934286708523,-1.1594934286708523,1.2455994551193863,-1.1594934286708523,-1.1594934286708523,-0.20783760717720262,0.669447352467974,-1.1594934286708523,-1.1594934286708523,-1.1594934286708523,-1.1594934286708523,-0.20783760717720262,-1.1594934286708523,-1.1594934286708523,-1.1594934286708523,-0.20783760717720262,-1.1594934286708523,0.9152164429632184,-1.1594934286708523,-1.1594934286708523,-1.1594934286708523,-0.20783760717720262,-1.1594934286708523,-1.1594934286708523,-1.1594934286708523,-1.1594934286708523,0.9152164429632184,0.669447352467974,-1.1594934286708523,-1.1594934286708523,-0.20783760717720262,-0.20783760717720262,-0.20783760717720262,-1.1594934286708523,-0.20783760717720262,-1.1594934286708523,-1.1594934286708523,-0.20783760717720262,-1.1594934286708523,0.3236613802751872,-1.1594934286708523,0.3236613802751872,0.669447352467974,0.3236613802751872,0.669447352467974,-1.1594934286708523,-1.1594934286708523,0.9152164429632184,-0.20783760717720262,-0.20783760717720262,-1.1594934286708523,-1.1594934286708523,-1.1594934286708523,-1.1594934286708523,0.3236613802751872,-0.20783760717720262,1.100329643113481,0.3236613802751872,-0.20783760717720262,-1.1594934286708523,-1.1594934286708523,-0.20783760717720262,-0.20783760717720262,0.669447352467974,-1.1594934286708523,0.3236613802751872,-1.1594934286708523,-1.1594934286708523,-0.20783760717720262,-0.20783760717720262,0.3236613802751872,1.3631456173323904,0.669447352467974,0.9152164429632184,0.3236613802751872,-1.1594934286708523,-1.1594934286708523,-1.1594934286708523,-1.1594934286708523,-1.1594934286708523,0.669447352467974,-1.1594934286708523,-1.1594934286708523,-1.1594934286708523,-1.1594934286708523,-1.1594934286708523,-0.20783760717720262,-1.1594934286708523,-1.1594934286708523,-1.1594934286708523,0.3236613802751872,-1.1594934286708523,-1.1594934286708523,0.3236613802751872,-1.1594934286708523,-0.20783760717720262,0.3236613802751872,1.6745796741473788,-1.1594934286708523,-1.1594934286708523,-1.1594934286708523,-0.20783760717720262,-1.1594934286708523,0.3236613802751872,-1.1594934286708523,-0.20783760717720262,-0.20783760717720262,0.669447352467974,-0.20783760717720262,-0.20783760717720262,-1.1594934286708523,-1.1594934286708523,-1.1594934286708523,-1.1594934286708523,-0.20783760717720262,-1.1594934286708523,0.3236613802751872,-1.1594934286708523,-1.1594934286708523,-1.1594934286708523,0.3236613802751872,-1.1594934286708523,-0.20783760717720262,-1.1594934286708523,0.3236613802751872,0.669447352467974,0.3236613802751872,-0.20783760717720262,0.3236613802751872,-0.20783760717720262,-0.20783760717720262,0.3236613802751872,-1.1594934286708523,-1.1594934286708523,-1.1594934286708523,-1.1594934286708523,0.3236613802751872,-1.1594934286708523,-1.1594934286708523,0.3236613802751872,-0.20783760717720262,-0.20783760717720262,0.669447352467974,-1.1594934286708523,1.3631456173323904,-0.20783760717720262,0.9152164429632184,0.669447352467974,-1.1594934286708523,0.3236613802751872,-1.1594934286708523,0.3236613802751872,-0.20783760717720262,-1.1594934286708523,-1.1594934286708523,-0.20783760717720262,-1.1594934286708523,0.669447352467974,-0.20783760717720262,-1.1594934286708523,-0.20783760717720262,-0.20783760717720262,-1.1594934286708523,-1.1594934286708523,0.3236613802751872,-1.1594934286708523,0.9152164429632184,-1.1594934286708523,0.3236613802751872,-1.1594934286708523,-1.1594934286708523,-1.1594934286708523,0.669447352467974,0.3236613802751872,-1.1594934286708523,-1.1594934286708523,0.3236613802751872,-1.1594934286708523,-0.20783760717720262,-0.20783760717720262,-0.20783760717720262,-1.1594934286708523,1.100329643113481,-1.1594934286708523,-1.1594934286708523,0.9152164429632184,-0.20783760717720262,-1.1594934286708523,1.2455994551193863,-1.1594934286708523,-1.1594934286708523,0.9152164429632184,-1.1594934286708523,-1.1594934286708523,-1.1594934286708523,-1.1594934286708523,-1.1594934286708523,-1.1594934286708523,0.3236613802751872,0.669447352467974,-1.1594934286708523,0.3236613802751872,-1.1594934286708523,0.3236613802751872,0.3236613802751872,-0.20783760717720262,-1.1594934286708523,-1.1594934286708523,-1.1594934286708523,-0.20783760717720262,-1.1594934286708523,-0.20783760717720262,0.669447352467974,-1.1594934286708523,-1.1594934286708523,-0.20783760717720262,0.3236613802751872,0.669447352467974,-1.1594934286708523,-1.1594934286708523,-0.20783760717720262,-1.1594934286708523,-1.1594934286708523,-1.1594934286708523,-0.20783760717720262,-1.1594934286708523,0.3236613802751872],\"z\":[1.5484017854474494,0.9257546343912906,1.2976799521097182,1.0898705700435147,1.2908381161257727,2.019996518317319,0.7848805415434147,2.1180005352858617,0.7672620998020827,1.5636772783173114,2.1180005352858617,0.790545484204231,2.1180005352858617,1.8544050838529529,1.4504399860943318,1.633552754951912,0.7048475390296904,1.3763372149339046,1.3211428054193661,2.1180005352858617,2.1180005352858617,0.9864362699353116,0.7656973129024575,2.1180005352858617,1.3990452779934675,0.5856693383644738,1.5595013355102314,2.1180005352858617,1.9752354460354984,1.3082837599008448,2.1180005352858617,0.660684151164593,0.5990575632420608,1.0065021237492615,0.9401411549139498,2.1180005352858617,2.1180005352858617,1.6497337264744176,1.130848517944057,2.1180005352858617,2.1180005352858617,2.1180005352858617,0.8343241055009277,2.1180005352858617,1.340603596490292,0.8988004597347038,2.1180005352858617,2.1180005352858617,1.5344198098921649,1.1627945029088196,2.1180005352858617,1.2087515165386282,1.7931017091807067,2.1180005352858617,1.4634313285760796,2.1180005352858617,0.6521831887851731,2.1180005352858617,0.7622170433076007,2.1180005352858617,2.045823302855488,0.8599334603592694,2.1180005352858617,1.7865115085259413,2.1180005352858617,2.1180005352858617,2.1180005352858617,0.8816156271345879,0.8159250129457447,1.0750768589165953,1.2848849192189904,2.1180005352858617,1.1396770469875264,1.3523142400657056,1.3462182751713365,2.1180005352858617,1.8862150636472195,0.7981071362069563,2.1180005352858617,0.983972342015129,2.1180005352858617,1.4796254810525888,1.8029145150923602,1.7210828714474387,2.1180005352858617,1.0521180421008174,0.8236506452118966,2.1180005352858617,0.7541931153014433,0.6535686713814977,1.7737442930919602,2.1180005352858617,2.1180005352858617,2.1180005352858617,1.6649917955357592,1.7195118512206369,1.4035510005383958,1.5116540591092071,1.8935766158503249,1.2715993244964228,1.1657175868958778,1.5091255904917298,1.1412462017941836,1.5865526164424741,1.5475937666291324,1.4472587255953162,2.1180005352858617,1.4494526948300246,1.0589860924866286,0.8024786838652609,0.4974815468849422,1.899178992697874,1.0202585796634374,2.1180005352858617,1.1441054250892146,2.0678361873060975,2.1180005352858617,1.375253173676883,0.7597907028166415,2.1180005352858617,2.1180005352858617,0.6224497144481421,1.8180759771354722,1.9339465872669555,1.7550165651539944,1.1992099936778258,2.1180005352858617,2.1180005352858617,1.888682676161479,1.7982076059870844,1.6437647126369412,0.7849824907387835,2.0124469753888694,0.9051612555161745,2.1180005352858617,0.8273600927541589,1.2979602250287603,0.6132799879198004,2.1180005352858617,1.054274891147808,0.9612078387419009,1.0549258283509908,1.09736508693888,2.1180005352858617,1.3907764628974384,1.0949141420148805,0.9423073100379991,1.1570173362370708,1.4229003355605327,0.8010481700009818,1.2567688338696545,0.5758040183651637,0.658126863268159,2.1180005352858617,1.6898931609235048,1.8224844294251135,0.7678137061880621,1.8833791623984546,2.1180005352858617,1.9971329310636372,2.1180005352858617,2.1180005352858617,1.4232167261450852,1.2883834893313808,1.5114987975361334,1.705190707178454,2.1180005352858617,1.5038306705456077,2.1154508753821077,2.1180005352858617,0.7195458345182301,1.0411804094808588,0.8269634062460939,1.012611854287115,0.6047033094610464,1.345729153395332,1.6589121610574762,1.38951117069861,1.4576814450444715,1.507703991201279,1.8427391019012878,1.87718699463173,2.0591338321339623,2.1180005352858617,1.9863783872704117,1.35663924794775,0.5845947357885182,2.0573849896941065,0.8562651914576028,1.3889875231669382,1.017435309886406,0.9336190129536711,2.1180005352858617,1.3465462605481926,2.1180005352858617,1.270592073848762,2.1180005352858617,2.1180005352858617,2.1180005352858617,1.3153513179291623,1.8008530209477502,1.1424459371469564,2.1180005352858617,1.9084590468272966,1.2708299755870383,1.743031092235244,2.1180005352858617,1.4342358509512803,0.8094489492677839,0.7644458720743086,1.451551134798588,1.3900322546084158,2.1180005352858617,0.9581599551773085,0.9417030119244539,2.1180005352858617,1.3059967709087164,1.898731800659659,1.2827322073025238,1.1175494916608761,1.9636790441988157,1.8468145599185706,2.1180005352858617,2.1180005352858617,1.6170841766177566,1.0961716730466495,1.5820197990456015,1.848769382135799,2.1180005352858617,1.0109051502996815,0.677838349319567,2.1180005352858617,2.1180005352858617,2.1180005352858617,0.8715195722644444,1.5348687340521794,1.0691565621335426,2.1180005352858617,1.1781647096280254,2.1180005352858617,2.1180005352858617,1.321586649565714,0.8751448677864406,1.94965627693052,2.1180005352858617,1.0114310506475648,0.6373604287511387,1.5769159149869463,1.2413280956994497,2.1180005352858617,1.9427018578387134,2.1180005352858617,1.4136869154891707,2.1180005352858617,1.4832336793048402,1.2995844972008699,1.6752086753949817,2.1180005352858617,1.0939701131724038,1.5874922311406703,0.7773296334692612,2.1180005352858617,1.8518274328872268,1.5055983746935149,1.8560088006254498,2.1180005352858617,1.5841511062273317,1.1940279169727523,2.1180005352858617,1.2510836324351533,2.0004096248479755,2.1180005352858617,1.1213829711214387,2.1180005352858617,2.1180005352858617,1.2152352766269152,2.1180005352858617,1.0825824625141083,2.1180005352858617,2.1180005352858617,2.1180005352858617,1.630118963239176,1.8833791623984546,0.6357693881722999,1.7508332792022279,1.1547075952996486,1.4020808488819538,1.5086852842738354,2.1180005352858617,1.927902494562332,0.9547824342838467,1.3613771644772859,1.9469418333845443,2.1180005352858617,2.1180005352858617,1.4131485096704264,1.20246083320531,0.8219809559471354,0.9037869425106374,1.4647668906242322,2.0870020582026925,1.5679945791480892,1.8933513311809969,1.500895586955401,0.7519048601588789,1.55768358507003,2.1180005352858617,0.8003236489367295,2.1180005352858617,1.927902494562332,1.1607869032189435,0.8759433701550035,1.1940423721413487,2.1180005352858617,0.49324479342265926,1.8833791623984546,1.6518773753198899,1.3961373992265624,2.1180005352858617,1.2014050768842108,1.656275700090177,2.1180005352858617,1.34435430491309,0.7936618651316337,1.4225047247826201,1.546353107071705,1.538781629003561,2.1180005352858617,2.1180005352858617,2.1180005352858617,2.1180005352858617,2.1180005352858617,1.378464297590579,2.1180005352858617,1.5106795070263164,0.8552214781374402,2.1180005352858617,1.3683478719481892,0.9468416995457211,1.2420550027033097,0.9999840813211212,2.1180005352858617,2.1180005352858617,2.1180005352858617,0.7771937794152817,0.6623531475697079,1.7453657728614687,1.5214544257807772,1.5467954775745876,1.4201281957915246,0.8545068359215388,1.5487901507058064,2.1180005352858617,1.1827711467517041,0.8184142014347386,2.1180005352858617,1.703461751145346,2.1180005352858617,2.1180005352858617,2.1180005352858617,2.1180005352858617,1.789069836019757,2.1180005352858617,0.8645760054663137,1.004032799151177,2.1180005352858617,2.1180005352858617,1.0448853505224198,1.190110418251021,2.0871112367643123,2.1180005352858617,2.1180005352858617,2.1180005352858617,1.5595013355102314,1.8420761405618769,0.7353674916317557,1.5383794514078317,1.0759596185540803,1.0420853051232681,2.1180005352858617,0.977300062122117,2.1180005352858617,1.0300885106870221,1.2833404095217051,1.5782976088803955,0.5791979100575494,1.0308209912270778,1.0385440488029962,2.1180005352858617,1.5620255521617803,1.8130450714917279,0.5990353369208632,1.521222332912834,1.431033415525411,0.6423293409332632,2.1180005352858617,2.1180005352858617,2.1180005352858617,1.2609921715489574,2.1180005352858617,2.1180005352858617,1.6038974098001892,2.1180005352858617,2.1180005352858617,2.1180005352858617,2.0410567493028045,1.9979103751492024,2.1180005352858617,1.3887168786706827,1.577739819635782,2.1180005352858617,0.9592244001938085,1.374758360175466,0.9943131510256948,2.1180005352858617,2.0994805673801338,0.8068598794029171,2.1180005352858617,2.019903631076841,1.28651385853449,2.1180005352858617,0.8331970968098068,1.4587653949274824,0.9904154238986891,0.9453667490677072,2.1180005352858617,2.1180005352858617,1.714781133205948,0.6504883823050798,0.73518540499241,2.1180005352858617,2.1180005352858617,1.8029145150923602,1.9495077136128425,0.7183300436745714,2.1180005352858617,1.395141029434307,1.8969379737829868,2.1180005352858617,0.971626635780431,1.1754235533116597,2.1180005352858617,1.520893235669854,2.1180005352858617,2.1180005352858617,2.1180005352858617,2.1180005352858617,1.3754263082689102,0.6853816603918985,1.8237027332279767,0.5798786458424521,1.0202585796634374,2.1180005352858617,0.5622642409306152,2.1180005352858617,0.7900126146568113,2.1180005352858617,1.007171711703979,2.1180005352858617,2.0867399849155843,2.1180005352858617,1.5598054734388853,1.8833791623984546,2.1180005352858617,1.7431295152782529,1.0271070789312156,1.7430325354508902,2.1180005352858617,2.1180005352858617,0.8019733144419714,2.1180005352858617,2.1180005352858617,1.7863393672595265,2.1180005352858617,2.1180005352858617,1.4985322345413628],\"type\":\"scatter3d\"},{\"hovertemplate\":\"color=2\\u003cbr\\u003eR=%{x}\\u003cbr\\u003eF=%{y}\\u003cbr\\u003eM=%{z}\\u003cextra\\u003e\\u003c\\u002fextra\\u003e\",\"legendgroup\":\"2\",\"marker\":{\"color\":\"#00cc96\",\"symbol\":\"circle\"},\"mode\":\"markers\",\"name\":\"2\",\"scene\":\"scene\",\"showlegend\":true,\"x\":[-0.7306525844792078,0.020574856189771673,0.6287080414316558,-1.4962744295228385,-0.1075530895966576,0.268559964131286,-0.5144446017526655,-1.076243951684915,0.3769752869962793,-0.43630024038590276,0.3562475187220542,-0.2773420311232813,-0.09051956966595308,0.7050885068234186,-0.6004326729052085,0.3023891665955865,0.20936455161136372,0.17198715243642307,0.5108743686475116,0.34571430810697656,-0.12491236560944892,0.4072576584316042,-0.8851703257151666,-1.5965062065177078,-0.6004326729052085,0.0924572327672441,-0.1075530895966576,-0.8042843673469895,-0.1075530895966576,0.268559964131286,0.5018948089084776,-0.7306525844792078,-0.7666487213628687,0.03540411833894496,-1.5965062065177078,-1.0240208968332862,-0.21710065005436333,0.17198715243642307,-0.6311452942371958,0.17198715243642307,-0.19789104025348928,0.3769752869962793,-0.3878652828544288,0.47445275410745935,-0.4117458300932499,-0.4117458300932499,-0.2568052323580682,0.31340503571759937,-0.07379909377925897,0.3562475187220542,-0.21710065005436333,-1.257752896525174,-0.19789104025348928,-1.1924189506355793,-0.6311452942371958,0.34571430810697656,-0.19789104025348928,-0.7666487213628687,-1.257752896525174,-0.19789104025348928,-0.43630024038590276,0.48368566458084494,0.6207395076806993,0.005503585960699865,0.1061902694177052,0.3562475187220542,0.13306541490847987,0.34571430810697656,0.020574856189771673,0.5108743686475116,-0.4117458300932499,-0.6311452942371958,0.6046088259845442,-1.1321741112296053,0.0924572327672441,0.4557215537170642,-0.31990150608654505,-0.5144446017526655,-1.4962744295228385,0.6127068049311722,-1.5965062065177078,-0.7306525844792078,-0.4117458300932499,-1.0240208968332862,0.1061902694177052,-1.4080686086364018,-0.5144446017526655,0.7622784447699149,0.2570119267694014,-0.43630024038590276,0.3562475187220542,-0.6961513554674541,0.268559964131286,0.5197727225584944,-2.0268293484257414,-1.5965062065177078,0.268559964131286,-1.4080686086364018,0.4171453551917686,0.268559964131286,0.34571430810697656,0.17198715243642307,0.4269335229863305,0.020574856189771673,-1.257752896525174,0.11972432219201537,0.17198715243642307,0.1970689943611111,0.03540411833894496,-0.7306525844792078,-0.2568052323580682,-0.1075530895966576,0.5108743686475116,0.2570119267694014,0.11972432219201537,-0.3419765950858465,0.11972432219201537,0.8678297804217232,-0.6004326729052085,-0.36462050367289117,0.34571430810697656,-0.48760152900548803,0.0924572327672441,0.17198715243642307,0.22150247816845448,-0.1426109164029812,-1.4962744295228385,0.34571430810697656,-0.5144446017526655,-0.2773420311232813,-1.1321741112296053,-1.257752896525174,-1.1321741112296053,-0.4117458300932499,-0.7306525844792078,0.2912451891453697,-0.5707949071861215,0.6046088259845442,0.5964444341623373,0.07851889605082174,0.2912451891453697,0.1846113954736021,-0.6004326729052085,0.020574856189771673,0.04999947759018869,-1.1924189506355793,-0.3878652828544288,0.34571430810697656,0.2799698981507611,-1.4962744295228385,-0.43630024038590276,0.2570119267694014,-0.19789104025348928,0.11972432219201537,0.5018948089084776,0.4557215537170642,0.3350646851189304,0.4171453551917686,-0.6961513554674541,-0.48760152900548803,-1.4080686086364018,0.5018948089084776,-0.6004326729052085,0.7269155314093558,-0.07379909377925897,0.1846113954736021,-0.09051956966595308,-0.19789104025348928,-1.0240208968332862,0.5108743686475116,-0.8437266698929384,0.13306541490847987,0.3023891665955865,-0.5421551373118021,0.6522392795927222,-0.009818235006318548,-1.1321741112296053,-0.36462050367289117,0.17198715243642307,-0.1790843810306204,0.34571430810697656,0.11972432219201537,-0.21710065005436333,-0.43630024038590276,-1.4962744295228385,0.34571430810697656,-0.7666487213628687,0.48368566458084494,-0.8851703257151666,0.3871749098576018,0.3350646851189304,0.22150247816845448,0.1846113954736021,-1.076243951684915,-0.8042843673469895,0.20936455161136372,0.13306541490847987,0.268559964131286,0.36666698611879595,0.17198715243642307,-0.7666487213628687,0.268559964131286,-0.31990150608654505,0.13306541490847987,0.44621961821142064,0.5459957650446206,-0.4117458300932499,-0.7666487213628687,0.3023891665955865,-0.12491236560944892,-1.4962744295228385,0.17198715243642307,-0.1790843810306204,0.1846113954736021,0.6207395076806993,-0.7306525844792078,0.22150247816845448,-1.8521934359037502,0.47445275410745935,-0.5707949071861215,-0.5707949071861215,-0.5421551373118021,-0.4117458300932499,0.1061902694177052,-1.076243951684915,0.5459957650446206,0.13306541490847987,0.1970689943611111,0.34571430810697656,0.0924572327672441,-1.076243951684915,-0.5707949071861215,0.268559964131286,0.1846113954736021,0.2799698981507611,0.2799698981507611,0.11972432219201537,0.34571430810697656,-0.3878652828544288,0.34571430810697656,0.4171453551917686,-0.43630024038590276,0.3769752869962793,0.4072576584316042,-0.009818235006318548,-0.8851703257151666,-0.8851703257151666,0.1846113954736021,0.020574856189771673,0.1846113954736021,0.4557215537170642,-0.1790843810306204,0.22150247816845448,-0.8437266698929384,0.3023891665955865,-0.36462050367289117,-0.2773420311232813,-0.09051956966595308,-1.076243951684915,0.4171453551917686,-0.009818235006318548,0.31340503571759937,0.11972432219201537,-0.21710065005436333,-0.36462050367289117,0.6827783112463538,-0.2568052323580682,-0.21710065005436333,-0.43630024038590276,-0.43630024038590276,0.268559964131286,0.5108743686475116,-0.31990150608654505,-0.009818235006318548,0.31340503571759937,0.20936455161136372,0.20936455161136372,0.17198715243642307,-0.1426109164029812,0.48368566458084494,-0.5707949071861215,-0.4117458300932499,-0.7306525844792078,-0.6004326729052085,-0.6961513554674541,-1.0240208968332862,-0.5421551373118021,0.005503585960699865,0.0924572327672441,0.3023891665955865,-0.36462050367289117,0.7050885068234186,0.17198715243642307,0.268559964131286,0.48368566458084494,-0.009818235006318548,-0.8042843673469895,-0.2367319949540843,0.3562475187220542,-1.0240208968332862,-0.02539961923376869,0.11972432219201537,0.03540411833894496,0.48368566458084494,-0.5707949071861215,0.3023891665955865,0.0924572327672441,0.5108743686475116,0.6287080414316558,-0.2773420311232813,-0.5707949071861215,0.1970689943611111,-1.8521934359037502,-0.6311452942371958,-0.6311452942371958,0.2570119267694014,-0.02539961923376869,-0.8851703257151666,0.2912451891453697,0.13306541490847987,-0.7666487213628687,0.1970689943611111,-0.3878652828544288,0.6366134849225802,-0.07379909377925897,-0.8042843673469895,-1.257752896525174,0.13306541490847987,0.17198715243642307,0.34571430810697656,-0.31990150608654505,-0.36462050367289117,0.1970689943611111,-0.3419765950858465,-0.3419765950858465,0.07851889605082174,-0.3878652828544288,0.2799698981507611,0.7269155314093558,0.13306541490847987,0.7760853963238139,-0.07379909377925897,-1.5965062065177078,-0.2773420311232813,0.31340503571759937,-0.1790843810306204,0.11972432219201537,0.4269335229863305,0.20936455161136372,0.22150247816845448,-0.8042843673469895,-0.1426109164029812,-1.4962744295228385,0.48368566458084494,-0.3878652828544288,0.6366134849225802,-0.009818235006318548,0.6287080414316558,0.2912451891453697,0.5373319429218385,-0.3878652828544288,-0.5707949071861215,-0.1790843810306204,-0.7306525844792078,0.268559964131286,0.1846113954736021,0.22150247816845448,-0.21710065005436333,0.9520511417613805,-1.4080686086364018,0.3562475187220542,-0.6961513554674541,-0.21710065005436333,-0.3419765950858465,0.1970689943611111,-0.1426109164029812,-0.6004326729052085,0.0924572327672441,-0.009818235006318548,-1.1321741112296053,-1.0240208968332862,-0.07379909377925897,0.268559964131286,-1.0240208968332862,-0.009818235006318548,0.22150247816845448,-0.5144446017526655,-0.009818235006318548,0.1462192969433101,-0.31990150608654505,0.1846113954736021,-0.2367319949540843,0.1846113954736021,-0.8437266698929384,-0.5421551373118021,-1.076243951684915,-0.7306525844792078,0.0924572327672441,0.31340503571759937,0.5108743686475116,-1.8521934359037502,-0.8042843673469895,-0.1790843810306204,-1.0240208968332862,-1.076243951684915,0.0924572327672441,0.47445275410745935,-0.009818235006318548,-0.2568052323580682,-0.009818235006318548,-0.6311452942371958,0.22150247816845448,0.4269335229863305,-0.48760152900548803,-0.5421551373118021,-0.3419765950858465,-0.8851703257151666,-0.5421551373118021,-0.5421551373118021,-0.1075530895966576,-0.8437266698929384,0.31340503571759937,0.8740789930226837,0.1061902694177052,-0.7666487213628687,0.1061902694177052,0.04999947759018869,-0.48760152900548803,-1.076243951684915,-1.257752896525174,-0.43630024038590276,-0.6311452942371958,0.020574856189771673,0.005503585960699865,-1.1924189506355793,0.31340503571759937,-0.2568052323580682,0.2912451891453697,0.1846113954736021,0.4557215537170642,-0.5707949071861215,-0.2568052323580682,0.11972432219201537,-0.6961513554674541,0.020574856189771673,-0.5144446017526655,-0.4117458300932499,-1.257752896525174,0.3350646851189304,-0.6961513554674541,-1.1321741112296053,0.4171453551917686,-0.5144446017526655,-1.712887257911223,0.3023891665955865,-0.8042843673469895,0.47445275410745935,0.2570119267694014,-0.3878652828544288,-0.009818235006318548,-0.3419765950858465,0.6207395076806993,0.3769752869962793,-0.8851703257151666,0.2799698981507611,-0.6961513554674541,0.3562475187220542,0.0924572327672441,-0.07379909377925897,0.6752302316723932,-0.2773420311232813,-0.21710065005436333,0.268559964131286,0.03540411833894496,0.34571430810697656,0.3350646851189304,-0.6311452942371958,0.22150247816845448,-0.1426109164029812,-1.4962744295228385,0.4072576584316042,-1.1924189506355793,-0.36462050367289117,0.855216187480815,-0.4117458300932499,-0.7306525844792078,-0.009818235006318548,0.6676249884612706,-1.257752896525174,-0.6004326729052085,0.1970689943611111,0.13306541490847987,-0.07379909377925897,-1.076243951684915,-0.36462050367289117,-0.7306525844792078,-0.5144446017526655,0.2570119267694014,-0.8851703257151666,0.7050885068234186,0.13306541490847987,0.48368566458084494,0.4171453551917686,0.13306541490847987,-0.07379909377925897,0.6599616545265186,-0.4117458300932499,-1.076243951684915,0.3023891665955865,0.1970689943611111,-0.2568052323580682,0.20936455161136372,0.1846113954736021,0.0924572327672441,-1.4962744295228385,-0.2367319949540843,-0.07379909377925897,-0.6004326729052085,-0.4117458300932499,0.1846113954736021,0.1846113954736021,0.31340503571759937,0.1846113954736021,-1.5965062065177078,-0.1075530895966576,0.2570119267694014,0.020574856189771673,-0.19789104025348928,-0.09051956966595308,0.2799698981507611,-0.4117458300932499,-0.19789104025348928,0.31340503571759937,-0.1790843810306204,-0.8042843673469895,-0.8042843673469895,-0.5421551373118021,-0.21710065005436333,-0.8437266698929384,-0.5707949071861215,-0.48760152900548803,-0.3878652828544288,-0.5144446017526655,0.5018948089084776,-0.4117458300932499,0.005503585960699865,-0.009818235006318548,0.3350646851189304,-0.1790843810306204,-0.43630024038590276,-0.6311452942371958,-1.8521934359037502,-0.31990150608654505,-1.257752896525174,-1.0240208968332862,0.3350646851189304,-0.2568052323580682,0.13306541490847987,-0.5421551373118021,-0.43630024038590276,-0.009818235006318548,-0.7306525844792078,-0.2367319949540843,-0.5421551373118021,-0.07379909377925897,-0.2773420311232813,0.03540411833894496,-0.48760152900548803,0.34571430810697656,0.020574856189771673,0.005503585960699865,-0.2568052323580682,0.07851889605082174,0.6827783112463538,0.5799117113306071,0.3023891665955865,-0.09051956966595308,-0.7666487213628687,0.4557215537170642,0.020574856189771673,0.5964444341623373,-0.7306525844792078,-0.2568052323580682,-1.1321741112296053,-0.6004326729052085,-0.12491236560944892,-0.009818235006318548,-0.19789104025348928,0.44621961821142064,0.3769752869962793,-0.02539961923376869,0.020574856189771673,-1.4962744295228385,-0.43630024038590276,-0.7666487213628687,0.8488507974325297,-0.8437266698929384,0.1970689943611111,-0.02539961923376869,0.005503585960699865,0.1970689943611111,-0.5421551373118021,0.1970689943611111,-0.36462050367289117,0.1846113954736021,0.6752302316723932,-1.4080686086364018,0.23348700398832375,-0.5144446017526655,-1.076243951684915,-0.07379909377925897,-0.12491236560944892,-0.07379909377925897,-0.07379909377925897,-0.009818235006318548,0.34571430810697656,-1.5965062065177078,0.07851889605082174,0.5459957650446206,-0.2367319949540843,0.1061902694177052,-0.009818235006318548,0.1846113954736021,-0.31990150608654505,0.1061902694177052,-0.07379909377925897,-0.21710065005436333,-0.7306525844792078,-0.1790843810306204,0.48368566458084494,0.13306541490847987,0.22150247816845448,-0.6311452942371958,0.1846113954736021,-1.1924189506355793,-0.8042843673469895,-1.1924189506355793,-0.36462050367289117,0.3023891665955865,-0.6961513554674541,-0.7666487213628687,0.3350646851189304,-0.3878652828544288,-0.1075530895966576,-1.5965062065177078,0.04999947759018869,-0.5707949071861215,-0.2773420311232813,-0.19789104025348928,-0.4117458300932499,-0.12491236560944892,0.4366242652535963,0.1970689943611111,0.7050885068234186,0.04999947759018869,-0.3419765950858465,-0.09051956966595308,-0.6004326729052085,-0.1075530895966576,0.3769752869962793,0.6676249884612706,-0.009818235006318548,0.2570119267694014,-0.1426109164029812,0.1462192969433101,0.1970689943611111,-1.1924189506355793,0.2912451891453697,0.005503585960699865,-0.19789104025348928,-0.6311452942371958,0.11972432219201537,0.1970689943611111,0.44621961821142064,-1.4962744295228385,0.11972432219201537,0.5018948089084776,-0.009818235006318548,0.13306541490847987,0.2912451891453697,0.22150247816845448,-0.8042843673469895,-0.8437266698929384,-0.1790843810306204,0.31340503571759937,-0.5707949071861215,-0.5144446017526655,-0.1075530895966576,0.44621961821142064,-0.6961513554674541,0.34571430810697656,0.36666698611879595,0.0924572327672441,0.4366242652535963,0.268559964131286,0.34571430810697656,0.07851889605082174,-0.5421551373118021,-0.5707949071861215,0.1462192969433101,0.20936455161136372,0.268559964131286,-0.6311452942371958,0.6046088259845442,-0.7666487213628687,-1.5965062065177078,0.7050885068234186,-0.2773420311232813,-0.07379909377925897,-0.2568052323580682,0.31340503571759937,-0.1075530895966576,-0.7666487213628687,0.17198715243642307,-0.31990150608654505,0.03540411833894496,-1.0240208968332862,-0.7306525844792078,-0.7306525844792078,0.4557215537170642,0.2570119267694014,0.07851889605082174,-0.6311452942371958,-0.48760152900548803,-0.5421551373118021,-0.43630024038590276,0.22150247816845448,0.44621961821142064,-0.5144446017526655,0.31340503571759937,-0.8437266698929384,-0.31990150608654505,-0.07379909377925897,0.3562475187220542,0.6046088259845442,-0.6961513554674541,-0.3878652828544288,0.1462192969433101,-0.5144446017526655,0.3769752869962793,-1.5965062065177078,-1.4080686086364018,0.03540411833894496,-0.1426109164029812,-0.2773420311232813,-0.5421551373118021,-0.48760152900548803,-1.4080686086364018,-1.5965062065177078,-0.48760152900548803,0.7622784447699149,0.4072576584316042,0.268559964131286,0.268559964131286,0.23348700398832375,-0.009818235006318548,-0.8437266698929384,-1.4962744295228385,-0.1790843810306204,-0.2568052323580682,0.3023891665955865,0.2570119267694014,-0.8437266698929384,-1.5965062065177078,0.36666698611879595,0.3562475187220542,-0.36462050367289117,-1.4962744295228385,-0.1426109164029812,0.268559964131286,-0.8042843673469895,0.855216187480815,0.23348700398832375,-0.12491236560944892,0.2799698981507611,-0.09051956966595308,0.34571430810697656,0.47445275410745935,-0.36462050367289117,0.020574856189771673,-0.2367319949540843,0.1970689943611111,0.22150247816845448,0.3023891665955865,-0.6961513554674541,-1.1924189506355793,0.0924572327672441,0.1970689943611111,0.5459957650446206,-1.4962744295228385,0.5799117113306071,-0.8437266698929384,-0.21710065005436333,0.005503585960699865,0.49283245352238464,-0.21710065005436333,-0.19789104025348928,0.5545842960057757,-0.009818235006318548,-0.12491236560944892,0.020574856189771673,-1.076243951684915,-0.5707949071861215,-0.8851703257151666,0.11972432219201537,-0.36462050367289117,0.20936455161136372,-0.2367319949540843,0.2799698981507611,-1.8521934359037502,0.04999947759018869,0.836000228777023,0.07851889605082174,-0.3878652828544288,-0.7666487213628687,-1.4962744295228385,-0.19789104025348928,-0.21710065005436333,0.13306541490847987,0.44621961821142064,-1.4080686086364018,-0.5707949071861215,-0.07379909377925897,-0.7306525844792078,-0.3878652828544288,-0.36462050367289117,-0.09051956966595308,0.17198715243642307,-1.0240208968332862,-0.48760152900548803,0.6599616545265186,0.4171453551917686,0.6902701318359551,0.3769752869962793,0.1061902694177052,-0.2568052323580682,-0.2568052323580682,-0.6004326729052085,-0.31990150608654505,-0.2773420311232813,-0.6004326729052085,-0.7306525844792078,-0.05737969308009332,-1.5965062065177078,0.6046088259845442,0.5964444341623373,0.005503585960699865,-0.5421551373118021,0.31340503571759937,-0.7666487213628687,-1.257752896525174,-0.3419765950858465,-0.6311452942371958,-0.21710065005436333,0.0924572327672441,0.34571430810697656,0.0924572327672441,0.1061902694177052,-0.4117458300932499,0.03540411833894496,0.03540411833894496,0.03540411833894496,0.1970689943611111,-1.712887257911223,-0.2773420311232813,-0.5144446017526655,-1.0240208968332862,0.03540411833894496,-0.7306525844792078,0.6127068049311722,0.0924572327672441,0.7829191679414758,0.5630989116430486,0.34571430810697656,0.5545842960057757,-0.8851703257151666,0.5018948089084776,-0.2568052323580682,-1.0240208968332862,-0.02539961923376869,0.2799698981507611,0.1970689943611111,-0.6961513554674541,0.6676249884612706,-0.2568052323580682,-0.1426109164029812,-0.009818235006318548,-0.07379909377925897,-0.6961513554674541,-0.3419765950858465,-0.1790843810306204,-0.7666487213628687,0.13306541490847987,-1.076243951684915,-1.076243951684915,0.3350646851189304,0.1970689943611111,0.1061902694177052,-1.257752896525174,0.31340503571759937,-1.712887257911223,0.31340503571759937,-0.5421551373118021,0.03540411833894496,-0.4117458300932499,0.03540411833894496,-0.4117458300932499,-0.5144446017526655,-0.5421551373118021,-0.5707949071861215,0.268559964131286,-0.4117458300932499,-1.257752896525174,0.4171453551917686,-0.7666487213628687,0.7829191679414758,0.11972432219201537,-0.3419765950858465,-0.8851703257151666,-0.6961513554674541,-0.36462050367289117,0.1970689943611111,-0.6311452942371958,-0.5144446017526655,-0.7306525844792078,-0.009818235006318548,0.3023891665955865,-0.5707949071861215,-0.12491236560944892,0.7622784447699149,-0.2773420311232813,-1.076243951684915,-0.1075530895966576,0.5197727225584944,0.268559964131286,-0.8437266698929384,0.3562475187220542,-0.21710065005436333,0.03540411833894496,-1.1321741112296053,0.6599616545265186,-0.6311452942371958,-0.3419765950858465,-0.009818235006318548,-0.8437266698929384,0.03540411833894496,-0.4117458300932499,-1.0240208968332862,0.005503585960699865,-0.31990150608654505,-0.12491236560944892,-1.1321741112296053,-0.4117458300932499,0.005503585960699865,-1.257752896525174,-0.2367319949540843,0.005503585960699865,-0.4117458300932499,-0.6004326729052085,0.07851889605082174,-0.5707949071861215,0.005503585960699865,-1.4962744295228385,-0.2773420311232813,-0.6961513554674541,0.03540411833894496,0.2570119267694014,-1.1321741112296053,-0.5707949071861215,-0.1790843810306204,-0.2568052323580682,-0.5144446017526655,-0.2367319949540843,-0.9750191735316172,-0.5421551373118021,0.17198715243642307,-0.09051956966595308,-0.3419765950858465,-1.5965062065177078,0.31340503571759937,-1.1321741112296053,0.0924572327672441,-0.2367319949540843,0.13306541490847987,-0.31990150608654505,0.7692053784650931,-0.5421551373118021,-0.8437266698929384,0.3350646851189304,0.268559964131286,-0.2568052323580682,-0.43630024038590276,0.4557215537170642,-0.36462050367289117,-0.4117458300932499,0.48368566458084494,0.07851889605082174,0.3769752869962793,0.268559964131286,-0.7666487213628687,-0.12491236560944892,-0.5144446017526655,0.2799698981507611,-0.21710065005436333,-0.3878652828544288,-0.12491236560944892,0.1061902694177052,0.2912451891453697,-1.257752896525174,-0.1426109164029812],\"y\":[-1.1594934286708523,0.3236613802751872,-0.20783760717720262,-1.1594934286708523,-0.20783760717720262,0.3236613802751872,-1.1594934286708523,-0.20783760717720262,-0.20783760717720262,-0.20783760717720262,-1.1594934286708523,-0.20783760717720262,-1.1594934286708523,0.669447352467974,-0.20783760717720262,0.3236613802751872,0.3236613802751872,-1.1594934286708523,0.3236613802751872,-1.1594934286708523,-1.1594934286708523,-0.20783760717720262,-0.20783760717720262,-1.1594934286708523,-1.1594934286708523,-1.1594934286708523,-1.1594934286708523,-0.20783760717720262,0.3236613802751872,-0.20783760717720262,-0.20783760717720262,-0.20783760717720262,-0.20783760717720262,-1.1594934286708523,-1.1594934286708523,-1.1594934286708523,-1.1594934286708523,-0.20783760717720262,0.3236613802751872,-1.1594934286708523,-0.20783760717720262,0.3236613802751872,-1.1594934286708523,-0.20783760717720262,-1.1594934286708523,0.3236613802751872,-1.1594934286708523,-0.20783760717720262,-0.20783760717720262,-1.1594934286708523,-0.20783760717720262,-1.1594934286708523,-0.20783760717720262,-0.20783760717720262,-0.20783760717720262,-1.1594934286708523,-1.1594934286708523,-1.1594934286708523,-1.1594934286708523,-1.1594934286708523,-0.20783760717720262,-0.20783760717720262,0.3236613802751872,-0.20783760717720262,-1.1594934286708523,-0.20783760717720262,-1.1594934286708523,0.3236613802751872,-1.1594934286708523,-0.20783760717720262,-1.1594934286708523,-1.1594934286708523,-0.20783760717720262,-0.20783760717720262,-1.1594934286708523,-0.20783760717720262,-1.1594934286708523,0.3236613802751872,-0.20783760717720262,0.3236613802751872,-1.1594934286708523,-1.1594934286708523,-1.1594934286708523,-1.1594934286708523,-1.1594934286708523,-0.20783760717720262,-0.20783760717720262,0.669447352467974,-0.20783760717720262,0.3236613802751872,-0.20783760717720262,-1.1594934286708523,-1.1594934286708523,0.3236613802751872,-1.1594934286708523,-0.20783760717720262,-1.1594934286708523,-0.20783760717720262,0.669447352467974,0.669447352467974,-0.20783760717720262,-1.1594934286708523,-1.1594934286708523,0.3236613802751872,-0.20783760717720262,-1.1594934286708523,-0.20783760717720262,-1.1594934286708523,-0.20783760717720262,-1.1594934286708523,0.3236613802751872,-1.1594934286708523,-0.20783760717720262,-0.20783760717720262,-1.1594934286708523,-0.20783760717720262,0.669447352467974,0.669447352467974,-1.1594934286708523,-0.20783760717720262,0.3236613802751872,-0.20783760717720262,-0.20783760717720262,0.3236613802751872,-0.20783760717720262,-0.20783760717720262,-0.20783760717720262,-0.20783760717720262,-1.1594934286708523,-0.20783760717720262,-1.1594934286708523,-0.20783760717720262,-1.1594934286708523,-0.20783760717720262,-1.1594934286708523,-0.20783760717720262,-0.20783760717720262,0.3236613802751872,0.3236613802751872,-1.1594934286708523,0.3236613802751872,-0.20783760717720262,-0.20783760717720262,-0.20783760717720262,-0.20783760717720262,-0.20783760717720262,-0.20783760717720262,0.3236613802751872,-1.1594934286708523,-0.20783760717720262,-1.1594934286708523,-1.1594934286708523,-1.1594934286708523,-0.20783760717720262,-0.20783760717720262,0.3236613802751872,-1.1594934286708523,0.669447352467974,-1.1594934286708523,-1.1594934286708523,-1.1594934286708523,0.669447352467974,-1.1594934286708523,0.669447352467974,-0.20783760717720262,-1.1594934286708523,-1.1594934286708523,0.3236613802751872,-1.1594934286708523,-0.20783760717720262,-0.20783760717720262,-0.20783760717720262,-0.20783760717720262,-0.20783760717720262,0.3236613802751872,-1.1594934286708523,-0.20783760717720262,-0.20783760717720262,-0.20783760717720262,-1.1594934286708523,-1.1594934286708523,-0.20783760717720262,-0.20783760717720262,0.3236613802751872,-0.20783760717720262,0.669447352467974,-1.1594934286708523,0.3236613802751872,-1.1594934286708523,0.3236613802751872,-1.1594934286708523,0.3236613802751872,-1.1594934286708523,-1.1594934286708523,-0.20783760717720262,-1.1594934286708523,-1.1594934286708523,-1.1594934286708523,-1.1594934286708523,-1.1594934286708523,-0.20783760717720262,-1.1594934286708523,-0.20783760717720262,0.3236613802751872,-1.1594934286708523,0.3236613802751872,-0.20783760717720262,-1.1594934286708523,0.3236613802751872,-0.20783760717720262,-0.20783760717720262,-1.1594934286708523,-0.20783760717720262,-1.1594934286708523,0.3236613802751872,-0.20783760717720262,-0.20783760717720262,-1.1594934286708523,-1.1594934286708523,0.3236613802751872,-1.1594934286708523,-0.20783760717720262,-0.20783760717720262,-1.1594934286708523,-0.20783760717720262,-0.20783760717720262,-0.20783760717720262,-1.1594934286708523,0.3236613802751872,0.3236613802751872,-0.20783760717720262,0.3236613802751872,-1.1594934286708523,-1.1594934286708523,0.669447352467974,0.669447352467974,0.3236613802751872,-1.1594934286708523,-1.1594934286708523,-0.20783760717720262,0.3236613802751872,-0.20783760717720262,0.3236613802751872,-0.20783760717720262,-0.20783760717720262,-0.20783760717720262,-0.20783760717720262,0.3236613802751872,-1.1594934286708523,-1.1594934286708523,0.3236613802751872,0.3236613802751872,-1.1594934286708523,-1.1594934286708523,-1.1594934286708523,0.3236613802751872,-0.20783760717720262,0.3236613802751872,-0.20783760717720262,0.3236613802751872,-0.20783760717720262,-1.1594934286708523,-1.1594934286708523,-1.1594934286708523,-1.1594934286708523,0.669447352467974,-1.1594934286708523,-0.20783760717720262,-0.20783760717720262,-1.1594934286708523,0.3236613802751872,-0.20783760717720262,-0.20783760717720262,-0.20783760717720262,-0.20783760717720262,-0.20783760717720262,-1.1594934286708523,-1.1594934286708523,0.3236613802751872,-0.20783760717720262,-0.20783760717720262,-0.20783760717720262,-0.20783760717720262,-1.1594934286708523,-1.1594934286708523,-1.1594934286708523,0.3236613802751872,-0.20783760717720262,-1.1594934286708523,-1.1594934286708523,0.3236613802751872,0.3236613802751872,-1.1594934286708523,-1.1594934286708523,-1.1594934286708523,-1.1594934286708523,-0.20783760717720262,-0.20783760717720262,0.669447352467974,-0.20783760717720262,-0.20783760717720262,-0.20783760717720262,-1.1594934286708523,0.669447352467974,-1.1594934286708523,-1.1594934286708523,-0.20783760717720262,-0.20783760717720262,-0.20783760717720262,-1.1594934286708523,0.3236613802751872,-1.1594934286708523,-0.20783760717720262,-0.20783760717720262,-0.20783760717720262,-0.20783760717720262,-1.1594934286708523,-0.20783760717720262,-1.1594934286708523,-1.1594934286708523,-1.1594934286708523,-0.20783760717720262,-1.1594934286708523,0.3236613802751872,0.3236613802751872,-0.20783760717720262,-0.20783760717720262,-1.1594934286708523,-0.20783760717720262,0.3236613802751872,-1.1594934286708523,-0.20783760717720262,-1.1594934286708523,-1.1594934286708523,-1.1594934286708523,-1.1594934286708523,-0.20783760717720262,-1.1594934286708523,0.3236613802751872,-0.20783760717720262,0.3236613802751872,-1.1594934286708523,-0.20783760717720262,-0.20783760717720262,-0.20783760717720262,-1.1594934286708523,0.3236613802751872,0.669447352467974,-1.1594934286708523,-0.20783760717720262,-0.20783760717720262,-1.1594934286708523,-1.1594934286708523,0.3236613802751872,-0.20783760717720262,0.3236613802751872,-0.20783760717720262,-0.20783760717720262,-0.20783760717720262,0.3236613802751872,-0.20783760717720262,0.3236613802751872,-1.1594934286708523,-1.1594934286708523,0.3236613802751872,-1.1594934286708523,-1.1594934286708523,-1.1594934286708523,0.669447352467974,-0.20783760717720262,-0.20783760717720262,0.3236613802751872,0.3236613802751872,0.3236613802751872,-0.20783760717720262,-0.20783760717720262,-0.20783760717720262,-0.20783760717720262,-0.20783760717720262,-0.20783760717720262,-0.20783760717720262,-1.1594934286708523,0.3236613802751872,-1.1594934286708523,-1.1594934286708523,-1.1594934286708523,-1.1594934286708523,-0.20783760717720262,0.3236613802751872,-0.20783760717720262,-1.1594934286708523,-1.1594934286708523,-0.20783760717720262,-0.20783760717720262,-0.20783760717720262,-0.20783760717720262,-0.20783760717720262,-0.20783760717720262,0.3236613802751872,0.669447352467974,-1.1594934286708523,-1.1594934286708523,-1.1594934286708523,-0.20783760717720262,-1.1594934286708523,-0.20783760717720262,-0.20783760717720262,0.3236613802751872,-0.20783760717720262,-1.1594934286708523,-1.1594934286708523,-0.20783760717720262,-0.20783760717720262,-1.1594934286708523,-1.1594934286708523,0.3236613802751872,-1.1594934286708523,-1.1594934286708523,-1.1594934286708523,-0.20783760717720262,-1.1594934286708523,-1.1594934286708523,0.669447352467974,-0.20783760717720262,-0.20783760717720262,0.3236613802751872,-0.20783760717720262,-0.20783760717720262,-0.20783760717720262,-0.20783760717720262,-1.1594934286708523,-1.1594934286708523,0.3236613802751872,-1.1594934286708523,-1.1594934286708523,-1.1594934286708523,-0.20783760717720262,0.3236613802751872,-0.20783760717720262,0.669447352467974,-0.20783760717720262,0.3236613802751872,-0.20783760717720262,-1.1594934286708523,-1.1594934286708523,-0.20783760717720262,-1.1594934286708523,-0.20783760717720262,0.3236613802751872,-1.1594934286708523,-0.20783760717720262,-1.1594934286708523,-1.1594934286708523,-0.20783760717720262,-1.1594934286708523,-0.20783760717720262,-0.20783760717720262,0.669447352467974,-0.20783760717720262,-1.1594934286708523,-1.1594934286708523,0.3236613802751872,-0.20783760717720262,-1.1594934286708523,-0.20783760717720262,-1.1594934286708523,-1.1594934286708523,-1.1594934286708523,0.3236613802751872,0.669447352467974,-1.1594934286708523,0.3236613802751872,0.669447352467974,-1.1594934286708523,0.3236613802751872,-1.1594934286708523,-0.20783760717720262,-1.1594934286708523,-1.1594934286708523,-1.1594934286708523,-1.1594934286708523,-0.20783760717720262,-0.20783760717720262,0.669447352467974,0.3236613802751872,-1.1594934286708523,-0.20783760717720262,0.3236613802751872,-0.20783760717720262,-0.20783760717720262,-1.1594934286708523,0.669447352467974,-1.1594934286708523,-1.1594934286708523,-1.1594934286708523,-0.20783760717720262,-1.1594934286708523,-1.1594934286708523,-0.20783760717720262,0.3236613802751872,-1.1594934286708523,-0.20783760717720262,-0.20783760717720262,-0.20783760717720262,0.3236613802751872,-0.20783760717720262,0.3236613802751872,-0.20783760717720262,-1.1594934286708523,-0.20783760717720262,-0.20783760717720262,-1.1594934286708523,-1.1594934286708523,-0.20783760717720262,-0.20783760717720262,-1.1594934286708523,-1.1594934286708523,-0.20783760717720262,0.3236613802751872,-1.1594934286708523,0.3236613802751872,0.669447352467974,-0.20783760717720262,-1.1594934286708523,-1.1594934286708523,0.3236613802751872,-1.1594934286708523,0.3236613802751872,-1.1594934286708523,-1.1594934286708523,-0.20783760717720262,-1.1594934286708523,-0.20783760717720262,-1.1594934286708523,-0.20783760717720262,-0.20783760717720262,-1.1594934286708523,-1.1594934286708523,-1.1594934286708523,-1.1594934286708523,0.3236613802751872,-1.1594934286708523,-1.1594934286708523,0.3236613802751872,-1.1594934286708523,-0.20783760717720262,-0.20783760717720262,-1.1594934286708523,-0.20783760717720262,-0.20783760717720262,-0.20783760717720262,-1.1594934286708523,-0.20783760717720262,-1.1594934286708523,-1.1594934286708523,0.3236613802751872,-1.1594934286708523,-1.1594934286708523,-1.1594934286708523,-1.1594934286708523,-0.20783760717720262,-1.1594934286708523,-1.1594934286708523,0.3236613802751872,-1.1594934286708523,-1.1594934286708523,-1.1594934286708523,-0.20783760717720262,-1.1594934286708523,-1.1594934286708523,-1.1594934286708523,-0.20783760717720262,0.3236613802751872,0.669447352467974,0.669447352467974,-0.20783760717720262,-0.20783760717720262,-1.1594934286708523,-0.20783760717720262,-1.1594934286708523,0.669447352467974,-1.1594934286708523,0.3236613802751872,-0.20783760717720262,-1.1594934286708523,-1.1594934286708523,-1.1594934286708523,-1.1594934286708523,0.669447352467974,0.3236613802751872,-1.1594934286708523,-1.1594934286708523,-0.20783760717720262,-1.1594934286708523,-1.1594934286708523,0.669447352467974,-1.1594934286708523,0.3236613802751872,-1.1594934286708523,0.3236613802751872,-0.20783760717720262,-1.1594934286708523,-0.20783760717720262,-0.20783760717720262,-1.1594934286708523,0.3236613802751872,-1.1594934286708523,-1.1594934286708523,0.3236613802751872,-1.1594934286708523,0.3236613802751872,-0.20783760717720262,0.3236613802751872,0.3236613802751872,0.3236613802751872,0.669447352467974,-0.20783760717720262,0.3236613802751872,-0.20783760717720262,-1.1594934286708523,0.3236613802751872,-1.1594934286708523,-1.1594934286708523,0.3236613802751872,-0.20783760717720262,-1.1594934286708523,-0.20783760717720262,-1.1594934286708523,0.3236613802751872,0.3236613802751872,-1.1594934286708523,-1.1594934286708523,0.3236613802751872,-1.1594934286708523,-0.20783760717720262,-0.20783760717720262,-0.20783760717720262,-1.1594934286708523,-1.1594934286708523,-0.20783760717720262,-0.20783760717720262,-1.1594934286708523,-1.1594934286708523,-0.20783760717720262,-1.1594934286708523,-1.1594934286708523,0.3236613802751872,0.3236613802751872,-0.20783760717720262,-1.1594934286708523,-1.1594934286708523,-0.20783760717720262,0.3236613802751872,0.669447352467974,-1.1594934286708523,-0.20783760717720262,-1.1594934286708523,-0.20783760717720262,-1.1594934286708523,-0.20783760717720262,0.3236613802751872,0.3236613802751872,-1.1594934286708523,0.3236613802751872,-1.1594934286708523,-1.1594934286708523,-0.20783760717720262,0.669447352467974,-1.1594934286708523,-1.1594934286708523,-0.20783760717720262,0.3236613802751872,-0.20783760717720262,-1.1594934286708523,-0.20783760717720262,-1.1594934286708523,0.669447352467974,-1.1594934286708523,-1.1594934286708523,-1.1594934286708523,-1.1594934286708523,-0.20783760717720262,-0.20783760717720262,-1.1594934286708523,-1.1594934286708523,-1.1594934286708523,-1.1594934286708523,-0.20783760717720262,-1.1594934286708523,-0.20783760717720262,-1.1594934286708523,-1.1594934286708523,0.669447352467974,-0.20783760717720262,0.3236613802751872,-1.1594934286708523,-0.20783760717720262,-0.20783760717720262,0.3236613802751872,-1.1594934286708523,-0.20783760717720262,-0.20783760717720262,0.3236613802751872,-0.20783760717720262,-0.20783760717720262,-0.20783760717720262,0.3236613802751872,-1.1594934286708523,0.3236613802751872,-1.1594934286708523,0.669447352467974,-1.1594934286708523,-0.20783760717720262,-0.20783760717720262,0.3236613802751872,-1.1594934286708523,-0.20783760717720262,-1.1594934286708523,0.3236613802751872,-0.20783760717720262,-1.1594934286708523,-1.1594934286708523,-0.20783760717720262,0.3236613802751872,-1.1594934286708523,-1.1594934286708523,-0.20783760717720262,0.669447352467974,0.3236613802751872,-1.1594934286708523,-1.1594934286708523,0.3236613802751872,-1.1594934286708523,0.669447352467974,0.669447352467974,-0.20783760717720262,-1.1594934286708523,-0.20783760717720262,-0.20783760717720262,-1.1594934286708523,-1.1594934286708523,-1.1594934286708523,-1.1594934286708523,0.3236613802751872,-0.20783760717720262,-0.20783760717720262,-0.20783760717720262,-0.20783760717720262,-1.1594934286708523,0.3236613802751872,0.3236613802751872,-0.20783760717720262,-1.1594934286708523,0.3236613802751872,-1.1594934286708523,0.3236613802751872,-0.20783760717720262,-1.1594934286708523,-1.1594934286708523,-1.1594934286708523,-0.20783760717720262,-1.1594934286708523,-0.20783760717720262,-0.20783760717720262,-0.20783760717720262,-1.1594934286708523,0.3236613802751872,-0.20783760717720262,-1.1594934286708523,-1.1594934286708523,-0.20783760717720262,0.669447352467974,-0.20783760717720262,-1.1594934286708523,-0.20783760717720262,-1.1594934286708523,-1.1594934286708523,-0.20783760717720262,-1.1594934286708523,0.3236613802751872,-0.20783760717720262,-1.1594934286708523,0.669447352467974,-0.20783760717720262,-1.1594934286708523,-1.1594934286708523,-1.1594934286708523,-1.1594934286708523,-0.20783760717720262,-0.20783760717720262,0.669447352467974,-0.20783760717720262,-0.20783760717720262,-1.1594934286708523,-0.20783760717720262,-1.1594934286708523,-0.20783760717720262,0.3236613802751872,-1.1594934286708523,-1.1594934286708523,-1.1594934286708523,-0.20783760717720262,-0.20783760717720262,-1.1594934286708523,-0.20783760717720262,-0.20783760717720262,0.3236613802751872,-0.20783760717720262,-1.1594934286708523,-0.20783760717720262,-0.20783760717720262,0.3236613802751872,0.3236613802751872,-1.1594934286708523,-1.1594934286708523,-0.20783760717720262,0.3236613802751872,-1.1594934286708523,-1.1594934286708523,-0.20783760717720262,-1.1594934286708523,-0.20783760717720262,-0.20783760717720262,-1.1594934286708523,-1.1594934286708523,-1.1594934286708523,0.3236613802751872,-1.1594934286708523,-0.20783760717720262,0.3236613802751872,0.3236613802751872,0.3236613802751872,0.3236613802751872,0.3236613802751872,0.3236613802751872,0.3236613802751872,-0.20783760717720262,-0.20783760717720262,-0.20783760717720262,-0.20783760717720262,0.3236613802751872,-0.20783760717720262,-1.1594934286708523,-0.20783760717720262,-0.20783760717720262,0.3236613802751872,-1.1594934286708523,-1.1594934286708523,-1.1594934286708523,-0.20783760717720262,-0.20783760717720262,0.3236613802751872,0.3236613802751872,-0.20783760717720262,-0.20783760717720262,-1.1594934286708523,-0.20783760717720262,-0.20783760717720262,-1.1594934286708523,-1.1594934286708523,-1.1594934286708523,-1.1594934286708523,-1.1594934286708523,-0.20783760717720262,-1.1594934286708523,-0.20783760717720262,-0.20783760717720262,-1.1594934286708523,-1.1594934286708523,-0.20783760717720262,-1.1594934286708523,0.3236613802751872,-0.20783760717720262,-0.20783760717720262,0.3236613802751872,-0.20783760717720262,-0.20783760717720262,0.3236613802751872,-1.1594934286708523,0.3236613802751872,0.669447352467974,-1.1594934286708523,-0.20783760717720262,0.3236613802751872,-1.1594934286708523,-0.20783760717720262,0.3236613802751872,-0.20783760717720262,-0.20783760717720262,-0.20783760717720262,-0.20783760717720262,-0.20783760717720262,-0.20783760717720262,-0.20783760717720262,-0.20783760717720262,-1.1594934286708523,0.3236613802751872,-0.20783760717720262,-0.20783760717720262,-1.1594934286708523,-0.20783760717720262,-1.1594934286708523,-1.1594934286708523,-1.1594934286708523,0.3236613802751872,-1.1594934286708523,-0.20783760717720262,-1.1594934286708523,-0.20783760717720262,-0.20783760717720262,0.669447352467974,0.3236613802751872,-0.20783760717720262,-0.20783760717720262,-1.1594934286708523,0.3236613802751872,-1.1594934286708523,-1.1594934286708523,-0.20783760717720262,-1.1594934286708523,-0.20783760717720262,-1.1594934286708523,-1.1594934286708523,-0.20783760717720262,-0.20783760717720262,-0.20783760717720262,-0.20783760717720262,-1.1594934286708523,-1.1594934286708523,0.669447352467974,0.3236613802751872,-0.20783760717720262,-1.1594934286708523,0.669447352467974,0.3236613802751872,-1.1594934286708523,0.669447352467974,-0.20783760717720262,0.3236613802751872,-0.20783760717720262,-0.20783760717720262,-0.20783760717720262,-1.1594934286708523,-0.20783760717720262,-1.1594934286708523,-1.1594934286708523,-1.1594934286708523,-1.1594934286708523,-1.1594934286708523,-1.1594934286708523,-1.1594934286708523,-1.1594934286708523,0.3236613802751872,-0.20783760717720262,-1.1594934286708523,-1.1594934286708523,-1.1594934286708523,-1.1594934286708523,-1.1594934286708523,-1.1594934286708523,-1.1594934286708523,-1.1594934286708523,-0.20783760717720262,0.3236613802751872,-0.20783760717720262,-1.1594934286708523,-1.1594934286708523,-1.1594934286708523,0.3236613802751872,-1.1594934286708523,0.3236613802751872,-1.1594934286708523,-1.1594934286708523,-0.20783760717720262,-0.20783760717720262,0.3236613802751872,-0.20783760717720262,0.3236613802751872,-0.20783760717720262,0.3236613802751872,-0.20783760717720262,-0.20783760717720262,-1.1594934286708523,-1.1594934286708523,0.3236613802751872,0.669447352467974,-1.1594934286708523,-1.1594934286708523,-0.20783760717720262,-1.1594934286708523,-0.20783760717720262,-1.1594934286708523,-1.1594934286708523,-1.1594934286708523,-0.20783760717720262,-1.1594934286708523,-0.20783760717720262,0.669447352467974,0.3236613802751872,-1.1594934286708523,-0.20783760717720262,0.3236613802751872,-0.20783760717720262,-0.20783760717720262,-1.1594934286708523,-1.1594934286708523,-1.1594934286708523,-1.1594934286708523,-0.20783760717720262,0.3236613802751872],\"z\":[0.42738572718250295,0.2238286775440382,0.4232275926706337,-0.1708356454064488,0.7132166820216819,0.4748574107328098,0.3389770326457474,0.5732705053126733,0.26614761821924526,0.2889662154090545,-0.020081677626418912,0.12289336629316674,0.13099943411642104,0.09933045017581718,0.819166563264034,0.18974933407863848,0.17895850839229394,0.22812462382976492,0.22176969086739806,0.2835998885200375,0.3847885362619781,-0.10531932662568748,0.6999097438368512,-0.2629111120477332,0.8513683794678216,0.01082092633382329,0.21048614011294892,0.1534976557557164,0.5001369464029021,0.47324157539345274,0.40251975947097834,0.12711313947271777,-0.1331856360876737,0.18850133800654284,0.10821032238705716,-0.03385679423822367,0.020154919521073414,-0.37844069755886883,0.008371299457784946,0.14599111271447976,-0.11055207673542786,0.13993662219033895,0.30036537282137654,0.25134483676628133,-0.008579650333877916,0.10485932078232141,0.15651165096499683,0.18280051084589927,-0.04754822632885496,-0.040134775505335604,0.30197389690246657,0.4525613158744659,-0.1771400941526339,-0.03381365480474007,0.4510316192004371,-0.18558385285871326,-0.3763746156685449,0.0348487429087088,0.9495114196994131,0.27752666778645135,0.07686818503719367,0.44015565131584045,0.17626106572912048,0.3613924323283421,-0.42015754606590655,-0.1251410376206761,-0.14621396162554728,0.09863242810616031,0.06834077516944,0.3258719591955693,-0.9527295828905428,-0.10562779466373068,-0.04449004062625816,0.17278559041449287,0.22544451840941912,-0.0562264253690365,-0.016947447037024437,0.28175039993104906,0.7117034936570554,0.1897783051559146,-0.13908533045166538,0.11806589000800471,0.06668596906395918,0.10380022583571201,0.09941127108528323,-0.24446634833655367,-0.008813826134945763,0.3053148509196736,0.3957864929118234,0.3874280015391069,-0.19765112399537227,0.06041628065766996,-0.3438462139426295,-0.2092033509019803,0.32821768772432913,-0.17843074301900658,-0.4437035592925439,-0.07131349419277966,0.10163420201704389,0.05536995758114676,0.560942823813185,-0.1293033116110961,0.6258939641664256,-0.10551716426647788,0.6021840727986958,-0.09670600159764582,0.8404979762925561,0.36504940855386464,0.1224780121371059,0.7465436676466038,-0.01304092633033792,-0.17479651837663684,0.16429698624280606,0.22329544079420455,-0.1252634826176312,-0.27726355853546514,-0.2020397520377423,0.4303677634705129,-0.7440678774001706,0.24999834378898608,-0.49463324557698707,-0.07370458151739759,0.5329580559805477,-0.07008180585770893,-0.049424215628081296,-0.03866425464552218,-0.16483248459806418,-0.06365663498782709,-0.42841422530364415,0.19222519608073835,0.14200578549092346,-0.06225850756207175,-0.11406355299331888,0.08652993131685814,0.4436035519706221,0.17919624210244428,-0.09475844096518005,-0.014589008307930739,0.4685014885903404,0.20807844764887637,-0.049709776572953536,-0.015032809083203846,-0.22975657651608278,-0.2733216353615944,-0.005404940657718795,-0.1372128273576766,0.040551031310188085,-0.11732615016654291,0.46952225599161507,-0.04423957787739915,-0.07695965972935695,-0.45881478421596744,0.7357164146450218,-0.05539906187341647,-0.052535680722156836,-0.040643714347861425,-0.012670555960115423,0.06419904060250406,-0.3589774286594271,-0.3475552650692339,0.8147187850516103,-0.18413419470138448,0.36433163447183226,0.27016428229942085,0.44068738134646673,-0.06504976337236532,-0.618841602405669,0.17882367245660097,1.5339460952697246,-0.25012075541095397,0.7688128522935761,0.17979038095883143,-0.2881045414886504,0.2273031396936801,0.2343136016641351,0.5730029170355305,0.7458264712307043,0.07403416764155736,0.16204775329095847,-0.5260348607525042,-0.17512802398153923,-0.3561254601648144,0.09113867842712921,-0.1390307987111805,0.36845595906823536,-0.23927531843971722,-1.0555474163466327,0.2798012894398574,-0.05743016186322331,-0.37273168336093454,-0.1503509572925304,0.2874910652368669,-0.05842254281724787,-0.16186103510484118,0.4491420616911976,0.38829580633996813,-0.0676481335576969,-0.24050780460063934,0.06344040953521465,0.12185712912822803,-0.0709501216050413,-0.34448362699529456,-0.004363488658296181,0.24469501727260506,0.2498023917716794,0.13084011884038985,0.7839438925474189,0.476836539598621,0.25966316756873997,1.001686904003141,0.3606954106027416,-0.3128689072676684,0.04034787375294677,0.22661417551518095,0.2357912584425086,-0.3079935907977734,0.6057021597419122,-0.08185948440059118,0.35675330360281876,0.12371247998097197,-0.1701745357814784,0.3676237541913784,-0.6468759230642981,-0.07793695369694623,-0.6285233233435519,-0.07432824514234233,0.19060233145079475,-0.2918002077094233,-0.0933991778105329,-0.04039667934173094,0.09050268711948896,0.03832386059572394,-0.42059337293663723,-0.3489511610433007,0.21087196050671259,-0.19296281539687732,-0.1937239197044535,-0.17178029852052465,0.4852026656145537,0.21617345486963313,-0.029396898748881902,-0.020413633689323328,0.30511242475474254,-0.1266864523256983,-0.5478165675154144,0.20244429575668973,0.04782590342965753,0.13222974903196816,-0.17842142454894142,0.0891329161605501,-0.1127804790872309,-0.46233607187182346,-0.01292768186283178,-0.17298448498768695,0.519810615056205,0.08225740986883838,-0.14096452194086292,-0.004631128363573196,0.4168425448348436,-0.038517934358923867,0.4386535697413146,-0.29622284657690295,0.12377664683417104,-0.43630614828203984,0.34172720721125843,0.08590868435228068,0.0942597650661527,0.5133427242258173,-0.0602795863645886,-0.21077998649753252,0.15948405418075054,-0.02252693706039505,0.5470175888846773,-0.17605473873071043,-0.7541262073442092,-0.19843936113690896,-0.2834058104959866,0.5098643474273383,-0.20471676674336994,0.6111113185823007,0.20965736575810545,-0.11913858299446686,0.4200185734641821,-0.29834331542091924,-0.003264816017792292,0.04800513692782797,-0.13854227094165708,-0.18202055274887682,0.15895070292769528,0.2349505944874549,-0.054071293402813546,-0.03916371760199746,0.006573424552460257,-0.1824377463290864,0.6153132312729354,0.06432237394517071,0.21171115613636418,-0.4165805849832149,0.14334849534254468,0.11291390979058133,-0.19210852178851906,-0.3200121384970725,0.008700557497946196,-0.07086783891221245,0.2053105793479179,-0.06473824329502989,0.17185065039729744,0.2680548630614481,0.5516051735418915,-0.7181786382386015,-0.4335118866101573,0.05087997554973616,0.011763725760252041,0.12697890328247646,-0.16567706473015603,-0.4282959086881886,-0.22290348281720015,-0.3826683262065066,-0.10649204309843101,0.05635705765773787,0.4583769892883196,0.7520634209422282,-0.17035860841698733,-0.30352852683121456,0.28057315415876016,-0.07578617083511914,0.10289022426272144,0.0021009249603091765,0.7644588149683149,-0.03746477590573034,0.49592579053235675,-0.3123587350177075,-0.16599392413244518,-0.5468310245129568,-0.5725123105661891,-0.47951138923064035,0.010912264627216913,-0.11371011564976034,-0.10473963634850444,-0.3087353421749334,0.2861160888268714,-0.11615180677692596,-0.2790561460115791,0.49414947427447725,-0.4287161013968791,-0.46078293848113316,0.28588216214898976,-0.35396358846879483,0.1049701579394934,0.20327539042155718,0.1449423211293687,-0.2832537830990747,-0.4108174817834537,-0.07280023615349686,0.25945599217641857,0.1591072723389666,0.33080314555656526,-0.026316752991986082,-0.36710715798231053,0.00408343243527534,0.08585401926771966,-0.0717938223851671,0.8471156594358554,-0.25713437458563015,0.019905145293045528,0.25897261542397165,0.6099883691113203,0.054066667044286046,0.3647104263004583,0.0552902025145277,0.26262611938541763,-0.06743890500628082,0.2562490007046953,-0.455682796476973,0.3779276076168979,0.03514978759029035,0.9139906266500264,0.7195845481056002,0.2702993763891662,0.09768643287701617,-0.6550869844540994,0.10598674146025786,0.3111802915724239,0.27601034656336165,0.3668727473832617,0.3749994031939161,0.17810229687748014,0.22364936882747555,-0.26174828050381743,0.06830911547606146,-0.633450035577626,0.19775404844833433,0.21078901138330527,-0.05050010045319587,0.04621480762790093,-0.10603005913039966,0.08738885138456537,-0.07843658211219363,-0.14411500033970004,0.44508576225976504,0.110515498243096,-1.0264195604005768,0.11536613537325724,0.07354998090172574,0.738821954362466,-0.005334558624688838,0.6248865162057147,0.45355981725244954,0.2952759393946264,0.6121054252084911,-0.1341441363727602,0.7961818251648062,-0.8158936260514214,0.5769394976498943,-0.30023259739100094,0.15538070711954602,-0.2513266890300979,-0.11397983541129622,-0.30003148032478466,-0.15279795954203174,0.14497531299187136,0.31641537730863395,0.2408119319485656,0.3822175395738542,1.0359018089484275,-0.04503287736101091,-0.06779022170690106,0.1371798221243001,0.5181119514005583,0.3468635561810098,0.835440327592684,-0.08603659053161901,-0.24983302613106825,-0.488481233727684,0.6901349950487289,0.01055674630402649,-0.23042680425289952,-0.32384720129317685,0.24247209697208102,-0.1779753061339914,0.06132948872759653,0.17257201560504706,0.15218171623577778,-0.159592563253152,0.24478300341991596,0.00630115773742551,0.43689792751134404,-0.3898193571755034,-0.20107627354440719,-0.20011832150433173,-0.03776481300936886,0.648498554080051,-0.06357612602934848,-0.2147006631165015,0.751504590641897,0.8038452688446884,0.5091149219606715,-0.07593178350230761,-0.04442260354758595,-0.03239846991331876,0.20548837891566418,0.08617074901262188,0.2925162964264061,0.8622535670745263,0.23258299574113295,0.15115064173731735,-0.15087527025295083,0.5001766366143423,0.247477751470696,-0.268759983792155,-0.16277348772985842,-0.11500372275987782,-0.008585449837268841,0.2642795654982808,0.264379641784517,0.6539556715461721,0.20544783034136144,-0.113589225065315,0.1785953379246407,-0.7603681742519883,0.030615654569678574,1.074009082212019,0.18864081385585557,0.2886103034406198,0.09006754830728295,-0.09927029713485502,-0.08679752035468997,0.17723621452381544,0.23100929570224019,-0.47202896693292784,0.49806574002408766,-0.2551199124382382,0.1267921536958346,-0.1964579452189356,-0.20528371098887077,-0.6839754218794525,0.2665203043223192,-0.2210513254481339,0.28753124656282886,0.21355476322028003,0.5422302621620594,0.13933384538395954,0.016184787757820583,-0.01870546050878473,0.24688450056739425,0.16516119548452557,0.27443237737629567,-0.12141765174038247,-0.2576443099467625,0.0839918926898366,-0.04734344462892855,0.11087299540473718,-0.02502309796066042,-0.5654845666910358,-0.18035033323084765,-0.20191918603649536,0.2673274119191379,0.44141899512064997,-0.09865886490356822,0.02183631059623624,0.1986044099089999,0.16069721186587282,-0.1652169000900923,-0.8232137937910127,-1.153646822564619,0.6674549281359107,0.23908321390570003,0.07247545324695634,0.16065266399169026,0.008966880211067419,0.1682139913982199,0.8345676204670212,-0.3249057300804598,0.548516830599616,0.1364227543250488,0.07364252964660446,-0.035742387140328485,0.29343194465638384,-0.1469619777122342,-0.025033288621906975,-0.09544505266199695,-0.263881610697749,0.3724287342333973,0.26746846142644815,0.043495577140350045,0.1472481839356188,0.3346643928614902,-0.14447690205254868,0.7906769353446296,0.10294299357969691,-0.6842860826111341,0.11990775140437483,0.9883397442972002,-0.38124577386418623,-0.27406826892980585,-0.22485540087860295,-0.1989537700892585,-1.0864693458922239,-0.8889031232141039,0.4599046651979005,0.2870329071520828,0.5567165781263547,0.2736550988754223,-0.1563840365167523,-0.09967434100061376,-0.22453331376978733,-0.019386973654906443,-0.23407964579442714,0.43630668522301214,-0.4234609614825152,0.09597002188303823,0.8191004962386699,-0.15542263234275447,-0.01112844207682972,0.4217372525432449,-0.31525230949969624,0.16708650695893784,-0.09588524404336958,0.6701841611804568,-0.2120598704521143,-0.12745902763815797,-0.5293695089293833,0.1952874961897294,1.2024538324807483,0.7146168663786899,0.6183922065220341,0.3516990299364282,0.3773855564858879,0.16592947031061894,-0.16566197811794406,0.17669708514307475,0.6880386844824291,-0.4351695824555029,-0.12229429558037701,-0.018504470195018854,0.15568469488993267,-0.3974362496692695,-0.11451811453535397,-0.018029527286150735,-0.08431152892828717,-0.12600684587561584,0.3560072657728013,-0.13439695465768606,0.02847466463289947,0.6544587412745845,0.36896065806988854,1.661494912326106,-0.6416897688886498,-0.013057512579910169,0.011464355761505687,0.07801549380545289,0.2782980250830431,-0.0642832673816667,0.49294471062150547,0.10220312757021843,-0.1460842106736152,0.5694150685987885,0.44107279356830553,-0.45084800623920895,-0.22307108177550783,-0.49863451948482806,-0.320621724824529,-0.08799836114850607,-0.04137753597295944,-0.3775808591744362,-0.5161023126493117,0.019128660092291735,0.26043704730968475,0.3310516059394305,0.2517145425465828,-0.19411071415792938,0.2030732460563693,-0.20530467734146052,0.23203599433792474,-0.12223812671595742,0.1277270302734734,-0.013006540886368814,-0.7215535453684994,-0.21057304172693736,-0.049177315857003766,-0.09671524386652651,0.3337522637762259,-0.5021682385218236,-0.18152154151045952,-0.29538845248568013,-0.4006257043637649,-0.24703349549208337,-0.19719181069011327,-0.23824397474203074,-0.14078136385336348,-1.1613918153641858,-0.31459692305610326,0.19604870264609026,-0.10280947041373109,-0.6647829379313722,0.041969426606524585,-0.7690438268172735,0.5192646242677432,-0.15512547992375214,0.29136344677827647,-0.11251811451820866,0.097627284816069,-0.03571128900785302,0.8108764951532828,-0.66458793623911,0.046700726647353225,0.5511542287207608,0.04283278225357376,0.1305285866559249,-0.0819615598642869,0.0165311837346282,0.12610692962687078,0.229169473936242,0.2266444614062992,-0.15088005562099915,0.44495012566976994,0.03379300461792986,0.31632113698242464,0.15685852239633286,0.61451739830678,0.3429353693974261,-0.028260781232307033,0.15470119211143657,0.9440469339366448,0.563543267889595,-1.1065627017365975,0.23156077405838862,-0.7412100251690941,0.41130862858135897,-0.04721213120228401,0.5531285734145174,-0.010141630699294668,-0.3448125627245414,0.2782730655277055,0.44465645245060315,0.2848926215135675,0.2964676692165328,0.6036940412806556,-0.1403378216343207,0.2994096379878721,0.7124576584194218,-0.2169448289278725,-0.27813014312052575,-0.04836251313216444,-0.06175188119050301,-0.023832621291137793,0.14483082053789464,-0.01320825359160033,0.8383047761014977,-0.1928497148719728,0.2777728971332333,-0.1771352031288166,0.016444739553965613,-0.7299289406474366,0.14035162212392782,0.3008262409113679,-0.3368239015903641,0.055534768927997795,-0.37351486390157906,0.020488913846170093,0.13238041599053246,-0.9767113402517489,0.04465881376084054,-0.21950461782372588,0.13001935055126598,-0.6408371529659369,-0.12538734682391214,0.14449448952817512,0.14663403187686946,-0.24643810619289513,-0.4745259579227249,-0.01872041145945793,0.09689908343224224,0.4306696021933542,-0.030687729809235426,0.7189308061672168,-0.03830538550914465,-0.49102087150979484,-0.07071138970560305,-0.09149007351376783,-0.2592804468391263,0.12477316127572291,0.41905699754583425,-0.10737682389562049,-0.04884286103482255,0.5090839441726113,-0.199970783759091,-0.07532375586626007,0.46841345197833767,-0.08727947293541191,0.020500939716613324,-0.13242442287492953,-0.10531457489328314,-0.3031401656008898,0.26887808638698657,-0.478206568340875,0.2372305104245259,-0.4093171899114773,-1.0369007333138092,0.057464355863008,-0.276884135367922,0.22277088574939488,-0.18758966450432996,0.17458681857369066,-0.04329817008561239,-0.10388984407529209,0.48469186436505524,0.19844618805843234,-0.17580053226391018,0.2843314667941158,0.010091110930044792,0.23006608036185883,-0.6323097885822457,0.06915620694547765,0.09987298039224538,0.4406159255133531,-0.12566890051357466,-0.3219165758677538,0.2819820976493054,-0.454713983886428,0.1760386668366971,-0.051143234947503946,-0.31624646632487496,-0.16937527324704088,0.9447611134809049,-0.10222964264653576,-0.1808941445806576,-0.3099865613062253,-0.44364686137115467,0.1512440151122214,-0.21166866121675917,0.020850935538365513,0.6102237783748913,-0.15542106072037376,-0.11034336095419657,-0.27881133932451824,0.3612993801138641,0.18669095107813186,0.14752481267355572,-0.10555218293534409,0.1889993953824655,-0.10712413698142702,-0.012190077599187762,0.019574616843728566,0.6688207806592034,0.13757846878073138,0.047931337945632174,-0.07170812909553352,0.25098118677874043,-0.4158593465313349,-0.17888695547915465,0.36121397411296413,0.6277958882288694,0.2343136016641351,0.13467173926288328,-0.2783209347966184,-0.159391738847189,-0.9366037252174425,0.0011270052708748101,-0.6026660558873922,0.04328396572250136,0.2519740753900235,0.736666711961524,0.024094013486399668,0.04645446202993797,-0.7307113793695625,0.7960885870338611,-0.35896944249129087,-0.011847781789236855,-0.155678467761797,-0.16433127526461375,-0.03933809509444353,0.2793579158714581,0.11621634034210773,-0.2927824255205923,0.8626308566888872,-0.343370734027404,0.9478212906079589,0.4630608203021359,0.07443559169368273,0.034134079628607816,-0.20672734178841448,-1.0543023450856146,-0.007859942286477057,0.03943203880008761,0.2733510135066037,-0.3070970540086316,-0.1782522323841516,-0.2647152089187883,-0.43880815454139804,0.45238170825972795,0.10776052131398178,-0.18120839275726022,-0.01910919732978758,-0.16013283729437783,0.25854560201249066,-0.6927314337955282,0.39032922754421223,0.9108974893073394,-1.1167635528279214,0.6947758841805189,0.6785259218034277,-0.4838700870631414,-0.5103316440121866,-1.1150979078043994,0.11180906447676901,-0.06925373630472377,0.7488421035423463,-0.7630828244179038,-0.20222514407410289,0.23876580111055762,0.10971326555862135,-0.06510665778661008,0.4861971273906896,-0.07865032998949743,-0.12805176197647553,0.5794764385071103,0.29320678357942365,-0.9662020032049853,-0.04745683898519504,-0.34202735315923916,0.8260178323070625,0.3339044149148267,-0.019170595341169012,-1.010821774229053,-0.16262861110150634,0.179690585134413,0.5708499359870554,0.016183361171687744,0.1128805135305817,-0.19842217817614022,0.5087830931041343,0.47817659916984784,0.08692978529111044,0.5967327305501821,0.015717930467589368,0.1632968857572561,-0.3962900663570612,0.07336984567742146,-0.11448714861191882,-0.22852393795662565,0.28340537736114363,-0.16477443991592183,0.05873426814996933,-0.1096061684934485,0.46723903184486526,-0.5036361477953686,-0.6288082222610042,0.376108181571387,0.466827721448719,0.10676256836393272,-0.18230536568026634,0.9313931925516982,0.17319359820256947,-0.4548811150913338,0.3979276106470035,0.2059623887042248,-0.11798659676779934,-0.04466789880273699,-0.2685877848158627,-0.14693744176102658,0.11468265698517675,0.2317624045531846,0.7710999825468635,-0.2891733838361718,0.6657860314649424,0.2091441760725427,-0.05310179264011463,-0.11887245299746359,-0.10660128005429814,-0.245730036913628,-0.05471250294608514,0.04433802668704472,0.25194129524821157,0.5193798323199177,-0.11018526538577504,0.0792131530139305,0.16737926964675837,-0.09118399174173471,-0.04829053213018647,0.40523834945784554,-0.5602719213022872,1.0021883233558306,-0.635580853629906,-0.40393021997368594,-0.7298604988388226,-0.6697288698673959,-0.42667081566780835,0.36455253202289856,0.019574616843728566,-0.23910477816211578,-0.835107860774263,-0.22070645810945855,0.8585143312498368,1.0434824218866667,0.15754946080470414,0.33641303847241316,-0.3221972175510243,0.7173918714375879,0.2343136016641351,0.19632883518755131,-1.1054380074381214,0.5093420686502187,-0.24141584254465637,0.09999106516549881,0.3999228127474761,-0.20213553462287015,1.5213856624500186,-0.032354816160056206,-0.6568211131499805,0.1956860859433994,-0.7875188135148713,0.17288241175979868,-0.33760736329731733,-0.04263114975992356,0.2240945789693512,0.5089445345030958,-0.17447721467002,0.11471600592405336,-0.21439753813211795,-0.3606398419426998,-0.08570204360446668,-0.06204071075626225,0.3391901656328769,0.5179917687451397,-0.08246363621791378,-0.9005485996020821,1.3598144284436706,-0.1128132784047716,0.2650427137968891,-0.1016076170982491,-0.004225352370343417,0.3686981422354662,0.080634023287436,0.1860253907213833,0.38516697179899173,0.5280509102438492,-0.11337587198479668,-0.012992019407078928,-0.512461397171555,-0.163382146391886,0.1748155557004091,-0.0014125967179105805,0.5151099505227212,-0.11618112728307721,0.4226796294555151,-0.3146990337676868,0.13646100090563726,-0.2168693043134879,0.5405800421511694],\"type\":\"scatter3d\"},{\"hovertemplate\":\"color=4\\u003cbr\\u003eR=%{x}\\u003cbr\\u003eF=%{y}\\u003cbr\\u003eM=%{z}\\u003cextra\\u003e\\u003c\\u002fextra\\u003e\",\"legendgroup\":\"4\",\"marker\":{\"color\":\"#ab63fa\",\"symbol\":\"circle\"},\"mode\":\"markers\",\"name\":\"4\",\"scene\":\"scene\",\"showlegend\":true,\"x\":[1.59576385230834,1.1935232968645841,1.3150050037039733,1.520136961955717,1.5336643960927134,1.598938395402121,1.598938395402121,0.7760853963238139,1.0974384851518169,1.5732857606451895,1.598938395402121,1.5893875846500638,0.6522392795927222,1.1465669236247935,1.598938395402121,1.35922580825223,0.9462574708132717,0.809804685014131,1.1124178152601263,1.598938395402121,0.997273988708928,1.598938395402121,1.3150050037039733,1.509881939643569,0.6522392795927222,1.449900915240012,1.598938395402121,0.8615423451819304,0.7829191679414758,1.1608725201198686,1.0027913384911045,1.598938395402121,1.59576385230834,1.5700373147716147,1.427926248062256,1.5235343202290363,0.4269335229863305,1.2942924243732363,1.598938395402121,1.3709802815511023,1.3393483886689315,1.3231803342095074,1.598938395402121,1.1222874858884626,1.485577354076478,1.3150050037039733,1.482061215019553,1.3393483886689315,0.6752302316723932,0.7760853963238139,0.9345721459896328,1.598938395402121,1.598938395402121,1.598938395402121,1.598938395402121,1.598938395402121,0.6599616545265186,1.1981071863651216,1.5336643960927134,0.6046088259845442,0.9167932378678173,1.598938395402121,0.6599616545265186,1.0719907823663346,1.3231803342095074,1.598938395402121,1.598938395402121,1.598938395402121,0.7692053784650931,1.598938395402121,1.1369217216045173,1.4092717137573552,1.598938395402121,1.598938395402121,1.1074482480207686,1.0616370971701805,1.4242206535335518,0.8926021477822247,1.2385018978431819,1.598938395402121,1.4316193675512228,0.8802904730094693,1.5029921089389071,1.040618745512789,1.449900915240012,1.5437028615408872,1.598938395402121,1.2207364654049433,1.5064423859847427,1.1024552168121196,1.598938395402121,1.3312944744176638,1.4389685357920525,0.8987032758976307,0.9749080800786297,1.598938395402121,0.7897073484105367,1.5235343202290363,1.582974706731916,0.4557215537170642,0.6522392795927222,1.1608725201198686,0.9462574708132717,1.3552792821693935,1.5370206431299114,1.1561253409348902,1.598938395402121,1.040618745512789,1.598938395402121,1.598938395402121,1.598938395402121,0.836000228777023,1.5336643960927134,0.5459957650446206,1.2296559633773885,1.3826093449962287,1.397924519368555,1.1320660500763247,1.598938395402121,0.3871749098576018,1.1369217216045173,1.4462688574675304,1.0719907823663346,0.9520511417613805,1.3231803342095074,1.598938395402121,0.836000228777023,1.3393483886689315,1.4571292454464928,1.427926248062256,1.471445065125726,1.54702896126312,1.598938395402121,1.5064423859847427,1.598938395402121,0.8164167761291535,0.49283245352238464,0.7622784447699149,1.347343018258084,1.471445065125726,1.1796523576035187,1.2858949825698551,1.2296559633773885,1.427926248062256,1.188919650454555,0.7412092259052417,1.4353001008368935,0.6599616545265186,1.598938395402121,0.9404312689870749,1.1222874858884626,1.598938395402121,0.8295139775618187,1.4535210168130894,1.0191707386262892,1.598938395402121,0.7124167647355311,0.9520511417613805,1.1749883400443766,1.4242206535335518,1.0616370971701805,1.520136961955717,0.7269155314093558,1.413028116587994,1.4535210168130894,1.4092717137573552,1.598938395402121,1.598938395402121,0.4557215537170642,1.4960590990225464,1.598938395402121,0.7897073484105367,1.1024552168121196,1.1369217216045173,0.7622784447699149,0.6127068049311722,0.9047685385305723,1.405502376740675,0.997273988708928,1.3941158059329428,1.0974384851518169,1.3312944744176638,1.1320660500763247,1.0668266711997467,1.1749883400443766,1.3150050037039733,1.3191003789361428,1.598938395402121,1.5029921089389071,1.5235343202290363,1.598938395402121,1.35922580825223,1.4242206535335518,0.7553039107044391,0.4171453551917686,1.1981071863651216,1.598938395402121,1.2428976789608814,0.8740789930226837,1.040618745512789,1.35922580825223,1.5925802670113012,0.9404312689870749,1.582974706731916,1.598938395402121,1.598938395402121,1.040618745512789,0.6827783112463538,1.3941158059329428,1.2428976789608814,1.4092717137573552,0.6676249884612706,0.9917273236030483,1.1981071863651216,1.0719907823663346,0.9047685385305723,0.9167932378678173,0.9167932378678173,1.1124178152601263,1.5133108404335103,1.0873329561508953,0.9404312689870749,1.5700373147716147,1.449900915240012,1.4643104125293986,1.2559781482994525,1.3709802815511023,1.49953103727167,1.4571292454464928,1.3709802815511023,1.2516356508840607,0.8164167761291535,1.26030318775409,1.1749883400443766,1.347343018258084,0.9805447107777983,1.5235343202290363,1.520136961955717,0.9167932378678173,0.3769752869962793,0.5799117113306071,1.386458318619471,1.598938395402121,0.6827783112463538,1.5925802670113012,1.405502376740675,1.598938395402121,1.5797543988744562,0.8740789930226837,1.056421792215199,0.9635424172111304,1.2252054909485246,0.7760853963238139,1.598938395402121,1.3748704298240557,1.598938395402121,1.1222874858884626,1.1935232968645841,0.7050885068234186,1.598938395402121,1.0923978128936804,1.598938395402121,1.5437028615408872,1.4353001008368935,1.0719907823663346,1.0191707386262892,1.598938395402121,1.056421792215199,1.2516356508840607,0.9345721459896328,1.5893875846500638,1.520136961955717,1.2340880454730119,0.809804685014131,1.1655986149393702,1.485577354076478,0.3350646851189304,1.2858949825698551,0.7196921720006412,1.509881939643569,1.056421792215199,1.4462688574675304,1.509881939643569,1.5797543988744562,1.4462688574675304,1.4462688574675304,1.598938395402121,1.5700373147716147,1.598938395402121,0.8295139775618187,0.9345721459896328,1.3433530560952651,1.471445065125726,0.8678297804217232,1.598938395402121,1.598938395402121,0.803149486260823,1.264610917600617,1.3433530560952651,1.4462688574675304,1.2428976789608814,1.040618745512789,1.4785338383308824,0.5373319429218385,1.5536514579613998,1.3433530560952651,0.5018948089084776,1.0616370971701805,1.0923978128936804,1.598938395402121,1.598938395402121,1.0923978128936804,1.3231803342095074,1.26030318775409,1.4890823312460881,1.4242206535335518,0.855216187480815,0.9345721459896328,1.598938395402121,1.2858949825698551,1.1561253409348902,1.2340880454730119,1.2731750323184055,1.3552792821693935,0.6046088259845442,1.2026714981207924,0.6676249884612706,1.3552792821693935,0.9861510104649984,0.7412092259052417,0.9749080800786297,1.3552792821693935,1.2559781482994525,0.7124167647355311,1.4242206535335518,1.4749951474772849,1.2428976789608814,1.598938395402121,1.598938395402121,1.54702896126312,1.598938395402121,1.1024552168121196,1.5503451391926129,1.2559781482994525,0.9047685385305723,0.7050885068234186,1.598938395402121,0.5459957650446206,1.5700373147716147,0.5373319429218385,1.598938395402121,1.582974706731916,1.1935232968645841,1.0771296944857365,1.1271880445871512,1.59576385230834,0.8987032758976307,1.3709802815511023,1.413028116587994,1.397924519368555,0.9917273236030483,1.49953103727167,1.2072164088238007,1.051180483933196,1.598938395402121,1.5925802670113012,1.0923978128936804,1.1124178152601263,0.6207395076806993,1.3312944744176638,1.420502494150731,1.1024552168121196,1.598938395402121,1.4960590990225464,1.598938395402121,1.0191707386262892,1.482061215019553,1.598938395402121,1.5797543988744562,1.36707619966856,1.1981071863651216,1.0974384851518169,1.1561253409348902,1.4316193675512228,1.4462688574675304,1.0245740426161951,0.9462574708132717,1.1796523576035187,1.3513183893389573,1.3231803342095074,1.1124178152601263,1.2117420927396292,1.4389685357920525,1.2559781482994525,1.2385018978431819,0.8926021477822247,1.4749951474772849,1.598938395402121,1.1608725201198686,1.3826093449962287,0.4366242652535963,1.5536514579613998,1.4353001008368935,1.3150050037039733,0.6522392795927222,0.7622784447699149,1.4960590990225464,1.598938395402121,1.0027913384911045,0.9805447107777983,1.598938395402121,1.1749883400443766,1.598938395402121,1.449900915240012,0.8987032758976307,1.598938395402121,1.1024552168121196,1.427926248062256,1.2207364654049433,1.3941158059329428,1.2072164088238007,1.598938395402121,1.397924519368555,0.8987032758976307,1.1935232968645841,1.2296559633773885,1.36707619966856,1.598938395402121,1.397924519368555,0.8926021477822247,1.4607256835166786,1.3748704298240557,0.7692053784650931,1.3709802815511023,1.2252054909485246,1.0245740426161951,0.8926021477822247,0.9635424172111304,1.0352977480064143,1.4462688574675304,0.4557215537170642,1.170303823240162,1.4571292454464928,1.598938395402121,1.0719907823663346,0.5964444341623373,1.0352977480064143,1.2296559633773885,1.4092717137573552,1.49953103727167,1.5893875846500638,1.2428976789608814,1.1561253409348902,1.598938395402121,1.36707619966856,1.36707619966856,0.803149486260823,1.0191707386262892,1.3433530560952651,1.3433530560952651,1.2858949825698551,0.9917273236030483,1.347343018258084,0.803149486260823,1.598938395402121,1.598938395402121,1.598938395402121,0.268559964131286,1.4242206535335518,1.598938395402121,0.9345721459896328,1.598938395402121,1.2858949825698551,1.3513183893389573,1.598938395402121,1.598938395402121,1.3231803342095074,1.59576385230834,1.3433530560952651,1.482061215019553,1.5569479795989982,1.3393483886689315,0.7622784447699149,0.8987032758976307,1.0137393946719864,0.8164167761291535,1.598938395402121,0.6046088259845442,0.9167932378678173,1.598938395402121,1.598938395402121,1.0352977480064143,1.1796523576035187,1.53029797054939,0.5108743686475116,1.4749951474772849,1.170303823240162,1.5064423859847427,0.4171453551917686,1.598938395402121,0.7760853963238139,0.4366242652535963,1.598938395402121,0.9578126650937075,1.598938395402121,1.4017200106101513,1.598938395402121,1.0191707386262892,1.1074482480207686,1.4607256835166786,1.598938395402121,0.6522392795927222,1.5269213007340978,0.8987032758976307,1.4389685357920525,1.029949612233404,1.598938395402121,0.4171453551917686,1.598938395402121,1.4017200106101513,1.2340880454730119,1.4316193675512228,0.7897073484105367,1.4389685357920525,1.598938395402121,1.598938395402121,1.598938395402121,1.5064423859847427,1.4316193675512228,1.598938395402121,1.598938395402121,0.4171453551917686,0.6599616545265186,0.6827783112463538,1.598938395402121,1.029949612233404,1.1222874858884626,0.9404312689870749,1.3191003789361428,1.4017200106101513,0.9861510104649984,1.5235343202290363,1.2516356508840607,1.485577354076478,0.9805447107777983,1.056421792215199,1.405502376740675,1.598938395402121,1.0974384851518169,0.855216187480815,0.809804685014131,1.1320660500763247,0.9520511417613805,1.1935232968645841,0.47445275410745935,1.35922580825223,1.1271880445871512,0.6046088259845442,1.0137393946719864,1.5503451391926129,0.6902701318359551,1.4462688574675304,1.0352977480064143,1.1796523576035187,1.5064423859847427,0.8678297804217232,1.3231803342095074,1.598938395402121,1.1796523576035187,1.2296559633773885,1.2296559633773885,1.5029921089389071,0.3350646851189304,0.809804685014131,1.36707619966856,0.803149486260823,1.0923978128936804,1.598938395402121,0.9047685385305723,1.582974706731916,1.598938395402121,1.598938395402121,1.0352977480064143,1.4017200106101513,1.5732857606451895,1.1074482480207686,0.5630989116430486,1.485577354076478,1.598938395402121,1.598938395402121,1.1655986149393702,0.36666698611879595,1.2901018650001457,1.397924519368555,0.9047685385305723,1.1465669236247935,1.598938395402121,1.040618745512789,1.0668266711997467,1.3748704298240557,1.1271880445871512,1.0352977480064143,1.598938395402121,1.598938395402121,1.1465669236247935,1.598938395402121,0.803149486260823,1.5732857606451895,0.4072576584316042,1.2252054909485246,1.4242206535335518,1.5925802670113012,1.1561253409348902,1.4571292454464928,1.040618745512789,0.8802904730094693,1.264610917600617,1.4242206535335518,1.598938395402121,1.5235343202290363,1.5602347655401805,0.9345721459896328,0.6046088259845442,1.4389685357920525,1.347343018258084,1.3787467496533907,0.4072576584316042,0.8678297804217232,1.0923978128936804,1.0245740426161951,1.2252054909485246,1.1222874858884626,1.598938395402121,1.598938395402121,1.4316193675512228,1.3826093449962287,0.803149486260823,1.49953103727167,1.3941158059329428,0.836000228777023,1.3312944744176638,1.598938395402121,1.0245740426161951,1.449900915240012,1.3272449922805203,1.598938395402121,1.1222874858884626,1.2252054909485246,1.0245740426161951,1.427926248062256,1.056421792215199,1.598938395402121,0.6827783112463538,1.598938395402121,1.1561253409348902,0.5545842960057757,1.598938395402121,1.0191707386262892,0.7196921720006412,1.4535210168130894,0.7553039107044391,0.836000228777023,1.2340880454730119,1.598938395402121,1.0352977480064143,0.9520511417613805,1.509881939643569,1.53029797054939,1.598938395402121,1.1608725201198686,1.3748704298240557,1.598938395402121,1.4571292454464928,0.9345721459896328,0.5018948089084776,1.4389685357920525,1.598938395402121,1.1320660500763247,1.5700373147716147,1.4353001008368935,1.2340880454730119,0.8164167761291535,1.1655986149393702,1.1608725201198686,0.9047685385305723,0.4366242652535963,1.2559781482994525,1.0616370971701805,1.4749951474772849,0.9917273236030483,1.1369217216045173,1.040618745512789,0.3350646851189304,1.5503451391926129,0.9749080800786297,1.598938395402121,1.5503451391926129,1.598938395402121,1.485577354076478,1.029949612233404,1.1271880445871512,0.6366134849225802,1.3552792821693935,1.1465669236247935,1.0873329561508953,1.598938395402121,1.3150050037039733,1.5133108404335103,1.26030318775409,1.1074482480207686,1.0873329561508953,1.3272449922805203,1.4353001008368935,1.36707619966856,1.4749951474772849,1.2731750323184055,0.5964444341623373,1.36707619966856,1.0616370971701805,1.0191707386262892,1.598938395402121,1.1222874858884626,1.598938395402121,1.3513183893389573,1.2559781482994525,1.598938395402121,1.4316193675512228,1.598938395402121,1.5536514579613998,1.056421792215199,1.598938395402121,1.2385018978431819,1.598938395402121,0.5197727225584944,1.1655986149393702,1.5437028615408872,1.4242206535335518,1.598938395402121,1.5029921089389071,1.598938395402121,0.4557215537170642,0.9861510104649984,0.8615423451819304,1.1369217216045173,1.598938395402121,0.5108743686475116,1.2942924243732363,0.9462574708132717,1.0974384851518169,1.2942924243732363,0.7692053784650931,1.1608725201198686,1.1074482480207686,1.598938395402121,0.8740789930226837,0.8488507974325297,1.1124178152601263,1.1465669236247935,1.598938395402121,1.5602347655401805,1.53029797054939,1.598938395402121,1.2252054909485246,1.3272449922805203,0.809804685014131,0.6287080414316558,1.0974384851518169,1.3433530560952651,0.4366242652535963,0.6827783112463538,1.1124178152601263,1.2901018650001457,1.1222874858884626,0.3350646851189304,1.405502376740675,1.36707619966856,0.4366242652535963,0.8295139775618187,0.9520511417613805,1.1465669236247935,1.598938395402121,0.6676249884612706,1.598938395402121,1.427926248062256,0.9635424172111304,0.997273988708928,1.5235343202290363,1.598938395402121,1.3191003789361428,0.7050885068234186,1.1024552168121196,1.598938395402121,1.4785338383308824,1.3748704298240557,1.509881939643569,1.5269213007340978,1.2516356508840607,1.1796523576035187,1.0668266711997467,1.2901018650001457,1.471445065125726,1.3231803342095074,1.59576385230834,1.5893875846500638,1.0873329561508953,1.598938395402121,1.1935232968645841,0.7124167647355311,1.598938395402121,1.2117420927396292,0.7622784447699149,1.2942924243732363,1.3513183893389573,1.598938395402121,0.5108743686475116,1.4960590990225464,0.4171453551917686,1.5700373147716147,1.598938395402121,1.0719907823663346,1.598938395402121,1.5732857606451895,1.3433530560952651,1.3393483886689315,1.2559781482994525,1.582974706731916,1.598938395402121,0.9861510104649984,0.7692053784650931,1.598938395402121,0.44621961821142064,1.397924519368555,0.8926021477822247,1.056421792215199,1.1369217216045173,1.188919650454555,1.598938395402121,0.3562475187220542,1.427926248062256,1.3787467496533907,1.598938395402121,1.5269213007340978,1.264610917600617,0.9749080800786297,1.427926248062256,1.4960590990225464,0.7692053784650931,1.5893875846500638,1.598938395402121,1.1271880445871512,1.4960590990225464,1.0616370971701805,1.4571292454464928,1.3191003789361428,1.598938395402121,1.1981071863651216,1.598938395402121,1.3552792821693935,1.2559781482994525,1.3312944744176638,1.3433530560952651,1.2516356508840607,1.598938395402121,0.3769752869962793,1.0191707386262892,1.482061215019553,0.7050885068234186,1.598938395402121,1.26030318775409,0.836000228777023,1.485577354076478,0.855216187480815,1.2942924243732363,1.4353001008368935,1.598938395402121,0.8295139775618187,0.855216187480815,0.7897073484105367,1.3312944744176638,1.4242206535335518,1.3941158059329428,1.1124178152601263,1.0191707386262892,1.598938395402121,1.3150050037039733,1.598938395402121,1.347343018258084,1.0668266711997467,1.4353001008368935,1.4017200106101513,0.9635424172111304,0.922753539100342,1.49953103727167,1.0719907823663346,1.5569479795989982,1.5732857606451895,0.6046088259845442,1.2559781482994525,1.1024552168121196,1.598938395402121,1.576524769338559,1.598938395402121,1.598938395402121,1.1935232968645841,1.1024552168121196,1.0245740426161951,1.040618745512789,1.598938395402121,1.576524769338559,0.7760853963238139,1.2296559633773885,1.598938395402121,0.9805447107777983,1.2858949825698551,0.9635424172111304,1.1271880445871512,1.3748704298240557,1.598938395402121,1.59576385230834,0.803149486260823,0.9635424172111304,1.3191003789361428,1.3826093449962287,1.598938395402121,1.598938395402121,1.0027913384911045,1.2252054909485246,1.3513183893389573,1.598938395402121,1.598938395402121,1.1024552168121196,1.3312944744176638,1.2858949825698551,1.598938395402121,1.3272449922805203,1.4092717137573552,1.598938395402121,0.9404312689870749,0.922753539100342,0.5373319429218385,1.598938395402121,1.188919650454555,1.598938395402121,1.5235343202290363,1.413028116587994,1.1024552168121196,1.2516356508840607,1.598938395402121,1.4749951474772849,1.598938395402121,0.7622784447699149,1.598938395402121,1.4017200106101513,1.53029797054939,1.598938395402121,1.2385018978431819,0.9047685385305723,1.35922580825223,1.54702896126312,0.6827783112463538,0.8488507974325297,0.809804685014131,1.5667793731444544,1.0616370971701805,1.598938395402121,1.2942924243732363,1.3826093449962287,1.1369217216045173,1.427926248062256,0.997273988708928,0.6046088259845442,1.170303823240162,0.9520511417613805,1.598938395402121,1.3312944744176638,1.4353001008368935,1.2516356508840607,1.1369217216045173,1.2559781482994525,0.7269155314093558,1.59576385230834,0.4557215537170642,0.8488507974325297,0.809804685014131,1.598938395402121,1.485577354076478,1.0771296944857365],\"y\":[-1.1594934286708523,-1.1594934286708523,-1.1594934286708523,-1.1594934286708523,-0.20783760717720262,-1.1594934286708523,-0.20783760717720262,-1.1594934286708523,0.9152164429632184,-1.1594934286708523,-1.1594934286708523,-0.20783760717720262,-1.1594934286708523,-1.1594934286708523,-1.1594934286708523,-1.1594934286708523,-0.20783760717720262,-1.1594934286708523,-0.20783760717720262,-1.1594934286708523,-0.20783760717720262,-1.1594934286708523,-1.1594934286708523,-1.1594934286708523,-1.1594934286708523,-1.1594934286708523,-1.1594934286708523,-1.1594934286708523,-1.1594934286708523,-0.20783760717720262,-1.1594934286708523,-1.1594934286708523,-0.20783760717720262,-1.1594934286708523,-1.1594934286708523,-1.1594934286708523,-1.1594934286708523,-1.1594934286708523,-1.1594934286708523,-1.1594934286708523,-0.20783760717720262,-0.20783760717720262,-1.1594934286708523,0.9152164429632184,-1.1594934286708523,-1.1594934286708523,-1.1594934286708523,-1.1594934286708523,-1.1594934286708523,-1.1594934286708523,-1.1594934286708523,-1.1594934286708523,-1.1594934286708523,-1.1594934286708523,-1.1594934286708523,-1.1594934286708523,-1.1594934286708523,-1.1594934286708523,-1.1594934286708523,-1.1594934286708523,-0.20783760717720262,-1.1594934286708523,-1.1594934286708523,-1.1594934286708523,-1.1594934286708523,-1.1594934286708523,-0.20783760717720262,-1.1594934286708523,-1.1594934286708523,-1.1594934286708523,-1.1594934286708523,-1.1594934286708523,-0.20783760717720262,-1.1594934286708523,-1.1594934286708523,-1.1594934286708523,0.3236613802751872,-0.20783760717720262,-1.1594934286708523,-0.20783760717720262,-1.1594934286708523,-1.1594934286708523,-1.1594934286708523,-1.1594934286708523,0.669447352467974,-1.1594934286708523,-1.1594934286708523,-0.20783760717720262,-1.1594934286708523,1.100329643113481,-0.20783760717720262,-0.20783760717720262,-1.1594934286708523,-0.20783760717720262,-1.1594934286708523,-1.1594934286708523,0.3236613802751872,-1.1594934286708523,-1.1594934286708523,-1.1594934286708523,-1.1594934286708523,-1.1594934286708523,-1.1594934286708523,-1.1594934286708523,-1.1594934286708523,0.3236613802751872,-1.1594934286708523,-0.20783760717720262,-1.1594934286708523,-1.1594934286708523,-1.1594934286708523,0.3236613802751872,-1.1594934286708523,-1.1594934286708523,-1.1594934286708523,-1.1594934286708523,-1.1594934286708523,-1.1594934286708523,-1.1594934286708523,-1.1594934286708523,-1.1594934286708523,-1.1594934286708523,-1.1594934286708523,-0.20783760717720262,-1.1594934286708523,-1.1594934286708523,-1.1594934286708523,-1.1594934286708523,-1.1594934286708523,-1.1594934286708523,-0.20783760717720262,-1.1594934286708523,-1.1594934286708523,-1.1594934286708523,-1.1594934286708523,-1.1594934286708523,-1.1594934286708523,-1.1594934286708523,-0.20783760717720262,-1.1594934286708523,-1.1594934286708523,-1.1594934286708523,-1.1594934286708523,-1.1594934286708523,-1.1594934286708523,-0.20783760717720262,-1.1594934286708523,-1.1594934286708523,-1.1594934286708523,-1.1594934286708523,-0.20783760717720262,-1.1594934286708523,-1.1594934286708523,-1.1594934286708523,-1.1594934286708523,-1.1594934286708523,-1.1594934286708523,-1.1594934286708523,-1.1594934286708523,-1.1594934286708523,-1.1594934286708523,-1.1594934286708523,-1.1594934286708523,-1.1594934286708523,-1.1594934286708523,-0.20783760717720262,-1.1594934286708523,-1.1594934286708523,-1.1594934286708523,-1.1594934286708523,-1.1594934286708523,-0.20783760717720262,-1.1594934286708523,-1.1594934286708523,-0.20783760717720262,-1.1594934286708523,-0.20783760717720262,-1.1594934286708523,-0.20783760717720262,-1.1594934286708523,-1.1594934286708523,-1.1594934286708523,0.669447352467974,-0.20783760717720262,-0.20783760717720262,-1.1594934286708523,-1.1594934286708523,-1.1594934286708523,-0.20783760717720262,-1.1594934286708523,-0.20783760717720262,-1.1594934286708523,-1.1594934286708523,-1.1594934286708523,-1.1594934286708523,-0.20783760717720262,-1.1594934286708523,-1.1594934286708523,0.3236613802751872,-1.1594934286708523,-1.1594934286708523,-1.1594934286708523,-1.1594934286708523,-1.1594934286708523,-1.1594934286708523,-1.1594934286708523,-1.1594934286708523,-1.1594934286708523,-1.1594934286708523,-1.1594934286708523,-0.20783760717720262,-0.20783760717720262,-0.20783760717720262,-0.20783760717720262,-1.1594934286708523,-1.1594934286708523,-0.20783760717720262,-1.1594934286708523,-1.1594934286708523,-1.1594934286708523,-1.1594934286708523,-1.1594934286708523,-1.1594934286708523,-0.20783760717720262,-1.1594934286708523,-0.20783760717720262,-1.1594934286708523,0.9152164429632184,-1.1594934286708523,-0.20783760717720262,-1.1594934286708523,-0.20783760717720262,-0.20783760717720262,-1.1594934286708523,-1.1594934286708523,-1.1594934286708523,-1.1594934286708523,-1.1594934286708523,-0.20783760717720262,-1.1594934286708523,-1.1594934286708523,-1.1594934286708523,-1.1594934286708523,-0.20783760717720262,-1.1594934286708523,-1.1594934286708523,-1.1594934286708523,-1.1594934286708523,-0.20783760717720262,-1.1594934286708523,-1.1594934286708523,-0.20783760717720262,-1.1594934286708523,-1.1594934286708523,-1.1594934286708523,-1.1594934286708523,-0.20783760717720262,-1.1594934286708523,-0.20783760717720262,-1.1594934286708523,0.3236613802751872,-1.1594934286708523,-1.1594934286708523,-1.1594934286708523,-1.1594934286708523,-1.1594934286708523,-1.1594934286708523,0.3236613802751872,-0.20783760717720262,-0.20783760717720262,0.669447352467974,-1.1594934286708523,-1.1594934286708523,-0.20783760717720262,-0.20783760717720262,-1.1594934286708523,-1.1594934286708523,-1.1594934286708523,-0.20783760717720262,-1.1594934286708523,-0.20783760717720262,-1.1594934286708523,-1.1594934286708523,-1.1594934286708523,-1.1594934286708523,-1.1594934286708523,-1.1594934286708523,-0.20783760717720262,-1.1594934286708523,-1.1594934286708523,-0.20783760717720262,-1.1594934286708523,-0.20783760717720262,-1.1594934286708523,-1.1594934286708523,-1.1594934286708523,-1.1594934286708523,-1.1594934286708523,-0.20783760717720262,-1.1594934286708523,0.3236613802751872,-0.20783760717720262,-1.1594934286708523,-1.1594934286708523,0.669447352467974,-1.1594934286708523,-1.1594934286708523,-1.1594934286708523,0.3236613802751872,-1.1594934286708523,-1.1594934286708523,-1.1594934286708523,-0.20783760717720262,-0.20783760717720262,-1.1594934286708523,-0.20783760717720262,-1.1594934286708523,-0.20783760717720262,-1.1594934286708523,-1.1594934286708523,-1.1594934286708523,-1.1594934286708523,-1.1594934286708523,-1.1594934286708523,-1.1594934286708523,-0.20783760717720262,-0.20783760717720262,-1.1594934286708523,-1.1594934286708523,-0.20783760717720262,-0.20783760717720262,-1.1594934286708523,-1.1594934286708523,-0.20783760717720262,-1.1594934286708523,-1.1594934286708523,-1.1594934286708523,-1.1594934286708523,-1.1594934286708523,-1.1594934286708523,-1.1594934286708523,-1.1594934286708523,-1.1594934286708523,-1.1594934286708523,-1.1594934286708523,-1.1594934286708523,-1.1594934286708523,-1.1594934286708523,-1.1594934286708523,-1.1594934286708523,-1.1594934286708523,-1.1594934286708523,-0.20783760717720262,0.3236613802751872,-1.1594934286708523,-1.1594934286708523,0.3236613802751872,0.3236613802751872,-1.1594934286708523,-0.20783760717720262,-0.20783760717720262,-1.1594934286708523,-1.1594934286708523,-0.20783760717720262,-0.20783760717720262,-1.1594934286708523,-0.20783760717720262,-0.20783760717720262,-1.1594934286708523,0.669447352467974,-1.1594934286708523,-1.1594934286708523,-1.1594934286708523,-0.20783760717720262,-1.1594934286708523,0.669447352467974,-1.1594934286708523,-1.1594934286708523,-1.1594934286708523,-1.1594934286708523,-0.20783760717720262,-1.1594934286708523,-0.20783760717720262,-1.1594934286708523,-1.1594934286708523,-0.20783760717720262,-0.20783760717720262,-1.1594934286708523,0.3236613802751872,-0.20783760717720262,-0.20783760717720262,-1.1594934286708523,-1.1594934286708523,-0.20783760717720262,-1.1594934286708523,-1.1594934286708523,-1.1594934286708523,-1.1594934286708523,0.3236613802751872,-1.1594934286708523,-1.1594934286708523,-1.1594934286708523,-1.1594934286708523,-0.20783760717720262,-1.1594934286708523,-0.20783760717720262,0.3236613802751872,-1.1594934286708523,-1.1594934286708523,0.3236613802751872,-0.20783760717720262,-0.20783760717720262,-1.1594934286708523,-1.1594934286708523,-1.1594934286708523,-1.1594934286708523,0.3236613802751872,-1.1594934286708523,-1.1594934286708523,-1.1594934286708523,-1.1594934286708523,-1.1594934286708523,-1.1594934286708523,-0.20783760717720262,-0.20783760717720262,-0.20783760717720262,-1.1594934286708523,-1.1594934286708523,-1.1594934286708523,0.3236613802751872,-1.1594934286708523,-1.1594934286708523,-1.1594934286708523,-1.1594934286708523,-1.1594934286708523,-0.20783760717720262,-1.1594934286708523,-1.1594934286708523,-1.1594934286708523,-1.1594934286708523,-1.1594934286708523,-1.1594934286708523,-1.1594934286708523,-1.1594934286708523,-1.1594934286708523,-1.1594934286708523,-1.1594934286708523,0.669447352467974,-1.1594934286708523,-1.1594934286708523,-1.1594934286708523,-0.20783760717720262,-0.20783760717720262,1.100329643113481,-1.1594934286708523,-1.1594934286708523,-1.1594934286708523,-1.1594934286708523,-1.1594934286708523,-0.20783760717720262,-1.1594934286708523,-0.20783760717720262,-1.1594934286708523,-1.1594934286708523,-1.1594934286708523,-1.1594934286708523,-1.1594934286708523,-1.1594934286708523,-1.1594934286708523,-1.1594934286708523,-0.20783760717720262,-1.1594934286708523,-1.1594934286708523,-1.1594934286708523,-0.20783760717720262,-0.20783760717720262,-1.1594934286708523,-1.1594934286708523,-0.20783760717720262,-1.1594934286708523,-1.1594934286708523,-0.20783760717720262,-1.1594934286708523,-1.1594934286708523,-0.20783760717720262,-1.1594934286708523,-1.1594934286708523,-1.1594934286708523,-0.20783760717720262,-1.1594934286708523,-1.1594934286708523,-1.1594934286708523,-1.1594934286708523,-1.1594934286708523,-1.1594934286708523,-1.1594934286708523,-1.1594934286708523,-1.1594934286708523,-1.1594934286708523,-1.1594934286708523,-1.1594934286708523,-1.1594934286708523,-1.1594934286708523,-0.20783760717720262,-1.1594934286708523,-0.20783760717720262,-1.1594934286708523,-0.20783760717720262,-1.1594934286708523,-1.1594934286708523,-1.1594934286708523,-1.1594934286708523,-1.1594934286708523,-0.20783760717720262,-1.1594934286708523,-1.1594934286708523,-1.1594934286708523,-1.1594934286708523,-0.20783760717720262,-0.20783760717720262,-0.20783760717720262,-1.1594934286708523,-1.1594934286708523,-1.1594934286708523,-1.1594934286708523,-1.1594934286708523,-1.1594934286708523,0.3236613802751872,-1.1594934286708523,-1.1594934286708523,-1.1594934286708523,-1.1594934286708523,-1.1594934286708523,-1.1594934286708523,-1.1594934286708523,-1.1594934286708523,1.100329643113481,-0.20783760717720262,-1.1594934286708523,-1.1594934286708523,-1.1594934286708523,-1.1594934286708523,-1.1594934286708523,-1.1594934286708523,-1.1594934286708523,-1.1594934286708523,0.3236613802751872,-1.1594934286708523,-1.1594934286708523,-1.1594934286708523,-1.1594934286708523,0.3236613802751872,0.3236613802751872,-0.20783760717720262,-1.1594934286708523,-1.1594934286708523,0.9152164429632184,-1.1594934286708523,-0.20783760717720262,-1.1594934286708523,-1.1594934286708523,-0.20783760717720262,-0.20783760717720262,-1.1594934286708523,-1.1594934286708523,-0.20783760717720262,-1.1594934286708523,-1.1594934286708523,-0.20783760717720262,-1.1594934286708523,-0.20783760717720262,-1.1594934286708523,-1.1594934286708523,-1.1594934286708523,-1.1594934286708523,-1.1594934286708523,0.3236613802751872,-1.1594934286708523,-1.1594934286708523,0.669447352467974,-1.1594934286708523,-1.1594934286708523,-1.1594934286708523,-1.1594934286708523,-1.1594934286708523,-0.20783760717720262,-1.1594934286708523,-0.20783760717720262,-1.1594934286708523,0.9152164429632184,0.669447352467974,-1.1594934286708523,-1.1594934286708523,-0.20783760717720262,-1.1594934286708523,-0.20783760717720262,-1.1594934286708523,-1.1594934286708523,-0.20783760717720262,-1.1594934286708523,-0.20783760717720262,-1.1594934286708523,-1.1594934286708523,-1.1594934286708523,-1.1594934286708523,-1.1594934286708523,-1.1594934286708523,-1.1594934286708523,-1.1594934286708523,-1.1594934286708523,-1.1594934286708523,-1.1594934286708523,0.3236613802751872,0.3236613802751872,-1.1594934286708523,-1.1594934286708523,-1.1594934286708523,-1.1594934286708523,-1.1594934286708523,-1.1594934286708523,-1.1594934286708523,-0.20783760717720262,-1.1594934286708523,-1.1594934286708523,-1.1594934286708523,-1.1594934286708523,-1.1594934286708523,0.669447352467974,-1.1594934286708523,-1.1594934286708523,-1.1594934286708523,-1.1594934286708523,-1.1594934286708523,-1.1594934286708523,-1.1594934286708523,-1.1594934286708523,-1.1594934286708523,-1.1594934286708523,-1.1594934286708523,-1.1594934286708523,-1.1594934286708523,-1.1594934286708523,0.3236613802751872,-1.1594934286708523,-0.20783760717720262,-1.1594934286708523,-0.20783760717720262,-0.20783760717720262,-1.1594934286708523,-0.20783760717720262,-1.1594934286708523,-1.1594934286708523,-1.1594934286708523,-1.1594934286708523,-1.1594934286708523,-1.1594934286708523,-1.1594934286708523,-1.1594934286708523,-1.1594934286708523,-1.1594934286708523,-1.1594934286708523,-1.1594934286708523,1.100329643113481,-1.1594934286708523,-0.20783760717720262,-1.1594934286708523,-1.1594934286708523,-1.1594934286708523,-1.1594934286708523,0.3236613802751872,0.3236613802751872,-1.1594934286708523,-1.1594934286708523,-0.20783760717720262,-1.1594934286708523,-0.20783760717720262,-1.1594934286708523,-1.1594934286708523,-1.1594934286708523,-0.20783760717720262,0.3236613802751872,-1.1594934286708523,-1.1594934286708523,-0.20783760717720262,-1.1594934286708523,-1.1594934286708523,-1.1594934286708523,-1.1594934286708523,-1.1594934286708523,0.3236613802751872,-1.1594934286708523,-0.20783760717720262,-1.1594934286708523,-1.1594934286708523,-0.20783760717720262,-0.20783760717720262,-1.1594934286708523,-1.1594934286708523,-1.1594934286708523,-1.1594934286708523,-1.1594934286708523,-1.1594934286708523,-0.20783760717720262,-0.20783760717720262,-1.1594934286708523,-1.1594934286708523,-1.1594934286708523,-1.1594934286708523,-1.1594934286708523,-1.1594934286708523,-1.1594934286708523,-1.1594934286708523,-1.1594934286708523,-1.1594934286708523,-1.1594934286708523,-0.20783760717720262,-1.1594934286708523,-1.1594934286708523,-0.20783760717720262,-0.20783760717720262,-1.1594934286708523,-1.1594934286708523,-1.1594934286708523,-1.1594934286708523,0.3236613802751872,-1.1594934286708523,-1.1594934286708523,-1.1594934286708523,-1.1594934286708523,-1.1594934286708523,-1.1594934286708523,-1.1594934286708523,-1.1594934286708523,-1.1594934286708523,-1.1594934286708523,-1.1594934286708523,-1.1594934286708523,-1.1594934286708523,-0.20783760717720262,-1.1594934286708523,-1.1594934286708523,0.669447352467974,0.3236613802751872,-1.1594934286708523,-1.1594934286708523,-1.1594934286708523,-1.1594934286708523,-1.1594934286708523,0.3236613802751872,-1.1594934286708523,-0.20783760717720262,-0.20783760717720262,-1.1594934286708523,-1.1594934286708523,-0.20783760717720262,0.3236613802751872,-0.20783760717720262,0.3236613802751872,-1.1594934286708523,-0.20783760717720262,-1.1594934286708523,-1.1594934286708523,0.3236613802751872,-1.1594934286708523,0.3236613802751872,-0.20783760717720262,0.669447352467974,-0.20783760717720262,-1.1594934286708523,-1.1594934286708523,-1.1594934286708523,-1.1594934286708523,-1.1594934286708523,-1.1594934286708523,-0.20783760717720262,-0.20783760717720262,-1.1594934286708523,-1.1594934286708523,-1.1594934286708523,-1.1594934286708523,0.669447352467974,-1.1594934286708523,-1.1594934286708523,-1.1594934286708523,-0.20783760717720262,-1.1594934286708523,-1.1594934286708523,-1.1594934286708523,-1.1594934286708523,-1.1594934286708523,-1.1594934286708523,-1.1594934286708523,-1.1594934286708523,-1.1594934286708523,-1.1594934286708523,-1.1594934286708523,-1.1594934286708523,-1.1594934286708523,0.3236613802751872,-1.1594934286708523,-0.20783760717720262,-1.1594934286708523,-0.20783760717720262,-1.1594934286708523,-1.1594934286708523,-1.1594934286708523,-1.1594934286708523,-1.1594934286708523,-1.1594934286708523,-1.1594934286708523,-0.20783760717720262,-0.20783760717720262,-1.1594934286708523,-1.1594934286708523,-1.1594934286708523,-1.1594934286708523,-1.1594934286708523,-0.20783760717720262,-1.1594934286708523,-1.1594934286708523,-1.1594934286708523,-0.20783760717720262,-0.20783760717720262,-1.1594934286708523,-0.20783760717720262,-0.20783760717720262,0.3236613802751872,-1.1594934286708523,0.3236613802751872,-1.1594934286708523,-1.1594934286708523,-1.1594934286708523,0.3236613802751872,-0.20783760717720262,0.669447352467974,-1.1594934286708523,-1.1594934286708523,-1.1594934286708523,-1.1594934286708523,-1.1594934286708523,-1.1594934286708523,-1.1594934286708523,-0.20783760717720262,-0.20783760717720262,-0.20783760717720262,-1.1594934286708523,-1.1594934286708523,-1.1594934286708523,-1.1594934286708523,-1.1594934286708523,-1.1594934286708523,-1.1594934286708523,-1.1594934286708523,-1.1594934286708523,-1.1594934286708523,-1.1594934286708523,-1.1594934286708523,-1.1594934286708523,-1.1594934286708523,-1.1594934286708523,-1.1594934286708523,-0.20783760717720262,-1.1594934286708523,-1.1594934286708523,-0.20783760717720262,-1.1594934286708523,-0.20783760717720262,-1.1594934286708523,0.3236613802751872,-1.1594934286708523,-1.1594934286708523,-1.1594934286708523,-1.1594934286708523,-1.1594934286708523,-0.20783760717720262,-1.1594934286708523,-1.1594934286708523,-0.20783760717720262,-1.1594934286708523,-1.1594934286708523,-1.1594934286708523,-0.20783760717720262,-1.1594934286708523,-1.1594934286708523,-1.1594934286708523,-1.1594934286708523,-1.1594934286708523,-0.20783760717720262,-1.1594934286708523,-1.1594934286708523,-0.20783760717720262,0.669447352467974,-1.1594934286708523,-0.20783760717720262,-1.1594934286708523,-1.1594934286708523,-1.1594934286708523,0.669447352467974,-0.20783760717720262,-1.1594934286708523,-1.1594934286708523,-1.1594934286708523,-1.1594934286708523,-1.1594934286708523,1.100329643113481,-1.1594934286708523,-1.1594934286708523,-1.1594934286708523,-1.1594934286708523,-1.1594934286708523,-0.20783760717720262,-0.20783760717720262,-1.1594934286708523,-1.1594934286708523,-1.1594934286708523,-0.20783760717720262,-1.1594934286708523,-1.1594934286708523,0.9152164429632184,-0.20783760717720262,-1.1594934286708523,-0.20783760717720262,-1.1594934286708523,-1.1594934286708523,-1.1594934286708523,-0.20783760717720262,-1.1594934286708523,-1.1594934286708523,-1.1594934286708523,-1.1594934286708523,-1.1594934286708523,0.3236613802751872,-0.20783760717720262,-1.1594934286708523,-1.1594934286708523,-1.1594934286708523,-1.1594934286708523,-0.20783760717720262,-0.20783760717720262,-1.1594934286708523,-1.1594934286708523,-0.20783760717720262,-1.1594934286708523,-1.1594934286708523,-0.20783760717720262,-1.1594934286708523,-0.20783760717720262,-0.20783760717720262,-1.1594934286708523,-0.20783760717720262,-1.1594934286708523,-1.1594934286708523,-1.1594934286708523,-1.1594934286708523,-1.1594934286708523,-1.1594934286708523,-0.20783760717720262,-1.1594934286708523,-1.1594934286708523,-0.20783760717720262,-0.20783760717720262,-0.20783760717720262,-1.1594934286708523,-1.1594934286708523,-1.1594934286708523,-0.20783760717720262,-1.1594934286708523,-0.20783760717720262,-1.1594934286708523,-1.1594934286708523,-1.1594934286708523,0.3236613802751872,-1.1594934286708523,-1.1594934286708523,-1.1594934286708523,-1.1594934286708523,-1.1594934286708523,0.9152164429632184,0.9152164429632184,-0.20783760717720262,-1.1594934286708523,-1.1594934286708523,-1.1594934286708523,-1.1594934286708523,-1.1594934286708523,-1.1594934286708523,-1.1594934286708523],\"z\":[0.16021952964964103,0.323463258681456,0.0864830195729076,0.11338136531508812,0.6774790281790378,0.5303736659452624,0.256069124128767,0.06437129817957155,0.09235386640155648,-0.04542971073419591,0.2156405608513381,0.561314781265161,0.15978227138453724,0.1434712116379005,-0.13437605871204317,0.0659976980074778,0.4628544870593945,-0.0788862285079044,0.12790943341920097,0.32812329465368606,0.16324728258402213,-0.24229524664523153,-2.259508599650298,0.48802836071214295,0.0039354474869378545,0.1792586980576018,0.42219996327149734,-0.13405463360405798,-0.011852803229686208,0.5269598598937209,0.11688181183898981,-0.05020128821962812,0.5653039128340701,-0.2086820474143095,0.29386606975739465,-0.09781284875102225,0.07912603263561571,-1.4999405514343345,0.1728920134729284,-0.009360402699721436,0.38108461808530647,0.39269279872501345,-0.001936029779666249,0.22210319662277614,-0.1341441363727602,-0.08470205724908633,-0.03830538550914465,0.31425749566799416,0.08502542581359232,-0.1654318073802003,-0.18927471282871702,-0.430071771213017,0.1256777550030163,0.2469926372267231,0.3434806083850365,-0.42288159869822695,0.6480852564747743,0.44026448155515097,0.06300477034590646,-0.021210678723286174,0.09609492986764656,0.02897207599517866,-0.0014639042341706842,0.1614179032493965,0.0007441913488796164,0.6062156545937292,0.05158184457514672,-0.28331157655636113,0.07075204984817958,0.32536942655061446,-0.1605689755393309,-0.11376219507960644,0.35153405248242664,0.1514178542711273,-0.02626831611218534,0.15356804781128539,-0.06558515975136324,0.34562858857091594,-0.16222304263771206,0.5598355731942354,0.41743131106812426,-0.003969138958888169,-0.006768910937125709,-0.5994890734425075,-0.3831712954760463,0.06599275928334952,-0.4265224296206791,0.4260826167687332,0.27842611793070576,-0.20050103686726847,-0.8790924926640573,0.056117376663041584,-0.3078309791245377,-0.07193193513818488,-0.24987728804446088,-0.2265341964877032,-0.7979846434098827,0.19077029655182545,-1.5106100872616715,-1.2078725619354675,0.5866960809613601,0.04940650786758417,-1.8616557371711733,-0.3000946013334086,-1.418402303311314,-0.0921954311901461,-0.012626339778380414,0.1660910505224322,-0.0832308869675987,-0.04622374510376815,-0.009214236414188498,0.06811238873546874,-0.03562899253136002,-0.03751622600008636,0.13779890539981468,0.36289484628367774,0.21518193505142963,0.7795569542601631,-0.22899842076855517,-1.1041504175130206,0.49879255070671275,0.4928468614552282,-0.7939805097490208,0.1079525507237108,-0.43198348871894987,0.9136347448979993,-0.05781938932988302,0.7402735264696174,-1.5137306832868682,0.5164194133958884,-0.14218623849035836,-0.034502687237764576,-0.28607781038446245,-0.7263445928336275,-1.3571983971791253,0.19768116957930845,-0.10994499717257071,-0.444940178290896,-0.41176627344198236,-1.2786096970576737,0.654073429855431,-0.10763312027861664,0.025376792410203144,-0.14153451286719537,-0.7144632396687687,0.03538046374321625,0.05735642506558682,-0.9406791889138238,-0.16024159326216192,-0.9545248920442507,-0.10054088850365017,0.19022535288386286,0.002865628593152375,0.6480025105315164,0.08534796950790366,-0.26597712561842896,-0.20222514407410289,0.5095900889930063,-0.12160795453387445,0.076583004948992,0.08585519753739376,0.1469352880444915,0.2523035366704972,-1.2619859733493668,-0.1898313607892939,0.27792994925299586,0.3097382082733582,0.13875956176023518,-0.07736730282350353,-0.21428899669780535,-0.17795064161905497,0.13807723064378438,-0.2336676427547372,0.011247377234887196,-0.12153838085326864,-0.5185581674834919,0.18103716480781137,-1.6161851710933,0.2469184267940918,-0.04754822632885496,0.050273459476395756,-2.0882206751910206,-0.06232046365361784,0.2690597643306378,0.186480883312676,-0.05136070526482573,0.16554436890156898,0.009727497215520603,0.06540690826163602,0.5168623015229071,0.014689658234231224,-0.8558945086146511,-0.054404311770937075,0.21569934697371074,-0.001644209436433271,0.3079914680913626,0.36433163447183226,-0.7320474636857122,0.2652914019965599,-1.8646515805008368,-0.9123374963791827,-0.5258604416527405,-0.22606269804502088,-1.4541980949012008,-0.5543944844354803,0.05385375849505912,-0.3300217419672829,-0.5898031732924676,-0.3402518530957875,-1.5605493129337826,-0.19600612586992605,-0.061389933305824686,-1.0952940374997413,-0.18665828677408502,-0.24091431736294133,-2.1078062195788982,0.14678507058325616,-0.2443451354813072,0.17116787193890645,-2.6873258479378097,-0.8926354013261659,0.31102331353335766,-0.07112556585658882,-0.05018468957529833,-1.4792662311023,0.14106569082228404,0.36053492620931027,-0.7020838216351668,-1.314547332814402,0.5051473167312264,0.8497592697546904,0.004571228743882226,-0.10987112867108627,-0.5820417602551435,-0.18001290968378564,-0.5029533573278876,0.83452748078448,0.258224130401864,0.3983269070690848,-0.14251963408786383,0.1726555056317436,-1.1356271287195492,0.8344342942184738,0.016785495258103345,-0.04077164110045349,-0.09081274001185186,-0.10840689463759538,-0.4032459547335531,-1.3244787922742145,0.11057404995889598,-0.32337890986223145,-0.21931348914178778,-0.02216924606519643,-1.19724478963991,-0.17658179801009347,0.7156967883422183,0.04940650786758417,0.07114116306541822,-0.1779364659996172,-0.39560634164147146,-0.016281886144718406,0.4560515425594921,0.12888484535356004,0.7035535329608394,-0.24932071864693703,0.01579622204686411,0.8761954184483309,-0.011464793947250725,0.40837178940560515,-0.7791354209512638,0.11316101484538384,0.4267089785110558,0.14565445468876886,-0.5879301868599976,-0.06929325602534633,0.7098932153979113,-0.39985475507813456,-0.1397439572093569,0.21383890796766364,-0.07507618515879691,-1.6153638740972507,-1.2844534438913047,-0.612179640294834,-1.7293956344100803,0.36433163447183226,0.29603444394872397,-0.6114011280637387,-1.407477805472082,-1.3772069010371353,-1.1075475592716657,-0.7104513955812753,-0.02564156970685541,0.5165210312002644,0.7146168663786899,-1.178190592222201,-0.27850899433399373,-0.07085373383546736,-0.11970904613093655,0.5220284195627509,0.1683738369768736,-0.6768902836599298,-0.551971018478779,-1.6769246523765917,-1.3798214474648365,0.08643522994137871,-0.08181865647809829,-0.1867253424214908,-0.06118867440193995,0.07958004546136711,0.03374868793279428,0.06815778990793735,0.27011724954868416,0.007015734731981851,-0.1426673228448835,-1.2636954638542157,0.06290968902274251,0.4232275926706337,0.1585093884108083,-0.03531458578251415,-0.5926032812166607,-0.053791624573994966,0.5611169139115803,0.34148635217906403,-0.15704871053074493,-0.20222514407410289,-0.1657690481949556,-0.04962599351840897,0.36612529593637594,0.5267499317395652,-0.07241610437711606,0.11231803177349421,0.3150414592888292,0.3352769420158823,-0.032293703397734165,0.35301617133227775,-0.13939833965590775,-0.19329463373519107,-0.1278209705151883,0.14008917848801603,0.4833774056176717,0.12368006794007647,-2.1198627352716897,0.20484479510117182,-0.33512482372871494,0.36651238835247774,0.15501731654656029,-1.554811502516641,-0.3578646519756316,0.609434286408552,-0.7641470928382311,-0.4371991785490917,-0.23346365136772088,0.48911725456354316,-0.49401073842647525,-1.567177711878221,0.6438875111094762,-0.5392607288351563,-0.9791876374689219,-0.5781096294049356,0.00968525256490312,0.26060642478308105,-0.1814819669806137,-0.16286042147731727,0.1859098168669443,0.6415229434930413,-0.08312015471186876,0.48316863280799377,-0.5066653050660882,0.18829943780384575,-0.2408066948702939,-0.8198023122564085,0.22471986185428205,-1.6388046645900918,-1.1357509485864146,0.927984607032566,-0.6785092550429268,-0.4487594309078232,-0.36929602919543375,-0.13812969803686054,0.1636883908458454,-0.12599384634396865,-0.17862931940157903,-0.036400318362912965,-0.2646334600763423,-0.015226629413133146,0.3312119133594316,0.17582576270064512,-0.9812090279822917,-1.1238670328030427,-0.44257006235112073,0.5282186784443265,-0.9421335537801718,0.2850456201733586,-0.9584151059429279,-0.3300502488435605,-1.3436623934174319,0.5706592082609133,-1.8451838099733961,-0.0929699194526374,0.059197652270731496,0.09798213194636667,0.030095145394870022,-0.2655290835103555,-0.04588774764024235,-0.16048632755216777,0.2395093281259379,-0.8311067075955441,0.8513683794678216,0.3030199655023336,0.12919960172659248,-1.6116893538879258,0.013860726735058232,0.44495012566976994,-0.13989646488151936,0.41222214696595405,-0.1571435044459848,0.1642273145743278,0.48588394001445556,0.08287304456716299,0.19986570846772325,0.07567206283434988,-0.33512482372871494,0.0383009809353161,-0.05024957640298145,-0.6330149529374757,-0.022312634062609627,0.7572899553531228,0.2709912176941689,-1.7154065486357435,-0.5260561329387811,0.4945473789638923,-0.1271643278245588,-1.357789215127329,-0.4196285210134675,-0.991925667772926,-1.5298589365967281,-1.0644070547933242,-0.38715037171256617,-0.9696996012982205,-2.0294157132582584,-0.8394626637205347,0.5865041073801485,-0.1478991527845332,-1.1538922333669694,-0.12816937155986982,0.03779305861390051,0.04027226439668896,0.11796722455962183,0.015039202788603151,0.212634901871537,-0.06792029325286604,0.01261956447623511,-0.21764392138396685,0.18020611215628024,-0.009452287178589083,0.11608255944960118,-0.02756193876085094,-0.2017771585580372,-0.16251272145251672,-0.31776434788725866,0.0808711430224147,-0.2400320433578125,0.3245225992960643,0.34660014710687315,0.04681016234822794,-1.9505661053460661,-0.46526935095556765,-0.7848847194929656,-0.3440840184606301,-0.2401097676600742,0.27676220016126735,0.9198312411925466,-0.06954742720551148,0.2059623887042248,-0.3261031950477024,0.36752767901915173,0.027098099161845135,0.13501639220860884,0.09133677995937507,-0.2882126584556976,0.27217980931171537,-0.1512368328366188,-0.05926284789235098,-0.08179143858144888,0.06612115989555756,-0.35294594731590656,0.03420464749861795,-0.3905952375429843,0.06896145524290641,0.17451259178989403,-0.1764939399325847,-1.2188592866861765,-1.151350004139855,0.07976535473104415,-0.025866932152717074,-0.08733999544079658,-0.32766415096923024,-0.4179106518018143,-0.10033488013373254,-0.6521522111789183,-0.040642823763199075,-0.006561084239845702,-0.2158967612077248,-1.324957267072075,0.3746279399434781,-0.4345306644672123,0.20693947211545866,-0.14365680625789848,-0.42501398658270095,-0.2898819730328373,-0.17123331025973515,0.2204937771431528,-0.14381698919288022,-0.2091350991977837,-1.0761966462951373,0.11779035066152668,-0.513699189399135,0.054661102187628596,-0.09203865170772449,0.34110777188982944,-0.39424104601561777,-1.835555114690631,-1.3817556470470225,0.34988877491236214,-0.015528185917796696,0.01698491992604536,-1.2010569756794949,-1.14049537287878,-1.9456064282339383,-2.030887639479108,-1.283281784608202,-1.468781057882108,-1.7114135355773663,0.1903719690222608,-2.7450571980150964,-0.6742460445726656,-0.636637120612383,-0.012073766073950424,-0.7649077975748875,-0.9199324956555767,-1.7853833567478705,-1.80115396217276,-1.6042959354252142,-0.1569374395627422,-0.7804847308432876,-0.23057172754194855,-0.07424426717107092,-1.042182759338648,0.08967647640572718,-0.12874033204885682,-0.03335748051859518,0.19030532743156442,-0.4170167340583773,0.5602999813753516,-0.10864507234614482,-0.07511642280981057,0.26797375885555386,-0.17133053576506674,0.13655345309512745,-0.2551885361235339,0.14008917848801603,0.08827969403358488,-1.0350748639178609,0.4149826591073173,0.3209879710730196,0.09812528785897348,0.2763828272018285,-1.6769015483103031,0.1716752162746235,-0.03436442578665664,0.2475331811936226,-0.09643569451185725,-0.5489822406996597,-1.226230453290717,-0.20350595376261896,-0.3517644233963103,-0.08337384630769978,-0.29007367001178763,-0.24559085892651833,0.09462806171019833,-0.4835290126489271,-0.20222514407410289,0.5603571843269715,-0.15851123152396948,-0.21404029004831593,-1.1747729428801592,-1.7010035937276184,-0.7531797784454137,-2.171314846509165,-0.01179566386135325,0.33530250276181855,-0.29258429607508896,-0.9655670334425105,-1.2361717804456056,-0.0916396626151698,-0.8220660602112828,-0.2890675740429276,0.5976843314370172,-0.30207514800349927,-0.7153778933865748,-0.9931800569502557,-0.3481273316235473,0.860629962959311,-1.427834442316509,-0.013870501638686136,0.9423788514042236,0.42884979781411814,0.6504897181532177,-0.16175245255118872,-0.42918354163674494,-0.9719704207163824,-0.5698954233611405,0.17532210325402828,0.3039399696795344,-0.3154318004397627,-0.5966372638355133,-0.04622374510376815,-0.2404975768342084,-1.67403509602808,0.4979157791838625,-0.5632365119046681,0.00464816410393133,-0.03436442578665664,0.5638496887410269,0.07891754183209727,0.524185925119805,0.008364404540402381,-0.47705527964219524,-1.5848594808594836,-0.03682610876603599,0.04371337581465747,-1.0966244671679652,0.3461855797926298,0.32391969997681175,0.4580824008523986,-0.25073351313720216,-0.030792195539771857,0.4700725176869052,0.09288651040615153,0.46298713380460127,-0.07027555863506647,0.20157429518100525,0.43160368147193523,0.4624743933854825,0.20095656255368136,-1.3652884731803332,-0.1593380658167154,-0.05550923255830814,-1.2018099071056267,-0.09671100781840682,0.3941278916673325,0.25542133492743263,-0.07692867065260461,-1.5769268005869803,-0.037062081184205516,0.4570155115570974,-0.1756156861013053,0.02803543082048555,0.025552759750256185,-0.19373970497980755,0.259658752268286,-0.08091335122714315,-0.16501654589207854,-0.10145955994103849,0.08171848533455782,0.15049927867779983,-1.6234974125661972,-1.451696619234363,0.13061504042421873,-1.2651151680906467,-0.13410716708742557,0.4005606023451489,-1.6641085982200121,0.23446899547110206,-0.6863794425715845,-1.6431084105776215,0.023341888456522537,0.5635400076825858,-0.25579977285790706,0.5670776739872522,-1.0184613314199613,-1.1344131870196037,-0.8008474644160715,0.018989695656910815,0.6414285290242824,0.11892760420590977,0.3758299796884862,-1.8302004068068114,-0.01662897148978612,0.009093681087687842,-1.1693892946663353,-0.10123454557788822,-0.9450369038151968,-0.07184648763497986,-1.2849481659699729,0.13038751786560335,0.6238901750577658,0.11999716656650931,-0.8093784635767288,0.1388758487606682,-0.18663679531196642,-0.7297084183575983,0.328619404030387,0.46266496705984117,-0.5304527874894592,-0.060199288330110075,-0.00948409487831361,-0.24735675246311822,-0.4361276145882654,-0.40030641153365065,0.1465150545970591,0.73050247091927,-0.10240741929235506,0.5226702346221462,-0.2495165009946514,0.4347396259722224,0.13205507033111533,0.04615340744315185,-0.34928196481542395,-0.1764939399325847,-0.16642973224713928,0.15272555644212002,-0.19824845210750977,-1.5874023373759665,-0.39731781312293724,-0.31700974906846724,-1.0682463636996828,-1.4787174278621258,-2.056671122806771,0.4687384791231598,0.3703798951155736,0.07244614319238254,-0.17900651598792755,0.442545984964633,0.5581573961941605,0.8761954184483309,-0.8173814813365667,0.0647080416950242,-0.8631147754341784,-1.3768702526768066,-0.03602691240746703,0.26306250620439536,-0.054978697595472525,0.22382070880927435,0.7963579219921827,0.12377367528540296,-0.8292728240644067,0.03674524355930731,-0.0665717643173344,-0.016584192205107515,0.04830029021618536,0.39855045711540177,-0.15201708141769246,0.0040319285776745815,-0.25891511147788454,0.10603095034498758,-1.1638609060837857,-0.5380821077333573,-2.2411029472061803,-1.0807348167356456,-0.2778613475531146,-0.07868460173590096,0.4636180162240703,0.1387973184484849,-0.21505276528982606,-0.6869894780794509,0.230919374551433,0.5302301173040703,-0.053049940525936534,-0.05607641481493581,-0.1330513477495139,-1.097018372948781,-0.1851829563519701,-0.9186145748211081,-0.42683754086064757,-0.1596291654451849,-0.042448522284033785,0.7138387277817695,0.6787744991576559,-1.499497356316414,-1.0985306189020276,-1.706525554369873,0.28252970392911253,0.50279486859014,-1.157785624027256,-0.3333072738873078,-0.40426211275208457,-0.14079357358639788,-0.02799691649339528,0.16624623808559524,-0.8206025882132733,-0.5939638206929234,-0.12785302242230295,0.4887873880187377,-0.1266830016447981,-0.2896064578181033,-0.20446738954806024,0.20912973153445688,-0.9081649996283243,0.2082410745696781,-0.8842558316639993,-0.43600860551801596,-0.9408415413649763,0.09556383235711667,-0.6574777240387951,0.50279486859014,0.11758074551071009,-1.786391948423851,-1.1770456454801062,-2.441632728486544,-0.958448078818515,-0.16339475103975806,-0.0822542209958907,-1.7583581567344881,-1.252456583592785,-0.10444371927722786,0.015931356959069876,0.6208130509693571,-0.5736298984752394,-0.4718180398436224,-0.8366251071736949,-1.3908483558473141,-0.9045959788614337,-1.661483941934655,0.020032663338310993,-1.148025092839947,0.16081876871260806,-0.08861385922951745,-0.34813696577791925,-0.8367594431246547,-1.5280247365117716,0.3585745287594945,0.29513735238480887,-0.35076008187252716,-0.9725522303305091,-0.07737614774957016,-0.22960583293430248,-0.30631886419173165,-0.07138877704611452,0.7659855461827951,0.5826101661465771,-0.1519524237231069,-0.1127804790872309,0.31066098141821347,-1.2552400630065221,0.012386104517729752,-1.625719563087753,-0.2955926256647913,0.43232489526790635,0.2590990549819106,-0.43226072917511443,0.50279486859014,-1.2653694059004146,0.22536172159856258,-1.149227419630065,0.5440533628497007,-0.5182153884144232,0.37896406096243823,0.6567350993512632,-1.4295242193697626,-0.4064713261949381,-1.7056172419684807,-2.381482374731202,-0.1888522858871716,0.13969308084825857,-0.15817432055242403,0.027641835192905192,-0.4271872053468348,0.16707662468412274,-0.05805471476424261,-1.593816999821614,-1.7622060872506349,0.09288651040615153,0.08802372186898531,-0.17700267443146453,-0.4447919215713846,0.10527004842698912,0.30051541639867857,0.03005575614357533,0.1396600671279666,-0.0021450992450995103,-1.0958101540328216,0.15786109044814484,-0.1756156861013053,0.3800280133192996,-0.04327065391267215,0.06951907394558131,0.1329988432945768,-0.20222514407410289,0.09999106516549881,-0.14367421648665651,-0.27600788332119863,-0.10424587942975945,-1.118065001727387,0.6990170183874338,-1.5424720590627419,-0.7083106933198647,0.384274761219588,0.2311663811530639,-0.47059683319558443,-1.4017553913174683,-1.863210501243879,0.7181475921294171,-0.15040160629005853,-0.21502851613547772,0.1689890540722562,0.7039098735263825,0.015854435758157422,-0.060701233250716254,-0.604342467299738,-0.7406779079931631,-1.3424608205888913,-1.4401734804683384,-1.2041968775261387,-1.6856029584333174,0.09288651040615153,-1.4226306372093838,-1.880678244390426,-0.9892588417282946,0.10836394468096318,-1.0085000907913175,-1.1430074859484622,-0.4212162323498441,-2.4798111069426403,-2.2295494405391207,-0.09066764337761007,0.1422532375138822,-1.818508484495825,-1.520599640027442,0.4808523709104129,-0.17784626113913451,0.29362058298925486,0.09074738735789772,-1.8894198844309908,-1.0553572259461792,-0.4495076841583003,-2.083908791124738,-1.4300070820878696,0.08294143005973964,-1.5575520492937367,-0.22939051521065798,0.45635638359733505,-0.21302334839662806,0.12381730943453728,0.05087997554973616,-0.3196736018331996,-0.5500684399863021,0.41174557638711523,-0.24994368372998932,0.6072273430342223,-0.914106200935469,-0.5721915544589148,-0.12051129942183482,-1.0757703573775754,-1.3886583213714876,-1.3240751526870291,0.251663863502498,-1.0454042270601591,0.11976243834155119,-0.08279352521179599,-0.11264109127622757,-0.019231996290209934,0.37006229577133876,0.7252017685776776,-0.12580970034891883,-0.02785112375596234,0.03435822292746311,0.11155731575507569,0.7009582090402788,-0.1813349864293258,-1.6786816487177427,0.21789408436889574,-0.979098476567107,-1.362239365053634,-0.1582898230210882,-0.1244023913769807,0.09644374585805403,-0.04672753328274513,0.023008418858916295,-0.02598614750143241,-0.06366430277026305,-0.01742530862264905,-0.5608763931946398,0.50279486859014,0.42791452950980186,0.04645446202993797,-0.5553280321961078],\"type\":\"scatter3d\"},{\"hovertemplate\":\"color=3\\u003cbr\\u003eR=%{x}\\u003cbr\\u003eF=%{y}\\u003cbr\\u003eM=%{z}\\u003cextra\\u003e\\u003c\\u002fextra\\u003e\",\"legendgroup\":\"3\",\"marker\":{\"color\":\"#FFA15A\",\"symbol\":\"circle\"},\"mode\":\"markers\",\"name\":\"3\",\"scene\":\"scene\",\"showlegend\":true,\"x\":[-0.6311452942371958,-0.48760152900548803,0.20936455161136372,-0.43630024038590276,-0.8851703257151666,-0.009818235006318548,-0.2773420311232813,0.809804685014131,-1.1321741112296053,-0.31990150608654505,-0.4117458300932499,0.5197727225584944,-1.257752896525174,-0.48760152900548803,-0.5421551373118021,-0.3878652828544288,-0.7306525844792078,-0.7666487213628687,0.1846113954736021,-0.5421551373118021,0.04999947759018869,-1.257752896525174,-1.0240208968332862,-0.5421551373118021,-1.8521934359037502,-1.076243951684915,0.6207395076806993,-0.31990150608654505,-0.2568052323580682,-0.48760152900548803,-0.6311452942371958,-1.4962744295228385,-0.8042843673469895,-0.07379909377925897,-0.7306525844792078,0.1462192969433101,0.1061902694177052,-0.6961513554674541,-1.4962744295228385,-0.9750191735316172,0.5197727225584944,0.48368566458084494,0.1462192969433101,-1.8521934359037502,-0.7666487213628687,-0.2367319949540843,0.7269155314093558,0.5799117113306071,-0.48760152900548803,-1.076243951684915,-0.48760152900548803,-1.8521934359037502,-0.31990150608654505,1.0873329561508953,-0.19789104025348928,-0.9750191735316172,0.5197727225584944,-1.4080686086364018,-1.257752896525174,-0.6961513554674541,-0.1790843810306204,-0.7666487213628687,-0.9750191735316172,-1.4080686086364018,-0.05737969308009332,-0.09051956966595308,-0.48760152900548803,-0.4117458300932499,-0.1790843810306204,-0.9750191735316172,-0.5421551373118021,-0.3878652828544288,-0.31990150608654505,0.020574856189771673,0.13306541490847987,-0.7306525844792078,-1.4080686086364018,-1.5965062065177078,0.04999947759018869,0.2570119267694014,-0.31990150608654505,-1.257752896525174,-0.9750191735316172,-1.4962744295228385,-1.4080686086364018,0.0924572327672441,-1.4080686086364018,0.7340876272555038,-1.4080686086364018,0.3562475187220542,-0.36462050367289117,-0.6004326729052085,-0.48760152900548803,-0.6961513554674541,0.17198715243642307,-1.5965062065177078,0.7760853963238139,-1.4962744295228385,-1.712887257911223,-0.9750191735316172,-0.2568052323580682,-0.6961513554674541,-0.6961513554674541,-0.19789104025348928,-0.31990150608654505,-1.1924189506355793,-0.1790843810306204,-1.712887257911223,0.6366134849225802,-0.6004326729052085,-0.8042843673469895,-1.076243951684915,-0.12491236560944892,-0.6004326729052085,-0.1075530895966576,0.020574856189771673,-0.48760152900548803,0.1970689943611111,0.48368566458084494,-1.076243951684915,-1.257752896525174,-1.1321741112296053,-2.0268293484257414,-0.7306525844792078,0.13306541490847987,-1.076243951684915,-1.4080686086364018,0.20936455161136372,-0.7666487213628687,0.5799117113306071,-0.21710065005436333,-0.48760152900548803,-0.1426109164029812,-0.48760152900548803,-0.6961513554674541,-0.05737969308009332,-0.7666487213628687,-0.7666487213628687,-0.6004326729052085,0.13306541490847987,0.13306541490847987,-1.4080686086364018,0.9167932378678173,-0.6961513554674541,1.0719907823663346,-0.9750191735316172,-1.5965062065177078,-1.4080686086364018,-0.009818235006318548,-0.7306525844792078,-0.8437266698929384,-0.2773420311232813,-0.6311452942371958,-1.257752896525174,-0.1075530895966576,-1.8521934359037502,-0.3419765950858465,-1.4962744295228385,-1.4962744295228385,0.22150247816845448,0.3350646851189304,1.0191707386262892,-0.7666487213628687,-1.4080686086364018,-0.43630024038590276,-0.6961513554674541,1.4960590990225464,-0.8042843673469895,-0.5144446017526655,-0.1075530895966576,0.8295139775618187,-1.8521934359037502,-1.0240208968332862,-0.8851703257151666,-0.12491236560944892,-1.8521934359037502,-1.076243951684915,-1.8521934359037502,-0.05737969308009332,-0.4117458300932499,0.17198715243642307,0.1462192969433101,-0.1790843810306204,1.0771296944857365,0.03540411833894496,-1.1924189506355793,-1.5965062065177078,-0.6311452942371958,-0.5144446017526655,-0.9750191735316172,0.1846113954736021,-1.1924189506355793,-1.1321741112296053,0.5197727225584944,-0.8851703257151666,-0.3878652828544288,-0.2773420311232813,-0.2367319949540843,0.2799698981507611,-0.6961513554674541,1.1655986149393702,-0.21710065005436333,-0.05737969308009332,-0.8437266698929384,0.005503585960699865,-0.9750191735316172,0.03540411833894496,-0.12491236560944892,-0.31990150608654505,-1.1924189506355793,-1.0240208968332862,-0.31990150608654505,0.36666698611879595,-1.4962744295228385,-1.4962744295228385,0.2799698981507611,0.1061902694177052,1.0245740426161951,0.1970689943611111,-0.5707949071861215,-1.4962744295228385,-0.9750191735316172,-0.5144446017526655,-0.1790843810306204,-1.1924189506355793,-0.07379909377925897,0.31340503571759937,0.23348700398832375,-0.4117458300932499,0.20936455161136372,0.5799117113306071,0.9462574708132717,0.03540411833894496,0.20936455161136372,-0.36462050367289117,-0.1790843810306204,-0.36462050367289117,-0.31990150608654505,-0.6961513554674541,-0.31990150608654505,-0.48760152900548803,-0.6004326729052085,-0.9750191735316172,0.04999947759018869,-1.1321741112296053,-0.4117458300932499,-1.8521934359037502,-1.1321741112296053,-1.712887257911223,0.9749080800786297,-0.3419765950858465,0.3769752869962793,-0.6004326729052085,-1.0240208968332862,-0.1075530895966576,0.1846113954736021,-0.3419765950858465,-1.712887257911223,-0.6004326729052085,-1.1924189506355793,-0.5144446017526655,-0.6961513554674541,1.040618745512789,0.6676249884612706,0.04999947759018869,-1.4962744295228385,-0.9750191735316172,-0.36462050367289117,1.0616370971701805,0.9167932378678173,0.23348700398832375,-0.5707949071861215,1.0027913384911045,-0.5421551373118021,-1.712887257911223,-0.2773420311232813,-1.0240208968332862,0.8802904730094693,-0.3419765950858465,-0.5421551373118021,-1.0240208968332862,-0.8042843673469895,-0.9750191735316172,-0.1790843810306204,-0.19789104025348928,0.1462192969433101,-0.48760152900548803,-1.076243951684915,0.31340503571759937,0.6127068049311722,-0.1075530895966576,0.2570119267694014,-0.6961513554674541,0.005503585960699865,0.8229863481851706,-0.8437266698929384,-0.1790843810306204,-0.9750191735316172,-1.1924189506355793,-0.5144446017526655,-0.3419765950858465,-0.8851703257151666,-1.8521934359037502,-1.712887257911223,0.9462574708132717,-0.5707949071861215,-0.8042843673469895,-1.1924189506355793,-1.5965062065177078,-2.0268293484257414,-0.6961513554674541,0.9345721459896328,-0.31990150608654505,-0.7666487213628687,-0.5707949071861215,0.997273988708928,-0.6961513554674541,-1.1924189506355793,0.44621961821142064,-0.2568052323580682,-0.9750191735316172,-0.05737969308009332,1.36707619966856,-0.2367319949540843,-1.5965062065177078,-1.5965062065177078,-0.05737969308009332,-0.07379909377925897,-0.9750191735316172,0.48368566458084494,-0.1790843810306204,0.1970689943611111,-0.5707949071861215,-0.09051956966595308,-1.1321741112296053,0.0924572327672441,-1.4962744295228385,-0.3878652828544288,0.04999947759018869,-0.2568052323580682,-0.1075530895966576,-1.1321741112296053,-0.31990150608654505,-0.7666487213628687,-0.36462050367289117,-1.8521934359037502,0.7692053784650931,-0.7666487213628687,0.6127068049311722,-0.8042843673469895,-1.0240208968332862,-0.3419765950858465,-1.4962744295228385,-1.1321741112296053,-0.3419765950858465,-0.2367319949540843,-1.712887257911223,0.3871749098576018,-0.31990150608654505,0.20936455161136372,-1.1924189506355793,0.3023891665955865,0.13306541490847987,-0.43630024038590276,0.13306541490847987,-0.6961513554674541,-0.7306525844792078,-0.2568052323580682,-0.6961513554674541,0.03540411833894496,-0.1075530895966576,-0.1075530895966576,-1.712887257911223,-1.4080686086364018,-1.8521934359037502,-0.07379909377925897,-0.31990150608654505,-0.1075530895966576,-0.43630024038590276,-0.6961513554674541,-0.5707949071861215,0.005503585960699865,-1.257752896525174,-1.076243951684915,-1.5965062065177078,-0.5144446017526655,-0.6311452942371958,1.1074482480207686,-0.6961513554674541,-1.076243951684915,0.6207395076806993,0.31340503571759937,0.1462192969433101,0.2912451891453697,-1.1321741112296053,-0.6961513554674541,-0.5707949071861215,0.04999947759018869,0.1462192969433101,-0.05737969308009332,0.23348700398832375,-0.2367319949540843,-0.6961513554674541,-0.48760152900548803,1.5700373147716147,-0.48760152900548803,-0.07379909377925897,0.020574856189771673,-1.0240208968332862,-0.1075530895966576,0.1061902694177052,0.6676249884612706,-1.5965062065177078,-0.05737969308009332,0.0924572327672441,-0.31990150608654505,0.0924572327672441,0.13306541490847987,0.36666698611879595,0.5545842960057757,0.7340876272555038,-0.4117458300932499,-1.8521934359037502,-1.0240208968332862,-0.5707949071861215,1.040618745512789,0.5799117113306071,-0.5707949071861215,-1.1924189506355793,-0.6004326729052085,-0.9750191735316172,0.4072576584316042,-0.3878652828544288,-0.8437266698929384,-0.2773420311232813,-1.8521934359037502,-1.8521934359037502,0.1846113954736021,-0.48760152900548803,-0.8042843673469895,-0.4117458300932499,-1.4962744295228385,0.3769752869962793,-0.4117458300932499,-1.4962744295228385,-0.2568052323580682,-0.5707949071861215,-0.02539961923376869,0.9462574708132717,0.1462192969433101,-0.6311452942371958,-0.48760152900548803,-1.4080686086364018,0.03540411833894496,-0.5144446017526655,0.020574856189771673,-0.9750191735316172,-0.21710065005436333,-1.1924189506355793,-0.43630024038590276,-1.0240208968332862,0.34571430810697656,-0.3878652828544288,0.5197727225584944,-0.43630024038590276,-0.4117458300932499,-0.7666487213628687,-0.7666487213628687,-0.5144446017526655,0.7340876272555038,-1.712887257911223,-0.4117458300932499,-1.4080686086364018,-0.009818235006318548,0.922753539100342,0.07851889605082174,0.6046088259845442,-0.43630024038590276,-0.5707949071861215,0.13306541490847987,-0.36462050367289117,-0.5421551373118021,-1.257752896525174,0.5197727225584944,-0.9750191735316172,-0.9750191735316172,-0.8437266698929384,-1.5965062065177078,0.6827783112463538,-1.4962744295228385,-0.1790843810306204,0.8987032758976307,0.836000228777023,-1.712887257911223,-0.2773420311232813,0.13306541490847987,-0.6311452942371958,-0.48760152900548803,-0.36462050367289117,-1.5965062065177078,-0.43630024038590276,-0.7666487213628687,-0.6311452942371958,-1.1924189506355793,-0.8437266698929384,0.9167932378678173,0.9462574708132717,-0.07379909377925897,-0.8437266698929384,-1.5965062065177078,-0.8851703257151666,-0.5421551373118021,-0.7666487213628687,-0.7666487213628687,-0.1790843810306204,-0.1790843810306204,1.170303823240162,0.2570119267694014,-1.0240208968332862,-1.4962744295228385,-0.8851703257151666,-0.6961513554674541,-0.6004326729052085,0.7553039107044391,-0.7306525844792078,-0.8437266698929384,-0.12491236560944892,-0.6004326729052085,-0.8042843673469895,1.1320660500763247,-0.36462050367289117,-0.8437266698929384,-1.8521934359037502,-0.12491236560944892,1.1608725201198686,-0.6961513554674541,-0.6961513554674541,-0.5421551373118021,-1.1924189506355793,-0.009818235006318548,-1.4962744295228385,1.3941158059329428,0.6287080414316558,0.13306541490847987,-1.712887257911223,-0.9750191735316172,-0.31990150608654505,-0.1790843810306204,0.0924572327672441,-0.7306525844792078,-0.2568052323580682,-1.8521934359037502,-0.6961513554674541,-0.7666487213628687,0.9578126650937075,0.07851889605082174,-1.076243951684915,0.5197727225584944,-0.5421551373118021,-0.6311452942371958,0.2799698981507611,0.4171453551917686,-0.5144446017526655,-0.1790843810306204,-0.6004326729052085,-0.6004326729052085,0.3871749098576018,-0.9750191735316172,-0.8851703257151666,-0.2568052323580682,-0.02539961923376869,-1.712887257911223,-0.05737969308009332,-0.1426109164029812,-1.8521934359037502,-1.0240208968332862,-0.9750191735316172,0.6127068049311722,-1.5965062065177078,-1.5965062065177078,-0.9750191735316172,-0.36462050367289117,0.07851889605082174,0.268559964131286,-0.1075530895966576,1.0352977480064143,0.4171453551917686,-0.4117458300932499,-0.6311452942371958,0.1061902694177052,-1.5965062065177078,-0.09051956966595308,-1.4962744295228385,0.1846113954736021,-0.09051956966595308,0.809804685014131,0.836000228777023,-1.4080686086364018,0.2799698981507611,-1.4080686086364018,0.20936455161136372,1.029949612233404,-0.6311452942371958,0.8615423451819304,-0.36462050367289117,-0.2367319949540843,-0.5421551373118021,-0.2773420311232813,0.8802904730094693,-1.0240208968332862,0.7196921720006412,-0.2367319949540843,-0.9750191735316172,-1.5965062065177078,-0.43630024038590276,-1.4962744295228385,0.6207395076806993,-0.2773420311232813,0.1970689943611111,-0.6311452942371958,-0.3419765950858465,0.9345721459896328,-0.5421551373118021,-0.09051956966595308,-0.48760152900548803,0.1462192969433101,-1.0240208968332862,-1.0240208968332862,-0.2367319949540843,-0.6961513554674541,0.22150247816845448,-0.5144446017526655,-1.076243951684915,-1.1924189506355793,-0.4117458300932499,0.13306541490847987,-0.6961513554674541,-0.9750191735316172,1.056421792215199,0.5108743686475116,0.268559964131286,-0.009818235006318548,-1.5965062065177078],\"y\":[-1.1594934286708523,-0.20783760717720262,-0.20783760717720262,0.9152164429632184,-1.1594934286708523,-0.20783760717720262,0.3236613802751872,-0.20783760717720262,-0.20783760717720262,-0.20783760717720262,-0.20783760717720262,-1.1594934286708523,1.100329643113481,1.2455994551193863,-1.1594934286708523,-1.1594934286708523,-0.20783760717720262,-1.1594934286708523,-1.1594934286708523,0.3236613802751872,-0.20783760717720262,0.669447352467974,-0.20783760717720262,-0.20783760717720262,0.669447352467974,1.3631456173323904,0.3236613802751872,0.669447352467974,0.669447352467974,-1.1594934286708523,0.3236613802751872,-0.20783760717720262,0.3236613802751872,-1.1594934286708523,-0.20783760717720262,-1.1594934286708523,1.100329643113481,0.3236613802751872,1.7283811841167511,1.2455994551193863,0.669447352467974,-1.1594934286708523,-1.1594934286708523,1.7283811841167511,1.6133136899176406,-1.1594934286708523,0.3236613802751872,0.669447352467974,0.3236613802751872,-1.1594934286708523,0.9152164429632184,0.3236613802751872,-1.1594934286708523,0.3236613802751872,-0.20783760717720262,0.3236613802751872,-0.20783760717720262,0.669447352467974,-1.1594934286708523,-0.20783760717720262,-0.20783760717720262,-0.20783760717720262,1.6745796741473788,-0.20783760717720262,-1.1594934286708523,-0.20783760717720262,-1.1594934286708523,0.3236613802751872,-1.1594934286708523,1.2455994551193863,0.669447352467974,0.9152164429632184,0.9152164429632184,0.3236613802751872,0.3236613802751872,-0.20783760717720262,-0.20783760717720262,1.4605421243462684,-0.20783760717720262,0.3236613802751872,0.3236613802751872,-0.20783760717720262,1.100329643113481,-1.1594934286708523,-0.20783760717720262,0.3236613802751872,0.669447352467974,0.669447352467974,0.9152164429632184,0.3236613802751872,1.100329643113481,0.3236613802751872,0.669447352467974,-1.1594934286708523,-0.20783760717720262,1.3631456173323904,-1.1594934286708523,1.4605421243462684,-1.1594934286708523,-1.1594934286708523,-1.1594934286708523,-0.20783760717720262,1.6133136899176406,0.669447352467974,-1.1594934286708523,1.2455994551193863,-0.20783760717720262,-1.1594934286708523,0.669447352467974,0.669447352467974,-0.20783760717720262,-1.1594934286708523,-1.1594934286708523,-1.1594934286708523,-0.20783760717720262,-1.1594934286708523,-1.1594934286708523,-0.20783760717720262,1.4605421243462684,1.100329643113481,0.9152164429632184,1.100329643113481,0.669447352467974,0.669447352467974,-0.20783760717720262,-0.20783760717720262,1.4605421243462684,1.6133136899176406,0.669447352467974,1.3631456173323904,-1.1594934286708523,1.100329643113481,0.9152164429632184,0.3236613802751872,1.6133136899176406,0.669447352467974,1.3631456173323904,0.9152164429632184,-0.20783760717720262,0.3236613802751872,0.3236613802751872,0.9152164429632184,-1.1594934286708523,0.9152164429632184,1.4605421243462684,0.669447352467974,-1.1594934286708523,0.9152164429632184,-1.1594934286708523,1.4605421243462684,0.669447352467974,0.3236613802751872,0.3236613802751872,-0.20783760717720262,-1.1594934286708523,1.7283811841167511,0.9152164429632184,-0.20783760717720262,0.669447352467974,-0.20783760717720262,-1.1594934286708523,-0.20783760717720262,0.669447352467974,-0.20783760717720262,0.669447352467974,-0.20783760717720262,-0.20783760717720262,-1.1594934286708523,0.9152164429632184,-0.20783760717720262,0.669447352467974,0.9152164429632184,1.4605421243462684,0.669447352467974,-0.20783760717720262,0.9152164429632184,1.100329643113481,1.3631456173323904,0.3236613802751872,0.3236613802751872,-1.1594934286708523,-1.1594934286708523,1.6133136899176406,0.3236613802751872,-1.1594934286708523,-0.20783760717720262,0.669447352467974,0.9152164429632184,-1.1594934286708523,-1.1594934286708523,0.669447352467974,-0.20783760717720262,0.9152164429632184,-0.20783760717720262,-1.1594934286708523,-1.1594934286708523,0.3236613802751872,-1.1594934286708523,0.9152164429632184,-0.20783760717720262,-0.20783760717720262,-0.20783760717720262,-1.1594934286708523,1.7283811841167511,-1.1594934286708523,0.3236613802751872,-0.20783760717720262,-0.20783760717720262,-1.1594934286708523,1.4605421243462684,0.669447352467974,-1.1594934286708523,0.3236613802751872,0.669447352467974,1.5427849958546334,0.3236613802751872,1.100329643113481,-1.1594934286708523,0.669447352467974,0.3236613802751872,0.3236613802751872,-0.20783760717720262,1.6133136899176406,1.4605421243462684,0.669447352467974,-0.20783760717720262,-1.1594934286708523,0.3236613802751872,-0.20783760717720262,-1.1594934286708523,-1.1594934286708523,0.3236613802751872,-1.1594934286708523,-0.20783760717720262,1.5427849958546334,0.3236613802751872,-0.20783760717720262,0.669447352467974,0.9152164429632184,0.3236613802751872,-0.20783760717720262,-1.1594934286708523,0.3236613802751872,0.3236613802751872,-0.20783760717720262,0.3236613802751872,1.2455994551193863,0.3236613802751872,-1.1594934286708523,0.669447352467974,0.9152164429632184,-1.1594934286708523,0.3236613802751872,0.9152164429632184,0.3236613802751872,1.3631456173323904,-0.20783760717720262,0.3236613802751872,1.6133136899176406,-0.20783760717720262,0.669447352467974,0.3236613802751872,0.669447352467974,-1.1594934286708523,-0.20783760717720262,0.669447352467974,1.7283811841167511,-0.20783760717720262,0.669447352467974,0.3236613802751872,-0.20783760717720262,0.669447352467974,0.669447352467974,0.669447352467974,0.669447352467974,0.669447352467974,-0.20783760717720262,0.669447352467974,1.7283811841167511,-1.1594934286708523,-1.1594934286708523,0.669447352467974,0.3236613802751872,-1.1594934286708523,1.2455994551193863,0.669447352467974,0.3236613802751872,-1.1594934286708523,0.3236613802751872,-0.20783760717720262,-0.20783760717720262,0.669447352467974,-0.20783760717720262,-1.1594934286708523,0.9152164429632184,0.9152164429632184,1.3631456173323904,1.3631456173323904,0.669447352467974,-0.20783760717720262,-1.1594934286708523,-0.20783760717720262,-0.20783760717720262,-0.20783760717720262,-0.20783760717720262,-1.1594934286708523,0.3236613802751872,-1.1594934286708523,0.3236613802751872,1.3631456173323904,-0.20783760717720262,0.669447352467974,0.669447352467974,0.669447352467974,-0.20783760717720262,-0.20783760717720262,-1.1594934286708523,1.2455994551193863,1.100329643113481,0.9152164429632184,0.669447352467974,0.669447352467974,0.3236613802751872,0.3236613802751872,0.3236613802751872,1.3631456173323904,-1.1594934286708523,0.3236613802751872,-1.1594934286708523,-0.20783760717720262,0.3236613802751872,1.100329643113481,0.9152164429632184,0.3236613802751872,1.3631456173323904,-0.20783760717720262,-0.20783760717720262,0.669447352467974,0.669447352467974,0.3236613802751872,0.9152164429632184,1.7283811841167511,-0.20783760717720262,0.669447352467974,-0.20783760717720262,-0.20783760717720262,0.3236613802751872,0.3236613802751872,-1.1594934286708523,-0.20783760717720262,-0.20783760717720262,1.2455994551193863,1.100329643113481,0.669447352467974,0.9152164429632184,-0.20783760717720262,-0.20783760717720262,0.669447352467974,-0.20783760717720262,-0.20783760717720262,-0.20783760717720262,-0.20783760717720262,0.3236613802751872,-0.20783760717720262,0.9152164429632184,-0.20783760717720262,-1.1594934286708523,0.9152164429632184,-0.20783760717720262,-1.1594934286708523,-1.1594934286708523,0.3236613802751872,1.5427849958546334,0.9152164429632184,0.3236613802751872,0.669447352467974,-1.1594934286708523,-0.20783760717720262,0.3236613802751872,0.3236613802751872,0.669447352467974,0.669447352467974,1.2455994551193863,-0.20783760717720262,0.3236613802751872,-1.1594934286708523,0.3236613802751872,0.3236613802751872,0.3236613802751872,1.5427849958546334,0.9152164429632184,-1.1594934286708523,-1.1594934286708523,-0.20783760717720262,0.669447352467974,-1.1594934286708523,0.3236613802751872,-0.20783760717720262,-0.20783760717720262,1.2455994551193863,-0.20783760717720262,0.3236613802751872,1.5427849958546334,-1.1594934286708523,1.2455994551193863,0.9152164429632184,0.669447352467974,0.3236613802751872,1.2455994551193863,0.9152164429632184,-1.1594934286708523,0.3236613802751872,1.7283811841167511,0.3236613802751872,0.9152164429632184,0.9152164429632184,-1.1594934286708523,-1.1594934286708523,-0.20783760717720262,-0.20783760717720262,-0.20783760717720262,1.2455994551193863,1.5427849958546334,-1.1594934286708523,0.3236613802751872,-0.20783760717720262,0.669447352467974,0.9152164429632184,1.5427849958546334,0.669447352467974,1.100329643113481,-1.1594934286708523,1.2455994551193863,0.3236613802751872,-1.1594934286708523,0.9152164429632184,0.9152164429632184,-1.1594934286708523,0.3236613802751872,0.3236613802751872,-1.1594934286708523,1.7283811841167511,0.669447352467974,0.9152164429632184,1.3631456173323904,-1.1594934286708523,-0.20783760717720262,1.100329643113481,1.6133136899176406,-1.1594934286708523,0.3236613802751872,0.3236613802751872,1.7283811841167511,-1.1594934286708523,-1.1594934286708523,0.3236613802751872,1.4605421243462684,0.3236613802751872,0.3236613802751872,0.3236613802751872,0.669447352467974,1.100329643113481,-1.1594934286708523,1.100329643113481,-1.1594934286708523,0.9152164429632184,0.669447352467974,0.669447352467974,-0.20783760717720262,0.9152164429632184,1.3631456173323904,1.100329643113481,1.3631456173323904,-1.1594934286708523,0.9152164429632184,0.669447352467974,-0.20783760717720262,1.2455994551193863,0.3236613802751872,1.100329643113481,-1.1594934286708523,1.7283811841167511,-0.20783760717720262,-0.20783760717720262,1.5427849958546334,1.100329643113481,-1.1594934286708523,-0.20783760717720262,-0.20783760717720262,-0.20783760717720262,-0.20783760717720262,-0.20783760717720262,-0.20783760717720262,0.3236613802751872,-1.1594934286708523,1.100329643113481,-1.1594934286708523,1.2455994551193863,0.3236613802751872,-0.20783760717720262,0.3236613802751872,-1.1594934286708523,-1.1594934286708523,-0.20783760717720262,1.2455994551193863,0.669447352467974,0.3236613802751872,-1.1594934286708523,0.669447352467974,1.7283811841167511,0.9152164429632184,-0.20783760717720262,0.3236613802751872,0.3236613802751872,1.3631456173323904,0.669447352467974,0.3236613802751872,-0.20783760717720262,-1.1594934286708523,-1.1594934286708523,-1.1594934286708523,-0.20783760717720262,-0.20783760717720262,0.9152164429632184,-0.20783760717720262,-1.1594934286708523,-0.20783760717720262,0.3236613802751872,0.9152164429632184,0.3236613802751872,0.669447352467974,0.9152164429632184,1.5427849958546334,0.3236613802751872,0.3236613802751872,-0.20783760717720262,-1.1594934286708523,0.3236613802751872,-0.20783760717720262,0.669447352467974,0.3236613802751872,0.3236613802751872,0.669447352467974,0.669447352467974,0.3236613802751872,-0.20783760717720262,-0.20783760717720262,0.9152164429632184,-1.1594934286708523,0.669447352467974,1.4605421243462684,1.100329643113481,1.3631456173323904,0.3236613802751872,0.3236613802751872,-0.20783760717720262,-0.20783760717720262,0.669447352467974,0.3236613802751872,0.3236613802751872,-0.20783760717720262,-0.20783760717720262,-1.1594934286708523,0.669447352467974,0.3236613802751872,1.5427849958546334,0.3236613802751872,0.669447352467974,0.9152164429632184,0.669447352467974,-1.1594934286708523,0.3236613802751872,-1.1594934286708523,-1.1594934286708523,1.7283811841167511,-0.20783760717720262,0.3236613802751872,0.9152164429632184,0.669447352467974,0.669447352467974,-1.1594934286708523,0.3236613802751872,0.3236613802751872,1.3631456173323904,-1.1594934286708523,0.3236613802751872,-0.20783760717720262,-1.1594934286708523,-1.1594934286708523,-0.20783760717720262,-1.1594934286708523,0.3236613802751872,1.7283811841167511,0.669447352467974,-0.20783760717720262,-0.20783760717720262,-0.20783760717720262,-1.1594934286708523,0.3236613802751872,1.6745796741473788,-1.1594934286708523,-1.1594934286708523,1.7283811841167511,-1.1594934286708523,-0.20783760717720262,1.7283811841167511,0.3236613802751872,0.669447352467974,-1.1594934286708523,1.2455994551193863,0.669447352467974,-0.20783760717720262,-0.20783760717720262,-0.20783760717720262,-1.1594934286708523,-1.1594934286708523,-0.20783760717720262,-1.1594934286708523,-1.1594934286708523,-0.20783760717720262,0.3236613802751872,1.100329643113481,0.3236613802751872,-1.1594934286708523,0.9152164429632184,-1.1594934286708523,0.3236613802751872,-0.20783760717720262,-1.1594934286708523,-1.1594934286708523,1.3631456173323904,-1.1594934286708523,1.7283811841167511,1.100329643113481,0.669447352467974,-1.1594934286708523,0.3236613802751872,-0.20783760717720262,1.100329643113481,-0.20783760717720262,0.3236613802751872,-0.20783760717720262,1.7283811841167511],\"z\":[-1.7556319950980874,-1.4728325920783294,-1.890712943780675,-0.9085837838641413,-1.1635754754962757,-1.6716701872015078,-1.8822166567634242,-1.9343278874059626,-0.8412945797599953,-1.5314683326444283,-1.3806297366100113,-2.421315917035791,-1.2361196248745432,-1.1377602758197942,-1.7442494509748179,-1.508907341223445,-1.2348156343516232,-1.432828442401728,-1.4013845656687247,-1.500442448615613,-0.8378139515388117,-2.280224706776347,-1.0221537308767674,-0.7761397926729677,-1.3198684443235136,-1.6184403198488402,-0.8354383035254609,-0.5686637997502644,-0.7080209375524592,-2.099339220667925,-0.725384362802533,-1.0146128477292313,-0.8393483453349943,-1.1968447026078783,-0.8942967292784539,-1.8252447569395966,-1.014128348311525,-1.5360507622703947,-1.7648682683076573,-1.3163387039840702,-0.7628242587724944,-1.8177662383826838,-2.146162211145682,-1.831660870898268,-1.1697985273857034,-2.59394877130589,-0.7859833222739966,-1.1158869384649142,-1.4611220567147067,-2.4050249545161293,-1.2925405816285738,-2.530192768797795,-2.2630951834550914,-2.113177162028831,-2.130557822793671,-1.3521435827542738,-1.5520996605742854,-2.1382564391361396,-1.5904175352853787,-1.3693132857360468,-1.6633648328029853,-1.8838723707130656,-1.407519698529667,-1.8062525122431672,-1.7993916532910421,-1.2316436179271208,-1.4200620843205374,-1.2479894468255046,-1.239206607200579,-1.6727797133941542,-1.030136735092149,-0.8438645472803418,-0.9991211950305015,-1.03118868264101,-1.2218803949229575,-1.3407978597894064,-2.0258627701300798,-1.3181432457296895,-1.673486234364837,-1.1682892178798223,-1.3341890576984539,-1.370505048129976,-1.0447781649297148,-1.0947445158612816,-1.3148389187630583,-1.8336903672391553,-1.9448444231691744,-0.7306141128602173,-1.2450616543483954,-1.3113503426729463,-1.142651492477346,-1.1311044886596147,-2.2823001674949164,-1.9657564607054379,-1.193218850088808,-1.8347672141339084,-2.468976746534058,-1.5157290337543463,-2.416403098716409,-1.868074382643579,-1.2290618510864761,-0.857471503381566,-1.992862540453954,-0.5902196504602693,-1.6371286090412835,-1.6732601105120166,-1.8295127022526436,-2.018933814523302,-0.9023503317702545,-1.647792388668593,-1.1247187621810115,-1.877770380415086,-1.5247231934829335,-1.9433318468497518,-1.1271449204258694,-2.1020568328236946,-1.7125216904087277,-1.2942788654180475,-1.479616454216466,-1.6281026937853984,-0.90248963395429,-1.4472618975650897,-2.0921511104399726,-2.129131689122218,-1.4100422879422727,-1.8744308840158066,-2.2632403777393177,-0.9699701734750374,-1.2913136539617889,-1.233958554943731,-2.13059389050075,-0.9981916831596989,-0.7308853613298407,-1.8934399399702864,-1.9747364565470953,-1.3755718770417749,-1.145673683755525,-1.3020497755998794,-1.7155500160359665,-2.460242370810332,-0.9379498005836099,-1.3353774981658924,-2.388234461360496,-1.1205996610667295,-1.1898345952072473,-1.234285242759882,-1.2272230720054857,-2.2313796541856434,-1.57594980854662,-1.8920352796690432,-1.1390076470669865,-2.1334237587596343,-1.9457103146332577,-1.2347472293645396,-1.8380852894145139,-1.817131355244524,-1.297879697758353,-1.3594130610271724,-1.1318967505263497,-1.337591180734631,-1.9940029941853448,-2.095428856549963,-1.2848339838309673,-0.9664538829875978,-1.7571418589537016,-1.3335571057439812,-2.2601628721478755,-1.4066260937223423,-2.3052327019737566,-1.1579097760789272,-0.9386523596616725,-1.4201317406072878,-2.039191899227482,-1.847378398484474,-1.432668874964427,-1.2849680070778056,-1.8696274168006535,-1.9393177230301228,-0.9788210631755313,-1.3287254735987917,-2.297489171966342,-2.2108711159103556,-1.0169928732531859,-1.793872710961085,-1.7238417361569311,-0.7090426561941755,-1.5822007048066822,-1.0542844997800798,-1.6070506123104789,-2.0298298842583,-0.5273764980683115,-1.0194294198333422,-1.109230912525907,-1.164811865300508,-1.659760981026155,-1.9771676739326085,-1.216242524544404,-1.6069495046755713,-0.8958947047139191,-1.6326686824127676,-2.1381397478915716,-2.0174220853978637,-1.3589938992170714,-1.5168584481824232,-2.0950366609695616,-1.232875034896235,-2.2115369962040483,-1.084832124964182,-1.3783773237725874,-1.90549516409252,-1.223719388388386,-1.5791762268008402,-1.1056972053240226,-1.4531264677630171,-1.654497026696719,-2.105423770269757,-1.558772032852617,-2.455886657485432,-1.9564954991128636,-0.7853359329375653,-0.7421927281017319,-2.490332729459934,-1.0682991832746398,-1.5208476836864766,-2.5326596633684257,-1.5993986396977802,-2.115473360386474,-1.0245599738252142,-1.334622499440823,-2.501758171274586,-2.192831504177057,-2.1160472480334023,-1.718314403904555,-1.2962036861952457,-1.5682539291032314,-0.6798895524727059,-0.8001464982177948,-1.2183699931487475,-1.6540932380920441,-1.7086746126008283,-1.723119516718032,-1.6431893411434608,-2.084545425491439,-1.3978627750595725,-1.3125736809763828,-0.8283983973916054,-1.7039356242918737,-0.7372723407681666,-1.3897948641026623,-2.4759247223940655,-1.2793898679697058,-1.9530966345057053,-1.4308599310359067,-1.5078783077344893,-1.9221513874039928,-0.870214932713856,-1.2118316144889771,-1.761213679619323,-1.4424246210843317,-0.8916807213347018,-1.3880239368510185,-0.7870351626436826,-1.2352086653337915,-2.365142927949522,-2.1045839133996207,-0.8284824354162528,-1.5783605130583755,-1.418286875580517,-1.836437233288339,-1.3037342509147214,-1.2663550139385045,-1.4597622606860652,-2.1580215305103567,-1.2126698639485938,-1.3017352864377212,-1.8282034902823263,-0.790240278838189,-0.8321276444598585,-1.579058184444242,-1.7695935578568898,-1.5285397245644605,-0.8892104727108235,-0.6814937992489808,-1.190932032960459,-1.3349671734538542,-2.4388953916198197,-1.7727647377269722,-1.3456949491517385,-0.8893536595958873,-1.449026841820885,-0.8615403448967526,-1.0068200394909987,-2.5483027494338617,-2.0761752888866054,-0.9073092133244314,-1.1225015650823404,-1.2431620851354361,-1.4782188516771804,-1.5157881818263412,-2.0314343839641302,-1.749618678191304,-2.368207506335819,-2.0090647345973776,-1.0366619563638906,-1.6971718237100097,-1.19876864088718,-2.270097810641288,-1.5579444358562846,-2.004327766130562,-1.7858994041866045,-1.8770192553794665,-2.4269171994754086,-0.8469963233454413,-1.1780791628990488,-1.6894460642106364,-1.8336212303006258,-1.4325818457648483,-1.6515794894313407,-1.0301388844456696,-1.4145997927548641,-2.389045766232092,-1.8362326698911045,-1.6904856639621546,-1.7669008811520313,-2.008722652064703,-1.3232082886294767,-1.3071201994436945,-1.2080689962729994,-1.9785662667557435,-1.5335557844402155,-2.1107577563535513,-1.024616002225827,-1.4668795318968744,-2.018723197010218,-1.449779124302756,-1.9135945954131266,-1.3922498787767388,-1.0844104748628416,-0.9660810339154688,-0.8833854382173831,-1.0216912648524246,-1.9883029615798713,-1.0483873367348866,-1.4122709477725832,-1.0707276666911467,-0.9182915352416513,-2.0804578526307766,-1.3404033667266513,-2.0432495417280587,-1.1140024352063296,-0.7539947192515798,-1.3576438572358025,-1.573581616747004,-0.9590238518863464,-0.8598328576815959,-1.3729444985599786,-1.2409101807372802,-1.4637704108293423,-2.017323177247017,-1.8852108116405004,-1.053469108695066,-1.317772029241677,-0.7863911431553247,-2.061660668302061,-1.1953355835430373,-1.5155307383417047,-2.4852180032508713,-0.9296214139038212,-1.7324972429576497,-1.8107819408660775,-1.8915702377047405,-1.302637068308849,-1.6096649594730659,-1.4285694867734102,-2.1219816323125853,-1.087342348018261,-2.0881580746211927,-2.1629861362286253,-1.4071402580568595,-1.5203849697622145,-2.088668841020304,-1.7943858284557037,-1.5864621075246026,-0.9549522754401398,-1.1634456875143508,-1.528276834923125,-1.490179481558752,-1.2894617800465935,-1.4056920649755897,-1.8610411377259664,-0.8688827424246901,-2.1752379287450143,-1.8988858568915605,-1.26921720892842,-1.8046332086746557,-2.0676104406237275,-0.9468621549673109,-2.2301035139980265,-1.6223109470486718,-1.5697190820526383,-1.0353433579317266,-1.873700826383407,-1.3815985231066024,-1.413186696421879,-1.622369048277323,-1.115421518303208,-1.9781602869124657,-0.8832908605340172,-1.5616185601301185,-1.3180370351790012,-1.314318680322623,-0.9013904631162459,-1.9777662222913512,-0.9148557619922728,-1.5778313464402192,-0.9185840774182222,-1.3115191698725415,-1.6214794511985633,-1.7807764521436604,-1.2024483032361941,-1.9683740498797155,-1.571806666205767,-1.8785255156520004,-1.1477290271932037,-0.9002047418450053,-1.763338098428651,-1.019415616339117,-1.408628126716886,-2.013424654699304,-1.3456548408298288,-1.5731213883606976,-1.8398727960930328,-0.9586906399865467,-1.7656127123059242,-1.593986479197305,-1.9763127214853569,-1.594069770238442,-2.2335588760563634,-2.2612261470622492,-0.5929358216978522,-1.334908740194467,-1.5567263249579955,-1.3305368372366664,-1.3045341831333144,-2.43700378288846,-1.4115823819661844,-1.9304832900714124,-0.9940861548245484,-1.060216930382955,-2.4218380675821627,-0.7170660355443774,-1.2039074736752782,-1.6449899002766284,-2.2855559329846304,-1.769816140711504,-0.7499782153695801,-1.2560953650180149,-1.6764075304091761,-1.0346969350189668,-0.9555047287730818,-1.5510381917132574,-1.455071270374965,-1.6532168185236724,-0.7042469232492173,-1.733332528525745,-1.440821923191478,-1.0004680774860397,-0.6415988686539762,-1.7955829242551402,-0.9860332515776099,-1.8135826332314409,-1.1218134727022222,-1.329234840680231,-1.3143529758223353,-1.9769089476078427,-1.3799243608883478,-1.3536445083920527,-0.9121046557961672,-1.19231050534668,-0.6856054026907675,-1.8003586086216565,-1.266238899833364,-1.581034739845136,-1.2748346903547818,-1.465223134599674,-0.9346459295245645,-1.6332108572199386,-1.2671651401695039,-1.9552499838268245,-2.5879727111654227,-1.9934534456605797,-1.6789620579722018,-1.8179434329880442,-1.9534492206616656,-1.875850574730564,-1.5168256336179518,-2.1665812487490617,-0.9543682059011451,-0.8998595043738482,-1.5936498939952624,-1.0445917705103964,-2.505994333838227,-2.437866470446829,-1.3037279565234836,-1.7776933925772453,-2.0388562497091796,-1.8659128234990545,-1.659597744262133,-1.3821570289600065,-1.5723028737408626,-1.5723876955129141,-0.9329264397847232,-1.8070531832386307,-1.7178569872278338,-1.5977424582275082,-0.5785229931244882,-1.4848988880526957,-0.9753356846078994,-1.6827105642833218,-1.990895770860915,-1.5098040788538023,-0.7736404278834857,-1.1113718997228987,-0.7252695437215461,-1.1177892743510978,-1.4705661966417394,-1.4568395750721674,-1.243530441430336,-0.8898459483242329,-1.970725732097989,-1.1673954430702578,-1.5158052574458627,-1.423834664032808,-1.8043057620022165,-1.360983199222677,-1.7988729319496628,-2.0845142928569493,-0.853259212148708,-1.4116244693819517,-1.6144477056693531,-0.8959496797876044,-1.7373194284933897,-1.5874997767376415,-0.8190286389022126,-1.1410419249055028,-1.7589168136534885,-2.1709464965187357,-1.750547613793878,-1.992431284802001,-1.3109085599499568,-1.0574108470564092,-1.1726737826912514,-0.9802239788013344,-0.8760846186650861,-1.318622873559406,-1.8052911242897074,-2.156021418222003,-1.063418720942051,-2.1784207166035996,-1.047195589696708,-1.9008155375276636,-1.9982610171215804,-1.4901543235491972,-0.9670726247010465,-1.2263315638774588,-1.1351428356271278,-0.8659855301797598,-1.6142070558687036,-1.7139613636882027,-2.7377171575537895,-2.5381447251680687,-1.4844091487964879,-1.7938081072063747,-1.4131277645445106,-1.609917104225085,-1.7454756168121104,-1.4029359394291125,-0.657721655002658,-1.7693484958293626,-1.4059680940418626,-2.359140969261065,-0.9664635468162921,-0.9357620853396114,-1.4781530696812157,-1.360481046470359,-1.6773393051354197,-1.5722243038591566,-1.4823859664794952,-1.598196673130611,-1.2235005594564767,-1.8522688707752242,-2.0941988617554226,-1.3964885197065737,-1.4900391457144586,-0.8568659762007762,-1.3776382645591236,-1.674580288416838,-1.6097127212778273,-1.2729667858326277,-1.721571749823552,-2.107958936441591,-2.406875020847827,-1.628177756856183,-2.3332801331151,-1.75588076593544,-1.0524489497433342,-1.8898781369994049,-1.6027588185590762,-2.2653298403216806,-1.606437029047085,-0.9632025501577924,-1.9165127564724085,-1.178844706296843,-1.8879226887935936,-1.5779600995293526,-2.509032420834386,-1.9067213541962984,-2.0614323769937646,-2.4045677205228673,-2.037585485389742,-1.883209603802512,-2.0789740824811584,-1.7908298558236593,-1.9266999960153377,-1.850747301010092,-1.8240493702934306,-1.870078119789885,-1.5409176186916926,-1.3729538048212262,-1.5864313689653042,-2.045781002441858,-1.8544825139194419,-1.8338673364154066,-1.6758073456888574,-1.4629685164636508,-2.018250354496008,-1.1311072027120737,-1.5461887713122917,-0.9042123868978164,-1.6977638412173182,-0.7114295744433193,-1.5520961112153173,-2.407142719858011],\"type\":\"scatter3d\"}],                        {\"template\":{\"data\":{\"barpolar\":[{\"marker\":{\"line\":{\"color\":\"rgb(17,17,17)\",\"width\":0.5},\"pattern\":{\"fillmode\":\"overlay\",\"size\":10,\"solidity\":0.2}},\"type\":\"barpolar\"}],\"bar\":[{\"error_x\":{\"color\":\"#f2f5fa\"},\"error_y\":{\"color\":\"#f2f5fa\"},\"marker\":{\"line\":{\"color\":\"rgb(17,17,17)\",\"width\":0.5},\"pattern\":{\"fillmode\":\"overlay\",\"size\":10,\"solidity\":0.2}},\"type\":\"bar\"}],\"carpet\":[{\"aaxis\":{\"endlinecolor\":\"#A2B1C6\",\"gridcolor\":\"#506784\",\"linecolor\":\"#506784\",\"minorgridcolor\":\"#506784\",\"startlinecolor\":\"#A2B1C6\"},\"baxis\":{\"endlinecolor\":\"#A2B1C6\",\"gridcolor\":\"#506784\",\"linecolor\":\"#506784\",\"minorgridcolor\":\"#506784\",\"startlinecolor\":\"#A2B1C6\"},\"type\":\"carpet\"}],\"choropleth\":[{\"colorbar\":{\"outlinewidth\":0,\"ticks\":\"\"},\"type\":\"choropleth\"}],\"contourcarpet\":[{\"colorbar\":{\"outlinewidth\":0,\"ticks\":\"\"},\"type\":\"contourcarpet\"}],\"contour\":[{\"colorbar\":{\"outlinewidth\":0,\"ticks\":\"\"},\"colorscale\":[[0.0,\"#0d0887\"],[0.1111111111111111,\"#46039f\"],[0.2222222222222222,\"#7201a8\"],[0.3333333333333333,\"#9c179e\"],[0.4444444444444444,\"#bd3786\"],[0.5555555555555556,\"#d8576b\"],[0.6666666666666666,\"#ed7953\"],[0.7777777777777778,\"#fb9f3a\"],[0.8888888888888888,\"#fdca26\"],[1.0,\"#f0f921\"]],\"type\":\"contour\"}],\"heatmapgl\":[{\"colorbar\":{\"outlinewidth\":0,\"ticks\":\"\"},\"colorscale\":[[0.0,\"#0d0887\"],[0.1111111111111111,\"#46039f\"],[0.2222222222222222,\"#7201a8\"],[0.3333333333333333,\"#9c179e\"],[0.4444444444444444,\"#bd3786\"],[0.5555555555555556,\"#d8576b\"],[0.6666666666666666,\"#ed7953\"],[0.7777777777777778,\"#fb9f3a\"],[0.8888888888888888,\"#fdca26\"],[1.0,\"#f0f921\"]],\"type\":\"heatmapgl\"}],\"heatmap\":[{\"colorbar\":{\"outlinewidth\":0,\"ticks\":\"\"},\"colorscale\":[[0.0,\"#0d0887\"],[0.1111111111111111,\"#46039f\"],[0.2222222222222222,\"#7201a8\"],[0.3333333333333333,\"#9c179e\"],[0.4444444444444444,\"#bd3786\"],[0.5555555555555556,\"#d8576b\"],[0.6666666666666666,\"#ed7953\"],[0.7777777777777778,\"#fb9f3a\"],[0.8888888888888888,\"#fdca26\"],[1.0,\"#f0f921\"]],\"type\":\"heatmap\"}],\"histogram2dcontour\":[{\"colorbar\":{\"outlinewidth\":0,\"ticks\":\"\"},\"colorscale\":[[0.0,\"#0d0887\"],[0.1111111111111111,\"#46039f\"],[0.2222222222222222,\"#7201a8\"],[0.3333333333333333,\"#9c179e\"],[0.4444444444444444,\"#bd3786\"],[0.5555555555555556,\"#d8576b\"],[0.6666666666666666,\"#ed7953\"],[0.7777777777777778,\"#fb9f3a\"],[0.8888888888888888,\"#fdca26\"],[1.0,\"#f0f921\"]],\"type\":\"histogram2dcontour\"}],\"histogram2d\":[{\"colorbar\":{\"outlinewidth\":0,\"ticks\":\"\"},\"colorscale\":[[0.0,\"#0d0887\"],[0.1111111111111111,\"#46039f\"],[0.2222222222222222,\"#7201a8\"],[0.3333333333333333,\"#9c179e\"],[0.4444444444444444,\"#bd3786\"],[0.5555555555555556,\"#d8576b\"],[0.6666666666666666,\"#ed7953\"],[0.7777777777777778,\"#fb9f3a\"],[0.8888888888888888,\"#fdca26\"],[1.0,\"#f0f921\"]],\"type\":\"histogram2d\"}],\"histogram\":[{\"marker\":{\"pattern\":{\"fillmode\":\"overlay\",\"size\":10,\"solidity\":0.2}},\"type\":\"histogram\"}],\"mesh3d\":[{\"colorbar\":{\"outlinewidth\":0,\"ticks\":\"\"},\"type\":\"mesh3d\"}],\"parcoords\":[{\"line\":{\"colorbar\":{\"outlinewidth\":0,\"ticks\":\"\"}},\"type\":\"parcoords\"}],\"pie\":[{\"automargin\":true,\"type\":\"pie\"}],\"scatter3d\":[{\"line\":{\"colorbar\":{\"outlinewidth\":0,\"ticks\":\"\"}},\"marker\":{\"colorbar\":{\"outlinewidth\":0,\"ticks\":\"\"}},\"type\":\"scatter3d\"}],\"scattercarpet\":[{\"marker\":{\"colorbar\":{\"outlinewidth\":0,\"ticks\":\"\"}},\"type\":\"scattercarpet\"}],\"scattergeo\":[{\"marker\":{\"colorbar\":{\"outlinewidth\":0,\"ticks\":\"\"}},\"type\":\"scattergeo\"}],\"scattergl\":[{\"marker\":{\"line\":{\"color\":\"#283442\"}},\"type\":\"scattergl\"}],\"scattermapbox\":[{\"marker\":{\"colorbar\":{\"outlinewidth\":0,\"ticks\":\"\"}},\"type\":\"scattermapbox\"}],\"scatterpolargl\":[{\"marker\":{\"colorbar\":{\"outlinewidth\":0,\"ticks\":\"\"}},\"type\":\"scatterpolargl\"}],\"scatterpolar\":[{\"marker\":{\"colorbar\":{\"outlinewidth\":0,\"ticks\":\"\"}},\"type\":\"scatterpolar\"}],\"scatter\":[{\"marker\":{\"line\":{\"color\":\"#283442\"}},\"type\":\"scatter\"}],\"scatterternary\":[{\"marker\":{\"colorbar\":{\"outlinewidth\":0,\"ticks\":\"\"}},\"type\":\"scatterternary\"}],\"surface\":[{\"colorbar\":{\"outlinewidth\":0,\"ticks\":\"\"},\"colorscale\":[[0.0,\"#0d0887\"],[0.1111111111111111,\"#46039f\"],[0.2222222222222222,\"#7201a8\"],[0.3333333333333333,\"#9c179e\"],[0.4444444444444444,\"#bd3786\"],[0.5555555555555556,\"#d8576b\"],[0.6666666666666666,\"#ed7953\"],[0.7777777777777778,\"#fb9f3a\"],[0.8888888888888888,\"#fdca26\"],[1.0,\"#f0f921\"]],\"type\":\"surface\"}],\"table\":[{\"cells\":{\"fill\":{\"color\":\"#506784\"},\"line\":{\"color\":\"rgb(17,17,17)\"}},\"header\":{\"fill\":{\"color\":\"#2a3f5f\"},\"line\":{\"color\":\"rgb(17,17,17)\"}},\"type\":\"table\"}]},\"layout\":{\"annotationdefaults\":{\"arrowcolor\":\"#f2f5fa\",\"arrowhead\":0,\"arrowwidth\":1},\"autotypenumbers\":\"strict\",\"coloraxis\":{\"colorbar\":{\"outlinewidth\":0,\"ticks\":\"\"}},\"colorscale\":{\"diverging\":[[0,\"#8e0152\"],[0.1,\"#c51b7d\"],[0.2,\"#de77ae\"],[0.3,\"#f1b6da\"],[0.4,\"#fde0ef\"],[0.5,\"#f7f7f7\"],[0.6,\"#e6f5d0\"],[0.7,\"#b8e186\"],[0.8,\"#7fbc41\"],[0.9,\"#4d9221\"],[1,\"#276419\"]],\"sequential\":[[0.0,\"#0d0887\"],[0.1111111111111111,\"#46039f\"],[0.2222222222222222,\"#7201a8\"],[0.3333333333333333,\"#9c179e\"],[0.4444444444444444,\"#bd3786\"],[0.5555555555555556,\"#d8576b\"],[0.6666666666666666,\"#ed7953\"],[0.7777777777777778,\"#fb9f3a\"],[0.8888888888888888,\"#fdca26\"],[1.0,\"#f0f921\"]],\"sequentialminus\":[[0.0,\"#0d0887\"],[0.1111111111111111,\"#46039f\"],[0.2222222222222222,\"#7201a8\"],[0.3333333333333333,\"#9c179e\"],[0.4444444444444444,\"#bd3786\"],[0.5555555555555556,\"#d8576b\"],[0.6666666666666666,\"#ed7953\"],[0.7777777777777778,\"#fb9f3a\"],[0.8888888888888888,\"#fdca26\"],[1.0,\"#f0f921\"]]},\"colorway\":[\"#636efa\",\"#EF553B\",\"#00cc96\",\"#ab63fa\",\"#FFA15A\",\"#19d3f3\",\"#FF6692\",\"#B6E880\",\"#FF97FF\",\"#FECB52\"],\"font\":{\"color\":\"#f2f5fa\"},\"geo\":{\"bgcolor\":\"rgb(17,17,17)\",\"lakecolor\":\"rgb(17,17,17)\",\"landcolor\":\"rgb(17,17,17)\",\"showlakes\":true,\"showland\":true,\"subunitcolor\":\"#506784\"},\"hoverlabel\":{\"align\":\"left\"},\"hovermode\":\"closest\",\"mapbox\":{\"style\":\"dark\"},\"paper_bgcolor\":\"rgb(17,17,17)\",\"plot_bgcolor\":\"rgb(17,17,17)\",\"polar\":{\"angularaxis\":{\"gridcolor\":\"#506784\",\"linecolor\":\"#506784\",\"ticks\":\"\"},\"bgcolor\":\"rgb(17,17,17)\",\"radialaxis\":{\"gridcolor\":\"#506784\",\"linecolor\":\"#506784\",\"ticks\":\"\"}},\"scene\":{\"xaxis\":{\"backgroundcolor\":\"rgb(17,17,17)\",\"gridcolor\":\"#506784\",\"gridwidth\":2,\"linecolor\":\"#506784\",\"showbackground\":true,\"ticks\":\"\",\"zerolinecolor\":\"#C8D4E3\"},\"yaxis\":{\"backgroundcolor\":\"rgb(17,17,17)\",\"gridcolor\":\"#506784\",\"gridwidth\":2,\"linecolor\":\"#506784\",\"showbackground\":true,\"ticks\":\"\",\"zerolinecolor\":\"#C8D4E3\"},\"zaxis\":{\"backgroundcolor\":\"rgb(17,17,17)\",\"gridcolor\":\"#506784\",\"gridwidth\":2,\"linecolor\":\"#506784\",\"showbackground\":true,\"ticks\":\"\",\"zerolinecolor\":\"#C8D4E3\"}},\"shapedefaults\":{\"line\":{\"color\":\"#f2f5fa\"}},\"sliderdefaults\":{\"bgcolor\":\"#C8D4E3\",\"bordercolor\":\"rgb(17,17,17)\",\"borderwidth\":1,\"tickwidth\":0},\"ternary\":{\"aaxis\":{\"gridcolor\":\"#506784\",\"linecolor\":\"#506784\",\"ticks\":\"\"},\"baxis\":{\"gridcolor\":\"#506784\",\"linecolor\":\"#506784\",\"ticks\":\"\"},\"bgcolor\":\"rgb(17,17,17)\",\"caxis\":{\"gridcolor\":\"#506784\",\"linecolor\":\"#506784\",\"ticks\":\"\"}},\"title\":{\"x\":0.05},\"updatemenudefaults\":{\"bgcolor\":\"#506784\",\"borderwidth\":0},\"xaxis\":{\"automargin\":true,\"gridcolor\":\"#283442\",\"linecolor\":\"#506784\",\"ticks\":\"\",\"title\":{\"standoff\":15},\"zerolinecolor\":\"#283442\",\"zerolinewidth\":2},\"yaxis\":{\"automargin\":true,\"gridcolor\":\"#283442\",\"linecolor\":\"#506784\",\"ticks\":\"\",\"title\":{\"standoff\":15},\"zerolinecolor\":\"#283442\",\"zerolinewidth\":2}}},\"scene\":{\"domain\":{\"x\":[0.0,1.0],\"y\":[0.0,1.0]},\"xaxis\":{\"title\":{\"text\":\"R\"}},\"yaxis\":{\"title\":{\"text\":\"F\"}},\"zaxis\":{\"title\":{\"text\":\"M\"}}},\"legend\":{\"title\":{\"text\":\"color\"},\"tracegroupgap\":0},\"margin\":{\"t\":60}},                        {\"responsive\": true}                    ).then(function(){\n",
              "                            \n",
              "var gd = document.getElementById('05152cef-567c-4f9f-a76b-08f337bf96dd');\n",
              "var x = new MutationObserver(function (mutations, observer) {{\n",
              "        var display = window.getComputedStyle(gd).display;\n",
              "        if (!display || display === 'none') {{\n",
              "            console.log([gd, 'removed!']);\n",
              "            Plotly.purge(gd);\n",
              "            observer.disconnect();\n",
              "        }}\n",
              "}});\n",
              "\n",
              "// Listen for the removal of the full notebook cells\n",
              "var notebookContainer = gd.closest('#notebook-container');\n",
              "if (notebookContainer) {{\n",
              "    x.observe(notebookContainer, {childList: true});\n",
              "}}\n",
              "\n",
              "// Listen for the clearing of the current output cell\n",
              "var outputEl = gd.closest('.output');\n",
              "if (outputEl) {{\n",
              "    x.observe(outputEl, {childList: true});\n",
              "}}\n",
              "\n",
              "                        })                };                            </script>        </div>\n",
              "</body>\n",
              "</html>"
            ]
          },
          "metadata": {}
        }
      ]
    },
    {
      "cell_type": "markdown",
      "source": [
        "We notice that, according to the Elbow Method, we have 5 clusters delimited to 5 regions in three-dimensional space, identified by a color scheme, where:\n",
        "\n",
        "* Cluster 0 is represented in red;\n",
        "* Cluster 1 is represented in lilac;\n",
        "* Cluster 2 is represented in orange;\n",
        "* Cluster 3 is represented in blue; and\n",
        "* Cluster 4 is represented in green;\n",
        "\n",
        "The clusters show a well-defined region, but with considerable occurrences of overlapping clusters, which is justified by the Silhouette Score metric of around 0.29 (far from 1, which is the best case). The clusters are predominantly found near the vertices of the cube formed by the data set, and from there, they spread towards the center of the cube, but without occupying it, due to the occurrence of cluster 4, green, which occupies a region without vertices, but with an edge, tending towards low values for Recency and reasonable values for the other metrics.\n",
        "\n",
        "There is a practically unfilled region in the cube in our 3D region, showing that there are few clients with significant values for all three metrics."
      ],
      "metadata": {
        "id": "E-hdmiZ07EQp"
      }
    },
    {
      "cell_type": "markdown",
      "source": [
        "Calculating the location of the centroids of each cluster:"
      ],
      "metadata": {
        "id": "EuGoiDNjHsEp"
      }
    },
    {
      "cell_type": "code",
      "source": [
        "centers = pd.DataFrame(kmeans.cluster_centers_, columns=df_rfm_clip_scaled.columns)\n",
        "centers"
      ],
      "metadata": {
        "colab": {
          "base_uri": "https://localhost:8080/",
          "height": 206
        },
        "id": "tqjqnYOlHci6",
        "outputId": "50f6a94d-d466-42b4-8401-c3b5958c5552"
      },
      "execution_count": null,
      "outputs": [
        {
          "output_type": "execute_result",
          "data": {
            "text/plain": [
              "          R         F         M\n",
              "0 -0.877579  1.147755  0.349866\n",
              "1  0.671981 -0.443579  1.563413\n",
              "2 -0.193488 -0.462305  0.048490\n",
              "3 -0.424623  0.171687 -1.521648\n",
              "4  1.233544 -0.843588 -0.247828"
            ],
            "text/html": [
              "\n",
              "  <div id=\"df-fd9dbe96-14de-458c-96a6-61ef0c7a15be\" class=\"colab-df-container\">\n",
              "    <div>\n",
              "<style scoped>\n",
              "    .dataframe tbody tr th:only-of-type {\n",
              "        vertical-align: middle;\n",
              "    }\n",
              "\n",
              "    .dataframe tbody tr th {\n",
              "        vertical-align: top;\n",
              "    }\n",
              "\n",
              "    .dataframe thead th {\n",
              "        text-align: right;\n",
              "    }\n",
              "</style>\n",
              "<table border=\"1\" class=\"dataframe\">\n",
              "  <thead>\n",
              "    <tr style=\"text-align: right;\">\n",
              "      <th></th>\n",
              "      <th>R</th>\n",
              "      <th>F</th>\n",
              "      <th>M</th>\n",
              "    </tr>\n",
              "  </thead>\n",
              "  <tbody>\n",
              "    <tr>\n",
              "      <th>0</th>\n",
              "      <td>-0.877579</td>\n",
              "      <td>1.147755</td>\n",
              "      <td>0.349866</td>\n",
              "    </tr>\n",
              "    <tr>\n",
              "      <th>1</th>\n",
              "      <td>0.671981</td>\n",
              "      <td>-0.443579</td>\n",
              "      <td>1.563413</td>\n",
              "    </tr>\n",
              "    <tr>\n",
              "      <th>2</th>\n",
              "      <td>-0.193488</td>\n",
              "      <td>-0.462305</td>\n",
              "      <td>0.048490</td>\n",
              "    </tr>\n",
              "    <tr>\n",
              "      <th>3</th>\n",
              "      <td>-0.424623</td>\n",
              "      <td>0.171687</td>\n",
              "      <td>-1.521648</td>\n",
              "    </tr>\n",
              "    <tr>\n",
              "      <th>4</th>\n",
              "      <td>1.233544</td>\n",
              "      <td>-0.843588</td>\n",
              "      <td>-0.247828</td>\n",
              "    </tr>\n",
              "  </tbody>\n",
              "</table>\n",
              "</div>\n",
              "    <div class=\"colab-df-buttons\">\n",
              "\n",
              "  <div class=\"colab-df-container\">\n",
              "    <button class=\"colab-df-convert\" onclick=\"convertToInteractive('df-fd9dbe96-14de-458c-96a6-61ef0c7a15be')\"\n",
              "            title=\"Convert this dataframe to an interactive table.\"\n",
              "            style=\"display:none;\">\n",
              "\n",
              "  <svg xmlns=\"http://www.w3.org/2000/svg\" height=\"24px\" viewBox=\"0 -960 960 960\">\n",
              "    <path d=\"M120-120v-720h720v720H120Zm60-500h600v-160H180v160Zm220 220h160v-160H400v160Zm0 220h160v-160H400v160ZM180-400h160v-160H180v160Zm440 0h160v-160H620v160ZM180-180h160v-160H180v160Zm440 0h160v-160H620v160Z\"/>\n",
              "  </svg>\n",
              "    </button>\n",
              "\n",
              "  <style>\n",
              "    .colab-df-container {\n",
              "      display:flex;\n",
              "      gap: 12px;\n",
              "    }\n",
              "\n",
              "    .colab-df-convert {\n",
              "      background-color: #E8F0FE;\n",
              "      border: none;\n",
              "      border-radius: 50%;\n",
              "      cursor: pointer;\n",
              "      display: none;\n",
              "      fill: #1967D2;\n",
              "      height: 32px;\n",
              "      padding: 0 0 0 0;\n",
              "      width: 32px;\n",
              "    }\n",
              "\n",
              "    .colab-df-convert:hover {\n",
              "      background-color: #E2EBFA;\n",
              "      box-shadow: 0px 1px 2px rgba(60, 64, 67, 0.3), 0px 1px 3px 1px rgba(60, 64, 67, 0.15);\n",
              "      fill: #174EA6;\n",
              "    }\n",
              "\n",
              "    .colab-df-buttons div {\n",
              "      margin-bottom: 4px;\n",
              "    }\n",
              "\n",
              "    [theme=dark] .colab-df-convert {\n",
              "      background-color: #3B4455;\n",
              "      fill: #D2E3FC;\n",
              "    }\n",
              "\n",
              "    [theme=dark] .colab-df-convert:hover {\n",
              "      background-color: #434B5C;\n",
              "      box-shadow: 0px 1px 3px 1px rgba(0, 0, 0, 0.15);\n",
              "      filter: drop-shadow(0px 1px 2px rgba(0, 0, 0, 0.3));\n",
              "      fill: #FFFFFF;\n",
              "    }\n",
              "  </style>\n",
              "\n",
              "    <script>\n",
              "      const buttonEl =\n",
              "        document.querySelector('#df-fd9dbe96-14de-458c-96a6-61ef0c7a15be button.colab-df-convert');\n",
              "      buttonEl.style.display =\n",
              "        google.colab.kernel.accessAllowed ? 'block' : 'none';\n",
              "\n",
              "      async function convertToInteractive(key) {\n",
              "        const element = document.querySelector('#df-fd9dbe96-14de-458c-96a6-61ef0c7a15be');\n",
              "        const dataTable =\n",
              "          await google.colab.kernel.invokeFunction('convertToInteractive',\n",
              "                                                    [key], {});\n",
              "        if (!dataTable) return;\n",
              "\n",
              "        const docLinkHtml = 'Like what you see? Visit the ' +\n",
              "          '<a target=\"_blank\" href=https://colab.research.google.com/notebooks/data_table.ipynb>data table notebook</a>'\n",
              "          + ' to learn more about interactive tables.';\n",
              "        element.innerHTML = '';\n",
              "        dataTable['output_type'] = 'display_data';\n",
              "        await google.colab.output.renderOutput(dataTable, element);\n",
              "        const docLink = document.createElement('div');\n",
              "        docLink.innerHTML = docLinkHtml;\n",
              "        element.appendChild(docLink);\n",
              "      }\n",
              "    </script>\n",
              "  </div>\n",
              "\n",
              "\n",
              "<div id=\"df-de729f82-2844-42c7-b351-ca5843d0bc5e\">\n",
              "  <button class=\"colab-df-quickchart\" onclick=\"quickchart('df-de729f82-2844-42c7-b351-ca5843d0bc5e')\"\n",
              "            title=\"Suggest charts\"\n",
              "            style=\"display:none;\">\n",
              "\n",
              "<svg xmlns=\"http://www.w3.org/2000/svg\" height=\"24px\"viewBox=\"0 0 24 24\"\n",
              "     width=\"24px\">\n",
              "    <g>\n",
              "        <path d=\"M19 3H5c-1.1 0-2 .9-2 2v14c0 1.1.9 2 2 2h14c1.1 0 2-.9 2-2V5c0-1.1-.9-2-2-2zM9 17H7v-7h2v7zm4 0h-2V7h2v10zm4 0h-2v-4h2v4z\"/>\n",
              "    </g>\n",
              "</svg>\n",
              "  </button>\n",
              "\n",
              "<style>\n",
              "  .colab-df-quickchart {\n",
              "      --bg-color: #E8F0FE;\n",
              "      --fill-color: #1967D2;\n",
              "      --hover-bg-color: #E2EBFA;\n",
              "      --hover-fill-color: #174EA6;\n",
              "      --disabled-fill-color: #AAA;\n",
              "      --disabled-bg-color: #DDD;\n",
              "  }\n",
              "\n",
              "  [theme=dark] .colab-df-quickchart {\n",
              "      --bg-color: #3B4455;\n",
              "      --fill-color: #D2E3FC;\n",
              "      --hover-bg-color: #434B5C;\n",
              "      --hover-fill-color: #FFFFFF;\n",
              "      --disabled-bg-color: #3B4455;\n",
              "      --disabled-fill-color: #666;\n",
              "  }\n",
              "\n",
              "  .colab-df-quickchart {\n",
              "    background-color: var(--bg-color);\n",
              "    border: none;\n",
              "    border-radius: 50%;\n",
              "    cursor: pointer;\n",
              "    display: none;\n",
              "    fill: var(--fill-color);\n",
              "    height: 32px;\n",
              "    padding: 0;\n",
              "    width: 32px;\n",
              "  }\n",
              "\n",
              "  .colab-df-quickchart:hover {\n",
              "    background-color: var(--hover-bg-color);\n",
              "    box-shadow: 0 1px 2px rgba(60, 64, 67, 0.3), 0 1px 3px 1px rgba(60, 64, 67, 0.15);\n",
              "    fill: var(--button-hover-fill-color);\n",
              "  }\n",
              "\n",
              "  .colab-df-quickchart-complete:disabled,\n",
              "  .colab-df-quickchart-complete:disabled:hover {\n",
              "    background-color: var(--disabled-bg-color);\n",
              "    fill: var(--disabled-fill-color);\n",
              "    box-shadow: none;\n",
              "  }\n",
              "\n",
              "  .colab-df-spinner {\n",
              "    border: 2px solid var(--fill-color);\n",
              "    border-color: transparent;\n",
              "    border-bottom-color: var(--fill-color);\n",
              "    animation:\n",
              "      spin 1s steps(1) infinite;\n",
              "  }\n",
              "\n",
              "  @keyframes spin {\n",
              "    0% {\n",
              "      border-color: transparent;\n",
              "      border-bottom-color: var(--fill-color);\n",
              "      border-left-color: var(--fill-color);\n",
              "    }\n",
              "    20% {\n",
              "      border-color: transparent;\n",
              "      border-left-color: var(--fill-color);\n",
              "      border-top-color: var(--fill-color);\n",
              "    }\n",
              "    30% {\n",
              "      border-color: transparent;\n",
              "      border-left-color: var(--fill-color);\n",
              "      border-top-color: var(--fill-color);\n",
              "      border-right-color: var(--fill-color);\n",
              "    }\n",
              "    40% {\n",
              "      border-color: transparent;\n",
              "      border-right-color: var(--fill-color);\n",
              "      border-top-color: var(--fill-color);\n",
              "    }\n",
              "    60% {\n",
              "      border-color: transparent;\n",
              "      border-right-color: var(--fill-color);\n",
              "    }\n",
              "    80% {\n",
              "      border-color: transparent;\n",
              "      border-right-color: var(--fill-color);\n",
              "      border-bottom-color: var(--fill-color);\n",
              "    }\n",
              "    90% {\n",
              "      border-color: transparent;\n",
              "      border-bottom-color: var(--fill-color);\n",
              "    }\n",
              "  }\n",
              "</style>\n",
              "\n",
              "  <script>\n",
              "    async function quickchart(key) {\n",
              "      const quickchartButtonEl =\n",
              "        document.querySelector('#' + key + ' button');\n",
              "      quickchartButtonEl.disabled = true;  // To prevent multiple clicks.\n",
              "      quickchartButtonEl.classList.add('colab-df-spinner');\n",
              "      try {\n",
              "        const charts = await google.colab.kernel.invokeFunction(\n",
              "            'suggestCharts', [key], {});\n",
              "      } catch (error) {\n",
              "        console.error('Error during call to suggestCharts:', error);\n",
              "      }\n",
              "      quickchartButtonEl.classList.remove('colab-df-spinner');\n",
              "      quickchartButtonEl.classList.add('colab-df-quickchart-complete');\n",
              "    }\n",
              "    (() => {\n",
              "      let quickchartButtonEl =\n",
              "        document.querySelector('#df-de729f82-2844-42c7-b351-ca5843d0bc5e button');\n",
              "      quickchartButtonEl.style.display =\n",
              "        google.colab.kernel.accessAllowed ? 'block' : 'none';\n",
              "    })();\n",
              "  </script>\n",
              "</div>\n",
              "\n",
              "  <div id=\"id_d2b9de70-394c-4bb9-a28b-6666e866a90b\">\n",
              "    <style>\n",
              "      .colab-df-generate {\n",
              "        background-color: #E8F0FE;\n",
              "        border: none;\n",
              "        border-radius: 50%;\n",
              "        cursor: pointer;\n",
              "        display: none;\n",
              "        fill: #1967D2;\n",
              "        height: 32px;\n",
              "        padding: 0 0 0 0;\n",
              "        width: 32px;\n",
              "      }\n",
              "\n",
              "      .colab-df-generate:hover {\n",
              "        background-color: #E2EBFA;\n",
              "        box-shadow: 0px 1px 2px rgba(60, 64, 67, 0.3), 0px 1px 3px 1px rgba(60, 64, 67, 0.15);\n",
              "        fill: #174EA6;\n",
              "      }\n",
              "\n",
              "      [theme=dark] .colab-df-generate {\n",
              "        background-color: #3B4455;\n",
              "        fill: #D2E3FC;\n",
              "      }\n",
              "\n",
              "      [theme=dark] .colab-df-generate:hover {\n",
              "        background-color: #434B5C;\n",
              "        box-shadow: 0px 1px 3px 1px rgba(0, 0, 0, 0.15);\n",
              "        filter: drop-shadow(0px 1px 2px rgba(0, 0, 0, 0.3));\n",
              "        fill: #FFFFFF;\n",
              "      }\n",
              "    </style>\n",
              "    <button class=\"colab-df-generate\" onclick=\"generateWithVariable('centers')\"\n",
              "            title=\"Generate code using this dataframe.\"\n",
              "            style=\"display:none;\">\n",
              "\n",
              "  <svg xmlns=\"http://www.w3.org/2000/svg\" height=\"24px\"viewBox=\"0 0 24 24\"\n",
              "       width=\"24px\">\n",
              "    <path d=\"M7,19H8.4L18.45,9,17,7.55,7,17.6ZM5,21V16.75L18.45,3.32a2,2,0,0,1,2.83,0l1.4,1.43a1.91,1.91,0,0,1,.58,1.4,1.91,1.91,0,0,1-.58,1.4L9.25,21ZM18.45,9,17,7.55Zm-12,3A5.31,5.31,0,0,0,4.9,8.1,5.31,5.31,0,0,0,1,6.5,5.31,5.31,0,0,0,4.9,4.9,5.31,5.31,0,0,0,6.5,1,5.31,5.31,0,0,0,8.1,4.9,5.31,5.31,0,0,0,12,6.5,5.46,5.46,0,0,0,6.5,12Z\"/>\n",
              "  </svg>\n",
              "    </button>\n",
              "    <script>\n",
              "      (() => {\n",
              "      const buttonEl =\n",
              "        document.querySelector('#id_d2b9de70-394c-4bb9-a28b-6666e866a90b button.colab-df-generate');\n",
              "      buttonEl.style.display =\n",
              "        google.colab.kernel.accessAllowed ? 'block' : 'none';\n",
              "\n",
              "      buttonEl.onclick = () => {\n",
              "        google.colab.notebook.generateWithVariable('centers');\n",
              "      }\n",
              "      })();\n",
              "    </script>\n",
              "  </div>\n",
              "\n",
              "    </div>\n",
              "  </div>\n"
            ],
            "application/vnd.google.colaboratory.intrinsic+json": {
              "type": "dataframe",
              "variable_name": "centers",
              "summary": "{\n  \"name\": \"centers\",\n  \"rows\": 5,\n  \"fields\": [\n    {\n      \"column\": \"R\",\n      \"properties\": {\n        \"dtype\": \"number\",\n        \"std\": 0.8554946644742074,\n        \"min\": -0.8775793631954315,\n        \"max\": 1.2335441190484417,\n        \"num_unique_values\": 5,\n        \"samples\": [\n          0.6719813001361375,\n          1.2335441190484417,\n          -0.19348802932382486\n        ],\n        \"semantic_type\": \"\",\n        \"description\": \"\"\n      }\n    },\n    {\n      \"column\": \"F\",\n      \"properties\": {\n        \"dtype\": \"number\",\n        \"std\": 0.7797376236792896,\n        \"min\": -0.8435884976667276,\n        \"max\": 1.147755028975517,\n        \"num_unique_values\": 5,\n        \"samples\": [\n          -0.44357938057419183,\n          -0.8435884976667276,\n          -0.4623049379933138\n        ],\n        \"semantic_type\": \"\",\n        \"description\": \"\"\n      }\n    },\n    {\n      \"column\": \"M\",\n      \"properties\": {\n        \"dtype\": \"number\",\n        \"std\": 1.1111315244252749,\n        \"min\": -1.521647724844031,\n        \"max\": 1.5634131305734507,\n        \"num_unique_values\": 5,\n        \"samples\": [\n          1.5634131305734507,\n          -0.2478279990096248,\n          0.04849024706964563\n        ],\n        \"semantic_type\": \"\",\n        \"description\": \"\"\n      }\n    }\n  ]\n}"
            }
          },
          "metadata": {},
          "execution_count": 192
        }
      ]
    },
    {
      "cell_type": "markdown",
      "source": [
        "Let's plot the graphs from the centroid of each cluster, to identify the characteristics of the customers who belong to each one:"
      ],
      "metadata": {
        "id": "jFv5P_cMTlpQ"
      }
    },
    {
      "cell_type": "code",
      "source": [
        "# Adapted from the book \"Practical Statistics for Data Scientists\"\n",
        "fig,axes = plt.subplots(nrows=5, figsize=(6,10), sharex=True)\n",
        "\n",
        "for i,ax in enumerate(axes):\n",
        "  center = centers.loc[i,:]\n",
        "  maxPC = 1.01 * center.abs().max()\n",
        "  colors = ['green' if l > 0 else 'red' for l in center]\n",
        "  center.plot.bar(ax=ax, color=colors)\n",
        "  ax.set_ylabel(f'Cluster {i}')\n",
        "  ax.set_ylim(-maxPC, maxPC)\n",
        "  ax.axhline(color='gray')\n",
        "  ax.xaxis.set_ticks_position('none')\n",
        "\n",
        "plt.xticks(rotation=60, ha='right')\n",
        "plt.tight_layout()\n",
        "plt.show()"
      ],
      "metadata": {
        "colab": {
          "base_uri": "https://localhost:8080/",
          "height": 1000
        },
        "id": "943vowVmHmqj",
        "outputId": "2b9d358f-a77d-4ce9-9d8a-05b9e24d5f8b"
      },
      "execution_count": null,
      "outputs": [
        {
          "output_type": "display_data",
          "data": {
            "text/plain": [
              "<Figure size 600x1000 with 5 Axes>"
            ],
            "image/png": "[encoded data removed]"
          },
          "metadata": {}
        }
      ]
    },
    {
      "cell_type": "markdown",
      "source": [
        "Thus, from the centroids we can classify each cluster, and consequently identify the main patterns among the customers contained in them. So we have:\n",
        "\n",
        "\n",
        "**Cluster 0:** customers with high frequency, average ticket and low recency, i.e. they are always buying;\n",
        "\n",
        "**Cluster 1:** customers with high recency, very low frequency and low ticket, who are probably churn customers;\n",
        "\n",
        "**Cluster 2:** high monetary value customers, i.e. high average ticket, with low recency and low recency. These are customers who buy large sums of money, but sporadically;\n",
        "\n",
        "**Cluster 3:** customers with a very low average ticket, with some frequency and low recency. These are occasional customers who have recently bought products of very low value; and\n",
        "\n",
        "**Cluster 4:** customers with an average ticket, extremely low frequency and low recency, indicating that they are customers who have made one purchase or another recently. They are probably new customers."
      ],
      "metadata": {
        "id": "-xiGZFS8Tx4M"
      }
    },
    {
      "cell_type": "markdown",
      "source": [
        "Let's now analyze our non-normalized metrics dataset to confirm these clusters:"
      ],
      "metadata": {
        "id": "PcoqJGzMapWN"
      }
    },
    {
      "cell_type": "code",
      "source": [
        "(\n",
        "  df_rfm_clip.assign(cluster=kmeans_labels)\n",
        "  .groupby('cluster')\n",
        "  .mean()\n",
        "  .transpose()\n",
        "  .style.background_gradient(cmap='YlOrRd', axis=1)\n",
        ")"
      ],
      "metadata": {
        "colab": {
          "base_uri": "https://localhost:8080/",
          "height": 143
        },
        "id": "epr02OSNaEyT",
        "outputId": "5ee3f86a-a8b9-4fc6-8581-1b8e5349be2d"
      },
      "execution_count": null,
      "outputs": [
        {
          "output_type": "execute_result",
          "data": {
            "text/plain": [
              "<pandas.io.formats.style.Styler at 0x7e6000f3fd30>"
            ],
            "text/html": [
              "<style type=\"text/css\">\n",
              "#T_14d25_row0_col0, #T_14d25_row1_col4, #T_14d25_row2_col3 {\n",
              "  background-color: #ffffcc;\n",
              "  color: #000000;\n",
              "}\n",
              "#T_14d25_row0_col1 {\n",
              "  background-color: #fc5b2e;\n",
              "  color: #f1f1f1;\n",
              "}\n",
              "#T_14d25_row0_col2 {\n",
              "  background-color: #ffec9f;\n",
              "  color: #000000;\n",
              "}\n",
              "#T_14d25_row0_col3 {\n",
              "  background-color: #fff0a8;\n",
              "  color: #000000;\n",
              "}\n",
              "#T_14d25_row0_col4, #T_14d25_row1_col0, #T_14d25_row2_col1 {\n",
              "  background-color: #800026;\n",
              "  color: #f1f1f1;\n",
              "}\n",
              "#T_14d25_row1_col1 {\n",
              "  background-color: #ffefa4;\n",
              "  color: #000000;\n",
              "}\n",
              "#T_14d25_row1_col2 {\n",
              "  background-color: #fff4b2;\n",
              "  color: #000000;\n",
              "}\n",
              "#T_14d25_row1_col3 {\n",
              "  background-color: #feb34d;\n",
              "  color: #000000;\n",
              "}\n",
              "#T_14d25_row2_col0 {\n",
              "  background-color: #feb44e;\n",
              "  color: #000000;\n",
              "}\n",
              "#T_14d25_row2_col2 {\n",
              "  background-color: #fede80;\n",
              "  color: #000000;\n",
              "}\n",
              "#T_14d25_row2_col4 {\n",
              "  background-color: #ffe590;\n",
              "  color: #000000;\n",
              "}\n",
              "</style>\n",
              "<table id=\"T_14d25\" class=\"dataframe\">\n",
              "  <thead>\n",
              "    <tr>\n",
              "      <th class=\"index_name level0\" >cluster</th>\n",
              "      <th id=\"T_14d25_level0_col0\" class=\"col_heading level0 col0\" >0</th>\n",
              "      <th id=\"T_14d25_level0_col1\" class=\"col_heading level0 col1\" >1</th>\n",
              "      <th id=\"T_14d25_level0_col2\" class=\"col_heading level0 col2\" >2</th>\n",
              "      <th id=\"T_14d25_level0_col3\" class=\"col_heading level0 col3\" >3</th>\n",
              "      <th id=\"T_14d25_level0_col4\" class=\"col_heading level0 col4\" >4</th>\n",
              "    </tr>\n",
              "  </thead>\n",
              "  <tbody>\n",
              "    <tr>\n",
              "      <th id=\"T_14d25_level0_row0\" class=\"row_heading level0 row0\" >R</th>\n",
              "      <td id=\"T_14d25_row0_col0\" class=\"data row0 col0\" >23.740164</td>\n",
              "      <td id=\"T_14d25_row0_col1\" class=\"data row0 col1\" >145.086134</td>\n",
              "      <td id=\"T_14d25_row0_col2\" class=\"data row0 col2\" >50.107921</td>\n",
              "      <td id=\"T_14d25_row0_col3\" class=\"data row0 col3\" >44.665630</td>\n",
              "      <td id=\"T_14d25_row0_col4\" class=\"data row0 col4\" >225.544073</td>\n",
              "    </tr>\n",
              "    <tr>\n",
              "      <th id=\"T_14d25_level0_row1\" class=\"row_heading level0 row1\" >F</th>\n",
              "      <td id=\"T_14d25_row1_col0\" class=\"data row1 col0\" >7.422951</td>\n",
              "      <td id=\"T_14d25_row1_col1\" class=\"data row1 col1\" >2.084034</td>\n",
              "      <td id=\"T_14d25_row1_col2\" class=\"data row1 col2\" >1.864356</td>\n",
              "      <td id=\"T_14d25_row1_col3\" class=\"data row1 col3\" >3.634526</td>\n",
              "      <td id=\"T_14d25_row1_col4\" class=\"data row1 col4\" >1.397163</td>\n",
              "    </tr>\n",
              "    <tr>\n",
              "      <th id=\"T_14d25_level0_row2\" class=\"row_heading level0 row2\" >M</th>\n",
              "      <td id=\"T_14d25_row2_col0\" class=\"data row2 col0\" >27.490663</td>\n",
              "      <td id=\"T_14d25_row2_col1\" class=\"data row2 col1\" >64.261510</td>\n",
              "      <td id=\"T_14d25_row2_col2\" class=\"data row2 col2\" >18.924652</td>\n",
              "      <td id=\"T_14d25_row2_col3\" class=\"data row2 col3\" >5.956509</td>\n",
              "      <td id=\"T_14d25_row2_col4\" class=\"data row2 col4\" >16.073527</td>\n",
              "    </tr>\n",
              "  </tbody>\n",
              "</table>\n"
            ]
          },
          "metadata": {},
          "execution_count": 194
        }
      ]
    },
    {
      "cell_type": "markdown",
      "source": [
        "As we have described and can confirm in the table above, we have three clusters that are characterized by having high metrics: cluster 0, 1 and 2, which have the highest Frequency, Recency and Monetary Value metrics, respectively. Cluster 2, in addition to having the highest monetary value, hasn't bought for a long time and has a low frequency. The customer in cluster 1 is the one who bought a long time ago and never made a new purchase, generally becoming a churn. Cluster 0 customers are recurring customers who make purchases with a not-so-high ticket.\n",
        "\n",
        "Cluster 3 customers do not stand out in any metric. Cluster 4 customers are probably new customers, given their low frequency, low ticket and low recency."
      ],
      "metadata": {
        "id": "-jxCO2fDa1o8"
      }
    },
    {
      "cell_type": "markdown",
      "source": [
        "# Interpretation of Results"
      ],
      "metadata": {
        "id": "a4L6TdSZxynb"
      }
    },
    {
      "cell_type": "markdown",
      "source": [
        "**Cluster 0**\n",
        "\n",
        "Cluster 0 customers tend to be quite frequent, make purchases of a medium value and have only been buying for a short time. Although they don't have a high monetary value, the high frequency with which they buy makes these customers compensate for this deficiency and make them strategic. A marketing strategy based on recommendation systems would also be interesting, so that customers continue to make new purchases. In recommendation systems, we could start suggesting higher-value items mixed with items with similar prices to those they already buy, in order to increase their average ticket. Allied to this, a follow-up system could be a fundamental strategy for understanding their needs, although it would increase the e-commerce company's costs."
      ],
      "metadata": {
        "id": "JmZGdDXbcseC"
      }
    },
    {
      "cell_type": "markdown",
      "source": [
        "**Cluster 1**\n",
        "\n",
        "They are churn customers. As they have little history, little is known about their behavior, so that a strategy can be devised to attract them again. It would be up to the stakeholders to analyze whether it's worth trying to convert this churn customer, because as well as having a low ticket, it would represent an increase in the company's operating costs. It's probably not worth investing in attracting this customer segment."
      ],
      "metadata": {
        "id": "je86k408d2qb"
      }
    },
    {
      "cell_type": "markdown",
      "source": [
        "**Cluster 2**\n",
        "\n",
        "Customers in this cluster are valuable to the company. Although they are not as frequent, the high value of their average ticket compensates for the period without purchases. Like the customers in cluster 0, this is also a strategic and valuable customer. Therefore, the e-commerce company must also make efforts to retain and consolidate them, as well as adopting marketing strategies to get them to buy more often. It is necessary to know their profile, as they may be a legal entity that makes purchases in order to replenish its physical stock, or individual customers who focus on high value-added items, and for these reasons go a considerable time without making new purchases.\n"
      ],
      "metadata": {
        "id": "pm1GWRUje4Xj"
      }
    },
    {
      "cell_type": "markdown",
      "source": [
        "**Cluster 3**\n",
        "\n",
        "They are ordinary customers. They don't bring in significant returns either in terms of the frequency of their purchases or the value of their average ticket. Their average ticket is the lowest of all the segments. For them, it would be worth analyzing whether it is worth adopting a marketing strategy due to the costs involved. Perhaps a more simplified marketing strategy that wouldn't cost the e-commerce company too much, such as sending them electronic messages with recommendations based on their history, launches, best-selling items and low costs."
      ],
      "metadata": {
        "id": "TvAp1996uViL"
      }
    },
    {
      "cell_type": "markdown",
      "source": [
        "**Cluster 4**\n",
        "\n",
        "They are new customers. Little is known about their behavior, so more personalized recommendation systems would be ineffective. It would then be up to the e-commerce company to build customer loyalty through discount vouchers, a gift or promotion,   offering items on the upward trend and launches, as well as a marketing campaign aimed at strengthening the company's branding. A well-executed after-sales service following their first purchase could also help build loyalty. Although their ticket is average, they may be able to purchase higher value items in the future or return to make new purchases if they gain confidence in the e-commerce company. So, together with this segment, the marketing department should coordinate and devise strategies to strengthen the brand with the customer and make the customer gain confidence."
      ],
      "metadata": {
        "id": "AeXwkzG8y3P4"
      }
    }
  ]
}